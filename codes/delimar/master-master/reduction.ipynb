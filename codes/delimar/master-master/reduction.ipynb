{
 "cells": [
  {
   "cell_type": "markdown",
   "metadata": {},
   "source": [
    "# Phase transformations and reduction (Blakely, 1996)\n",
    "\n",
    "### This notebook shows how to compute the reduction transformation, which is computed in Fourier domain using wave numbers calculation in $X$ and $Y$ directions through the expression:\n",
    "\n",
    "# $$\\mathcal{F}(\\Delta T_i) = \\mathcal{F}(\\Delta T) \\, \\mathcal{F}(\\psi)$$\n",
    "\n",
    "### where $\\mathcal{F}(\\Delta T)$ is the Fourier transform of the magnetic data and $\\mathcal{F}(\\psi)$ is the filtering operator.\n",
    "\n",
    "### The operator $\\mathcal{F}(\\psi)$ is calculated as a function of the \"old\" ($\\Theta_s$ and $\\Theta_f$) and \"new\" ($\\Theta_s^{'}$ and $\\Theta_f^{'}$) directions for the magnetization of the source and the geomagnetic field. It can be expressed by:\n",
    "\n",
    "# $$ \\mathcal{F}(\\psi) = \\dfrac{\\Theta_s^{'}\\, \\Theta_f^{'}}{\\Theta_s\\, \\Theta_f}$$\n",
    "#### **It is important to remember that our function was implemented to receive any new directions for the geomagnetic field (inclination and declination defines as $I$ and $D$) and also for the magnetization of the source ($I_0$ and $D_0$). The both values are input for the function and must be written as an array or a simple list, such as $[I0, \\, D_0]$ for example.**"
   ]
  },
  {
   "cell_type": "markdown",
   "metadata": {},
   "source": [
    "#### In this notebook, it will be showing two simple examples: (i) a solid sphere and (ii) a rectangular prism"
   ]
  },
  {
   "cell_type": "code",
   "execution_count": 1,
   "metadata": {},
   "outputs": [],
   "source": [
    "# Importing all usefull libraries\n",
    "import numpy as np\n",
    "import matplotlib.pyplot as plt\n",
    "import sys"
   ]
  },
  {
   "cell_type": "code",
   "execution_count": 2,
   "metadata": {},
   "outputs": [],
   "source": [
    "sys.path.append('codes/') "
   ]
  },
  {
   "cell_type": "code",
   "execution_count": 5,
   "metadata": {},
   "outputs": [
    {
     "ename": "IndentationError",
     "evalue": "unindent does not match any outer indentation level (filtering.py, line 146)",
     "output_type": "error",
     "traceback": [
      "Traceback \u001b[0;36m(most recent call last)\u001b[0m:\n",
      "  File \u001b[1;32m\"/home/romulo/my_project_dir/my_project_env/lib/python3.8/site-packages/IPython/core/interactiveshell.py\"\u001b[0m, line \u001b[1;32m3437\u001b[0m, in \u001b[1;35mrun_code\u001b[0m\n    exec(code_obj, self.user_global_ns, self.user_ns)\n",
      "\u001b[0;36m  File \u001b[0;32m\"<ipython-input-5-8d14d1a647c0>\"\u001b[0;36m, line \u001b[0;32m1\u001b[0;36m, in \u001b[0;35m<module>\u001b[0;36m\u001b[0m\n\u001b[0;31m    from codes import prism, sphere, filtering, grids\u001b[0m\n",
      "\u001b[0;36m  File \u001b[0;32m\"/home/romulo/my_project_dir/Inversao_magnetica/codes/delimar/master-master/codes/filtering.py\"\u001b[0;36m, line \u001b[0;32m146\u001b[0m\n\u001b[0;31m    if x.shape != y.shape != data.shape:\u001b[0m\n\u001b[0m                                        ^\u001b[0m\n\u001b[0;31mIndentationError\u001b[0m\u001b[0;31m:\u001b[0m unindent does not match any outer indentation level\n"
     ]
    }
   ],
   "source": [
    "from codes import prism, sphere, filtering, grids"
   ]
  },
  {
   "cell_type": "code",
   "execution_count": null,
   "metadata": {},
   "outputs": [],
   "source": [
    "# Definition for number of points and grid creation\n",
    "shape = (50, 50)\n",
    "x, y, z = grids.regular_grid((-2000., 2000., -2000., 2000.), shape, -50.)"
   ]
  },
  {
   "cell_type": "code",
   "execution_count": null,
   "metadata": {},
   "outputs": [],
   "source": [
    "#Informations about the model - sphere\n",
    "model = [0., 0., 600., 100., 2.]\n",
    "# Inclination and declination (source and field)\n",
    "incf, decf = 55., -48."
   ]
  },
  {
   "cell_type": "code",
   "execution_count": null,
   "metadata": {},
   "outputs": [],
   "source": [
    "# Calculating the total field anomaly\n",
    "tfa = sphere.sphere_tfa(x, y, z, model, 2., incf, decf)\n",
    "tfa_pole = sphere.sphere_tfa(x, y, z, model, 2., 90., 0.)"
   ]
  },
  {
   "cell_type": "markdown",
   "metadata": {},
   "source": [
    "### Applying reduction to Pole"
   ]
  },
  {
   "cell_type": "code",
   "execution_count": null,
   "metadata": {},
   "outputs": [],
   "source": [
    "# Calculate the reduce to pole\n",
    "rtp = filtering.reduction(x.reshape(shape), y.reshape(shape), tfa.reshape(shape), incf, decf)"
   ]
  },
  {
   "cell_type": "code",
   "execution_count": null,
   "metadata": {},
   "outputs": [],
   "source": [
    "# Plotting all results\n",
    "plt.close('all')\n",
    "plt.figure(figsize=(20,14))\n",
    "\n",
    "plt.subplot(2, 2, 1)\n",
    "plt.title('Total field anomaly (nT)', fontsize = 15)\n",
    "plt.contourf(y.reshape(shape), x.reshape(shape), tfa.reshape(shape), 20, cmap = plt.cm.RdBu_r)\n",
    "plt.xlabel('East (m)', fontsize = 14)\n",
    "plt.ylabel('North (m)', fontsize = 14)\n",
    "plt.xticks(np.linspace(x.min(), x.max(), 5), fontsize = 12)\n",
    "plt.yticks(np.linspace(y.min(), y.max(), 5), fontsize = 12)\n",
    "plt.colorbar()\n",
    "\n",
    "plt.subplot(2, 2, 2)\n",
    "plt.title('Total field calculated in Pole (nT)', fontsize = 15)\n",
    "plt.contourf(y.reshape(shape), x.reshape(shape), tfa_pole.reshape(shape), 20, cmap = plt.cm.RdBu_r)\n",
    "plt.xlabel('East (m)', fontsize = 14)\n",
    "plt.ylabel('North (m)', fontsize = 14)\n",
    "plt.xticks(np.linspace(x.min(), x.max(), 5), fontsize = 12)\n",
    "plt.yticks(np.linspace(y.min(), y.max(), 5), fontsize = 12)\n",
    "plt.colorbar()\n",
    "\n",
    "plt.subplot(2, 2, 3)\n",
    "plt.title('Total field reduced to pole (nT)', fontsize = 15)\n",
    "plt.contourf(y.reshape(shape), x.reshape(shape), rtp, 20, cmap = plt.cm.RdBu_r)\n",
    "plt.xlabel('East (m)', fontsize = 14)\n",
    "plt.ylabel('North (m)', fontsize = 14)\n",
    "plt.xticks(np.linspace(x.min(), x.max(), 5), fontsize = 12)\n",
    "plt.yticks(np.linspace(y.min(), y.max(), 5), fontsize = 12)\n",
    "plt.colorbar()\n",
    "\n",
    "plt.subplot(2, 2, 4)\n",
    "plt.title('Calculated error (in nT)', fontsize = 15)\n",
    "plt.contourf(y.reshape(shape), x.reshape(shape), (tfa_pole.reshape(shape) - rtp), 20, cmap = plt.cm.RdBu_r)\n",
    "plt.xlabel('East (m)', fontsize = 14)\n",
    "plt.ylabel('North (m)', fontsize = 14)\n",
    "plt.xticks(np.linspace(x.min(), x.max(), 5), fontsize = 12)\n",
    "plt.yticks(np.linspace(y.min(), y.max(), 5), fontsize = 12)\n",
    "plt.colorbar()\n",
    "\n",
    "#plt.savefig('figures/reduction-sphere.png', facecolor='w', edgecolor='w', bbox_inches='tight')\n",
    "plt.show()"
   ]
  },
  {
   "cell_type": "code",
   "execution_count": null,
   "metadata": {},
   "outputs": [],
   "source": [
    "#Informations about the model - prism\n",
    "prisma = [-400., 400., -550., 550., 200., 400.]\n",
    "# Inclination and declination (source and field)\n",
    "incf, decf = 66., -18.\n",
    "incs, decs = 49., 15."
   ]
  },
  {
   "cell_type": "code",
   "execution_count": null,
   "metadata": {},
   "outputs": [],
   "source": [
    "# Calculating the total field anomaly\n",
    "tfp = prism.prism_tf(x, y, z, prisma, 2., incf, decf, incs, decs)\n",
    "tfp_pole = prism.prism_tf(x, y, z, prisma, 2., 90., 0., 90., 0.)"
   ]
  },
  {
   "cell_type": "code",
   "execution_count": null,
   "metadata": {},
   "outputs": [],
   "source": [
    "# Calculate the reduction to pole\n",
    "res = filtering.reduction(x.reshape(shape), y.reshape(shape), tfp.reshape(shape), incf, decf, incs, decs)"
   ]
  },
  {
   "cell_type": "code",
   "execution_count": null,
   "metadata": {},
   "outputs": [],
   "source": [
    "# Plotting all results\n",
    "plt.close('all')\n",
    "plt.figure(figsize=(20,14))\n",
    "\n",
    "plt.subplot(2, 2, 1)\n",
    "plt.title('Total field anomaly (nT)', fontsize = 15)\n",
    "plt.contourf(y.reshape(shape), x.reshape(shape), tfp.reshape(shape), 20, cmap = plt.cm.RdBu_r)\n",
    "plt.xlabel('East (m)', fontsize = 14)\n",
    "plt.ylabel('North (m)', fontsize = 14)\n",
    "plt.xticks(np.linspace(x.min(), x.max(), 5), fontsize = 12)\n",
    "plt.yticks(np.linspace(y.min(), y.max(), 5), fontsize = 12)\n",
    "plt.colorbar()\n",
    "\n",
    "plt.subplot(2, 2, 2)\n",
    "plt.title('Total field calculated in Pole (nT)', fontsize = 15)\n",
    "plt.contourf(y.reshape(shape), x.reshape(shape), tfp_pole.reshape(shape), 20, cmap = plt.cm.RdBu_r)\n",
    "plt.xlabel('East (m)', fontsize = 14)\n",
    "plt.ylabel('North (m)', fontsize = 14)\n",
    "plt.xticks(np.linspace(x.min(), x.max(), 5), fontsize = 12)\n",
    "plt.yticks(np.linspace(y.min(), y.max(), 5), fontsize = 12)\n",
    "plt.colorbar()\n",
    "\n",
    "plt.subplot(2, 2, 3)\n",
    "plt.title('Total field reduced to pole (nT)', fontsize = 15)\n",
    "plt.contourf(y.reshape(shape), x.reshape(shape), res, 20, cmap = plt.cm.RdBu_r)\n",
    "plt.xlabel('East (m)', fontsize = 14)\n",
    "plt.ylabel('North (m)', fontsize = 14)\n",
    "plt.xticks(np.linspace(x.min(), x.max(), 5), fontsize = 12)\n",
    "plt.yticks(np.linspace(y.min(), y.max(), 5), fontsize = 12)\n",
    "plt.colorbar()\n",
    "\n",
    "plt.subplot(2, 2, 4)\n",
    "plt.title('Calculated error (in nT)', fontsize = 15)\n",
    "plt.contourf(y.reshape(shape), x.reshape(shape), (tfp_pole.reshape(shape) - res), 20, cmap = plt.cm.RdBu_r)\n",
    "plt.xlabel('East (m)', fontsize = 14)\n",
    "plt.ylabel('North (m)', fontsize = 14)\n",
    "plt.xticks(np.linspace(x.min(), x.max(), 5), fontsize = 12)\n",
    "plt.yticks(np.linspace(y.min(), y.max(), 5), fontsize = 12)\n",
    "plt.colorbar()\n",
    "\n",
    "#plt.savefig('figures/reduction-prism.png', facecolor='w', edgecolor='w', bbox_inches='tight')\n",
    "plt.show()"
   ]
  },
  {
   "cell_type": "code",
   "execution_count": null,
   "metadata": {},
   "outputs": [],
   "source": []
  }
 ],
 "metadata": {
  "kernelspec": {
   "display_name": "Python 3 (ipykernel)",
   "language": "python",
   "name": "python3"
  },
  "language_info": {
   "codemirror_mode": {
    "name": "ipython",
    "version": 3
   },
   "file_extension": ".py",
   "mimetype": "text/x-python",
   "name": "python",
   "nbconvert_exporter": "python",
   "pygments_lexer": "ipython3",
   "version": "3.8.10"
  }
 },
 "nbformat": 4,
 "nbformat_minor": 2
}
