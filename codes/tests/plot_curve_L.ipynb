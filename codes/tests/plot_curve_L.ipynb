{
 "cells": [
  {
   "cell_type": "code",
   "execution_count": 1,
   "id": "brutal-newman",
   "metadata": {},
   "outputs": [],
   "source": [
    "import warnings\n",
    "\n",
    "import numpy as np\n",
    "\n",
    "warnings.filterwarnings(\"ignore\")\n",
    "import sys\n",
    "a = sys.path.append('../modules/')\n",
    "c = sys.path.append('../tests/')\n",
    "import os\n",
    "import pandas as pd"
   ]
  },
  {
   "cell_type": "code",
   "execution_count": 2,
   "id": "fewer-shift",
   "metadata": {},
   "outputs": [
    {
     "data": {
      "image/png": "[encoded data removed]",
      "text/plain": [
       "<Figure size 864x864 with 1 Axes>"
      ]
     },
     "metadata": {
      "needs_background": "light"
     },
     "output_type": "display_data"
    }
   ],
   "source": [
    "import Curve_L as cl"
   ]
  },
  {
   "cell_type": "code",
   "execution_count": 3,
   "id": "welcome-milton",
   "metadata": {},
   "outputs": [
    {
     "name": "stdout",
     "output_type": "stream",
     "text": [
      "[[0.35207879 0.17657179 0.0063    ]\n",
      " [0.         0.         0.        ]\n",
      " [0.         0.         0.        ]\n",
      " [0.         0.         0.        ]\n",
      " [0.         0.         0.        ]\n",
      " [0.         0.         0.        ]\n",
      " [0.         0.         0.        ]]\n",
      "[[0.35207879 0.17657179 0.0063    ]\n",
      " [0.12032187 0.11681518 0.063     ]\n",
      " [0.         0.         0.        ]\n",
      " [0.         0.         0.        ]\n",
      " [0.         0.         0.        ]\n",
      " [0.         0.         0.        ]\n",
      " [0.         0.         0.        ]]\n",
      "[[0.35207879 0.17657179 0.0063    ]\n",
      " [0.12032187 0.11681518 0.063     ]\n",
      " [0.18307123 0.07367521 0.63      ]\n",
      " [0.         0.         0.        ]\n",
      " [0.         0.         0.        ]\n",
      " [0.         0.         0.        ]\n",
      " [0.         0.         0.        ]]\n",
      "[[0.35207879 0.17657179 0.0063    ]\n",
      " [0.12032187 0.11681518 0.063     ]\n",
      " [0.18307123 0.07367521 0.63      ]\n",
      " [1.15084068 0.01205787 6.3       ]\n",
      " [0.         0.         0.        ]\n",
      " [0.         0.         0.        ]\n",
      " [0.         0.         0.        ]]\n",
      "[[3.52078787e-01 1.76571788e-01 6.30000000e-03]\n",
      " [1.20321874e-01 1.16815182e-01 6.30000000e-02]\n",
      " [1.83071233e-01 7.36752118e-02 6.30000000e-01]\n",
      " [1.15084068e+00 1.20578723e-02 6.30000000e+00]\n",
      " [6.21778025e+00 4.70428326e-04 6.30000000e+01]\n",
      " [0.00000000e+00 0.00000000e+00 0.00000000e+00]\n",
      " [0.00000000e+00 0.00000000e+00 0.00000000e+00]]\n",
      "[[3.52078787e-01 1.76571788e-01 6.30000000e-03]\n",
      " [1.20321874e-01 1.16815182e-01 6.30000000e-02]\n",
      " [1.83071233e-01 7.36752118e-02 6.30000000e-01]\n",
      " [1.15084068e+00 1.20578723e-02 6.30000000e+00]\n",
      " [6.21778025e+00 4.70428326e-04 6.30000000e+01]\n",
      " [4.71087106e+00 1.54803959e-04 6.30000000e+02]\n",
      " [0.00000000e+00 0.00000000e+00 0.00000000e+00]]\n",
      "[[3.52078787e-01 1.76571788e-01 6.30000000e-03]\n",
      " [1.20321874e-01 1.16815182e-01 6.30000000e-02]\n",
      " [1.83071233e-01 7.36752118e-02 6.30000000e-01]\n",
      " [1.15084068e+00 1.20578723e-02 6.30000000e+00]\n",
      " [6.21778025e+00 4.70428326e-04 6.30000000e+01]\n",
      " [4.71087106e+00 1.54803959e-04 6.30000000e+02]\n",
      " [5.35217260e+00 1.95204599e-04 6.30000000e+03]]\n",
      "[[3.52078787e-01 1.76571788e-01 6.30000000e-03]\n",
      " [1.20321874e-01 1.16815182e-01 6.30000000e-02]\n",
      " [1.83071233e-01 7.36752118e-02 6.30000000e-01]\n",
      " [1.15084068e+00 1.20578723e-02 6.30000000e+00]\n",
      " [6.21778025e+00 4.70428326e-04 6.30000000e+01]\n",
      " [4.71087106e+00 1.54803959e-04 6.30000000e+02]\n",
      " [5.35217260e+00 1.95204599e-04 6.30000000e+03]]\n"
     ]
    }
   ],
   "source": [
    "result = cl.curve_L()\n"
   ]
  },
  {
   "cell_type": "code",
   "execution_count": 5,
   "id": "tested-battle",
   "metadata": {},
   "outputs": [
    {
     "data": {
      "text/plain": [
       "\"os.chdir('/home/romulo/my_project_dir/Inversao_magnetica/codes/tests/Dissertacao/Test_sintetico/Dique_vertical')\\nendereco = './Curva_L_teste_22_09_2022'\\nos.mkdir(endereco)\""
      ]
     },
     "execution_count": 5,
     "metadata": {},
     "output_type": "execute_result"
    }
   ],
   "source": [
    "'''os.chdir('/home/romulo/my_project_dir/Inversao_magnetica/codes/tests/Dissertacao/Test_sintetico/Dique_vertical')\n",
    "endereco = './Curva_L_teste_22_09_2022'\n",
    "os.mkdir(endereco)'''"
   ]
  },
  {
   "cell_type": "code",
   "execution_count": 6,
   "id": "indirect-medicare",
   "metadata": {},
   "outputs": [],
   "source": [
    "header = ['phi', 'theta', 'lambda']\n",
    "curve_L_result = pd.DataFrame(data = result, columns = header)\n",
    "curve_L_result.to_csv('/home/romulo/my_project_dir/Inversao_magnetica/codes/tests/Dissertacao/Test_sintetico/Dique_vertical/Curva_L_teste_22_09_2022/result_2.csv', index = False, header = header)"
   ]
  },
  {
   "cell_type": "code",
   "execution_count": 7,
   "id": "numerical-capacity",
   "metadata": {},
   "outputs": [
    {
     "data": {
      "text/html": [
       "<div>\n",
       "<style scoped>\n",
       "    .dataframe tbody tr th:only-of-type {\n",
       "        vertical-align: middle;\n",
       "    }\n",
       "\n",
       "    .dataframe tbody tr th {\n",
       "        vertical-align: top;\n",
       "    }\n",
       "\n",
       "    .dataframe thead th {\n",
       "        text-align: right;\n",
       "    }\n",
       "</style>\n",
       "<table border=\"1\" class=\"dataframe\">\n",
       "  <thead>\n",
       "    <tr style=\"text-align: right;\">\n",
       "      <th></th>\n",
       "      <th>phi</th>\n",
       "      <th>theta</th>\n",
       "      <th>lambda</th>\n",
       "    </tr>\n",
       "  </thead>\n",
       "  <tbody>\n",
       "    <tr>\n",
       "      <th>0</th>\n",
       "      <td>0.352079</td>\n",
       "      <td>0.176572</td>\n",
       "      <td>0.0063</td>\n",
       "    </tr>\n",
       "    <tr>\n",
       "      <th>1</th>\n",
       "      <td>0.120322</td>\n",
       "      <td>0.116815</td>\n",
       "      <td>0.0630</td>\n",
       "    </tr>\n",
       "    <tr>\n",
       "      <th>2</th>\n",
       "      <td>0.183071</td>\n",
       "      <td>0.073675</td>\n",
       "      <td>0.6300</td>\n",
       "    </tr>\n",
       "    <tr>\n",
       "      <th>3</th>\n",
       "      <td>1.150841</td>\n",
       "      <td>0.012058</td>\n",
       "      <td>6.3000</td>\n",
       "    </tr>\n",
       "    <tr>\n",
       "      <th>4</th>\n",
       "      <td>6.217780</td>\n",
       "      <td>0.000470</td>\n",
       "      <td>63.0000</td>\n",
       "    </tr>\n",
       "    <tr>\n",
       "      <th>5</th>\n",
       "      <td>4.710871</td>\n",
       "      <td>0.000155</td>\n",
       "      <td>630.0000</td>\n",
       "    </tr>\n",
       "    <tr>\n",
       "      <th>6</th>\n",
       "      <td>5.352173</td>\n",
       "      <td>0.000195</td>\n",
       "      <td>6300.0000</td>\n",
       "    </tr>\n",
       "  </tbody>\n",
       "</table>\n",
       "</div>"
      ],
      "text/plain": [
       "        phi     theta     lambda\n",
       "0  0.352079  0.176572     0.0063\n",
       "1  0.120322  0.116815     0.0630\n",
       "2  0.183071  0.073675     0.6300\n",
       "3  1.150841  0.012058     6.3000\n",
       "4  6.217780  0.000470    63.0000\n",
       "5  4.710871  0.000155   630.0000\n",
       "6  5.352173  0.000195  6300.0000"
      ]
     },
     "execution_count": 7,
     "metadata": {},
     "output_type": "execute_result"
    }
   ],
   "source": [
    "curve_L_result"
   ]
  },
  {
   "cell_type": "code",
   "execution_count": 8,
   "id": "blank-gibson",
   "metadata": {},
   "outputs": [
    {
     "data": {
      "text/plain": [
       "\"inv_curve_l = curve_L_result.sort_values(by = 'lambda', ascending=False)\\nprint(inv_curve_l)\""
      ]
     },
     "execution_count": 8,
     "metadata": {},
     "output_type": "execute_result"
    }
   ],
   "source": [
    "'''inv_curve_l = curve_L_result.sort_values(by = 'lambda', ascending=False)\n",
    "print(inv_curve_l)'''"
   ]
  },
  {
   "cell_type": "code",
   "execution_count": 9,
   "id": "surrounded-cardiff",
   "metadata": {},
   "outputs": [
    {
     "data": {
      "text/plain": [
       "\"header = ['phi', 'theta', 'lambda']\\ncurve_L_result1 = pd.read_table('/home/romulo/my_project_dir/Inversao_magnetica/codes/tests/Dissertacao/Test_sintetico/Dique_inclinado/Curva_L_teste/result_3.csv', sep=',')\\ncurve_L_result2 = pd.read_table('/home/romulo/my_project_dir/Inversao_magnetica/codes/tests/Dissertacao/Test_sintetico/Dique_inclinado/Curva_L_teste/result_4.csv', sep=',')\\n#curve_L_result3 = pd.read_table('/home/romulo/my_project_dir/Inversao_magnetica/codes/tests//Curva_L/test_arraial_real/test_arraial_real_1/result_3.cvs', sep=',')\\n\\ncurve_L_result = pd.concat([curve_L_result1, curve_L_result2])\""
      ]
     },
     "execution_count": 9,
     "metadata": {},
     "output_type": "execute_result"
    }
   ],
   "source": [
    "'''header = ['phi', 'theta', 'lambda']\n",
    "curve_L_result1 = pd.read_table('/home/romulo/my_project_dir/Inversao_magnetica/codes/tests/Dissertacao/Test_sintetico/Dique_inclinado/Curva_L_teste/result_3.csv', sep=',')\n",
    "curve_L_result2 = pd.read_table('/home/romulo/my_project_dir/Inversao_magnetica/codes/tests/Dissertacao/Test_sintetico/Dique_inclinado/Curva_L_teste/result_4.csv', sep=',')\n",
    "#curve_L_result3 = pd.read_table('/home/romulo/my_project_dir/Inversao_magnetica/codes/tests//Curva_L/test_arraial_real/test_arraial_real_1/result_3.cvs', sep=',')\n",
    "\n",
    "curve_L_result = pd.concat([curve_L_result1, curve_L_result2])'''"
   ]
  },
  {
   "cell_type": "code",
   "execution_count": 10,
   "id": "exterior-vulnerability",
   "metadata": {},
   "outputs": [],
   "source": [
    "#curve_L_result1 = pd.read_table('/home/romulo/my_project_dir/Inversao_magnetica/codes/tests/Dissertacao/Test_sintetico/Dique_vertical/Curva_L/test_sint_vertical/result_1.cvs', sep=',')\n",
    "#curve_L_result2 = pd.read_table('/home/romulo/my_project_dir/Inversao_magnetica/codes/tests/Dissertacao/Test_sintetico/Dique_vertical/Curva_L/test_sint_vertical/result_2.cvs', sep=',')"
   ]
  },
  {
   "cell_type": "code",
   "execution_count": 11,
   "id": "affiliated-institute",
   "metadata": {},
   "outputs": [],
   "source": [
    "#curve_L_result"
   ]
  },
  {
   "cell_type": "code",
   "execution_count": 12,
   "id": "amber-manhattan",
   "metadata": {},
   "outputs": [
    {
     "data": {
      "text/plain": [
       "\"filtro  = curve_L_result['lambda'] > 1.0e-3\\ncurve_l_resume = curve_L_result[filtro]\\ncurve_l_resume#[1], curve_L_result[15], curve_L_result[18], curve_L_result[6]\""
      ]
     },
     "execution_count": 12,
     "metadata": {},
     "output_type": "execute_result"
    }
   ],
   "source": [
    "'''filtro  = curve_L_result['lambda'] > 1.0e-3\n",
    "curve_l_resume = curve_L_result[filtro]\n",
    "curve_l_resume#[1], curve_L_result[15], curve_L_result[18], curve_L_result[6]'''"
   ]
  },
  {
   "cell_type": "code",
   "execution_count": 13,
   "id": "casual-variation",
   "metadata": {},
   "outputs": [
    {
     "data": {
      "text/plain": [
       "'curve_l_resume2 = curve_l_resume.drop(0)\\n#curve_l_resume2 = curve_l_resume2.drop(6)\\ncurve_l_resume2#[1], curve_L_result[15], curve_L_result[18], curve_L_result[6]'"
      ]
     },
     "execution_count": 13,
     "metadata": {},
     "output_type": "execute_result"
    }
   ],
   "source": [
    "'''curve_l_resume2 = curve_l_resume.drop(0)\n",
    "#curve_l_resume2 = curve_l_resume2.drop(6)\n",
    "curve_l_resume2#[1], curve_L_result[15], curve_L_result[18], curve_L_result[6]'''"
   ]
  },
  {
   "cell_type": "code",
   "execution_count": 14,
   "id": "partial-dryer",
   "metadata": {},
   "outputs": [],
   "source": [
    "import matplotlib.pyplot as plt\n",
    "import matplotlib"
   ]
  },
  {
   "cell_type": "code",
   "execution_count": 15,
   "id": "judicial-laser",
   "metadata": {},
   "outputs": [
    {
     "data": {
      "text/plain": [
       "'pd.options.plotting.backend = \"plotly\"'"
      ]
     },
     "execution_count": 15,
     "metadata": {},
     "output_type": "execute_result"
    }
   ],
   "source": [
    "'''pd.options.plotting.backend = \"plotly\"'''"
   ]
  },
  {
   "cell_type": "code",
   "execution_count": 16,
   "id": "stopped-giving",
   "metadata": {
    "scrolled": true
   },
   "outputs": [
    {
     "data": {
      "image/png": "[encoded data removed]",
      "text/plain": [
       "<Figure size 864x432 with 2 Axes>"
      ]
     },
     "metadata": {
      "needs_background": "light"
     },
     "output_type": "display_data"
    }
   ],
   "source": [
    "x = curve_L_result['phi']\n",
    "y = curve_L_result['theta']\n",
    "z = curve_L_result['lambda']\n",
    "\n",
    "x2 = x\n",
    "z2 = z\n",
    "y2 = y\n",
    "\n",
    "#x2 = x2[1:29]\n",
    "#y2 = y2[1:29]\n",
    "#z2 = z2[1:29]\n",
    "\n",
    "fig = plt.figure(figsize=(12, 6))\n",
    "#plt.scatter(x,y,edgecolors='none',s=marker_size,c=void_fraction,\n",
    "#                norm=matplotlib.colors.LogNorm())\n",
    "plt.scatter(y2, x2, cmap = 'jet', c =z2 ,marker='o', linewidths=5.0, norm=matplotlib.colors.LogNorm())\n",
    "#plt.ylim(0, 11)\n",
    "#plt.title('Com o Lamb = 0.005', fontsize=20)\n",
    "plt.ylabel('$\\phi(q)$', fontsize=20)\n",
    "plt.xlabel('$\\\\theta(p)$', fontsize=20)\n",
    "plt.xticks(np.linspace(0.0, y2.max(), 5), fontsize = 20)\n",
    "plt.yticks(np.linspace(0.0, x2.max(), 5), fontsize = 20)\n",
    "plt.colorbar()\n",
    "plt.grid()\n",
    "#plt.savefig(\"/home/romulo/my_project_dir/Inversao_magnetica/codes/tests/Dissertacao/Test_real/Morro_do_forno/Curva_L/Curva_L.pdf\", dpi=300, bbox_inches='tight')\n",
    "#plt.savefig(\"/home/romulo/my_project_dir/Inversao_magnetica/codes/tests/Dissertacao/Test_real/Morro_do_forno/Curva_L/Curva_L.png\", dpi=300, bbox_inches='tight')\n",
    "plt.show()"
   ]
  },
  {
   "cell_type": "code",
   "execution_count": null,
   "id": "talented-climb",
   "metadata": {},
   "outputs": [],
   "source": [
    "x_resume = curve_l_resume['phi']\n",
    "y_resume = curve_l_resume['theta']\n",
    "z_resume = curve_l_resume['lambda']\n",
    "\n",
    "\n",
    "fig = plt.figure(figsize=(12, 6))\n",
    "#plt.scatter(x,y,edgecolors='none',s=marker_size,c=void_fraction,\n",
    "#                norm=matplotlib.colors.LogNorm())\n",
    "plt.plot(y_resume, x_resume, '-ko', markeredgewidth=5, linewidth=0.5)\n",
    "plt.text(1.0, 1.0, s = str(z_resume[0]), withdash=True, fontsize=12)\n",
    "#plt.scatter(y_resume, x_resume, cmap = 'gray', c =z_resume ,marker='o', linewidths=5.0, norm=matplotlib.colors.LogNorm())\n",
    "#plt.ylim(0, 11)\n",
    "#plt.title('Com o Lamb = 0.005', fontsize=20)\n",
    "plt.ylabel('$\\phi(q)$', fontsize=20)\n",
    "plt.xlabel('$\\\\theta(p)$', fontsize=20)\n",
    "plt.xticks(np.linspace(0.0, y_resume.max(), 4), fontsize = 20)\n",
    "plt.yticks(np.linspace(0.0, x_resume.max(), 4), fontsize = 20)\n",
    "#plt.colorbar()\n",
    "plt.grid()\n",
    "#plt.savefig(\"/home/romulo/my_project_dir/Inversao_magnetica/codes/tests/Dissertacao/Test_real/Morro_do_forno/Curva_L/Curva_L.pdf\", dpi=300, bbox_inches='tight')\n",
    "#plt.savefig(\"/home/romulo/my_project_dir/Inversao_magnetica/codes/tests/Dissertacao/Test_real/Morro_do_forno/Curva_L/Curva_L.png\", dpi=300, bbox_inches='tight')\n",
    "plt.show()"
   ]
  },
  {
   "cell_type": "code",
   "execution_count": null,
   "id": "judicial-garlic",
   "metadata": {},
   "outputs": [],
   "source": [
    "#figure = curve_L_result.plot.scatter(x= 'theta', y = 'phi', color ='lambda')\n"
   ]
  },
  {
   "cell_type": "code",
   "execution_count": null,
   "id": "disabled-constitution",
   "metadata": {},
   "outputs": [],
   "source": [
    "#figure"
   ]
  },
  {
   "cell_type": "code",
   "execution_count": null,
   "id": "intelligent-copyright",
   "metadata": {},
   "outputs": [],
   "source": []
  }
 ],
 "metadata": {
  "kernelspec": {
   "display_name": "Python 3 (ipykernel)",
   "language": "python",
   "name": "python3"
  },
  "language_info": {
   "codemirror_mode": {
    "name": "ipython",
    "version": 3
   },
   "file_extension": ".py",
   "mimetype": "text/x-python",
   "name": "python",
   "nbconvert_exporter": "python",
   "pygments_lexer": "ipython3",
   "version": "3.8.10"
  }
 },
 "nbformat": 4,
 "nbformat_minor": 5
}
