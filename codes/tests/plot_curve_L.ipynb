{
 "cells": [
  {
   "cell_type": "code",
   "execution_count": 1,
   "id": "brutal-newman",
   "metadata": {},
   "outputs": [],
   "source": [
    "import warnings\n",
    "\n",
    "import numpy as np\n",
    "\n",
    "warnings.filterwarnings(\"ignore\")\n",
    "import sys\n",
    "a = sys.path.append('../modules/')\n",
    "c = sys.path.append('../tests/')\n",
    "import os\n",
    "import pandas as pd"
   ]
  },
  {
   "cell_type": "code",
   "execution_count": 2,
   "id": "fewer-shift",
   "metadata": {},
   "outputs": [],
   "source": [
    "import Curve_L as cl"
   ]
  },
  {
   "cell_type": "code",
   "execution_count": 3,
   "id": "welcome-milton",
   "metadata": {},
   "outputs": [],
   "source": [
    "#result = cl.curve_L()\n"
   ]
  },
  {
   "cell_type": "code",
   "execution_count": 4,
   "id": "tested-battle",
   "metadata": {},
   "outputs": [],
   "source": [
    "#os.chdir('/home/romulo/my_project_dir/Inversao_magnetica/codes/tests/Curva_L')\n",
    "#endereco = './test_dipping_dike_2'\n",
    "#os.mkdir(endereco)"
   ]
  },
  {
   "cell_type": "code",
   "execution_count": 5,
   "id": "indirect-medicare",
   "metadata": {},
   "outputs": [],
   "source": [
    "#header = ['phi', 'theta', 'lambda']\n",
    "#curve_L_result = pd.DataFrame(data = result, columns = header)\n",
    "#header = ['phi, theta, lambda']\n",
    "#curve_L_result.to_csv('/home/romulo/my_project_dir/Inversao_magnetica/codes/tests//Curva_L/test_dipping_dike_2/result_2.cvs', index = False, header = header)"
   ]
  },
  {
   "cell_type": "code",
   "execution_count": 6,
   "id": "numerical-capacity",
   "metadata": {},
   "outputs": [],
   "source": [
    "#curve_L_result"
   ]
  },
  {
   "cell_type": "code",
   "execution_count": 7,
   "id": "blank-gibson",
   "metadata": {},
   "outputs": [
    {
     "data": {
      "text/plain": [
       "\"inv_curve_l = curve_L_result.sort_values(by = 'lambda', ascending=False)\\nprint(inv_curve_l)\""
      ]
     },
     "execution_count": 7,
     "metadata": {},
     "output_type": "execute_result"
    }
   ],
   "source": [
    "'''inv_curve_l = curve_L_result.sort_values(by = 'lambda', ascending=False)\n",
    "print(inv_curve_l)'''"
   ]
  },
  {
   "cell_type": "code",
   "execution_count": 8,
   "id": "surrounded-cardiff",
   "metadata": {},
   "outputs": [],
   "source": [
    "header = ['phi', 'theta', 'lambda']\n",
    "curve_L_result1 = pd.read_table('/home/romulo/my_project_dir/Inversao_magnetica/codes/tests//Curva_L/test_dipping_dike_2/result_1.cvs', sep=',')\n",
    "curve_L_result2 = pd.read_table('/home/romulo/my_project_dir/Inversao_magnetica/codes/tests//Curva_L/test_dipping_dike_2/result_2.cvs', sep=',')\n",
    "#curve_L_result3 = pd.read_table('/home/romulo/my_project_dir/Inversao_magnetica/codes/tests//Curva_L/test_vertical_dike/result_3.cvs', sep=',')\n",
    "\n",
    "curve_L_result = pd.concat([curve_L_result1, curve_L_result2])"
   ]
  },
  {
   "cell_type": "code",
   "execution_count": 9,
   "id": "affiliated-institute",
   "metadata": {},
   "outputs": [
    {
     "data": {
      "text/html": [
       "<div>\n",
       "<style scoped>\n",
       "    .dataframe tbody tr th:only-of-type {\n",
       "        vertical-align: middle;\n",
       "    }\n",
       "\n",
       "    .dataframe tbody tr th {\n",
       "        vertical-align: top;\n",
       "    }\n",
       "\n",
       "    .dataframe thead th {\n",
       "        text-align: right;\n",
       "    }\n",
       "</style>\n",
       "<table border=\"1\" class=\"dataframe\">\n",
       "  <thead>\n",
       "    <tr style=\"text-align: right;\">\n",
       "      <th></th>\n",
       "      <th>phi</th>\n",
       "      <th>theta</th>\n",
       "      <th>lambda</th>\n",
       "    </tr>\n",
       "  </thead>\n",
       "  <tbody>\n",
       "    <tr>\n",
       "      <th>0</th>\n",
       "      <td>0.593265</td>\n",
       "      <td>68060.094311</td>\n",
       "      <td>0.000500</td>\n",
       "    </tr>\n",
       "    <tr>\n",
       "      <th>1</th>\n",
       "      <td>0.979507</td>\n",
       "      <td>12299.499737</td>\n",
       "      <td>0.005000</td>\n",
       "    </tr>\n",
       "    <tr>\n",
       "      <th>2</th>\n",
       "      <td>1.037286</td>\n",
       "      <td>1079.822759</td>\n",
       "      <td>0.050000</td>\n",
       "    </tr>\n",
       "    <tr>\n",
       "      <th>3</th>\n",
       "      <td>1.305582</td>\n",
       "      <td>5153.083043</td>\n",
       "      <td>0.500000</td>\n",
       "    </tr>\n",
       "    <tr>\n",
       "      <th>4</th>\n",
       "      <td>3.087658</td>\n",
       "      <td>171.791706</td>\n",
       "      <td>5.000000</td>\n",
       "    </tr>\n",
       "    <tr>\n",
       "      <th>5</th>\n",
       "      <td>4.096976</td>\n",
       "      <td>154.172596</td>\n",
       "      <td>50.000000</td>\n",
       "    </tr>\n",
       "    <tr>\n",
       "      <th>6</th>\n",
       "      <td>5.289130</td>\n",
       "      <td>302.556086</td>\n",
       "      <td>500.000000</td>\n",
       "    </tr>\n",
       "    <tr>\n",
       "      <th>7</th>\n",
       "      <td>2.197822</td>\n",
       "      <td>106.791769</td>\n",
       "      <td>5000.000000</td>\n",
       "    </tr>\n",
       "    <tr>\n",
       "      <th>8</th>\n",
       "      <td>7.318189</td>\n",
       "      <td>304.262628</td>\n",
       "      <td>50000.000000</td>\n",
       "    </tr>\n",
       "    <tr>\n",
       "      <th>9</th>\n",
       "      <td>6.380308</td>\n",
       "      <td>2018.220151</td>\n",
       "      <td>500000.000000</td>\n",
       "    </tr>\n",
       "    <tr>\n",
       "      <th>0</th>\n",
       "      <td>0.604795</td>\n",
       "      <td>24518.536097</td>\n",
       "      <td>0.000165</td>\n",
       "    </tr>\n",
       "    <tr>\n",
       "      <th>1</th>\n",
       "      <td>0.890415</td>\n",
       "      <td>40882.983110</td>\n",
       "      <td>0.001650</td>\n",
       "    </tr>\n",
       "    <tr>\n",
       "      <th>2</th>\n",
       "      <td>0.781108</td>\n",
       "      <td>12968.113302</td>\n",
       "      <td>0.016500</td>\n",
       "    </tr>\n",
       "    <tr>\n",
       "      <th>3</th>\n",
       "      <td>1.227497</td>\n",
       "      <td>1072.743748</td>\n",
       "      <td>0.165000</td>\n",
       "    </tr>\n",
       "    <tr>\n",
       "      <th>4</th>\n",
       "      <td>1.865918</td>\n",
       "      <td>204.610771</td>\n",
       "      <td>1.650000</td>\n",
       "    </tr>\n",
       "    <tr>\n",
       "      <th>5</th>\n",
       "      <td>2.166312</td>\n",
       "      <td>258.690763</td>\n",
       "      <td>16.500000</td>\n",
       "    </tr>\n",
       "    <tr>\n",
       "      <th>6</th>\n",
       "      <td>4.047021</td>\n",
       "      <td>496.025792</td>\n",
       "      <td>165.000000</td>\n",
       "    </tr>\n",
       "    <tr>\n",
       "      <th>7</th>\n",
       "      <td>3.150419</td>\n",
       "      <td>114.029996</td>\n",
       "      <td>1650.000000</td>\n",
       "    </tr>\n",
       "    <tr>\n",
       "      <th>8</th>\n",
       "      <td>4.417422</td>\n",
       "      <td>93.473672</td>\n",
       "      <td>16500.000000</td>\n",
       "    </tr>\n",
       "    <tr>\n",
       "      <th>9</th>\n",
       "      <td>3.857391</td>\n",
       "      <td>608.343376</td>\n",
       "      <td>165000.000000</td>\n",
       "    </tr>\n",
       "  </tbody>\n",
       "</table>\n",
       "</div>"
      ],
      "text/plain": [
       "        phi         theta         lambda\n",
       "0  0.593265  68060.094311       0.000500\n",
       "1  0.979507  12299.499737       0.005000\n",
       "2  1.037286   1079.822759       0.050000\n",
       "3  1.305582   5153.083043       0.500000\n",
       "4  3.087658    171.791706       5.000000\n",
       "5  4.096976    154.172596      50.000000\n",
       "6  5.289130    302.556086     500.000000\n",
       "7  2.197822    106.791769    5000.000000\n",
       "8  7.318189    304.262628   50000.000000\n",
       "9  6.380308   2018.220151  500000.000000\n",
       "0  0.604795  24518.536097       0.000165\n",
       "1  0.890415  40882.983110       0.001650\n",
       "2  0.781108  12968.113302       0.016500\n",
       "3  1.227497   1072.743748       0.165000\n",
       "4  1.865918    204.610771       1.650000\n",
       "5  2.166312    258.690763      16.500000\n",
       "6  4.047021    496.025792     165.000000\n",
       "7  3.150419    114.029996    1650.000000\n",
       "8  4.417422     93.473672   16500.000000\n",
       "9  3.857391    608.343376  165000.000000"
      ]
     },
     "execution_count": 9,
     "metadata": {},
     "output_type": "execute_result"
    }
   ],
   "source": [
    "curve_L_result"
   ]
  },
  {
   "cell_type": "code",
   "execution_count": 10,
   "id": "partial-dryer",
   "metadata": {},
   "outputs": [],
   "source": [
    "import matplotlib.pyplot as plt\n",
    "import matplotlib"
   ]
  },
  {
   "cell_type": "code",
   "execution_count": 11,
   "id": "stopped-giving",
   "metadata": {
    "scrolled": true
   },
   "outputs": [
    {
     "data": {
      "image/png": "[encoded data removed]",
      "text/plain": [
       "<Figure size 576x576 with 2 Axes>"
      ]
     },
     "metadata": {
      "needs_background": "light"
     },
     "output_type": "display_data"
    }
   ],
   "source": [
    "x = curve_L_result['phi']\n",
    "y = curve_L_result['theta']\n",
    "z = curve_L_result['lambda']\n",
    "\n",
    "'''x2 = x\n",
    "z2 = z\n",
    "y2 = y\n",
    "\n",
    "x2 = x2[::-1]\n",
    "y2 = y2[::-1]\n",
    "z2 = y2[::-1]'''\n",
    "\n",
    "fig = plt.figure(figsize=(8, 8))\n",
    "#plt.scatter(x,y,edgecolors='none',s=marker_size,c=void_fraction,\n",
    "#                norm=matplotlib.colors.LogNorm())\n",
    "plt.scatter(y, x, cmap = 'jet', c =z ,marker='o', linewidths=5.0, norm=matplotlib.colors.LogNorm())\n",
    "#plt.ylim(0, 11)\n",
    "#plt.title('Com o Lamb = 0.005', fontsize=20)\n",
    "plt.ylabel('$\\phi(q)$', fontsize=20)\n",
    "plt.xlabel('$\\\\theta(q)$', fontsize=20)\n",
    "plt.colorbar()\n",
    "plt.grid()\n",
    "plt.show()"
   ]
  },
  {
   "cell_type": "code",
   "execution_count": 12,
   "id": "german-contact",
   "metadata": {},
   "outputs": [
    {
     "data": {
      "image/png": "[encoded data removed]",
      "text/plain": [
       "<Figure size 576x576 with 2 Axes>"
      ]
     },
     "metadata": {
      "needs_background": "light"
     },
     "output_type": "display_data"
    }
   ],
   "source": [
    "fig = plt.figure(figsize=(8, 8))\n",
    "#plt.scatter(x,y,edgecolors='none',s=marker_size,c=void_fraction,\n",
    "#                norm=matplotlib.colors.LogNorm())\n",
    "plt.scatter(x, y, cmap = 'jet', c =z ,marker='o', linewidths=5.0, norm=matplotlib.colors.LogNorm())\n",
    "#plt.ylim(0, 11)\n",
    "#plt.title('Com o Lamb = 0.005', fontsize=20)\n",
    "plt.xlabel('$\\phi(q)$', fontsize=20)\n",
    "plt.ylabel('$\\\\theta(q)$', fontsize=20)\n",
    "plt.colorbar()\n",
    "plt.grid()\n",
    "plt.show()"
   ]
  },
  {
   "cell_type": "code",
   "execution_count": 13,
   "id": "spanish-chrome",
   "metadata": {},
   "outputs": [
    {
     "data": {
      "text/plain": [
       "\"fig = plt.figure(figsize=(8, 8))\\n#plt.scatter(x,y,edgecolors='none',s=marker_size,c=void_fraction,\\n#                norm=matplotlib.colors.LogNorm())\\nplt.scatter(y, x, cmap = 'jet', c =z ,marker='o', linewidths=5.0, norm=matplotlib.colors.LogNorm())\\n#plt.ylim(0, 11)\\n#plt.title('Com o Lamb = 0.005', fontsize=20)\\nplt.ylabel('$\\\\phi(q)$', fontsize=20)\\nplt.xlabel('$\\\\theta(q)$', fontsize=20)\\nplt.colorbar()\\nplt.grid()\\nplt.show()\""
      ]
     },
     "execution_count": 13,
     "metadata": {},
     "output_type": "execute_result"
    }
   ],
   "source": [
    "'''x = inv_curve_l['phi']\n",
    "y = inv_curve_l['theta']\n",
    "z = inv_curve_l['lambda']'''\n",
    "\n",
    "'''x2 = x\n",
    "z2 = z\n",
    "y2 = y\n",
    "\n",
    "x2 = x2[::-1]\n",
    "y2 = y2[::-1]\n",
    "z2 = y2[::-1]'''\n",
    "\n",
    "'''fig = plt.figure(figsize=(8, 8))\n",
    "#plt.scatter(x,y,edgecolors='none',s=marker_size,c=void_fraction,\n",
    "#                norm=matplotlib.colors.LogNorm())\n",
    "plt.scatter(y, x, cmap = 'jet', c =z ,marker='o', linewidths=5.0, norm=matplotlib.colors.LogNorm())\n",
    "#plt.ylim(0, 11)\n",
    "#plt.title('Com o Lamb = 0.005', fontsize=20)\n",
    "plt.ylabel('$\\phi(q)$', fontsize=20)\n",
    "plt.xlabel('$\\\\theta(q)$', fontsize=20)\n",
    "plt.colorbar()\n",
    "plt.grid()\n",
    "plt.show()'''"
   ]
  },
  {
   "cell_type": "code",
   "execution_count": 14,
   "id": "contemporary-calculator",
   "metadata": {},
   "outputs": [
    {
     "data": {
      "text/plain": [
       "'curve_L_result1'"
      ]
     },
     "execution_count": 14,
     "metadata": {},
     "output_type": "execute_result"
    }
   ],
   "source": [
    "'''curve_L_result1'''"
   ]
  },
  {
   "cell_type": "code",
   "execution_count": 15,
   "id": "fourth-tenant",
   "metadata": {},
   "outputs": [
    {
     "data": {
      "text/plain": [
       "\"fig = plt.figure(figsize=(8, 8))\\n#plt.scatter(x,y,edgecolors='none',s=marker_size,c=void_fraction,\\n#                norm=matplotlib.colors.LogNorm())\\nplt.scatter(y, x, cmap = 'jet', c =z ,marker='o', linewidths=5.0, norm=matplotlib.colors.LogNorm())\\n#plt.ylim(0, 11)\\n#plt.title('Com o Lamb = 0.005', fontsize=20)\\nplt.ylabel('$\\\\phi(q)$', fontsize=20)\\nplt.xlabel('$\\\\theta(q)$', fontsize=20)\\nplt.colorbar()\\nplt.grid()\\nplt.show()\""
      ]
     },
     "execution_count": 15,
     "metadata": {},
     "output_type": "execute_result"
    }
   ],
   "source": [
    "'''x = curve_L_result1['phi'][5:9]\n",
    "y = curve_L_result1['theta'][5:9]\n",
    "z = curve_L_result1['lambda'][5:9]'''\n",
    "\n",
    "'''x2 = x\n",
    "z2 = z\n",
    "y2 = y\n",
    "\n",
    "x2 = x2[::-1]\n",
    "y2 = y2[::-1]\n",
    "z2 = y2[::-1]'''\n",
    "\n",
    "'''fig = plt.figure(figsize=(8, 8))\n",
    "#plt.scatter(x,y,edgecolors='none',s=marker_size,c=void_fraction,\n",
    "#                norm=matplotlib.colors.LogNorm())\n",
    "plt.scatter(y, x, cmap = 'jet', c =z ,marker='o', linewidths=5.0, norm=matplotlib.colors.LogNorm())\n",
    "#plt.ylim(0, 11)\n",
    "#plt.title('Com o Lamb = 0.005', fontsize=20)\n",
    "plt.ylabel('$\\phi(q)$', fontsize=20)\n",
    "plt.xlabel('$\\\\theta(q)$', fontsize=20)\n",
    "plt.colorbar()\n",
    "plt.grid()\n",
    "plt.show()'''"
   ]
  },
  {
   "cell_type": "code",
   "execution_count": 16,
   "id": "defensive-sphere",
   "metadata": {},
   "outputs": [],
   "source": [
    "#curve_L_result_total = pd.concat([curve_L_result1[5:9], curve_L_result2[5:9], curve_L_result3[5:9]])"
   ]
  },
  {
   "cell_type": "code",
   "execution_count": 17,
   "id": "brazilian-heritage",
   "metadata": {},
   "outputs": [],
   "source": [
    "#curve_L_result_total"
   ]
  },
  {
   "cell_type": "code",
   "execution_count": 18,
   "id": "super-departure",
   "metadata": {},
   "outputs": [
    {
     "data": {
      "text/plain": [
       "\"fig = plt.figure(figsize=(8, 8))\\n#plt.scatter(x,y,edgecolors='none',s=marker_size,c=void_fraction,\\n#                norm=matplotlib.colors.LogNorm())\\nplt.scatter(y, x, cmap = 'jet', c =z ,marker='o', linewidths=5.0, norm=matplotlib.colors.LogNorm())\\n#plt.ylim(0, 11)\\n#plt.title('Com o Lamb = 0.005', fontsize=20)\\nplt.ylabel('$\\\\phi(q)$', fontsize=20)\\nplt.xlabel('$\\\\theta(q)$', fontsize=20)\\nplt.colorbar()\\nplt.grid()\\nplt.show()\""
      ]
     },
     "execution_count": 18,
     "metadata": {},
     "output_type": "execute_result"
    }
   ],
   "source": [
    "'''x = curve_L_result_total['phi']\n",
    "y = curve_L_result_total['theta']\n",
    "z = curve_L_result_total['lambda']'''\n",
    "\n",
    "'''x2 = x\n",
    "z2 = z\n",
    "y2 = y\n",
    "\n",
    "x2 = x2[::-1]\n",
    "y2 = y2[::-1]\n",
    "z2 = y2[::-1]'''\n",
    "\n",
    "'''fig = plt.figure(figsize=(8, 8))\n",
    "#plt.scatter(x,y,edgecolors='none',s=marker_size,c=void_fraction,\n",
    "#                norm=matplotlib.colors.LogNorm())\n",
    "plt.scatter(y, x, cmap = 'jet', c =z ,marker='o', linewidths=5.0, norm=matplotlib.colors.LogNorm())\n",
    "#plt.ylim(0, 11)\n",
    "#plt.title('Com o Lamb = 0.005', fontsize=20)\n",
    "plt.ylabel('$\\phi(q)$', fontsize=20)\n",
    "plt.xlabel('$\\\\theta(q)$', fontsize=20)\n",
    "plt.colorbar()\n",
    "plt.grid()\n",
    "plt.show()'''"
   ]
  },
  {
   "cell_type": "code",
   "execution_count": null,
   "id": "judicial-garlic",
   "metadata": {},
   "outputs": [],
   "source": []
  }
 ],
 "metadata": {
  "kernelspec": {
   "display_name": "Python 3",
   "language": "python",
   "name": "python3"
  },
  "language_info": {
   "codemirror_mode": {
    "name": "ipython",
    "version": 3
   },
   "file_extension": ".py",
   "mimetype": "text/x-python",
   "name": "python",
   "nbconvert_exporter": "python",
   "pygments_lexer": "ipython3",
   "version": "3.8.10"
  }
 },
 "nbformat": 4,
 "nbformat_minor": 5
}
