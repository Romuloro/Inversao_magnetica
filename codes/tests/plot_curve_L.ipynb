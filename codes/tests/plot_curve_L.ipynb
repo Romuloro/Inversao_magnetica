{
 "cells": [
  {
   "cell_type": "code",
   "execution_count": 1,
   "id": "brutal-newman",
   "metadata": {},
   "outputs": [],
   "source": [
    "import warnings\n",
    "\n",
    "import numpy as np\n",
    "\n",
    "warnings.filterwarnings(\"ignore\")\n",
    "import sys\n",
    "a = sys.path.append('../modules/')\n",
    "c = sys.path.append('../tests/')\n",
    "import os\n",
    "import pandas as pd"
   ]
  },
  {
   "cell_type": "code",
   "execution_count": 2,
   "id": "fewer-shift",
   "metadata": {},
   "outputs": [],
   "source": [
    "import Curve_L as cl"
   ]
  },
  {
   "cell_type": "code",
   "execution_count": 3,
   "id": "welcome-milton",
   "metadata": {},
   "outputs": [
    {
     "data": {
      "image/png": "[encoded data removed]",
      "text/plain": [
       "<Figure size 864x864 with 1 Axes>"
      ]
     },
     "metadata": {
      "needs_background": "light"
     },
     "output_type": "display_data"
    },
    {
     "name": "stdout",
     "output_type": "stream",
     "text": [
      "[[4.77182861e+00 1.33976046e+05 3.90000000e-08]\n",
      " [0.00000000e+00 0.00000000e+00 0.00000000e+00]\n",
      " [0.00000000e+00 0.00000000e+00 0.00000000e+00]\n",
      " [0.00000000e+00 0.00000000e+00 0.00000000e+00]\n",
      " [0.00000000e+00 0.00000000e+00 0.00000000e+00]\n",
      " [0.00000000e+00 0.00000000e+00 0.00000000e+00]\n",
      " [0.00000000e+00 0.00000000e+00 0.00000000e+00]\n",
      " [0.00000000e+00 0.00000000e+00 0.00000000e+00]\n",
      " [0.00000000e+00 0.00000000e+00 0.00000000e+00]\n",
      " [0.00000000e+00 0.00000000e+00 0.00000000e+00]]\n",
      "[[4.77182861e+00 1.33976046e+05 3.90000000e-08]\n",
      " [4.43786502e+00 1.60311221e+05 3.90000000e-07]\n",
      " [0.00000000e+00 0.00000000e+00 0.00000000e+00]\n",
      " [0.00000000e+00 0.00000000e+00 0.00000000e+00]\n",
      " [0.00000000e+00 0.00000000e+00 0.00000000e+00]\n",
      " [0.00000000e+00 0.00000000e+00 0.00000000e+00]\n",
      " [0.00000000e+00 0.00000000e+00 0.00000000e+00]\n",
      " [0.00000000e+00 0.00000000e+00 0.00000000e+00]\n",
      " [0.00000000e+00 0.00000000e+00 0.00000000e+00]\n",
      " [0.00000000e+00 0.00000000e+00 0.00000000e+00]]\n",
      "[[4.77182861e+00 1.33976046e+05 3.90000000e-08]\n",
      " [4.43786502e+00 1.60311221e+05 3.90000000e-07]\n",
      " [4.91488558e+00 8.49129411e+04 3.90000000e-06]\n",
      " [0.00000000e+00 0.00000000e+00 0.00000000e+00]\n",
      " [0.00000000e+00 0.00000000e+00 0.00000000e+00]\n",
      " [0.00000000e+00 0.00000000e+00 0.00000000e+00]\n",
      " [0.00000000e+00 0.00000000e+00 0.00000000e+00]\n",
      " [0.00000000e+00 0.00000000e+00 0.00000000e+00]\n",
      " [0.00000000e+00 0.00000000e+00 0.00000000e+00]\n",
      " [0.00000000e+00 0.00000000e+00 0.00000000e+00]]\n",
      "[[4.77182861e+00 1.33976046e+05 3.90000000e-08]\n",
      " [4.43786502e+00 1.60311221e+05 3.90000000e-07]\n",
      " [4.91488558e+00 8.49129411e+04 3.90000000e-06]\n",
      " [4.33072111e+00 2.76936487e+05 3.90000000e-05]\n",
      " [0.00000000e+00 0.00000000e+00 0.00000000e+00]\n",
      " [0.00000000e+00 0.00000000e+00 0.00000000e+00]\n",
      " [0.00000000e+00 0.00000000e+00 0.00000000e+00]\n",
      " [0.00000000e+00 0.00000000e+00 0.00000000e+00]\n",
      " [0.00000000e+00 0.00000000e+00 0.00000000e+00]\n",
      " [0.00000000e+00 0.00000000e+00 0.00000000e+00]]\n",
      "[[4.77182861e+00 1.33976046e+05 3.90000000e-08]\n",
      " [4.43786502e+00 1.60311221e+05 3.90000000e-07]\n",
      " [4.91488558e+00 8.49129411e+04 3.90000000e-06]\n",
      " [4.33072111e+00 2.76936487e+05 3.90000000e-05]\n",
      " [3.56015516e+00 5.20939387e+05 3.90000000e-04]\n",
      " [0.00000000e+00 0.00000000e+00 0.00000000e+00]\n",
      " [0.00000000e+00 0.00000000e+00 0.00000000e+00]\n",
      " [0.00000000e+00 0.00000000e+00 0.00000000e+00]\n",
      " [0.00000000e+00 0.00000000e+00 0.00000000e+00]\n",
      " [0.00000000e+00 0.00000000e+00 0.00000000e+00]]\n",
      "[[4.77182861e+00 1.33976046e+05 3.90000000e-08]\n",
      " [4.43786502e+00 1.60311221e+05 3.90000000e-07]\n",
      " [4.91488558e+00 8.49129411e+04 3.90000000e-06]\n",
      " [4.33072111e+00 2.76936487e+05 3.90000000e-05]\n",
      " [3.56015516e+00 5.20939387e+05 3.90000000e-04]\n",
      " [5.41283560e+00 1.88561951e+05 3.90000000e-03]\n",
      " [0.00000000e+00 0.00000000e+00 0.00000000e+00]\n",
      " [0.00000000e+00 0.00000000e+00 0.00000000e+00]\n",
      " [0.00000000e+00 0.00000000e+00 0.00000000e+00]\n",
      " [0.00000000e+00 0.00000000e+00 0.00000000e+00]]\n",
      "[[4.77182861e+00 1.33976046e+05 3.90000000e-08]\n",
      " [4.43786502e+00 1.60311221e+05 3.90000000e-07]\n",
      " [4.91488558e+00 8.49129411e+04 3.90000000e-06]\n",
      " [4.33072111e+00 2.76936487e+05 3.90000000e-05]\n",
      " [3.56015516e+00 5.20939387e+05 3.90000000e-04]\n",
      " [5.41283560e+00 1.88561951e+05 3.90000000e-03]\n",
      " [9.21950377e+00 6.98606107e+04 3.90000000e-02]\n",
      " [0.00000000e+00 0.00000000e+00 0.00000000e+00]\n",
      " [0.00000000e+00 0.00000000e+00 0.00000000e+00]\n",
      " [0.00000000e+00 0.00000000e+00 0.00000000e+00]]\n",
      "[[4.77182861e+00 1.33976046e+05 3.90000000e-08]\n",
      " [4.43786502e+00 1.60311221e+05 3.90000000e-07]\n",
      " [4.91488558e+00 8.49129411e+04 3.90000000e-06]\n",
      " [4.33072111e+00 2.76936487e+05 3.90000000e-05]\n",
      " [3.56015516e+00 5.20939387e+05 3.90000000e-04]\n",
      " [5.41283560e+00 1.88561951e+05 3.90000000e-03]\n",
      " [9.21950377e+00 6.98606107e+04 3.90000000e-02]\n",
      " [1.01931098e+01 2.03991726e+04 3.90000000e-01]\n",
      " [0.00000000e+00 0.00000000e+00 0.00000000e+00]\n",
      " [0.00000000e+00 0.00000000e+00 0.00000000e+00]]\n",
      "[[4.77182861e+00 1.33976046e+05 3.90000000e-08]\n",
      " [4.43786502e+00 1.60311221e+05 3.90000000e-07]\n",
      " [4.91488558e+00 8.49129411e+04 3.90000000e-06]\n",
      " [4.33072111e+00 2.76936487e+05 3.90000000e-05]\n",
      " [3.56015516e+00 5.20939387e+05 3.90000000e-04]\n",
      " [5.41283560e+00 1.88561951e+05 3.90000000e-03]\n",
      " [9.21950377e+00 6.98606107e+04 3.90000000e-02]\n",
      " [1.01931098e+01 2.03991726e+04 3.90000000e-01]\n",
      " [1.16917120e+01 2.08637464e+02 3.90000000e+00]\n",
      " [0.00000000e+00 0.00000000e+00 0.00000000e+00]]\n",
      "[[4.77182861e+00 1.33976046e+05 3.90000000e-08]\n",
      " [4.43786502e+00 1.60311221e+05 3.90000000e-07]\n",
      " [4.91488558e+00 8.49129411e+04 3.90000000e-06]\n",
      " [4.33072111e+00 2.76936487e+05 3.90000000e-05]\n",
      " [3.56015516e+00 5.20939387e+05 3.90000000e-04]\n",
      " [5.41283560e+00 1.88561951e+05 3.90000000e-03]\n",
      " [9.21950377e+00 6.98606107e+04 3.90000000e-02]\n",
      " [1.01931098e+01 2.03991726e+04 3.90000000e-01]\n",
      " [1.16917120e+01 2.08637464e+02 3.90000000e+00]\n",
      " [1.18906528e+01 1.41437853e+02 3.90000000e+01]]\n",
      "[[4.77182861e+00 1.33976046e+05 3.90000000e-08]\n",
      " [4.43786502e+00 1.60311221e+05 3.90000000e-07]\n",
      " [4.91488558e+00 8.49129411e+04 3.90000000e-06]\n",
      " [4.33072111e+00 2.76936487e+05 3.90000000e-05]\n",
      " [3.56015516e+00 5.20939387e+05 3.90000000e-04]\n",
      " [5.41283560e+00 1.88561951e+05 3.90000000e-03]\n",
      " [9.21950377e+00 6.98606107e+04 3.90000000e-02]\n",
      " [1.01931098e+01 2.03991726e+04 3.90000000e-01]\n",
      " [1.16917120e+01 2.08637464e+02 3.90000000e+00]\n",
      " [1.18906528e+01 1.41437853e+02 3.90000000e+01]]\n"
     ]
    }
   ],
   "source": [
    "result = cl.curve_L()\n"
   ]
  },
  {
   "cell_type": "code",
   "execution_count": 4,
   "id": "tested-battle",
   "metadata": {},
   "outputs": [],
   "source": [
    "#os.chdir('/home/romulo/my_project_dir/Inversao_magnetica/codes/tests/Curva_L')\n",
    "#endereco = './test_vertical_dike'\n",
    "#os.mkdir(endereco)"
   ]
  },
  {
   "cell_type": "code",
   "execution_count": 5,
   "id": "indirect-medicare",
   "metadata": {},
   "outputs": [],
   "source": [
    "header = ['phi', 'theta', 'lambda']\n",
    "curve_L_result = pd.DataFrame(data = result, columns = header)\n",
    "#header = ['phi, theta, lambda']\n",
    "curve_L_result.to_csv('/home/romulo/my_project_dir/Inversao_magnetica/codes/tests//Curva_L/test_vertical_dike/result_3.cvs', index = False, header = header)"
   ]
  },
  {
   "cell_type": "code",
   "execution_count": 6,
   "id": "numerical-capacity",
   "metadata": {},
   "outputs": [
    {
     "data": {
      "text/html": [
       "<div>\n",
       "<style scoped>\n",
       "    .dataframe tbody tr th:only-of-type {\n",
       "        vertical-align: middle;\n",
       "    }\n",
       "\n",
       "    .dataframe tbody tr th {\n",
       "        vertical-align: top;\n",
       "    }\n",
       "\n",
       "    .dataframe thead th {\n",
       "        text-align: right;\n",
       "    }\n",
       "</style>\n",
       "<table border=\"1\" class=\"dataframe\">\n",
       "  <thead>\n",
       "    <tr style=\"text-align: right;\">\n",
       "      <th></th>\n",
       "      <th>phi</th>\n",
       "      <th>theta</th>\n",
       "      <th>lambda</th>\n",
       "    </tr>\n",
       "  </thead>\n",
       "  <tbody>\n",
       "    <tr>\n",
       "      <th>0</th>\n",
       "      <td>4.771829</td>\n",
       "      <td>133976.045871</td>\n",
       "      <td>3.900000e-08</td>\n",
       "    </tr>\n",
       "    <tr>\n",
       "      <th>1</th>\n",
       "      <td>4.437865</td>\n",
       "      <td>160311.220831</td>\n",
       "      <td>3.900000e-07</td>\n",
       "    </tr>\n",
       "    <tr>\n",
       "      <th>2</th>\n",
       "      <td>4.914886</td>\n",
       "      <td>84912.941111</td>\n",
       "      <td>3.900000e-06</td>\n",
       "    </tr>\n",
       "    <tr>\n",
       "      <th>3</th>\n",
       "      <td>4.330721</td>\n",
       "      <td>276936.486861</td>\n",
       "      <td>3.900000e-05</td>\n",
       "    </tr>\n",
       "    <tr>\n",
       "      <th>4</th>\n",
       "      <td>3.560155</td>\n",
       "      <td>520939.387335</td>\n",
       "      <td>3.900000e-04</td>\n",
       "    </tr>\n",
       "    <tr>\n",
       "      <th>5</th>\n",
       "      <td>5.412836</td>\n",
       "      <td>188561.951399</td>\n",
       "      <td>3.900000e-03</td>\n",
       "    </tr>\n",
       "    <tr>\n",
       "      <th>6</th>\n",
       "      <td>9.219504</td>\n",
       "      <td>69860.610727</td>\n",
       "      <td>3.900000e-02</td>\n",
       "    </tr>\n",
       "    <tr>\n",
       "      <th>7</th>\n",
       "      <td>10.193110</td>\n",
       "      <td>20399.172554</td>\n",
       "      <td>3.900000e-01</td>\n",
       "    </tr>\n",
       "    <tr>\n",
       "      <th>8</th>\n",
       "      <td>11.691712</td>\n",
       "      <td>208.637464</td>\n",
       "      <td>3.900000e+00</td>\n",
       "    </tr>\n",
       "    <tr>\n",
       "      <th>9</th>\n",
       "      <td>11.890653</td>\n",
       "      <td>141.437853</td>\n",
       "      <td>3.900000e+01</td>\n",
       "    </tr>\n",
       "  </tbody>\n",
       "</table>\n",
       "</div>"
      ],
      "text/plain": [
       "         phi          theta        lambda\n",
       "0   4.771829  133976.045871  3.900000e-08\n",
       "1   4.437865  160311.220831  3.900000e-07\n",
       "2   4.914886   84912.941111  3.900000e-06\n",
       "3   4.330721  276936.486861  3.900000e-05\n",
       "4   3.560155  520939.387335  3.900000e-04\n",
       "5   5.412836  188561.951399  3.900000e-03\n",
       "6   9.219504   69860.610727  3.900000e-02\n",
       "7  10.193110   20399.172554  3.900000e-01\n",
       "8  11.691712     208.637464  3.900000e+00\n",
       "9  11.890653     141.437853  3.900000e+01"
      ]
     },
     "execution_count": 6,
     "metadata": {},
     "output_type": "execute_result"
    }
   ],
   "source": [
    "curve_L_result"
   ]
  },
  {
   "cell_type": "code",
   "execution_count": 7,
   "id": "blank-gibson",
   "metadata": {},
   "outputs": [
    {
     "name": "stdout",
     "output_type": "stream",
     "text": [
      "         phi          theta        lambda\n",
      "9  11.890653     141.437853  3.900000e+01\n",
      "8  11.691712     208.637464  3.900000e+00\n",
      "7  10.193110   20399.172554  3.900000e-01\n",
      "6   9.219504   69860.610727  3.900000e-02\n",
      "5   5.412836  188561.951399  3.900000e-03\n",
      "4   3.560155  520939.387335  3.900000e-04\n",
      "3   4.330721  276936.486861  3.900000e-05\n",
      "2   4.914886   84912.941111  3.900000e-06\n",
      "1   4.437865  160311.220831  3.900000e-07\n",
      "0   4.771829  133976.045871  3.900000e-08\n"
     ]
    }
   ],
   "source": [
    "inv_curve_l = curve_L_result.sort_values(by = 'lambda', ascending=False)\n",
    "print(inv_curve_l)"
   ]
  },
  {
   "cell_type": "code",
   "execution_count": 8,
   "id": "surrounded-cardiff",
   "metadata": {},
   "outputs": [],
   "source": [
    "#curve_L_result.to_csv('/home/romulo/my_project_dir/Inversao_magnetica/codes/tests//Curva_L/test_2/result_1.cvs', index = False, header = header)"
   ]
  },
  {
   "cell_type": "code",
   "execution_count": 9,
   "id": "partial-dryer",
   "metadata": {},
   "outputs": [],
   "source": [
    "import matplotlib.pyplot as plt\n",
    "import matplotlib"
   ]
  },
  {
   "cell_type": "code",
   "execution_count": 10,
   "id": "stopped-giving",
   "metadata": {},
   "outputs": [
    {
     "data": {
      "image/png": "[encoded data removed]",
      "text/plain": [
       "<Figure size 576x576 with 2 Axes>"
      ]
     },
     "metadata": {
      "needs_background": "light"
     },
     "output_type": "display_data"
    }
   ],
   "source": [
    "x = curve_L_result['phi']\n",
    "y = curve_L_result['theta']\n",
    "z = curve_L_result['lambda']\n",
    "\n",
    "'''x2 = x\n",
    "z2 = z\n",
    "y2 = y\n",
    "\n",
    "x2 = x2[::-1]\n",
    "y2 = y2[::-1]\n",
    "z2 = y2[::-1]'''\n",
    "\n",
    "fig = plt.figure(figsize=(8, 8))\n",
    "#plt.scatter(x,y,edgecolors='none',s=marker_size,c=void_fraction,\n",
    "#                norm=matplotlib.colors.LogNorm())\n",
    "plt.scatter(y, x, cmap = 'jet', c =z ,marker='o', linewidths=5.0, norm=matplotlib.colors.LogNorm())\n",
    "#plt.ylim(0, 11)\n",
    "#plt.title('Com o Lamb = 0.005', fontsize=20)\n",
    "plt.ylabel('$\\phi(q)$', fontsize=20)\n",
    "plt.xlabel('$\\\\theta(q)$', fontsize=20)\n",
    "plt.colorbar()\n",
    "plt.grid()\n",
    "plt.show()"
   ]
  },
  {
   "cell_type": "code",
   "execution_count": 11,
   "id": "spanish-chrome",
   "metadata": {},
   "outputs": [
    {
     "data": {
      "image/png": "[encoded data removed]",
      "text/plain": [
       "<Figure size 576x576 with 2 Axes>"
      ]
     },
     "metadata": {
      "needs_background": "light"
     },
     "output_type": "display_data"
    }
   ],
   "source": [
    "x = inv_curve_l['phi']\n",
    "y = inv_curve_l['theta']\n",
    "z = inv_curve_l['lambda']\n",
    "\n",
    "'''x2 = x\n",
    "z2 = z\n",
    "y2 = y\n",
    "\n",
    "x2 = x2[::-1]\n",
    "y2 = y2[::-1]\n",
    "z2 = y2[::-1]'''\n",
    "\n",
    "fig = plt.figure(figsize=(8, 8))\n",
    "#plt.scatter(x,y,edgecolors='none',s=marker_size,c=void_fraction,\n",
    "#                norm=matplotlib.colors.LogNorm())\n",
    "plt.scatter(y, x, cmap = 'jet', c =z ,marker='o', linewidths=5.0, norm=matplotlib.colors.LogNorm())\n",
    "#plt.ylim(0, 11)\n",
    "#plt.title('Com o Lamb = 0.005', fontsize=20)\n",
    "plt.ylabel('$\\phi(q)$', fontsize=20)\n",
    "plt.xlabel('$\\\\theta(q)$', fontsize=20)\n",
    "plt.colorbar()\n",
    "plt.grid()\n",
    "plt.show()"
   ]
  },
  {
   "cell_type": "code",
   "execution_count": null,
   "id": "contemporary-calculator",
   "metadata": {},
   "outputs": [],
   "source": []
  },
  {
   "cell_type": "code",
   "execution_count": null,
   "id": "fourth-tenant",
   "metadata": {},
   "outputs": [],
   "source": []
  }
 ],
 "metadata": {
  "kernelspec": {
   "display_name": "Python 3",
   "language": "python",
   "name": "python3"
  },
  "language_info": {
   "codemirror_mode": {
    "name": "ipython",
    "version": 3
   },
   "file_extension": ".py",
   "mimetype": "text/x-python",
   "name": "python",
   "nbconvert_exporter": "python",
   "pygments_lexer": "ipython3",
   "version": "3.8.10"
  }
 },
 "nbformat": 4,
 "nbformat_minor": 5
}
