{
 "cells": [
  {
   "cell_type": "code",
   "execution_count": 1,
   "id": "brutal-newman",
   "metadata": {},
   "outputs": [],
   "source": [
    "import warnings\n",
    "\n",
    "import numpy as np\n",
    "\n",
    "warnings.filterwarnings(\"ignore\")\n",
    "import sys\n",
    "a = sys.path.append('../modules/')\n",
    "c = sys.path.append('../tests/')\n",
    "import os\n",
    "import pandas as pd"
   ]
  },
  {
   "cell_type": "code",
   "execution_count": 2,
   "id": "fewer-shift",
   "metadata": {},
   "outputs": [],
   "source": [
    "import Curve_L as cl"
   ]
  },
  {
   "cell_type": "code",
   "execution_count": 3,
   "id": "welcome-milton",
   "metadata": {},
   "outputs": [],
   "source": [
    "#result = cl.curve_L()\n"
   ]
  },
  {
   "cell_type": "code",
   "execution_count": 4,
   "id": "tested-battle",
   "metadata": {},
   "outputs": [
    {
     "data": {
      "text/plain": [
       "\"os.chdir('/home/romulo/my_project_dir/Inversao_magnetica/codes/tests/Curva_L/test_arraial_real')\\nendereco = './test_arraial_real_1'\\nos.mkdir(endereco)\""
      ]
     },
     "execution_count": 4,
     "metadata": {},
     "output_type": "execute_result"
    }
   ],
   "source": [
    "'''os.chdir('/home/romulo/my_project_dir/Inversao_magnetica/codes/tests/Curva_L/test_arraial_real')\n",
    "endereco = './test_arraial_real_1'\n",
    "os.mkdir(endereco)'''"
   ]
  },
  {
   "cell_type": "code",
   "execution_count": 5,
   "id": "indirect-medicare",
   "metadata": {},
   "outputs": [
    {
     "data": {
      "text/plain": [
       "\"header = ['phi', 'theta', 'lambda']\\ncurve_L_result = pd.DataFrame(data = result, columns = header)\\ncurve_L_result.to_csv('/home/romulo/my_project_dir/Inversao_magnetica/codes/tests//Curva_L/test_arraial_real/test_arraial_real_1/result_3.cvs', index = False, header = header)\""
      ]
     },
     "execution_count": 5,
     "metadata": {},
     "output_type": "execute_result"
    }
   ],
   "source": [
    "'''header = ['phi', 'theta', 'lambda']\n",
    "curve_L_result = pd.DataFrame(data = result, columns = header)\n",
    "curve_L_result.to_csv('/home/romulo/my_project_dir/Inversao_magnetica/codes/tests//Curva_L/test_arraial_real/test_arraial_real_1/result_3.cvs', index = False, header = header)'''"
   ]
  },
  {
   "cell_type": "code",
   "execution_count": 6,
   "id": "numerical-capacity",
   "metadata": {},
   "outputs": [],
   "source": [
    "#curve_L_result"
   ]
  },
  {
   "cell_type": "code",
   "execution_count": 7,
   "id": "blank-gibson",
   "metadata": {},
   "outputs": [
    {
     "data": {
      "text/plain": [
       "\"inv_curve_l = curve_L_result.sort_values(by = 'lambda', ascending=False)\\nprint(inv_curve_l)\""
      ]
     },
     "execution_count": 7,
     "metadata": {},
     "output_type": "execute_result"
    }
   ],
   "source": [
    "'''inv_curve_l = curve_L_result.sort_values(by = 'lambda', ascending=False)\n",
    "print(inv_curve_l)'''"
   ]
  },
  {
   "cell_type": "code",
   "execution_count": 8,
   "id": "surrounded-cardiff",
   "metadata": {},
   "outputs": [],
   "source": [
    "header = ['phi', 'theta', 'lambda']\n",
    "curve_L_result1 = pd.read_table('/home/romulo/my_project_dir/Inversao_magnetica/codes/tests//Curva_L/test_arraial_real/test_arraial_real_1/result_1.cvs', sep=',')\n",
    "curve_L_result2 = pd.read_table('/home/romulo/my_project_dir/Inversao_magnetica/codes/tests//Curva_L/test_arraial_real/test_arraial_real_1/result_2.cvs', sep=',')\n",
    "curve_L_result3 = pd.read_table('/home/romulo/my_project_dir/Inversao_magnetica/codes/tests//Curva_L/test_arraial_real/test_arraial_real_1/result_3.cvs', sep=',')\n",
    "\n",
    "curve_L_result = pd.concat([curve_L_result1, curve_L_result2, curve_L_result3])"
   ]
  },
  {
   "cell_type": "code",
   "execution_count": 9,
   "id": "affiliated-institute",
   "metadata": {},
   "outputs": [
    {
     "data": {
      "text/html": [
       "<div>\n",
       "<style scoped>\n",
       "    .dataframe tbody tr th:only-of-type {\n",
       "        vertical-align: middle;\n",
       "    }\n",
       "\n",
       "    .dataframe tbody tr th {\n",
       "        vertical-align: top;\n",
       "    }\n",
       "\n",
       "    .dataframe thead th {\n",
       "        text-align: right;\n",
       "    }\n",
       "</style>\n",
       "<table border=\"1\" class=\"dataframe\">\n",
       "  <thead>\n",
       "    <tr style=\"text-align: right;\">\n",
       "      <th></th>\n",
       "      <th>phi</th>\n",
       "      <th>theta</th>\n",
       "      <th>lambda</th>\n",
       "    </tr>\n",
       "  </thead>\n",
       "  <tbody>\n",
       "    <tr>\n",
       "      <th>0</th>\n",
       "      <td>2.879378</td>\n",
       "      <td>4668.817007</td>\n",
       "      <td>0.000001</td>\n",
       "    </tr>\n",
       "    <tr>\n",
       "      <th>1</th>\n",
       "      <td>2.762099</td>\n",
       "      <td>10242.239918</td>\n",
       "      <td>0.000010</td>\n",
       "    </tr>\n",
       "    <tr>\n",
       "      <th>2</th>\n",
       "      <td>2.825879</td>\n",
       "      <td>56997.016739</td>\n",
       "      <td>0.000100</td>\n",
       "    </tr>\n",
       "    <tr>\n",
       "      <th>3</th>\n",
       "      <td>2.880141</td>\n",
       "      <td>20294.590003</td>\n",
       "      <td>0.001000</td>\n",
       "    </tr>\n",
       "    <tr>\n",
       "      <th>4</th>\n",
       "      <td>2.507576</td>\n",
       "      <td>28589.476003</td>\n",
       "      <td>0.010000</td>\n",
       "    </tr>\n",
       "    <tr>\n",
       "      <th>5</th>\n",
       "      <td>4.288697</td>\n",
       "      <td>1396.635428</td>\n",
       "      <td>0.100000</td>\n",
       "    </tr>\n",
       "    <tr>\n",
       "      <th>6</th>\n",
       "      <td>5.834853</td>\n",
       "      <td>134.767597</td>\n",
       "      <td>1.000000</td>\n",
       "    </tr>\n",
       "    <tr>\n",
       "      <th>7</th>\n",
       "      <td>10.229733</td>\n",
       "      <td>38.465865</td>\n",
       "      <td>10.000000</td>\n",
       "    </tr>\n",
       "    <tr>\n",
       "      <th>8</th>\n",
       "      <td>9.300351</td>\n",
       "      <td>12.250019</td>\n",
       "      <td>100.000000</td>\n",
       "    </tr>\n",
       "    <tr>\n",
       "      <th>9</th>\n",
       "      <td>9.731955</td>\n",
       "      <td>18.637580</td>\n",
       "      <td>1000.000000</td>\n",
       "    </tr>\n",
       "    <tr>\n",
       "      <th>0</th>\n",
       "      <td>2.863468</td>\n",
       "      <td>22558.176295</td>\n",
       "      <td>0.000025</td>\n",
       "    </tr>\n",
       "    <tr>\n",
       "      <th>1</th>\n",
       "      <td>2.725151</td>\n",
       "      <td>39779.723477</td>\n",
       "      <td>0.000250</td>\n",
       "    </tr>\n",
       "    <tr>\n",
       "      <th>2</th>\n",
       "      <td>2.693066</td>\n",
       "      <td>20241.533963</td>\n",
       "      <td>0.002500</td>\n",
       "    </tr>\n",
       "    <tr>\n",
       "      <th>3</th>\n",
       "      <td>3.176808</td>\n",
       "      <td>16642.959247</td>\n",
       "      <td>0.025000</td>\n",
       "    </tr>\n",
       "    <tr>\n",
       "      <th>4</th>\n",
       "      <td>4.502512</td>\n",
       "      <td>621.013496</td>\n",
       "      <td>0.250000</td>\n",
       "    </tr>\n",
       "    <tr>\n",
       "      <th>5</th>\n",
       "      <td>7.812979</td>\n",
       "      <td>136.653347</td>\n",
       "      <td>2.500000</td>\n",
       "    </tr>\n",
       "    <tr>\n",
       "      <th>6</th>\n",
       "      <td>9.125224</td>\n",
       "      <td>11.221139</td>\n",
       "      <td>25.000000</td>\n",
       "    </tr>\n",
       "    <tr>\n",
       "      <th>7</th>\n",
       "      <td>9.058473</td>\n",
       "      <td>30.316733</td>\n",
       "      <td>250.000000</td>\n",
       "    </tr>\n",
       "    <tr>\n",
       "      <th>8</th>\n",
       "      <td>10.612922</td>\n",
       "      <td>45.087567</td>\n",
       "      <td>2500.000000</td>\n",
       "    </tr>\n",
       "    <tr>\n",
       "      <th>9</th>\n",
       "      <td>7.162144</td>\n",
       "      <td>9.930508</td>\n",
       "      <td>25000.000000</td>\n",
       "    </tr>\n",
       "    <tr>\n",
       "      <th>0</th>\n",
       "      <td>2.366755</td>\n",
       "      <td>48287.903544</td>\n",
       "      <td>0.000095</td>\n",
       "    </tr>\n",
       "    <tr>\n",
       "      <th>1</th>\n",
       "      <td>2.914391</td>\n",
       "      <td>24578.604426</td>\n",
       "      <td>0.000950</td>\n",
       "    </tr>\n",
       "    <tr>\n",
       "      <th>2</th>\n",
       "      <td>2.965756</td>\n",
       "      <td>26086.686176</td>\n",
       "      <td>0.009500</td>\n",
       "    </tr>\n",
       "    <tr>\n",
       "      <th>3</th>\n",
       "      <td>4.134306</td>\n",
       "      <td>2357.275715</td>\n",
       "      <td>0.095000</td>\n",
       "    </tr>\n",
       "    <tr>\n",
       "      <th>4</th>\n",
       "      <td>6.378872</td>\n",
       "      <td>151.270966</td>\n",
       "      <td>0.950000</td>\n",
       "    </tr>\n",
       "    <tr>\n",
       "      <th>5</th>\n",
       "      <td>12.741766</td>\n",
       "      <td>61.839378</td>\n",
       "      <td>9.500000</td>\n",
       "    </tr>\n",
       "    <tr>\n",
       "      <th>6</th>\n",
       "      <td>7.094786</td>\n",
       "      <td>18.217589</td>\n",
       "      <td>95.000000</td>\n",
       "    </tr>\n",
       "    <tr>\n",
       "      <th>7</th>\n",
       "      <td>10.984126</td>\n",
       "      <td>38.022187</td>\n",
       "      <td>950.000000</td>\n",
       "    </tr>\n",
       "    <tr>\n",
       "      <th>8</th>\n",
       "      <td>9.693191</td>\n",
       "      <td>124.251436</td>\n",
       "      <td>9500.000000</td>\n",
       "    </tr>\n",
       "    <tr>\n",
       "      <th>9</th>\n",
       "      <td>8.034619</td>\n",
       "      <td>56.965919</td>\n",
       "      <td>95000.000000</td>\n",
       "    </tr>\n",
       "  </tbody>\n",
       "</table>\n",
       "</div>"
      ],
      "text/plain": [
       "         phi         theta        lambda\n",
       "0   2.879378   4668.817007      0.000001\n",
       "1   2.762099  10242.239918      0.000010\n",
       "2   2.825879  56997.016739      0.000100\n",
       "3   2.880141  20294.590003      0.001000\n",
       "4   2.507576  28589.476003      0.010000\n",
       "5   4.288697   1396.635428      0.100000\n",
       "6   5.834853    134.767597      1.000000\n",
       "7  10.229733     38.465865     10.000000\n",
       "8   9.300351     12.250019    100.000000\n",
       "9   9.731955     18.637580   1000.000000\n",
       "0   2.863468  22558.176295      0.000025\n",
       "1   2.725151  39779.723477      0.000250\n",
       "2   2.693066  20241.533963      0.002500\n",
       "3   3.176808  16642.959247      0.025000\n",
       "4   4.502512    621.013496      0.250000\n",
       "5   7.812979    136.653347      2.500000\n",
       "6   9.125224     11.221139     25.000000\n",
       "7   9.058473     30.316733    250.000000\n",
       "8  10.612922     45.087567   2500.000000\n",
       "9   7.162144      9.930508  25000.000000\n",
       "0   2.366755  48287.903544      0.000095\n",
       "1   2.914391  24578.604426      0.000950\n",
       "2   2.965756  26086.686176      0.009500\n",
       "3   4.134306   2357.275715      0.095000\n",
       "4   6.378872    151.270966      0.950000\n",
       "5  12.741766     61.839378      9.500000\n",
       "6   7.094786     18.217589     95.000000\n",
       "7  10.984126     38.022187    950.000000\n",
       "8   9.693191    124.251436   9500.000000\n",
       "9   8.034619     56.965919  95000.000000"
      ]
     },
     "execution_count": 9,
     "metadata": {},
     "output_type": "execute_result"
    }
   ],
   "source": [
    "curve_L_result"
   ]
  },
  {
   "cell_type": "code",
   "execution_count": 10,
   "id": "partial-dryer",
   "metadata": {},
   "outputs": [],
   "source": [
    "import matplotlib.pyplot as plt\n",
    "import matplotlib"
   ]
  },
  {
   "cell_type": "code",
   "execution_count": 19,
   "id": "stopped-giving",
   "metadata": {
    "scrolled": true
   },
   "outputs": [
    {
     "data": {
      "image/png": "[encoded data removed]",
      "text/plain": [
       "<Figure size 648x360 with 2 Axes>"
      ]
     },
     "metadata": {
      "needs_background": "light"
     },
     "output_type": "display_data"
    }
   ],
   "source": [
    "x = curve_L_result['phi']\n",
    "y = curve_L_result['theta']\n",
    "z = curve_L_result['lambda']\n",
    "\n",
    "x2 = x\n",
    "z2 = z\n",
    "y2 = y\n",
    "\n",
    "x2 = x2[1:29]\n",
    "y2 = y2[1:29]\n",
    "z2 = z2[1:29]\n",
    "\n",
    "fig = plt.figure(figsize=(9, 5))\n",
    "#plt.scatter(x,y,edgecolors='none',s=marker_size,c=void_fraction,\n",
    "#                norm=matplotlib.colors.LogNorm())\n",
    "plt.scatter(y2, x2, cmap = 'jet', c =z2 ,marker='o', linewidths=5.0, norm=matplotlib.colors.LogNorm())\n",
    "#plt.ylim(0, 11)\n",
    "#plt.title('Com o Lamb = 0.005', fontsize=20)\n",
    "plt.ylabel('$\\phi(q)$', fontsize=20)\n",
    "plt.xlabel('$\\\\theta(q)$', fontsize=20)\n",
    "plt.colorbar()\n",
    "plt.grid()\n",
    "plt.show()"
   ]
  },
  {
   "cell_type": "code",
   "execution_count": 12,
   "id": "german-contact",
   "metadata": {},
   "outputs": [
    {
     "data": {
      "text/plain": [
       "\"fig = plt.figure(figsize=(8, 8))\\n#plt.scatter(x,y,edgecolors='none',s=marker_size,c=void_fraction,\\n#                norm=matplotlib.colors.LogNorm())\\nplt.scatter(x, y, cmap = 'jet', c =z ,marker='o', linewidths=5.0, norm=matplotlib.colors.LogNorm())\\n#plt.ylim(0, 11)\\n#plt.title('Com o Lamb = 0.005', fontsize=20)\\nplt.xlabel('$\\\\phi(q)$', fontsize=20)\\nplt.ylabel('$\\\\theta(q)$', fontsize=20)\\nplt.colorbar()\\nplt.grid()\\nplt.show()\""
      ]
     },
     "execution_count": 12,
     "metadata": {},
     "output_type": "execute_result"
    }
   ],
   "source": [
    "'''fig = plt.figure(figsize=(8, 8))\n",
    "#plt.scatter(x,y,edgecolors='none',s=marker_size,c=void_fraction,\n",
    "#                norm=matplotlib.colors.LogNorm())\n",
    "plt.scatter(x, y, cmap = 'jet', c =z ,marker='o', linewidths=5.0, norm=matplotlib.colors.LogNorm())\n",
    "#plt.ylim(0, 11)\n",
    "#plt.title('Com o Lamb = 0.005', fontsize=20)\n",
    "plt.xlabel('$\\phi(q)$', fontsize=20)\n",
    "plt.ylabel('$\\\\theta(q)$', fontsize=20)\n",
    "plt.colorbar()\n",
    "plt.grid()\n",
    "plt.show()'''"
   ]
  },
  {
   "cell_type": "code",
   "execution_count": 13,
   "id": "spanish-chrome",
   "metadata": {},
   "outputs": [
    {
     "data": {
      "text/plain": [
       "\"x2 = x\\nz2 = z\\ny2 = y\\n\\nx2 = x2[::-1]\\ny2 = y2[::-1]\\nz2 = y2[::-1]\\n\\nfig = plt.figure(figsize=(8, 8))\\n#plt.scatter(x,y,edgecolors='none',s=marker_size,c=void_fraction,\\n#                norm=matplotlib.colors.LogNorm())\\nplt.scatter(y2, x2, cmap = 'jet', c =z2 ,marker='o', linewidths=5.0, norm=matplotlib.colors.LogNorm())\\n#plt.ylim(0, 11)\\n#plt.title('Com o Lamb = 0.005', fontsize=20)\\nplt.ylabel('$\\\\phi(q)$', fontsize=20)\\nplt.xlabel('$\\\\theta(q)$', fontsize=20)\\nplt.colorbar()\\nplt.grid()\\nplt.show()\""
      ]
     },
     "execution_count": 13,
     "metadata": {},
     "output_type": "execute_result"
    }
   ],
   "source": [
    "'''x = inv_curve_l['phi']\n",
    "y = inv_curve_l['theta']\n",
    "z = inv_curve_l['lambda']'''\n",
    "\n",
    "'''x2 = x\n",
    "z2 = z\n",
    "y2 = y\n",
    "\n",
    "x2 = x2[::-1]\n",
    "y2 = y2[::-1]\n",
    "z2 = y2[::-1]\n",
    "\n",
    "fig = plt.figure(figsize=(8, 8))\n",
    "#plt.scatter(x,y,edgecolors='none',s=marker_size,c=void_fraction,\n",
    "#                norm=matplotlib.colors.LogNorm())\n",
    "plt.scatter(y2, x2, cmap = 'jet', c =z2 ,marker='o', linewidths=5.0, norm=matplotlib.colors.LogNorm())\n",
    "#plt.ylim(0, 11)\n",
    "#plt.title('Com o Lamb = 0.005', fontsize=20)\n",
    "plt.ylabel('$\\phi(q)$', fontsize=20)\n",
    "plt.xlabel('$\\\\theta(q)$', fontsize=20)\n",
    "plt.colorbar()\n",
    "plt.grid()\n",
    "plt.show()'''"
   ]
  },
  {
   "cell_type": "code",
   "execution_count": 14,
   "id": "contemporary-calculator",
   "metadata": {},
   "outputs": [
    {
     "data": {
      "text/plain": [
       "'curve_L_result1'"
      ]
     },
     "execution_count": 14,
     "metadata": {},
     "output_type": "execute_result"
    }
   ],
   "source": [
    "'''curve_L_result1'''"
   ]
  },
  {
   "cell_type": "code",
   "execution_count": 15,
   "id": "fourth-tenant",
   "metadata": {},
   "outputs": [
    {
     "data": {
      "text/plain": [
       "\"fig = plt.figure(figsize=(8, 8))\\n#plt.scatter(x,y,edgecolors='none',s=marker_size,c=void_fraction,\\n#                norm=matplotlib.colors.LogNorm())\\nplt.scatter(y, x, cmap = 'jet', c =z ,marker='o', linewidths=5.0, norm=matplotlib.colors.LogNorm())\\n#plt.ylim(0, 11)\\n#plt.title('Com o Lamb = 0.005', fontsize=20)\\nplt.ylabel('$\\\\phi(q)$', fontsize=20)\\nplt.xlabel('$\\\\theta(q)$', fontsize=20)\\nplt.colorbar()\\nplt.grid()\\nplt.show()\""
      ]
     },
     "execution_count": 15,
     "metadata": {},
     "output_type": "execute_result"
    }
   ],
   "source": [
    "'''x = curve_L_result1['phi'][5:9]\n",
    "y = curve_L_result1['theta'][5:9]\n",
    "z = curve_L_result1['lambda'][5:9]'''\n",
    "\n",
    "'''x2 = x\n",
    "z2 = z\n",
    "y2 = y\n",
    "\n",
    "x2 = x2[::-1]\n",
    "y2 = y2[::-1]\n",
    "z2 = y2[::-1]'''\n",
    "\n",
    "'''fig = plt.figure(figsize=(8, 8))\n",
    "#plt.scatter(x,y,edgecolors='none',s=marker_size,c=void_fraction,\n",
    "#                norm=matplotlib.colors.LogNorm())\n",
    "plt.scatter(y, x, cmap = 'jet', c =z ,marker='o', linewidths=5.0, norm=matplotlib.colors.LogNorm())\n",
    "#plt.ylim(0, 11)\n",
    "#plt.title('Com o Lamb = 0.005', fontsize=20)\n",
    "plt.ylabel('$\\phi(q)$', fontsize=20)\n",
    "plt.xlabel('$\\\\theta(q)$', fontsize=20)\n",
    "plt.colorbar()\n",
    "plt.grid()\n",
    "plt.show()'''"
   ]
  },
  {
   "cell_type": "code",
   "execution_count": 16,
   "id": "defensive-sphere",
   "metadata": {},
   "outputs": [],
   "source": [
    "#curve_L_result_total = pd.concat([curve_L_result1[5:9], curve_L_result2[5:9], curve_L_result3[5:9]])"
   ]
  },
  {
   "cell_type": "code",
   "execution_count": 17,
   "id": "brazilian-heritage",
   "metadata": {},
   "outputs": [],
   "source": [
    "#curve_L_result_total"
   ]
  },
  {
   "cell_type": "code",
   "execution_count": 18,
   "id": "super-departure",
   "metadata": {},
   "outputs": [
    {
     "data": {
      "text/plain": [
       "\"x = curve_L_result_total['phi']\\ny = curve_L_result_total['theta']\\nz = curve_L_result_total['lambda']\\n\\nx2 = x\\nz2 = z\\ny2 = y\\n\\nx2 = x2[::-1]\\ny2 = y2[::-1]\\nz2 = y2[::-1]\\n\\nfig = plt.figure(figsize=(8, 8))\\n#plt.scatter(x,y,edgecolors='none',s=marker_size,c=void_fraction,\\n#                norm=matplotlib.colors.LogNorm())\\nplt.scatter(y, x, cmap = 'jet', c =z ,marker='o', linewidths=5.0, norm=matplotlib.colors.LogNorm())\\n#plt.ylim(0, 11)\\n#plt.title('Com o Lamb = 0.005', fontsize=20)\\nplt.ylabel('$\\\\phi(q)$', fontsize=20)\\nplt.xlabel('$\\\\theta(q)$', fontsize=20)\\nplt.colorbar()\\nplt.grid()\\nplt.show()\""
      ]
     },
     "execution_count": 18,
     "metadata": {},
     "output_type": "execute_result"
    }
   ],
   "source": [
    "'''x = curve_L_result_total['phi']\n",
    "y = curve_L_result_total['theta']\n",
    "z = curve_L_result_total['lambda']\n",
    "\n",
    "x2 = x\n",
    "z2 = z\n",
    "y2 = y\n",
    "\n",
    "x2 = x2[::-1]\n",
    "y2 = y2[::-1]\n",
    "z2 = y2[::-1]\n",
    "\n",
    "fig = plt.figure(figsize=(8, 8))\n",
    "#plt.scatter(x,y,edgecolors='none',s=marker_size,c=void_fraction,\n",
    "#                norm=matplotlib.colors.LogNorm())\n",
    "plt.scatter(y, x, cmap = 'jet', c =z ,marker='o', linewidths=5.0, norm=matplotlib.colors.LogNorm())\n",
    "#plt.ylim(0, 11)\n",
    "#plt.title('Com o Lamb = 0.005', fontsize=20)\n",
    "plt.ylabel('$\\phi(q)$', fontsize=20)\n",
    "plt.xlabel('$\\\\theta(q)$', fontsize=20)\n",
    "plt.colorbar()\n",
    "plt.grid()\n",
    "plt.show()'''"
   ]
  },
  {
   "cell_type": "code",
   "execution_count": null,
   "id": "judicial-garlic",
   "metadata": {},
   "outputs": [],
   "source": []
  }
 ],
 "metadata": {
  "kernelspec": {
   "display_name": "Python 3 (ipykernel)",
   "language": "python",
   "name": "python3"
  },
  "language_info": {
   "codemirror_mode": {
    "name": "ipython",
    "version": 3
   },
   "file_extension": ".py",
   "mimetype": "text/x-python",
   "name": "python",
   "nbconvert_exporter": "python",
   "pygments_lexer": "ipython3",
   "version": "3.8.10"
  }
 },
 "nbformat": 4,
 "nbformat_minor": 5
}
