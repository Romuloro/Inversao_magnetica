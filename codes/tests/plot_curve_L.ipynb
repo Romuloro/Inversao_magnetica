{
 "cells": [
  {
   "cell_type": "code",
   "execution_count": 1,
   "id": "brutal-newman",
   "metadata": {},
   "outputs": [],
   "source": [
    "import warnings\n",
    "\n",
    "import numpy as np\n",
    "\n",
    "warnings.filterwarnings(\"ignore\")\n",
    "import sys\n",
    "a = sys.path.append('../modules/')\n",
    "c = sys.path.append('../tests/')\n",
    "import os\n",
    "import pandas as pd"
   ]
  },
  {
   "cell_type": "code",
   "execution_count": 2,
   "id": "fewer-shift",
   "metadata": {},
   "outputs": [
    {
     "data": {
      "image/png": "[encoded data removed]",
      "text/plain": [
       "<Figure size 864x864 with 1 Axes>"
      ]
     },
     "metadata": {
      "needs_background": "light"
     },
     "output_type": "display_data"
    }
   ],
   "source": [
    "import Curve_L as cl"
   ]
  },
  {
   "cell_type": "code",
   "execution_count": 3,
   "id": "welcome-milton",
   "metadata": {},
   "outputs": [],
   "source": [
    "#result = cl.curve_L()\n"
   ]
  },
  {
   "cell_type": "code",
   "execution_count": 4,
   "id": "tested-battle",
   "metadata": {},
   "outputs": [
    {
     "data": {
      "text/plain": [
       "\"os.chdir('/home/romulo/my_project_dir/Inversao_magnetica/codes/tests/Dissertacao/Test_real/Morro_do_forno')\\nendereco = './Curva_L_teste_9_10_2022'\\nos.mkdir(endereco)\""
      ]
     },
     "execution_count": 4,
     "metadata": {},
     "output_type": "execute_result"
    }
   ],
   "source": [
    "'''os.chdir('/home/romulo/my_project_dir/Inversao_magnetica/codes/tests/Dissertacao/Test_real/Morro_do_forno')\n",
    "endereco = './Curva_L_teste_9_10_2022'\n",
    "os.mkdir(endereco)'''"
   ]
  },
  {
   "cell_type": "code",
   "execution_count": 5,
   "id": "indirect-medicare",
   "metadata": {},
   "outputs": [
    {
     "data": {
      "text/plain": [
       "\"header = ['phi', 'theta', 'lambda']\\ncurve_L_result = pd.DataFrame(data = result, columns = header)\\ncurve_L_result.to_csv('/home/romulo/my_project_dir/Inversao_magnetica/codes/tests/Dissertacao/Test_real/Morro_do_forno/Curva_L_teste_9_10_2022/result_1.csv', index = False, header = header)\""
      ]
     },
     "execution_count": 5,
     "metadata": {},
     "output_type": "execute_result"
    }
   ],
   "source": [
    "'''header = ['phi', 'theta', 'lambda']\n",
    "curve_L_result = pd.DataFrame(data = result, columns = header)\n",
    "curve_L_result.to_csv('/home/romulo/my_project_dir/Inversao_magnetica/codes/tests/Dissertacao/Test_real/Morro_do_forno/Curva_L_teste_9_10_2022/result_1.csv', index = False, header = header)'''"
   ]
  },
  {
   "cell_type": "code",
   "execution_count": 6,
   "id": "numerical-capacity",
   "metadata": {},
   "outputs": [],
   "source": [
    "#curve_L_result"
   ]
  },
  {
   "cell_type": "code",
   "execution_count": 7,
   "id": "blank-gibson",
   "metadata": {},
   "outputs": [
    {
     "data": {
      "text/plain": [
       "\"inv_curve_l = curve_L_result.sort_values(by = 'lambda', ascending=False)\\nprint(inv_curve_l)\""
      ]
     },
     "execution_count": 7,
     "metadata": {},
     "output_type": "execute_result"
    }
   ],
   "source": [
    "'''inv_curve_l = curve_L_result.sort_values(by = 'lambda', ascending=False)\n",
    "print(inv_curve_l)'''"
   ]
  },
  {
   "cell_type": "code",
   "execution_count": 8,
   "id": "surrounded-cardiff",
   "metadata": {},
   "outputs": [],
   "source": [
    "header = ['phi', 'theta', 'lambda']\n",
    "curve_L_result1 = pd.read_table('/home/romulo/my_project_dir/Inversao_magnetica/codes/tests/Dissertacao/Test_real/Morro_do_forno/Curva_L_teste_9_10_2022/result_1.csv', sep=',')\n",
    "#curve_L_result2 = pd.read_table('/home/romulo/my_project_dir/Inversao_magnetica/codes/tests/Dissertacao/Test_sintetico/Dique_inclinado/Curva_L_teste_23_09_2022/result_2.csv', sep=',')\n",
    "#curve_L_result3 = pd.read_table('/home/romulo/my_project_dir/Inversao_magnetica/codes/tests//Curva_L/test_arraial_real/test_arraial_real_1/result_3.cvs', sep=',')\n",
    "\n",
    "curve_L_result = pd.concat([curve_L_result1])#, curve_L_result2])"
   ]
  },
  {
   "cell_type": "code",
   "execution_count": 9,
   "id": "exterior-vulnerability",
   "metadata": {},
   "outputs": [],
   "source": [
    "#curve_L_result1 = pd.read_table('/home/romulo/my_project_dir/Inversao_magnetica/codes/tests/Dissertacao/Test_sintetico/Dique_vertical/Curva_L/test_sint_vertical/result_1.cvs', sep=',')\n",
    "#curve_L_result2 = pd.read_table('/home/romulo/my_project_dir/Inversao_magnetica/codes/tests/Dissertacao/Test_sintetico/Dique_vertical/Curva_L/test_sint_vertical/result_2.cvs', sep=',')"
   ]
  },
  {
   "cell_type": "code",
   "execution_count": 10,
   "id": "affiliated-institute",
   "metadata": {},
   "outputs": [
    {
     "data": {
      "text/html": [
       "<div>\n",
       "<style scoped>\n",
       "    .dataframe tbody tr th:only-of-type {\n",
       "        vertical-align: middle;\n",
       "    }\n",
       "\n",
       "    .dataframe tbody tr th {\n",
       "        vertical-align: top;\n",
       "    }\n",
       "\n",
       "    .dataframe thead th {\n",
       "        text-align: right;\n",
       "    }\n",
       "</style>\n",
       "<table border=\"1\" class=\"dataframe\">\n",
       "  <thead>\n",
       "    <tr style=\"text-align: right;\">\n",
       "      <th></th>\n",
       "      <th>phi</th>\n",
       "      <th>theta</th>\n",
       "      <th>lambda</th>\n",
       "    </tr>\n",
       "  </thead>\n",
       "  <tbody>\n",
       "    <tr>\n",
       "      <th>0</th>\n",
       "      <td>5.518527</td>\n",
       "      <td>0.427758</td>\n",
       "      <td>0.00047</td>\n",
       "    </tr>\n",
       "    <tr>\n",
       "      <th>1</th>\n",
       "      <td>5.426904</td>\n",
       "      <td>0.179357</td>\n",
       "      <td>0.00470</td>\n",
       "    </tr>\n",
       "    <tr>\n",
       "      <th>2</th>\n",
       "      <td>5.912181</td>\n",
       "      <td>0.191765</td>\n",
       "      <td>0.04700</td>\n",
       "    </tr>\n",
       "    <tr>\n",
       "      <th>3</th>\n",
       "      <td>5.954322</td>\n",
       "      <td>0.254161</td>\n",
       "      <td>0.47000</td>\n",
       "    </tr>\n",
       "    <tr>\n",
       "      <th>4</th>\n",
       "      <td>7.704519</td>\n",
       "      <td>0.106559</td>\n",
       "      <td>4.70000</td>\n",
       "    </tr>\n",
       "    <tr>\n",
       "      <th>5</th>\n",
       "      <td>10.102163</td>\n",
       "      <td>0.009761</td>\n",
       "      <td>47.00000</td>\n",
       "    </tr>\n",
       "    <tr>\n",
       "      <th>6</th>\n",
       "      <td>10.921893</td>\n",
       "      <td>0.007951</td>\n",
       "      <td>470.00000</td>\n",
       "    </tr>\n",
       "    <tr>\n",
       "      <th>7</th>\n",
       "      <td>10.837516</td>\n",
       "      <td>0.007519</td>\n",
       "      <td>4700.00000</td>\n",
       "    </tr>\n",
       "  </tbody>\n",
       "</table>\n",
       "</div>"
      ],
      "text/plain": [
       "         phi     theta      lambda\n",
       "0   5.518527  0.427758     0.00047\n",
       "1   5.426904  0.179357     0.00470\n",
       "2   5.912181  0.191765     0.04700\n",
       "3   5.954322  0.254161     0.47000\n",
       "4   7.704519  0.106559     4.70000\n",
       "5  10.102163  0.009761    47.00000\n",
       "6  10.921893  0.007951   470.00000\n",
       "7  10.837516  0.007519  4700.00000"
      ]
     },
     "execution_count": 10,
     "metadata": {},
     "output_type": "execute_result"
    }
   ],
   "source": [
    "curve_L_result"
   ]
  },
  {
   "cell_type": "code",
   "execution_count": 11,
   "id": "southern-basement",
   "metadata": {},
   "outputs": [
    {
     "name": "stdout",
     "output_type": "stream",
     "text": [
      "   index        phi     theta      lambda\n",
      "0      7  10.837516  0.007519  4700.00000\n",
      "1      6  10.921893  0.007951   470.00000\n",
      "2      5  10.102163  0.009761    47.00000\n",
      "3      4   7.704519  0.106559     4.70000\n",
      "4      1   5.426904  0.179357     0.00470\n",
      "5      2   5.912181  0.191765     0.04700\n",
      "6      3   5.954322  0.254161     0.47000\n",
      "7      0   5.518527  0.427758     0.00047\n"
     ]
    }
   ],
   "source": [
    "#filtro  = curve_L_result['lambda'] <= 63.0\n",
    "#curve_l_resume = curve_L_result[filtro]\n",
    "#print(curve_l_resume)\n",
    "curve_order = curve_L_result.sort_values([\"theta\"])\n",
    "curve_order = curve_order.reset_index()\n",
    "print(curve_order)"
   ]
  },
  {
   "cell_type": "code",
   "execution_count": 21,
   "id": "nasty-works",
   "metadata": {},
   "outputs": [
    {
     "name": "stdout",
     "output_type": "stream",
     "text": [
      "   level_0  index        phi     theta      lambda\n",
      "0        0      7  10.837516  0.007519  4700.00000\n",
      "1        1      6  10.921893  0.007951   470.00000\n",
      "2        2      5  10.102163  0.009761    47.00000\n",
      "3        3      4   7.704519  0.106559     4.70000\n",
      "4        5      2   5.912181  0.191765     0.04700\n",
      "5        6      3   5.954322  0.254161     0.47000\n",
      "6        7      0   5.518527  0.427758     0.00047\n"
     ]
    }
   ],
   "source": [
    "curve_order_1 = curve_order.drop(4)\n",
    "curve_order_1 = curve_order_1.reset_index()\n",
    "print(curve_order_1)"
   ]
  },
  {
   "cell_type": "code",
   "execution_count": 22,
   "id": "amber-manhattan",
   "metadata": {},
   "outputs": [
    {
     "data": {
      "text/plain": [
       "\"filtro  = curve_L_result['lambda'] > 1.0e-3\\ncurve_l_resume = curve_L_result[filtro]\\ncurve_l_resume#[1], curve_L_result[15], curve_L_result[18], curve_L_result[6]\""
      ]
     },
     "execution_count": 22,
     "metadata": {},
     "output_type": "execute_result"
    }
   ],
   "source": [
    "'''filtro  = curve_L_result['lambda'] > 1.0e-3\n",
    "curve_l_resume = curve_L_result[filtro]\n",
    "curve_l_resume#[1], curve_L_result[15], curve_L_result[18], curve_L_result[6]'''"
   ]
  },
  {
   "cell_type": "code",
   "execution_count": 23,
   "id": "casual-variation",
   "metadata": {},
   "outputs": [
    {
     "data": {
      "text/plain": [
       "'curve_l_resume2 = curve_l_resume.drop(0)\\n#curve_l_resume2 = curve_l_resume2.drop(6)\\ncurve_l_resume2#[1], curve_L_result[15], curve_L_result[18], curve_L_result[6]'"
      ]
     },
     "execution_count": 23,
     "metadata": {},
     "output_type": "execute_result"
    }
   ],
   "source": [
    "'''curve_l_resume2 = curve_l_resume.drop(0)\n",
    "#curve_l_resume2 = curve_l_resume2.drop(6)\n",
    "curve_l_resume2#[1], curve_L_result[15], curve_L_result[18], curve_L_result[6]'''"
   ]
  },
  {
   "cell_type": "code",
   "execution_count": 24,
   "id": "partial-dryer",
   "metadata": {},
   "outputs": [],
   "source": [
    "import matplotlib.pyplot as plt\n",
    "import matplotlib"
   ]
  },
  {
   "cell_type": "code",
   "execution_count": 25,
   "id": "judicial-laser",
   "metadata": {},
   "outputs": [
    {
     "data": {
      "text/plain": [
       "'pd.options.plotting.backend = \"plotly\"'"
      ]
     },
     "execution_count": 25,
     "metadata": {},
     "output_type": "execute_result"
    }
   ],
   "source": [
    "'''pd.options.plotting.backend = \"plotly\"'''"
   ]
  },
  {
   "cell_type": "code",
   "execution_count": 26,
   "id": "stopped-giving",
   "metadata": {
    "scrolled": true
   },
   "outputs": [
    {
     "data": {
      "image/png": "[encoded data removed]",
      "text/plain": [
       "<Figure size 864x432 with 2 Axes>"
      ]
     },
     "metadata": {
      "needs_background": "light"
     },
     "output_type": "display_data"
    }
   ],
   "source": [
    "x = curve_L_result['phi']\n",
    "y = curve_L_result['theta']\n",
    "z = curve_L_result['lambda']\n",
    "\n",
    "x2 = x\n",
    "z2 = z\n",
    "y2 = y\n",
    "\n",
    "#x2 = x2[1:29]\n",
    "#y2 = y2[1:29]\n",
    "#z2 = z2[1:29]\n",
    "\n",
    "fig = plt.figure(figsize=(12, 6))\n",
    "#plt.scatter(x,y,edgecolors='none',s=marker_size,c=void_fraction,\n",
    "#                norm=matplotlib.colors.LogNorm())\n",
    "plt.scatter(y2, x2, cmap = 'jet', c =z2 ,marker='o', linewidths=5.0, norm=matplotlib.colors.LogNorm())\n",
    "#plt.ylim(0, 11)\n",
    "#plt.title('Com o Lamb = 0.005', fontsize=20)\n",
    "plt.ylabel('$\\phi(q)$', fontsize=20)\n",
    "plt.xlabel('$\\\\theta(p)$', fontsize=20)\n",
    "plt.xticks(np.linspace(0.0, y2.max(), 5), fontsize = 20)\n",
    "plt.yticks(np.linspace(0.0, x2.max(), 5), fontsize = 20)\n",
    "plt.colorbar()\n",
    "plt.grid()\n",
    "#plt.savefig(\"/home/romulo/my_project_dir/Inversao_magnetica/codes/tests/Dissertacao/Test_real/Morro_do_forno/Curva_L/Curva_L.pdf\", dpi=300, bbox_inches='tight')\n",
    "#plt.savefig(\"/home/romulo/my_project_dir/Inversao_magnetica/codes/tests/Dissertacao/Test_real/Morro_do_forno/Curva_L/Curva_L.png\", dpi=300, bbox_inches='tight')\n",
    "plt.show()"
   ]
  },
  {
   "cell_type": "code",
   "execution_count": null,
   "id": "ancient-convenience",
   "metadata": {},
   "outputs": [],
   "source": []
  },
  {
   "cell_type": "code",
   "execution_count": 40,
   "id": "talented-climb",
   "metadata": {},
   "outputs": [
    {
     "data": {
      "image/png": "[encoded data removed]",
      "text/plain": [
       "<Figure size 864x576 with 1 Axes>"
      ]
     },
     "metadata": {
      "needs_background": "light"
     },
     "output_type": "display_data"
    }
   ],
   "source": [
    "x_resume = curve_order_1['phi']\n",
    "y_resume = curve_order_1['theta']\n",
    "z_resume = curve_order_1['lambda']\n",
    "n_value = len(x_resume)\n",
    "#print(n_value)\n",
    "\n",
    "\n",
    "fig, ax = plt.subplots(figsize=(12,8))\n",
    "#plt.scatter(x,y,edgecolors='none',s=marker_size,c=void_fraction,\n",
    "#                norm=matplotlib.colors.LogNorm())\n",
    "plt.plot(y_resume, x_resume, '-ko', markeredgewidth=5, linewidth=0.5)\n",
    "#plt.text(1.0, 1.0, s = str(z_resume[0]), withdash=True, fontsize=12)\n",
    "#plt.scatter(y_resume, x_resume, cmap = 'gray', c =z_resume ,marker='o', linewidths=5.0, norm=matplotlib.colors.LogNorm())\n",
    "#plt.ylim(0, 11)\n",
    "#plt.title('Com o Lamb = 0.005', fontsize=20)\n",
    "plt.ylabel('$\\phi(q)$', fontsize=20)\n",
    "plt.xlabel('$\\\\theta(p)$', fontsize=20)\n",
    "plt.xticks(np.linspace(0.0, 0.45, 4), fontsize = 20)\n",
    "plt.yticks(np.linspace(0.0, 12, 4), fontsize = 20)\n",
    "#plt.colorbar()\n",
    "plt.grid()\n",
    "plt.ylim(0, 12)\n",
    "for index in range(n_value):\n",
    "    if z_resume[index] == 0.04700:\n",
    "        ax.text(y_resume[index]+0.003, x_resume[index]+0.5, '$\\lambda$=%.1e' % (z_resume[index]), size=18)\n",
    "        #plt.plot(y_resume[index], x_resume[index], '-ro', markeredgewidth=5)\n",
    "#plt.savefig(\"/home/romulo/my_project_dir/Inversao_magnetica/codes/tests/Dissertacao/Test_real/Morro_do_forno/Curva_L_teste_9_10_2022/Curva_L.pdf\", dpi=300, bbox_inches='tight')\n",
    "#plt.savefig(\"/home/romulo/my_project_dir/Inversao_magnetica/codes/tests/Dissertacao/Test_real/Morro_do_forno/Curva_L_teste_9_10_2022/Curva_L.png\", dpi=300, bbox_inches='tight')\n",
    "plt.show()"
   ]
  },
  {
   "cell_type": "code",
   "execution_count": null,
   "id": "judicial-garlic",
   "metadata": {},
   "outputs": [],
   "source": [
    "#figure = curve_L_result.plot.scatter(x= 'theta', y = 'phi', color ='lambda')\n"
   ]
  },
  {
   "cell_type": "code",
   "execution_count": null,
   "id": "disabled-constitution",
   "metadata": {},
   "outputs": [],
   "source": [
    "#figure"
   ]
  }
 ],
 "metadata": {
  "kernelspec": {
   "display_name": "Python 3 (ipykernel)",
   "language": "python",
   "name": "python3"
  },
  "language_info": {
   "codemirror_mode": {
    "name": "ipython",
    "version": 3
   },
   "file_extension": ".py",
   "mimetype": "text/x-python",
   "name": "python",
   "nbconvert_exporter": "python",
   "pygments_lexer": "ipython3",
   "version": "3.8.10"
  }
 },
 "nbformat": 4,
 "nbformat_minor": 5
}
