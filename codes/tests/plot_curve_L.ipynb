{
 "cells": [
  {
   "cell_type": "code",
   "execution_count": 1,
   "id": "brutal-newman",
   "metadata": {},
   "outputs": [],
   "source": [
    "import warnings\n",
    "\n",
    "import numpy as np\n",
    "\n",
    "warnings.filterwarnings(\"ignore\")\n",
    "import sys\n",
    "a = sys.path.append('../modules/')\n",
    "c = sys.path.append('../tests/')\n",
    "import os\n",
    "import pandas as pd"
   ]
  },
  {
   "cell_type": "code",
   "execution_count": 2,
   "id": "fewer-shift",
   "metadata": {},
   "outputs": [],
   "source": [
    "import Curve_L as cl"
   ]
  },
  {
   "cell_type": "code",
   "execution_count": 3,
   "id": "welcome-milton",
   "metadata": {},
   "outputs": [],
   "source": [
    "#result = cl.curve_L()\n"
   ]
  },
  {
   "cell_type": "code",
   "execution_count": 4,
   "id": "tested-battle",
   "metadata": {},
   "outputs": [
    {
     "data": {
      "text/plain": [
       "\"os.chdir('/home/romulo/my_project_dir/Inversao_magnetica/codes/tests/Dissertacao/Test_sintetico/Dique_vertical/Curva_L')\\nendereco = './test_sint_'\\nos.mkdir(endereco)\""
      ]
     },
     "execution_count": 4,
     "metadata": {},
     "output_type": "execute_result"
    }
   ],
   "source": [
    "'''os.chdir('/home/romulo/my_project_dir/Inversao_magnetica/codes/tests/Dissertacao/Test_sintetico/Dique_vertical/Curva_L')\n",
    "endereco = './test_sint_'\n",
    "os.mkdir(endereco)'''"
   ]
  },
  {
   "cell_type": "code",
   "execution_count": 5,
   "id": "indirect-medicare",
   "metadata": {},
   "outputs": [
    {
     "data": {
      "text/plain": [
       "\"header = ['phi', 'theta', 'lambda']\\ncurve_L_result = pd.DataFrame(data = result, columns = header)\\ncurve_L_result.to_csv('/home/romulo/my_project_dir/Inversao_magnetica/codes/tests/Dissertacao/Test_real/Morro_do_forno/Curva_L/result_2.csv', index = False, header = header)\""
      ]
     },
     "execution_count": 5,
     "metadata": {},
     "output_type": "execute_result"
    }
   ],
   "source": [
    "'''header = ['phi', 'theta', 'lambda']\n",
    "curve_L_result = pd.DataFrame(data = result, columns = header)\n",
    "curve_L_result.to_csv('/home/romulo/my_project_dir/Inversao_magnetica/codes/tests/Dissertacao/Test_real/Morro_do_forno/Curva_L/result_2.csv', index = False, header = header)'''"
   ]
  },
  {
   "cell_type": "code",
   "execution_count": 6,
   "id": "numerical-capacity",
   "metadata": {},
   "outputs": [],
   "source": [
    "#curve_L_result"
   ]
  },
  {
   "cell_type": "code",
   "execution_count": 7,
   "id": "blank-gibson",
   "metadata": {},
   "outputs": [
    {
     "data": {
      "text/plain": [
       "\"inv_curve_l = curve_L_result.sort_values(by = 'lambda', ascending=False)\\nprint(inv_curve_l)\""
      ]
     },
     "execution_count": 7,
     "metadata": {},
     "output_type": "execute_result"
    }
   ],
   "source": [
    "'''inv_curve_l = curve_L_result.sort_values(by = 'lambda', ascending=False)\n",
    "print(inv_curve_l)'''"
   ]
  },
  {
   "cell_type": "code",
   "execution_count": 9,
   "id": "surrounded-cardiff",
   "metadata": {},
   "outputs": [],
   "source": [
    "header = ['phi', 'theta', 'lambda']\n",
    "curve_L_result1 = pd.read_table('/home/romulo/my_project_dir/Inversao_magnetica/codes/tests/Dissertacao/Test_real/Morro_do_forno/Curva_L/result_1.csv', sep=',')\n",
    "curve_L_result2 = pd.read_table('/home/romulo/my_project_dir/Inversao_magnetica/codes/tests/Dissertacao/Test_real/Morro_do_forno/Curva_L/result_2.csv', sep=',')\n",
    "#curve_L_result3 = pd.read_table('/home/romulo/my_project_dir/Inversao_magnetica/codes/tests//Curva_L/test_arraial_real/test_arraial_real_1/result_3.cvs', sep=',')\n",
    "\n",
    "curve_L_result = pd.concat([curve_L_result1, curve_L_result2])"
   ]
  },
  {
   "cell_type": "code",
   "execution_count": 10,
   "id": "exterior-vulnerability",
   "metadata": {},
   "outputs": [],
   "source": [
    "#curve_L_result1 = pd.read_table('/home/romulo/my_project_dir/Inversao_magnetica/codes/tests/Dissertacao/Test_sintetico/Dique_vertical/Curva_L/test_sint_vertical/result_1.cvs', sep=',')\n",
    "#curve_L_result2 = pd.read_table('/home/romulo/my_project_dir/Inversao_magnetica/codes/tests/Dissertacao/Test_sintetico/Dique_vertical/Curva_L/test_sint_vertical/result_2.cvs', sep=',')"
   ]
  },
  {
   "cell_type": "code",
   "execution_count": 11,
   "id": "affiliated-institute",
   "metadata": {},
   "outputs": [
    {
     "data": {
      "text/html": [
       "<div>\n",
       "<style scoped>\n",
       "    .dataframe tbody tr th:only-of-type {\n",
       "        vertical-align: middle;\n",
       "    }\n",
       "\n",
       "    .dataframe tbody tr th {\n",
       "        vertical-align: top;\n",
       "    }\n",
       "\n",
       "    .dataframe thead th {\n",
       "        text-align: right;\n",
       "    }\n",
       "</style>\n",
       "<table border=\"1\" class=\"dataframe\">\n",
       "  <thead>\n",
       "    <tr style=\"text-align: right;\">\n",
       "      <th></th>\n",
       "      <th>phi</th>\n",
       "      <th>theta</th>\n",
       "      <th>lambda</th>\n",
       "    </tr>\n",
       "  </thead>\n",
       "  <tbody>\n",
       "    <tr>\n",
       "      <th>0</th>\n",
       "      <td>2.401511</td>\n",
       "      <td>0.023413</td>\n",
       "      <td>0.000008</td>\n",
       "    </tr>\n",
       "    <tr>\n",
       "      <th>1</th>\n",
       "      <td>2.573848</td>\n",
       "      <td>0.019651</td>\n",
       "      <td>0.000080</td>\n",
       "    </tr>\n",
       "    <tr>\n",
       "      <th>2</th>\n",
       "      <td>2.500391</td>\n",
       "      <td>0.020342</td>\n",
       "      <td>0.000800</td>\n",
       "    </tr>\n",
       "    <tr>\n",
       "      <th>3</th>\n",
       "      <td>2.541402</td>\n",
       "      <td>0.020859</td>\n",
       "      <td>0.008000</td>\n",
       "    </tr>\n",
       "    <tr>\n",
       "      <th>4</th>\n",
       "      <td>2.241125</td>\n",
       "      <td>0.025488</td>\n",
       "      <td>0.080000</td>\n",
       "    </tr>\n",
       "    <tr>\n",
       "      <th>5</th>\n",
       "      <td>2.148763</td>\n",
       "      <td>0.020521</td>\n",
       "      <td>0.800000</td>\n",
       "    </tr>\n",
       "    <tr>\n",
       "      <th>6</th>\n",
       "      <td>2.419586</td>\n",
       "      <td>0.015358</td>\n",
       "      <td>8.000000</td>\n",
       "    </tr>\n",
       "    <tr>\n",
       "      <th>7</th>\n",
       "      <td>4.410840</td>\n",
       "      <td>0.002822</td>\n",
       "      <td>80.000000</td>\n",
       "    </tr>\n",
       "    <tr>\n",
       "      <th>8</th>\n",
       "      <td>6.964015</td>\n",
       "      <td>0.000159</td>\n",
       "      <td>800.000000</td>\n",
       "    </tr>\n",
       "    <tr>\n",
       "      <th>9</th>\n",
       "      <td>8.529421</td>\n",
       "      <td>0.000027</td>\n",
       "      <td>8000.000000</td>\n",
       "    </tr>\n",
       "    <tr>\n",
       "      <th>0</th>\n",
       "      <td>2.466683</td>\n",
       "      <td>0.024664</td>\n",
       "      <td>0.000001</td>\n",
       "    </tr>\n",
       "    <tr>\n",
       "      <th>1</th>\n",
       "      <td>2.180871</td>\n",
       "      <td>0.012686</td>\n",
       "      <td>0.000013</td>\n",
       "    </tr>\n",
       "    <tr>\n",
       "      <th>2</th>\n",
       "      <td>2.891387</td>\n",
       "      <td>0.021066</td>\n",
       "      <td>0.000125</td>\n",
       "    </tr>\n",
       "    <tr>\n",
       "      <th>3</th>\n",
       "      <td>2.488955</td>\n",
       "      <td>0.016210</td>\n",
       "      <td>0.001250</td>\n",
       "    </tr>\n",
       "    <tr>\n",
       "      <th>4</th>\n",
       "      <td>2.702390</td>\n",
       "      <td>0.040785</td>\n",
       "      <td>0.012500</td>\n",
       "    </tr>\n",
       "    <tr>\n",
       "      <th>5</th>\n",
       "      <td>2.322864</td>\n",
       "      <td>0.013866</td>\n",
       "      <td>0.125000</td>\n",
       "    </tr>\n",
       "    <tr>\n",
       "      <th>6</th>\n",
       "      <td>2.418404</td>\n",
       "      <td>0.014215</td>\n",
       "      <td>1.250000</td>\n",
       "    </tr>\n",
       "    <tr>\n",
       "      <th>7</th>\n",
       "      <td>3.711676</td>\n",
       "      <td>0.009436</td>\n",
       "      <td>12.500000</td>\n",
       "    </tr>\n",
       "    <tr>\n",
       "      <th>8</th>\n",
       "      <td>4.939951</td>\n",
       "      <td>0.000180</td>\n",
       "      <td>125.000000</td>\n",
       "    </tr>\n",
       "    <tr>\n",
       "      <th>9</th>\n",
       "      <td>5.844625</td>\n",
       "      <td>0.000073</td>\n",
       "      <td>1250.000000</td>\n",
       "    </tr>\n",
       "  </tbody>\n",
       "</table>\n",
       "</div>"
      ],
      "text/plain": [
       "        phi     theta       lambda\n",
       "0  2.401511  0.023413     0.000008\n",
       "1  2.573848  0.019651     0.000080\n",
       "2  2.500391  0.020342     0.000800\n",
       "3  2.541402  0.020859     0.008000\n",
       "4  2.241125  0.025488     0.080000\n",
       "5  2.148763  0.020521     0.800000\n",
       "6  2.419586  0.015358     8.000000\n",
       "7  4.410840  0.002822    80.000000\n",
       "8  6.964015  0.000159   800.000000\n",
       "9  8.529421  0.000027  8000.000000\n",
       "0  2.466683  0.024664     0.000001\n",
       "1  2.180871  0.012686     0.000013\n",
       "2  2.891387  0.021066     0.000125\n",
       "3  2.488955  0.016210     0.001250\n",
       "4  2.702390  0.040785     0.012500\n",
       "5  2.322864  0.013866     0.125000\n",
       "6  2.418404  0.014215     1.250000\n",
       "7  3.711676  0.009436    12.500000\n",
       "8  4.939951  0.000180   125.000000\n",
       "9  5.844625  0.000073  1250.000000"
      ]
     },
     "execution_count": 11,
     "metadata": {},
     "output_type": "execute_result"
    }
   ],
   "source": [
    "curve_L_result"
   ]
  },
  {
   "cell_type": "code",
   "execution_count": 12,
   "id": "partial-dryer",
   "metadata": {},
   "outputs": [],
   "source": [
    "import matplotlib.pyplot as plt\n",
    "import matplotlib"
   ]
  },
  {
   "cell_type": "code",
   "execution_count": 13,
   "id": "judicial-laser",
   "metadata": {},
   "outputs": [
    {
     "data": {
      "text/plain": [
       "'pd.options.plotting.backend = \"plotly\"'"
      ]
     },
     "execution_count": 13,
     "metadata": {},
     "output_type": "execute_result"
    }
   ],
   "source": [
    "'''pd.options.plotting.backend = \"plotly\"'''"
   ]
  },
  {
   "cell_type": "code",
   "execution_count": 16,
   "id": "stopped-giving",
   "metadata": {
    "scrolled": true
   },
   "outputs": [
    {
     "data": {
      "image/png": "[encoded data removed]",
      "text/plain": [
       "<Figure size 864x432 with 2 Axes>"
      ]
     },
     "metadata": {
      "needs_background": "light"
     },
     "output_type": "display_data"
    }
   ],
   "source": [
    "x = curve_L_result['phi']\n",
    "y = curve_L_result['theta']\n",
    "z = curve_L_result['lambda']\n",
    "\n",
    "x2 = x\n",
    "z2 = z\n",
    "y2 = y\n",
    "\n",
    "#x2 = x2[1:29]\n",
    "#y2 = y2[1:29]\n",
    "#z2 = z2[1:29]\n",
    "\n",
    "fig = plt.figure(figsize=(12, 6))\n",
    "#plt.scatter(x,y,edgecolors='none',s=marker_size,c=void_fraction,\n",
    "#                norm=matplotlib.colors.LogNorm())\n",
    "plt.scatter(y2, x2, cmap = 'jet', c =z2 ,marker='o', linewidths=5.0, norm=matplotlib.colors.LogNorm())\n",
    "#plt.ylim(0, 11)\n",
    "#plt.title('Com o Lamb = 0.005', fontsize=20)\n",
    "plt.ylabel('$\\phi(q)$', fontsize=20)\n",
    "plt.xlabel('$\\\\theta(p)$', fontsize=20)\n",
    "plt.xticks(np.linspace(0.0, y2.max(), 5), fontsize = 20)\n",
    "plt.yticks(np.linspace(0.0, x2.max(), 5), fontsize = 20)\n",
    "plt.colorbar()\n",
    "plt.grid()\n",
    "#plt.savefig(\"/home/romulo/my_project_dir/Inversao_magnetica/codes/tests/Dissertacao/Test_real/Morro_do_forno/Curva_L/Curva_L.pdf\", dpi=300, bbox_inches='tight')\n",
    "#plt.savefig(\"/home/romulo/my_project_dir/Inversao_magnetica/codes/tests/Dissertacao/Test_real/Morro_do_forno/Curva_L/Curva_L.png\", dpi=300, bbox_inches='tight')\n",
    "plt.show()"
   ]
  },
  {
   "cell_type": "code",
   "execution_count": null,
   "id": "judicial-garlic",
   "metadata": {},
   "outputs": [],
   "source": [
    "#figure = curve_L_result.plot.scatter(x= 'theta', y = 'phi', color ='lambda')\n"
   ]
  },
  {
   "cell_type": "code",
   "execution_count": null,
   "id": "disabled-constitution",
   "metadata": {},
   "outputs": [],
   "source": [
    "#figure"
   ]
  },
  {
   "cell_type": "code",
   "execution_count": null,
   "id": "intelligent-copyright",
   "metadata": {},
   "outputs": [],
   "source": []
  }
 ],
 "metadata": {
  "kernelspec": {
   "display_name": "Python 3 (ipykernel)",
   "language": "python",
   "name": "python3"
  },
  "language_info": {
   "codemirror_mode": {
    "name": "ipython",
    "version": 3
   },
   "file_extension": ".py",
   "mimetype": "text/x-python",
   "name": "python",
   "nbconvert_exporter": "python",
   "pygments_lexer": "ipython3",
   "version": "3.8.10"
  }
 },
 "nbformat": 4,
 "nbformat_minor": 5
}
