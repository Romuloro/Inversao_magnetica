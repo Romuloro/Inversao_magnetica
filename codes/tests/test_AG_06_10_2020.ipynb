{
 "cells": [
  {
   "cell_type": "code",
   "execution_count": 1,
   "metadata": {},
   "outputs": [],
   "source": [
    "import numpy as np\n",
    "import random\n",
    "import sys\n",
    "import matplotlib.pyplot as plt\n",
    "import pandas as pd\n",
    "import time\n",
    "from numba import jit\n",
    "from numba.typed import List\n",
    "a = sys.path.append('../modules/')\n",
    "import plot_3D, auxiliars, salve_doc, sphere, sample_random, Operators_array, aux_operators_array, graphs_and_dist"
   ]
  },
  {
   "cell_type": "code",
   "execution_count": 2,
   "metadata": {
    "scrolled": true
   },
   "outputs": [
    {
     "data": {
      "image/png": "[encoded data removed]",
      "text/plain": [
       "<Figure size 864x864 with 1 Axes>"
      ]
     },
     "metadata": {
      "needs_background": "light"
     },
     "output_type": "display_data"
    }
   ],
   "source": [
    "acquisition = {'nx': 100,\n",
    "                  'ny': 100,\n",
    "                  'xmin': -5000,\n",
    "                  'xmax': 5000,\n",
    "                  'ymin': -5000,\n",
    "                  'ymax': 5000,\n",
    "                  'z': -100.0,\n",
    "                  'color': '.r'}\n",
    "\n",
    "x, y, X, Y, Z = plot_3D.create_aquisicao(**acquisition)\n",
    "\n",
    "data_cubo = pd.read_table('Logfile/20_09_2020_11_26/data_mag.cvs', sep =',')\n",
    "anomaly_cubo = np.reshape(np.array(data_cubo['Anomalia Magnética(nT)']), (100,100))"
   ]
  },
  {
   "cell_type": "markdown",
   "metadata": {},
   "source": [
    "## Create Population"
   ]
  },
  {
   "cell_type": "code",
   "execution_count": 13,
   "metadata": {},
   "outputs": [],
   "source": [
    "population = {'xmax': 5000.0,\n",
    "                'xmin': -5000.0,\n",
    "                'ymax': 5000.0,\n",
    "                'ymin': -5000.0,\n",
    "                'zlim': 1400.0,\n",
    "                'z_min': 600.0,\n",
    "                'n_dip': 10,\n",
    "                'n_pop': 20,\n",
    "                'inclmax': -40.0,\n",
    "                'inclmin': -20.0,\n",
    "                'declmax': -20.0,\n",
    "                'declmin': 0.0,\n",
    "                'mmax': 5.0,\n",
    "                'mmin': 0.5,\n",
    "                'homogeneo': True\n",
    "                }\n",
    "I, D = -30.0, -23.0\n",
    "\n",
    "filhos_mut = {'xmax': 5000.0,\n",
    "                'xmin': -5000.0,\n",
    "                'ymax': 5000.0,\n",
    "                'ymin': -5000.0,\n",
    "                'zlim': 1500.0,\n",
    "                'z_min': 500.0,\n",
    "                'n': 1,\n",
    "                'inclmax': -40.0,\n",
    "                'inclmin': -20.0,\n",
    "                'declmax': -20.0,\n",
    "                'declmin': 0.0,\n",
    "                'magmax': 5.0,\n",
    "                'magmin': 0.5,\n",
    "                'homogeneo': True\n",
    "                }\n"
   ]
  },
  {
   "cell_type": "code",
   "execution_count": 4,
   "metadata": {},
   "outputs": [],
   "source": [
    "def create_population_array(xmax, xmin, ymax, ymin, zlim, z_min, inclmax, inclmin, declmax, declmin, magmax, magmin, n_dip, n_pop, homogeneo):\n",
    "    \"\"\"\n",
    "    Função com o objetivo de criar uma população com n indivíduos randômicos, que estaram de acordo com os parâmetros\n",
    "    escolhidos.\n",
    "\n",
    "    :param xmax: O valor máximo da coordenada X.\n",
    "    :param ymax: O valor máximo da coordenada Y.\n",
    "    :param zlim: O valor máximo da coordenada Z.\n",
    "    :param xmin: O valor minímo da coordenada X.\n",
    "    :param ymin: O valor minímo da coordenada Y.\n",
    "    :param z_min: O valor minímo da coordenada Z.\n",
    "    :param n_pop: O número de indivíduos desejados na população.\n",
    "    :param n_dip: O número de dipolos desejados para cada indivíduo.\n",
    "    :param inclmax: Valor máximo da inclianção magnética.\n",
    "    :param inclmin: Valor mínimo da inclianção magnética.\n",
    "    :param declmax: Valor máximo da inclianção magnética.\n",
    "    :param declmin: Valor mínimo da declianção magnética.\n",
    "    :param magmax: Valor máximo da magnetização.\n",
    "    :param magmin: Valor mínimo da magnetização.\n",
    "    :param homogeneo: True para valores de inclinação, declinação e magnetização iguais para as n dipolos.\n",
    "                      False é a opção default, onde os valores de inclinação, declinação e magnetização é criada de\n",
    "                      forma randômica.\n",
    "\n",
    "    :return pop: Lista com n indivíduos/dipolos criados de forma randômica.\n",
    "    \"\"\"\n",
    "    if n_pop >= 10:\n",
    "        pop = []\n",
    "        n_par = 3\n",
    "        for j in range(n_pop):\n",
    "            cood = np.zeros((n_dip+1, n_par))\n",
    "            coodX, coodY, coodZ = sample_random.sample_random_coordinated(xmax, xmin, ymax, ymin, zlim, z_min, n_dip)\n",
    "            incl, decl, mag = sample_random.sample_random_mag(inclmax, inclmin, declmax, declmin, magmax, magmin, 1, homogeneo)\n",
    "            for i in range(n_dip):\n",
    "                cood[i][0], cood[i][1], cood[i][2] = coodX[i], coodY[i], coodZ[i]\n",
    "            cood[n_dip][0], cood[n_dip][1], cood[n_dip][2] = incl[0], decl[0], mag[0] \n",
    "            pop.append(cood)    \n",
    "        return pop\n",
    "    else:\n",
    "        return print('Por favor. Coloque o número de indivíduos maior ou igual a 10')\n"
   ]
  },
  {
   "cell_type": "code",
   "execution_count": 5,
   "metadata": {},
   "outputs": [],
   "source": [
    "pop = create_population_array(**population)"
   ]
  },
  {
   "cell_type": "code",
   "execution_count": 6,
   "metadata": {},
   "outputs": [
    {
     "name": "stdout",
     "output_type": "stream",
     "text": [
      "[array([[-4.02670990e+03,  5.45539141e+02,  8.51624890e+02],\n",
      "       [ 2.55841523e+03,  9.56840153e+00,  8.19496981e+02],\n",
      "       [ 3.71492822e+03,  4.03825647e+03,  6.35988850e+02],\n",
      "       [ 4.28760659e+03,  4.03945621e+03,  1.16922107e+03],\n",
      "       [ 1.13604272e+03,  4.21433160e+03,  1.18320184e+03],\n",
      "       [ 3.23246218e+03, -3.30014497e+02,  1.26910731e+03],\n",
      "       [ 1.82742494e+03,  3.84675208e+03,  1.26975836e+03],\n",
      "       [ 3.01233371e+03, -4.48407944e+03,  1.29232105e+03],\n",
      "       [-4.75464684e+03,  2.36648742e+03,  9.10580996e+02],\n",
      "       [ 1.13270909e+03,  2.08273729e+02,  1.37509773e+03],\n",
      "       [-2.33395909e+01, -7.12747018e+00,  4.69740300e+00]]), array([[ 3.71972063e+03,  1.01093147e+03,  7.96098133e+02],\n",
      "       [ 2.70966943e+03,  2.62514157e+03,  6.56201392e+02],\n",
      "       [ 2.94812988e+03,  4.16880015e+03,  9.52861854e+02],\n",
      "       [ 3.10664994e+03, -1.75371372e+03,  1.28756406e+03],\n",
      "       [-4.97498583e+03,  1.64002103e+03,  1.24764807e+03],\n",
      "       [ 3.69101777e+03, -3.01756746e+02,  1.33234254e+03],\n",
      "       [-4.93926282e+03, -3.38373141e+02,  1.25661850e+03],\n",
      "       [-3.29074326e+02,  2.63970663e+03,  9.30104358e+02],\n",
      "       [ 3.91677329e+03,  2.93217144e+03,  1.02439446e+03],\n",
      "       [-3.87442546e+03,  3.77907700e+03,  6.45039626e+02],\n",
      "       [-2.82033633e+01, -1.65751935e+01,  1.23761913e+00]]), array([[-5.75377413e+02,  1.72296701e+03,  8.38981192e+02],\n",
      "       [ 4.27129026e+03,  4.72428739e+03,  1.05656058e+03],\n",
      "       [-4.60761808e+03, -4.95550276e+03,  1.23850549e+03],\n",
      "       [ 7.79600409e+02, -1.71978326e+03,  9.06596903e+02],\n",
      "       [ 4.62763832e+01,  2.42907089e+03,  1.19682099e+03],\n",
      "       [ 1.12550679e+03, -2.42831689e+03,  9.14146000e+02],\n",
      "       [ 3.90434237e+03,  1.02225194e+03,  7.91050708e+02],\n",
      "       [-4.39766203e+01, -2.41315521e+03,  1.26085217e+03],\n",
      "       [ 2.03352113e+03,  2.73072581e+03,  1.35818423e+03],\n",
      "       [-1.24380834e+03, -9.21142647e+02,  9.05761345e+02],\n",
      "       [-2.34012349e+01, -5.73188662e-01,  3.91251845e+00]]), array([[-2.77680602e+03, -3.80682495e+02,  1.33478307e+03],\n",
      "       [ 2.88971902e+03, -2.07092644e+03,  6.70685909e+02],\n",
      "       [ 2.84755731e+02,  9.88782476e+02,  1.25576410e+03],\n",
      "       [ 3.40763390e+03, -2.97547064e+03,  9.17731641e+02],\n",
      "       [ 1.10683876e+03, -4.07671333e+03,  1.14349467e+03],\n",
      "       [-4.91374489e+03, -3.96538508e+03,  1.36206054e+03],\n",
      "       [ 4.77190475e+03, -3.90054769e+03,  6.93174164e+02],\n",
      "       [-4.85837105e+03, -2.28624502e+03,  6.76193667e+02],\n",
      "       [-3.58312562e+03,  4.07132372e+03,  6.64072409e+02],\n",
      "       [-6.23815638e+02,  1.82152868e+03,  1.09351728e+03],\n",
      "       [-3.55818505e+01, -1.20969990e+01,  5.42696626e-01]]), array([[ 4.41765668e+03, -2.71021676e+03,  7.61431558e+02],\n",
      "       [-4.39633124e+02,  2.40034383e+03,  1.35705616e+03],\n",
      "       [ 3.41787529e+02, -2.55146336e+03,  1.09382652e+03],\n",
      "       [-4.00405081e+03, -4.56322453e+03,  1.36915445e+03],\n",
      "       [ 4.03068719e+02, -3.69571337e+03,  1.38552637e+03],\n",
      "       [-3.14082758e+03,  1.82110178e+03,  9.90873211e+02],\n",
      "       [ 2.47745343e+03, -2.47041211e+03,  1.01149706e+03],\n",
      "       [-4.98904013e+03,  2.04127938e+03,  1.25802544e+03],\n",
      "       [ 3.46286952e+03, -1.34694234e+03,  1.33757885e+03],\n",
      "       [ 3.80184560e+03, -2.93732740e+03,  1.34540123e+03],\n",
      "       [-3.99492730e+01, -1.92442537e+01,  4.71694432e+00]]), array([[-8.97356112e+02, -1.11853124e+03,  1.14045699e+03],\n",
      "       [-2.21061598e+03, -1.39718833e+03,  1.28425262e+03],\n",
      "       [-2.94655998e+02, -3.84725481e+03,  6.54489557e+02],\n",
      "       [-4.11750393e+03, -3.73881770e+03,  1.31141860e+03],\n",
      "       [-3.03427908e+03,  2.57323992e+03,  9.40269053e+02],\n",
      "       [-4.05822869e+03,  1.06630066e+03,  1.10070260e+03],\n",
      "       [ 4.94257365e+03,  6.89754259e+02,  1.26215856e+03],\n",
      "       [-1.14213957e+03, -7.79626893e+01,  1.11863331e+03],\n",
      "       [ 9.01556498e+02,  2.52976397e+03,  1.30184985e+03],\n",
      "       [ 8.43753985e+02, -4.97075467e+03,  1.18243410e+03],\n",
      "       [-2.80704800e+01, -3.93458387e+00,  1.03014094e+00]]), array([[-1.82607689e+02,  7.30511824e+02,  1.20149319e+03],\n",
      "       [-3.43650986e+03, -2.48189045e+03,  6.29486956e+02],\n",
      "       [-4.07168950e+03, -9.68395912e+02,  1.33476309e+03],\n",
      "       [ 4.87595430e+03, -3.14889333e+02,  8.22501288e+02],\n",
      "       [-1.98381332e+03,  1.43339483e+02,  1.04757458e+03],\n",
      "       [ 4.33381718e+03, -2.01423156e+03,  1.37085775e+03],\n",
      "       [ 1.33178353e+03, -3.29364705e+03,  1.02115650e+03],\n",
      "       [ 3.49737288e+03,  5.50309454e+02,  1.37801398e+03],\n",
      "       [ 3.71365176e+03, -6.95924188e+02,  1.09473692e+03],\n",
      "       [-4.56130686e+03,  3.54972670e+02,  7.48873986e+02],\n",
      "       [-2.08271963e+01, -1.63489693e+01,  4.79841868e+00]]), array([[-3.95539307e+02,  1.83456200e+03,  7.83170296e+02],\n",
      "       [-3.26742183e+03, -1.18664099e+02,  9.62160561e+02],\n",
      "       [-4.09716769e+03, -4.71862850e+03,  7.35272474e+02],\n",
      "       [-2.48850479e+03,  3.75388061e+03,  1.01870621e+03],\n",
      "       [-3.09524751e+03,  1.32688084e+03,  9.98621572e+02],\n",
      "       [-4.13888236e+03, -4.65543427e+03,  1.23943031e+03],\n",
      "       [ 1.55088150e+03, -4.06895242e+03,  9.33368080e+02],\n",
      "       [ 4.10035016e+02, -1.69040479e+03,  1.29072230e+03],\n",
      "       [-6.16557000e+02, -1.18405572e+03,  8.52917555e+02],\n",
      "       [ 3.18675511e+03, -3.70282443e+02,  9.52050810e+02],\n",
      "       [-3.23268393e+01, -9.81222162e+00,  1.31517454e+00]]), array([[-5.88570158e+02, -1.74576777e+03,  1.11434029e+03],\n",
      "       [ 2.68256412e+03,  1.25171706e+03,  6.73414414e+02],\n",
      "       [ 4.74539121e+03, -2.73985715e+03,  1.25496407e+03],\n",
      "       [ 3.54641869e+02, -3.47409057e+03,  1.14959793e+03],\n",
      "       [-4.62709508e+03,  3.67924619e+03,  7.40817079e+02],\n",
      "       [ 1.00686504e+03,  7.58549391e+02,  1.05701440e+03],\n",
      "       [-2.51073102e+03, -4.47790556e+03,  9.17226840e+02],\n",
      "       [-3.33371287e+03, -1.30474935e+02,  1.20836761e+03],\n",
      "       [-3.87705931e+03,  2.46754344e+03,  1.23550108e+03],\n",
      "       [-6.49091067e+00,  8.30258676e+02,  9.76715524e+02],\n",
      "       [-2.35148529e+01, -2.45743554e+00,  3.76932065e+00]]), array([[-3.37625326e+03, -1.46970785e+03,  8.86570125e+02],\n",
      "       [-3.46532359e+03, -4.64817262e+03,  1.20071185e+03],\n",
      "       [-4.31800208e+03,  4.36786800e+03,  9.50489677e+02],\n",
      "       [ 2.73342953e+03, -2.54438334e+02,  8.19616159e+02],\n",
      "       [ 2.10045152e+03,  3.44900683e+03,  1.36499197e+03],\n",
      "       [-1.80272417e+03,  4.06143929e+03,  9.88255767e+02],\n",
      "       [ 3.30362911e+03,  1.77448662e+03,  1.09018949e+03],\n",
      "       [-2.20299555e+03, -3.29551392e+03,  7.51345475e+02],\n",
      "       [-3.48670573e+03,  3.97798716e+02,  9.76123738e+02],\n",
      "       [-4.93371604e+02,  3.78027275e+03,  9.50191880e+02],\n",
      "       [-2.79274861e+01, -3.29411564e+00,  3.35355497e+00]]), array([[ 4.18582720e+03, -5.03152957e+02,  1.25842469e+03],\n",
      "       [-1.51725343e+03,  1.16437266e+03,  6.21361633e+02],\n",
      "       [ 2.26972923e+03, -4.40028763e+03,  9.43671492e+02],\n",
      "       [ 1.62402023e+03,  1.81738682e+03,  1.34494194e+03],\n",
      "       [ 1.29316255e+03,  3.84886099e+02,  1.05116205e+03],\n",
      "       [-1.84909437e+03, -1.62830351e+03,  1.38974124e+03],\n",
      "       [ 4.20746069e+03,  2.09541647e+03,  1.28699839e+03],\n",
      "       [-4.93847679e+02,  1.88378164e+03,  6.99494772e+02],\n",
      "       [ 2.59995167e+03, -3.66458887e+03,  1.32103559e+03],\n",
      "       [ 3.51545879e+03,  1.65176501e+03,  1.08413627e+03],\n",
      "       [-3.13957787e+01, -1.43037891e+01,  2.27033062e+00]]), array([[-3.09100657e+03, -5.79846962e+02,  6.42135380e+02],\n",
      "       [ 1.26147244e+03, -1.38625250e+03,  6.98045342e+02],\n",
      "       [-4.64273960e+03, -2.07134591e+03,  7.09683281e+02],\n",
      "       [ 3.47125605e+03,  4.44519287e+03,  8.40148168e+02],\n",
      "       [ 2.35961583e+03,  1.23447914e+02,  1.30964058e+03],\n",
      "       [ 3.34383501e+03,  3.82044473e+03,  1.08336219e+03],\n",
      "       [ 1.31660028e+03,  9.08661638e+02,  1.24545517e+03],\n",
      "       [-2.55483795e+03,  3.57172634e+03,  1.09171394e+03],\n",
      "       [-2.10424721e+03, -2.73592718e+03,  7.48623115e+02],\n",
      "       [-4.52931448e+03,  3.81119117e+03,  1.23087752e+03],\n",
      "       [-2.26862855e+01, -1.11981682e+00,  1.35328008e+00]]), array([[ 4.73733224e+03, -4.11490538e+03,  9.27832995e+02],\n",
      "       [-9.46558906e+02, -4.74432045e+03,  7.32500896e+02],\n",
      "       [-1.69144086e+03, -6.74878711e+02,  1.17434586e+03],\n",
      "       [-1.48100133e+03,  6.15235749e+02,  1.24897041e+03],\n",
      "       [ 1.04913662e+03, -1.92372285e+03,  9.75319814e+02],\n",
      "       [ 3.21984849e+03,  4.07846189e+03,  1.33016316e+03],\n",
      "       [ 4.24608076e+03,  2.73667802e+03,  1.14432247e+03],\n",
      "       [-7.85185213e+02, -4.07141667e+03,  1.00540695e+03],\n",
      "       [-1.60830110e+03, -9.71506004e+01,  1.32820242e+03],\n",
      "       [ 2.30303228e+03, -2.28554012e+03,  9.91328722e+02],\n",
      "       [-2.43907312e+01, -1.51834285e+01,  2.20653514e+00]]), array([[-2.62551846e+03,  2.65970452e+03,  9.97541517e+02],\n",
      "       [-4.43580899e+03, -4.38426006e+03,  6.33847815e+02],\n",
      "       [-1.56535734e+03,  1.14575123e+02,  1.11263746e+03],\n",
      "       [ 2.21371342e+03,  1.42460537e+03,  9.09819926e+02],\n",
      "       [-2.77117196e+03, -4.93278577e+03,  1.18014393e+03],\n",
      "       [ 4.65978445e+03, -3.96241766e+03,  1.22690219e+03],\n",
      "       [ 6.50601313e+02,  1.77632692e+03,  1.29258409e+03],\n",
      "       [ 2.88132655e+03, -1.55083046e+03,  1.26773116e+03],\n",
      "       [ 1.69646098e+02,  1.71896487e+03,  7.97134382e+02],\n",
      "       [-2.77548310e+03, -3.04950306e+02,  6.15697326e+02],\n",
      "       [-3.72829658e+01, -3.43191725e+00,  3.71203476e+00]]), array([[-3.19746888e+03, -3.00575804e+03,  1.19332916e+03],\n",
      "       [ 3.42008489e+03, -1.47192776e+03,  6.44176886e+02],\n",
      "       [ 2.49399548e+03, -1.95541822e+02,  8.48140939e+02],\n",
      "       [ 1.14226205e+03, -1.46842126e+03,  9.56218439e+02],\n",
      "       [ 2.89852724e+03, -4.12941864e+03,  7.18239950e+02],\n",
      "       [ 5.78799282e+02,  4.82118257e+03,  9.57286046e+02],\n",
      "       [-3.94118523e+03, -3.10166489e+03,  1.15313621e+03],\n",
      "       [ 2.17557227e+03,  5.65930642e+02,  1.37390412e+03],\n",
      "       [-4.51517720e+03,  2.20896670e+03,  9.94973166e+02],\n",
      "       [-2.01318460e+03,  2.61256478e+03,  1.18566155e+03],\n",
      "       [-2.31401868e+01, -1.40601258e+01,  1.70883346e+00]]), array([[-3.05507962e+03,  2.77077233e+03,  7.94522949e+02],\n",
      "       [ 2.04616499e+03,  3.64666002e+03,  1.28268410e+03],\n",
      "       [-4.42841835e+03, -4.62075265e+03,  6.12404460e+02],\n",
      "       [ 2.22675503e+03,  4.03961857e+03,  9.55031547e+02],\n",
      "       [ 2.01616363e+02, -1.66451392e+03,  9.18499133e+02],\n",
      "       [-4.40045860e+02,  1.25950443e+03,  6.51432680e+02],\n",
      "       [ 3.74687222e+03,  3.10037736e+03,  1.37571100e+03],\n",
      "       [-2.61956351e+03, -1.81959123e+03,  7.59671008e+02],\n",
      "       [-1.78183076e+03, -2.34192189e+03,  1.19075570e+03],\n",
      "       [-7.56689736e+02, -3.16515887e+03,  1.04217049e+03],\n",
      "       [-3.06072040e+01, -1.36395998e+01,  2.42510046e+00]]), array([[-3.21438547e+03,  4.86706543e+03,  1.08449399e+03],\n",
      "       [-4.21949138e+03,  2.28084363e+03,  7.73049592e+02],\n",
      "       [-1.70095204e+03,  4.32152307e+03,  1.37844896e+03],\n",
      "       [-3.64644421e+03,  1.92392262e+03,  1.19297203e+03],\n",
      "       [ 1.60194101e+03, -3.99794086e+03,  1.21127013e+03],\n",
      "       [ 2.60352686e+03,  2.74920446e+03,  9.14981028e+02],\n",
      "       [ 4.44188487e+03, -4.05413517e+03,  1.04376103e+03],\n",
      "       [ 3.80896498e+03,  3.45424885e+02,  8.75766038e+02],\n",
      "       [-8.52598858e+02,  1.35933515e+02,  1.25180584e+03],\n",
      "       [-1.63165810e+03,  4.80193615e+03,  1.19625609e+03],\n",
      "       [-2.71315302e+01, -1.12060788e+01,  3.72673532e+00]]), array([[-5.80592442e+02, -3.34216053e+03,  8.91473507e+02],\n",
      "       [ 4.69205106e+03, -1.25536112e+03,  1.14325614e+03],\n",
      "       [ 1.95739621e+03, -6.04574833e+02,  1.24949257e+03],\n",
      "       [ 3.56253646e+03,  3.28698883e+03,  1.12578245e+03],\n",
      "       [-7.80078580e+02,  2.72347777e+03,  9.81175529e+02],\n",
      "       [-2.03363791e+03,  3.36832399e+03,  1.39434984e+03],\n",
      "       [ 9.18728279e+02,  3.03119994e+03,  8.76436620e+02],\n",
      "       [ 4.75786627e+03, -4.04087904e+03,  7.26282146e+02],\n",
      "       [-2.75576721e+03,  3.15425901e+02,  1.13143846e+03],\n",
      "       [-3.61858433e+03,  2.59167494e+03,  1.24335891e+03],\n",
      "       [-3.67860483e+01, -4.44593613e+00,  3.99058678e+00]]), array([[-1.91556062e+03,  2.94606591e+03,  7.21671657e+02],\n",
      "       [ 3.61069531e+03,  2.38923820e+03,  6.48807320e+02],\n",
      "       [-2.43802601e+03,  4.51407905e+02,  7.08304770e+02],\n",
      "       [-1.90927556e+03,  2.96232453e+03,  7.10881036e+02],\n",
      "       [ 3.80295738e+03,  3.53646938e+03,  7.11542689e+02],\n",
      "       [ 4.22378365e+03, -4.85935783e+03,  1.18349859e+03],\n",
      "       [ 8.37528544e+02,  2.86406902e+03,  1.31678503e+03],\n",
      "       [-4.49397450e+03,  1.94641966e+03,  1.30448731e+03],\n",
      "       [-4.65794958e+03, -1.58436922e+03,  1.38311443e+03],\n",
      "       [ 1.80500627e+03, -2.05817576e+03,  1.24464996e+03],\n",
      "       [-3.39261409e+01, -1.10756612e+01,  4.78558832e+00]]), array([[-2.28925129e+03, -4.20418870e+02,  6.43501779e+02],\n",
      "       [ 3.45366441e+03, -4.93952685e+03,  1.32708654e+03],\n",
      "       [-4.80394393e+03,  2.77367188e+03,  8.96816209e+02],\n",
      "       [-1.81489837e+03, -2.89081043e+03,  1.34596002e+03],\n",
      "       [ 2.29809404e+03,  8.87592019e+02,  1.00662052e+03],\n",
      "       [ 2.85753116e+03,  1.94595892e+03,  8.35999835e+02],\n",
      "       [ 4.82741672e+02,  2.08364340e+03,  7.40298194e+02],\n",
      "       [-1.46631354e+03, -4.73497914e+03,  7.02765779e+02],\n",
      "       [-1.06604398e+03,  3.00782304e+03,  9.16060837e+02],\n",
      "       [-4.84291014e+03,  4.71340076e+03,  1.22142910e+03],\n",
      "       [-3.80856719e+01, -6.55831215e+00,  8.21001767e-01]])]\n"
     ]
    }
   ],
   "source": [
    "print(pop)"
   ]
  },
  {
   "cell_type": "code",
   "execution_count": 7,
   "metadata": {},
   "outputs": [
    {
     "name": "stdout",
     "output_type": "stream",
     "text": [
      "11\n",
      "-23.339590853640463\n",
      "-4026.709902651503\n"
     ]
    }
   ],
   "source": [
    "print(len(pop[0]))\n",
    "incl = pop[0][len(pop[0])-1, 0]\n",
    "x_ = pop[0][0, 0]\n",
    "print(incl)\n",
    "print(x_)"
   ]
  },
  {
   "cell_type": "code",
   "execution_count": 8,
   "metadata": {},
   "outputs": [
    {
     "name": "stdout",
     "output_type": "stream",
     "text": [
      "2.19 ms ± 378 µs per loop (mean ± std. dev. of 7 runs, 100 loops each)\n"
     ]
    }
   ],
   "source": [
    "%timeit create_population_array(**population)"
   ]
  },
  {
   "cell_type": "code",
   "execution_count": 14,
   "metadata": {},
   "outputs": [
    {
     "name": "stdout",
     "output_type": "stream",
     "text": [
      "99.2 µs ± 19.5 µs per loop (mean ± std. dev. of 7 runs, 1 loop each)\n"
     ]
    }
   ],
   "source": [
    "%timeit Operators_array.create_population(**population)"
   ]
  },
  {
   "cell_type": "markdown",
   "metadata": {},
   "source": [
    "## Fit"
   ]
  },
  {
   "cell_type": "code",
   "execution_count": null,
   "metadata": {},
   "outputs": [],
   "source": [
    "def sphere_all(x, y, z, sphere, radius, mag, incs, decs):\n",
    "\n",
    "    '''    \n",
    "    It is a Python implementation for a Fortran subroutine contained in Blakely (1995). It \n",
    "    computes the Z component of the magnetic induction caused by a sphere with uniform  \n",
    "    distribution of magnetization. The direction X represents the north and Z represents \n",
    "    growth downward. This function receives the coordinates of the points of observation \n",
    "    (X, Y, Z - arrays), the coordinates of the center of the sphere (Xe, Ye, Ze), the\n",
    "    magnetization intensity M and the values for inclination and declination (in degrees). \n",
    "    The observation values are given in meters.\n",
    "    \n",
    "    Inputs: \n",
    "    x, y, z - numpy arrays - position of the observation points\n",
    "    sphere[0, 1, 2] - arrays - position of the center of the sphere\n",
    "    sphere[3] - float - value for the spehre radius  \n",
    "    sphere[4] - flaot - magnetization intensity value\n",
    "    direction - numpy array - inclination and declination values\n",
    "    \n",
    "    Outputs:\n",
    "    Bz - induced field on Z direction\n",
    "     \n",
    "    Ps. The value for Z can be a scalar in the case of one depth, otherwise it can be a \n",
    "    set of points.\n",
    "    '''\n",
    "    \n",
    "    # Stablishing some conditions\n",
    "    if x.shape != y.shape:\n",
    "        raise ValueError(\"All inputs must have same shape!\")\n",
    "    \n",
    "    # Calculates some constants\n",
    "    t2nt = 1.e9 # Testa to nT - conversion\n",
    "    cm = 1.e-7  # Magnetization constant\n",
    "    \n",
    "    #Setting some constants\n",
    "    xe, ye, ze = sphere[0], sphere[1], sphere[2]\n",
    "    #radius = sphere[3]\n",
    "    \n",
    "    # Distances in all axis directions - x, y e z\n",
    "    rx = x - xe\n",
    "    ry = y - ye\n",
    "    rz = z - ze\n",
    "    \n",
    "    # Computes the distance (r) as the module of the other three components\n",
    "    r2 = rx**2 + ry**2 + rz**2\n",
    "    \n",
    "    # Computes the magnetization values for all directions\n",
    "    mx, my, mz = aux.dircos(incs, decs)\n",
    "    \n",
    "    # Auxiliars calculations\n",
    "    dot = (rx*mx) + (ry*my) + (rz*mz)  # Scalar product\n",
    "    m = (4.*np.pi*(radius**3)*mag)/3.    # Magnetic moment\n",
    "    \n",
    "    # Final component calculation\n",
    "    bx = m*(3.*dot*rx - (r2*mx))/(r2**(2.5))\n",
    "    by = m*(3.*dot*ry - (r2*my))/(r2**(2.5))\n",
    "    bz = m*(3.*dot*rz - (r2*mz))/(r2**(2.5))\n",
    "    \n",
    "    # Final component calculation\n",
    "    bx *= cm*t2nt\n",
    "    by *= cm*t2nt\n",
    "    bz *= cm*t2nt\n",
    "    \n",
    "    # Return the final output\n",
    "    return bx, by, bz\n",
    "\n",
    "\n",
    "\n",
    "\n",
    "def sphere_tfa(x, y, z, sphere, radius, mag, incf, decf, incs = None, decs = None):\n",
    "\n",
    "    '''    \n",
    "    This function computes the total field anomaly produced due to a solid sphere, which has \n",
    "    its center located in xe, ye and ze, radius equals to r and also the magnetic property \n",
    "    (magnetic intensity). This function receives the coordinates of the points of observation \n",
    "    (X, Y, Z - arrays), the elements of the sphere, the values for inclination, declination \n",
    "    and azimuth (in one array only!) and the elements of the field (intensity, inclination, \n",
    "    declination and azimuth - IN THAT ORDER!). The observation values are given in meters.\n",
    "    \n",
    "    Inputs: \n",
    "    x, y, z - numpy arrays - position of the observation points\n",
    "    sphere[0, 1, 2] - arrays - position of the center of the sphere\n",
    "    sphere[3] - float - value for the spehre radius  \n",
    "    sphere[4] - flaot - magnetization intensity value\n",
    "    direction - numpy array - inclination and declination values\n",
    "    field - numpy array - inclination and declination values for the field\n",
    "    \n",
    "    Outputs:\n",
    "    tf_aprox - numpy array - approximated total field anomaly\n",
    "    \n",
    "    Ps. The value for Z can be a scalar in the case of one depth, otherwise it can be a \n",
    "    set of points.    \n",
    "    '''\n",
    "    \n",
    "    # Stablishing some conditions\n",
    "    if x.shape != y.shape:\n",
    "        raise ValueError(\"All inputs must have same shape!\")\n",
    "    \n",
    "    # Compute de regional field    \n",
    "    fx, fy, fz = aux.dircos(incf, decf)\n",
    "    \n",
    "    if incs == None:\n",
    "        incs = incf\n",
    "    if decs == None:\n",
    "        decs = decf\n",
    "    \n",
    "    # Computing the components and the regional field\n",
    "    bx, by, bz = sphere_all(x, y, z, sphere, radius, mag, incs, decs)\n",
    "    \n",
    "    # Final value for the total field anomaly\n",
    "    tf_aprox = fx*bx + fy*by + fz*bz\n",
    "    \n",
    "    # Return the final output\n",
    "    return tf_aprox\n"
   ]
  },
  {
   "cell_type": "code",
   "execution_count": null,
   "metadata": {},
   "outputs": [],
   "source": [
    "def tfa_n_dips(incl, decl, mag, n, Xref, Yref, Zref, I, D, spheres):\n",
    "    \"\"\"\n",
    "    Função com o objetivo calcular a anomalia magnética de n bolinhas.\n",
    "\n",
    "    As entradas da função é feita da forma clássica ou através de um dicionário que é descompactado.\n",
    "    O dicinário deve conter as chaves nomeadas de forma identica aos parâmetros de entrada da função.\n",
    "    Exemplo de entrada: tfa_n_dots(**dicionario).\n",
    "\n",
    "    :param dicionario: incl - Lista com os valores de inclinação magnética.\n",
    "                       decl - Lista com os valores de declinação magnética.\n",
    "                       mag - Lista com os valores de magnetização.\n",
    "                       n - número de bolinhas desejadas.\n",
    "                       Xref - Matrix com as coordenadas em X.\n",
    "                       Yref - Matrix com as coordenadas em Y.\n",
    "                       Zref - Matrix com as coordenadas em Z.\n",
    "                       I - valor de inclinação regional.\n",
    "                       D - valor de declinação regional.\n",
    "                       spheres - Lista com os valores de coordenadas e raio de cada dipolo.\n",
    "                           spheres[0] - Coordenada no eixo X.\n",
    "                           spheres[1] - Coordenada no eixo Y.\n",
    "                           spheres[2] - Coordenada no eixo Z.\n",
    "                           spheres[3] - Raio do dipolo.\n",
    "    :return: Uma matrix com os valores de anomália magnética para cada ponto do local estudado.\n",
    "    \"\"\"\n",
    "\n",
    "    # ---------------------------------------------------------------------------------------------------------------------#\n",
    "    tfa_n = 0\n",
    "    raio = 100.0\n",
    "    for i in range(n):\n",
    "        tfa_cada = sphere_tfa(Xref, Yref, Zref, spheres[i], raio, mag, I, D, incl, decl)\n",
    "        tfa_n += tfa_cada\n",
    "\n",
    "    return tfa_n"
   ]
  },
  {
   "cell_type": "code",
   "execution_count": null,
   "metadata": {},
   "outputs": [],
   "source": [
    "def caculation_anomaly(X, Y, Z, I, D, pop):\n",
    "    raio = 100.0\n",
    "    anomaly = []\n",
    "    #n_dip = len(pop[0])-1\n",
    "\n",
    "    for i in range(len(pop)):\n",
    "        incl = pop[i][len(pop[0])-1, 0]\n",
    "        decl = pop[i][len(pop[0])-1, 1]\n",
    "        mag = pop[i][len(pop[0])-1, 2]\n",
    "        spheres = pop[i][0:len(pop[0])-1, :]\n",
    "        anomaly.append(tfa_n_dips(incl, decl, mag, len(pop[0])-1, X, Y, Z, I, D, spheres))\n",
    "    return anomaly"
   ]
  },
  {
   "cell_type": "code",
   "execution_count": null,
   "metadata": {},
   "outputs": [],
   "source": [
    "raio2 = 100.0\n",
    "sphere12 = pop[1][:, :]\n",
    "#sphere12.append(raio2)\n",
    "print(sphere12)\n",
    "print(sphere12[0])"
   ]
  },
  {
   "cell_type": "code",
   "execution_count": null,
   "metadata": {},
   "outputs": [],
   "source": [
    "%timeit caculation_anomaly(X, Y, Z, I, D, pop)"
   ]
  },
  {
   "cell_type": "code",
   "execution_count": null,
   "metadata": {},
   "outputs": [],
   "source": [
    "spheres1 = []\n",
    "raio = 100.0\n",
    "for i in range(len(pop)):\n",
    "    for j in range(len(pop[0])-1):\n",
    "        spheres1.append((pop[i][j, 0], pop[i][j, 1], pop[i][j, 2], raio))\n",
    "\n",
    "incl1 = 10.0\n",
    "decl1 = 50.0\n",
    "mag1 = 2.0\n",
    "\n",
    "\n",
    "%timeit tfa_n_dips(incl1, decl1, mag1, len(pop[0])-1, X, Y, Z, I, D, spheres1)"
   ]
  },
  {
   "cell_type": "code",
   "execution_count": null,
   "metadata": {},
   "outputs": [],
   "source": [
    "def fit_value_v2(X, Y, Z, I, D, pop, tfa_n_dip):\n",
    "    \"\"\"\n",
    "    Função que calcula o fitness de cada indivíduo da população.\n",
    "\n",
    "    :param X: Pontos de observação na coordenadas X.\n",
    "    :param Y: Pontos de observação na coordenadas Y.\n",
    "    :param Z: Pontos de observação na coordenadas Z.\n",
    "    :param I: Inclinação magnética regional.\n",
    "    :param D: Declinação magnética regional.\n",
    "    :param pop: População com n indivíduos.\n",
    "    :param tfa_n_dip: Anomalia magnética referência.\n",
    "\n",
    "    :return fit_cada: Lista com o valor de fitness de cara indivíduo da população.\n",
    "    \"\"\"\n",
    "    fit_cada = []\n",
    "    anomalia = caculation_anomaly(X, Y, Z, I, D, pop) #Cálculo da anomalia\n",
    "    for i in range(len(pop)):\n",
    "        fit_cada.append(aux_operators.f_difference(tfa_n_dip, anomalia[i])) #Cálculo do fit\n",
    "    return fit_cada, anomalia"
   ]
  },
  {
   "cell_type": "code",
   "execution_count": null,
   "metadata": {},
   "outputs": [],
   "source": [
    "def fit_value_vmap(X, Y, Z, I, D, pop, tfa_n_dip):\n",
    "    \"\"\"\n",
    "    Função que calcula o fitness de cada indivíduo da população.\n",
    "\n",
    "    :param X: Pontos de observação na coordenadas X.\n",
    "    :param Y: Pontos de observação na coordenadas Y.\n",
    "    :param Z: Pontos de observação na coordenadas Z.\n",
    "    :param I: Inclinação magnética regional.\n",
    "    :param D: Declinação magnética regional.\n",
    "    :param pop: População com n indivíduos.\n",
    "    :param tfa_n_dip: Anomalia magnética referência.\n",
    "\n",
    "    :return fit_cada: Lista com o valor de fitness de cara indivíduo da população.\n",
    "    \"\"\"\n",
    "    #fit_cada = []\n",
    "    anomalia = caculation_anomaly(X, Y, Z, I, D, pop) #Cálculo da anomalia\n",
    "    fit_cada = list(map(aux_operators.f_difference, tfa_n_dip, anomalia))\n",
    "    #for i in range(len(pop)):\n",
    "        #fit_cada.append(aux_operators.f_difference(tfa_n_dip, anomalia[i])) #Cálculo do fit\n",
    "    return fit_cada, anomalia"
   ]
  },
  {
   "cell_type": "code",
   "execution_count": null,
   "metadata": {},
   "outputs": [],
   "source": [
    "fit_, anomalia2 = fit_value_v2(X, Y, Z, I, D, pop, anomaly_cubo)\n",
    "print(fit_)\n",
    "print(len(fit_))"
   ]
  },
  {
   "cell_type": "code",
   "execution_count": null,
   "metadata": {},
   "outputs": [],
   "source": [
    "fit_map, anomalia2_map = fit_value_vmap(X, Y, Z, I, D, pop, anomaly_cubo)\n",
    "print(fit_map)\n",
    "print(len(fit_map))"
   ]
  },
  {
   "cell_type": "code",
   "execution_count": null,
   "metadata": {},
   "outputs": [],
   "source": [
    "%timeit fit_value_v2(X, Y, Z, I, D, pop, anomaly_cubo)"
   ]
  },
  {
   "cell_type": "code",
   "execution_count": null,
   "metadata": {},
   "outputs": [],
   "source": [
    "%timeit Operators_array.fit_value(X, Y, Z, I, D, pop, anomaly_cubo)"
   ]
  },
  {
   "cell_type": "markdown",
   "metadata": {},
   "source": [
    "## Seleção"
   ]
  },
  {
   "cell_type": "code",
   "execution_count": null,
   "metadata": {},
   "outputs": [],
   "source": [
    "def tournament_selection_v2(pop, fit_cada):\n",
    "    \"\"\"\n",
    "    Função com o objetivo de selecionar os futuros pais, pelo dinâmica do Torneio.\n",
    "\n",
    "    :param pop: População com n indivíduos.\n",
    "    :param fit_cada: O valor de fitness para cada n indivpiduos.\n",
    "\n",
    "    :return chosen: Lista com os n pais.\n",
    "    \"\"\"\n",
    "\n",
    "    pop_1 = pop.copy()\n",
    "    chosen = []\n",
    "    select = []\n",
    "    for i in range(int(0.2 * len(pop))):\n",
    "        capture_select = []\n",
    "        # ---------------------------- Escolhidos para o torneio ---------------------------------#\n",
    "        index_select = list(random.sample(range(0, len(pop_1)), k=(int(0.2 * len(pop)))))\n",
    "        for j in range(int(0.2 * len(pop))):\n",
    "            capture = [fit_cada[index_select[j]], index_select[j]]\n",
    "            capture_select.append(capture)\n",
    "        # ---------------------------- Vencedor do torneio ---------------------------------#\n",
    "        escolhido = pop_1[min(capture_select[:])[1]]\n",
    "        select.append(min(capture_select[:])[1])\n",
    "        # ------------------ Retirada do vencedor da população artificial ------------------------#\n",
    "        del (pop_1[min(capture_select[:])[1]])\n",
    "        # ---------------------------- Vencedores do torneio ---------------------------------#\n",
    "        chosen.append(escolhido)\n",
    "\n",
    "    return chosen, select\n",
    "\n",
    "pais_, escolhidos = tournament_selection_v2(pop, fit_)"
   ]
  },
  {
   "cell_type": "code",
   "execution_count": null,
   "metadata": {},
   "outputs": [],
   "source": [
    "%timeit tournament_selection_v2(pop, fit_)"
   ]
  },
  {
   "cell_type": "markdown",
   "metadata": {},
   "source": [
    "## Croosover_elitista:"
   ]
  },
  {
   "cell_type": "code",
   "execution_count": null,
   "metadata": {},
   "outputs": [],
   "source": [
    "def count_index_fit(lista):\n",
    "    escolhido = []\n",
    "    for i in range(len(lista)):\n",
    "        n = lista[i]\n",
    "        B = len([i for i in lista[0:i] if i <= n])\n",
    "        n += B\n",
    "        escolhido.append(n)\n",
    "    return escolhido"
   ]
  },
  {
   "cell_type": "code",
   "execution_count": null,
   "metadata": {},
   "outputs": [],
   "source": [
    "def definition_prob(pai_torneio, escolhidos, fit, n_filhos):\n",
    "    prob_pai = []\n",
    "    prob_mae = []\n",
    "    sum_den = []\n",
    "    fit = np.array(fit)\n",
    "    escolhidos = count_index_fit(escolhidos)\n",
    "\n",
    "    fit_pais = list(fit[escolhidos])\n",
    "    f_pais, f_maes = fit_pais[0:n_filhos], fit_pais[n_filhos:len(pai_torneio)]\n",
    "    for i in range(n_filhos):\n",
    "        casal = [f_pais[i], f_maes[i]]\n",
    "        melhor = casal.index(min(casal))\n",
    "        if melhor == 0:\n",
    "            prob_pai.append(random.uniform(0.5, 1.0))\n",
    "            prob_mae.append(random.random())\n",
    "        else:\n",
    "            prob_mae.append(random.uniform(0.5, 1.0))\n",
    "            prob_pai.append(random.random())\n",
    "        sum_den.append(prob_pai[i] + prob_mae[i])\n",
    "\n",
    "    return prob_pai, prob_mae, sum_den\n"
   ]
  },
  {
   "cell_type": "code",
   "execution_count": null,
   "metadata": {},
   "outputs": [],
   "source": [
    "def crossover_eletista(pais_torneio, escolhidos, fit):\n",
    "    filhos = []\n",
    "    n_filhos = int(len(pais_torneio) / 2)\n",
    "    pai = np.array(pais_torneio[0:n_filhos])\n",
    "    mae = np.array(pais_torneio[n_filhos:len(pais_torneio)])\n",
    "    # Sorteio das probabilidades de forma randômica.\n",
    "    prob_pai, prob_mae, den = definition_prob(pais_torneio, escolhidos, fit, n_filhos)\n",
    "\n",
    "    for j in range(n_filhos):\n",
    "        num = (prob_pai[j] * pai[j] + prob_mae[j] * mae[j])\n",
    "        filho = num / den[j] # Cálculo do filho\n",
    "        filhos.append(filho)\n",
    "\n",
    "    return filhos\n"
   ]
  },
  {
   "cell_type": "code",
   "execution_count": null,
   "metadata": {},
   "outputs": [],
   "source": [
    "filhos_ = crossover_eletista(pais_, escolhidos, fit_)\n",
    "print(filhos_)\n",
    "print(len(filhos_[0][0]))"
   ]
  },
  {
   "cell_type": "code",
   "execution_count": null,
   "metadata": {},
   "outputs": [],
   "source": [
    "print(filhos_[0][0][0])\n",
    "print(filhos_[0][5][0])\n",
    "print(len((filhos_[0]) - 3))\n",
    "print(len(filhos_[0])-1)"
   ]
  },
  {
   "cell_type": "code",
   "execution_count": null,
   "metadata": {},
   "outputs": [],
   "source": [
    "%timeit crossover_eletista(pais_, escolhidos, fit_)"
   ]
  },
  {
   "cell_type": "markdown",
   "metadata": {},
   "source": [
    "## Mutação"
   ]
  },
  {
   "cell_type": "code",
   "execution_count": null,
   "metadata": {},
   "outputs": [],
   "source": [
    "def mutacao_vhomo(filho, xmax, xmin, ymax, ymin, zlim, z_min, inclmax, inclmin, declmax, declmin, magmax, magmin, n, homogeneo):\n",
    "\n",
    "    prob_mut = 0.01\n",
    "    for index, rand_mut in enumerate(filho): #Index = qual será o indivíduo que será mutado.\n",
    "        rand_mut = random.random()\n",
    "        if prob_mut > rand_mut:\n",
    "            dip_select = random.randint(0, (len(filho[0]) - 2)) #Seleção qual dipolo será mutado.\n",
    "            param_select = random.randint(0, (len(filho[0][0]) + 3)) #Selecão qual parâmetro será mutado.\n",
    "            if param_select <= 2:\n",
    "                coodX, coodY, coodZ = sample_random.sample_random_coordinated(xmax, xmin, ymax, ymin, zlim, z_min, n)\n",
    "                if param_select == 0:\n",
    "                    filho[index][dip_select][param_select] = coodX[0]\n",
    "                elif param_select == 1:\n",
    "                    filho[index][dip_select][param_select] = coodY[0]\n",
    "                elif param_select == 2:\n",
    "                    filho[index][dip_select][param_select] = coodZ[0]\n",
    "            else:\n",
    "                incl, decl, mag = sample_random.sample_random_mag(inclmax, inclmin, declmax, declmin, magmax, magmin, n, homogeneo)\n",
    "                if param_select == 3:\n",
    "                    filho[index][len(filhos_[0])-1][0] = incl[0]\n",
    "                elif param_select == 4:\n",
    "                    filho[index][len(filhos_[0])-1][1] = decl[0]\n",
    "                elif param_select == 5:\n",
    "                    filho[index][len(filhos_[0])-1][2] = mag[0]\n",
    "\n",
    "    return filho\n"
   ]
  },
  {
   "cell_type": "code",
   "execution_count": null,
   "metadata": {},
   "outputs": [],
   "source": [
    "filhos_mu = mutacao_vhomo(filhos_, **filhos_mut)\n",
    "print(filhos_mu)"
   ]
  },
  {
   "cell_type": "code",
   "execution_count": null,
   "metadata": {},
   "outputs": [],
   "source": [
    "%timeit mutacao_vhomo(filhos_, **filhos_mut)"
   ]
  },
  {
   "cell_type": "markdown",
   "metadata": {},
   "source": [
    "## Elitismo:"
   ]
  },
  {
   "cell_type": "code",
   "execution_count": null,
   "metadata": {},
   "outputs": [],
   "source": [
    "def elitismo(pop, filhos, fit_cada):\n",
    "    n_fica = (len(pop) - len(filhos))\n",
    "    df = pd.DataFrame(fit_cada)\n",
    "    x = df.sort_values(0, ascending=True) #Ordenar os valores de acordo com o menor fit.\n",
    "    piores = x.index[n_fica:]\n",
    "    for index, pos in enumerate(piores): #Substituir os piores indivíduos pelos filhos\n",
    "        pop[pos] = filhos[index]\n",
    "\n",
    "    return pop"
   ]
  },
  {
   "cell_type": "code",
   "execution_count": null,
   "metadata": {},
   "outputs": [],
   "source": [
    "elitismo1 = elitismo(pop, filhos_mu, fit_)"
   ]
  },
  {
   "cell_type": "code",
   "execution_count": null,
   "metadata": {},
   "outputs": [],
   "source": [
    "%timeit elitismo(pop, filhos_mu, fit_)"
   ]
  },
  {
   "cell_type": "code",
   "execution_count": null,
   "metadata": {},
   "outputs": [],
   "source": []
  },
  {
   "cell_type": "code",
   "execution_count": null,
   "metadata": {},
   "outputs": [],
   "source": []
  },
  {
   "cell_type": "code",
   "execution_count": null,
   "metadata": {},
   "outputs": [],
   "source": [
    "x1,x2  = (-950.0, 950.0) \n",
    "y1,y2  = (-950.0, 950.0)\n",
    "z1,z2  = (920.0, 1100.0) # z eh positivo para baixo!\n",
    "Mi  = 10.0"
   ]
  },
  {
   "cell_type": "code",
   "execution_count": null,
   "metadata": {},
   "outputs": [],
   "source": [
    "fonte_crustal_mag = [x1,x2,y1,y2,z1,z2,Mi]"
   ]
  },
  {
   "cell_type": "code",
   "execution_count": null,
   "metadata": {},
   "outputs": [],
   "source": [
    "def divide_param_dipolo(pop):\n",
    "    coodX1 = []\n",
    "    coodY1 = []\n",
    "    coodZ1 = []\n",
    "    incl1 = []\n",
    "    decl1 = []\n",
    "    mag1 = []\n",
    "\n",
    "    for i in range(len(pop)-1):\n",
    "        coodX1.append(pop[i][0])\n",
    "        coodY1.append(pop[i][1])\n",
    "        coodZ1.append(pop[i][2])\n",
    "        incl1.append(pop[len(pop)-1][0])\n",
    "        decl1.append(pop[len(pop)-1][1])\n",
    "        mag1.append(pop[len(pop)-1][2])\n",
    "    return coodX1, coodY1, coodZ1, incl1, decl1, mag1"
   ]
  },
  {
   "cell_type": "code",
   "execution_count": null,
   "metadata": {},
   "outputs": [],
   "source": [
    "coodX1, coodY1, coodZ1, incl1, decl1, mag1 = divide_param_dipolo(pop[50])"
   ]
  },
  {
   "cell_type": "code",
   "execution_count": null,
   "metadata": {},
   "outputs": [],
   "source": [
    "# Plot the main 3D source\n",
    "figure = plt.figure(figsize=(10,10))\n",
    "\n",
    "ax = figure.gca(projection = '3d')\n",
    "#ax.set_title('Vertical dike model', size = 18)\n",
    "\n",
    "x1, x2, y1, y2, z1, z2 = fonte_crustal_mag[:6]\n",
    "v = np.array([[x1, y1, z2], [x1, y2, z2], [x2, y2, z2], [x2, y1, z2], \n",
    "                 [x1, y1, z1], [x1, y2, z1], [x2, y2, z1], [x2, y1, z1]])\n",
    "vert =  [[v[0],v[1],v[2],v[3]], \n",
    "         [v[0],v[1],v[5],v[4]], \n",
    "         [v[1],v[2],v[6],v[5]],\n",
    "         [v[2],v[3],v[7],v[6]], \n",
    "         [v[3],v[0],v[4],v[7]], \n",
    "         [v[4],v[5],v[6],v[7]]]\n",
    "\n",
    "fig01 = Poly3DCollection(vert, alpha = 0.75, linewidths = 0.75, edgecolors = 'k')\n",
    "fig01.set_facecolor('chocolate')\n",
    "ax.add_collection3d(fig01)\n",
    "individuo0 = ax.scatter(coodX1, coodY1, coodZ1, c=incl1, depthshade=True, cmap='jet', s = 200.0)\n",
    "\n",
    "# Define the scale of the projection\n",
    "x_scale = 1.2\n",
    "y_scale = 1.2\n",
    "z_scale = 1.\n",
    "scale=np.diag([x_scale, y_scale, z_scale, 1.0])\n",
    "scale=scale*(1.0/scale.max())\n",
    "scale[3,3] = 1.\n",
    "def short_proj():\n",
    "    return np.dot(Axes3D.get_proj(ax), scale)\n",
    "ax.get_proj = short_proj\n",
    "\n",
    "# Labels\n",
    "ax.set_xlabel('North (m)', size = 25, labelpad = 30)\n",
    "ax.set_ylabel('East (m)', size = 25, labelpad = 30)\n",
    "ax.set_zlabel('Depth (m)', size = 25, labelpad = 30)\n",
    "ax.set_xlim(x.min(), x.max())\n",
    "ax.set_ylim(y.min(), y.max())\n",
    "ax.set_zlim(0., z2 + 1000)\n",
    "ax.set_xticks(np.arange(x.min(), x.max(), 2500))\n",
    "ax.set_yticks(np.linspace(y.min(), y.max(), 5))\n",
    "ax.set_zticks(np.linspace(0., z2, 6))\n",
    "ax.tick_params(labelsize = 20, pad = 10)\n",
    "\n",
    "# Visualization angle\n",
    "ax.view_init(190, 130)\n",
    "\n",
    "plt.tight_layout(True)\n",
    "#plt.savefig('figs/dikemodel-r1.png', dpi = 300, bbox_inches = 'tight', transparent = True)\n",
    "#plt.savefig('figs/dikemodel-r1.pdf', dpi = 300, bbox_inches = 'tight', transparent = True)\n",
    "plt.show()"
   ]
  },
  {
   "cell_type": "code",
   "execution_count": null,
   "metadata": {},
   "outputs": [],
   "source": []
  }
 ],
 "metadata": {
  "kernelspec": {
   "display_name": "Python 3",
   "language": "python",
   "name": "python3"
  },
  "language_info": {
   "codemirror_mode": {
    "name": "ipython",
    "version": 3
   },
   "file_extension": ".py",
   "mimetype": "text/x-python",
   "name": "python",
   "nbconvert_exporter": "python",
   "pygments_lexer": "ipython3",
   "version": "3.6.5"
  }
 },
 "nbformat": 4,
 "nbformat_minor": 4
}
