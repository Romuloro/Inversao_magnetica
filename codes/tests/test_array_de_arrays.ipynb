{
 "cells": [
  {
   "cell_type": "code",
   "execution_count": 1,
   "metadata": {},
   "outputs": [],
   "source": [
    "import pytest\n",
    "import numpy as np\n",
    "import random\n",
    "import sys\n",
    "import matplotlib.pyplot as plt\n",
    "import pandas as pd\n",
    "a = sys.path.append('../modules/')\n",
    "import plot_3D, auxiliars, salve_doc, sphere, sample_random, Operators, aux_operators\n",
    "import timeit"
   ]
  },
  {
   "cell_type": "code",
   "execution_count": 32,
   "metadata": {},
   "outputs": [],
   "source": [
    "\n",
    "def create_population_v1(xmax, xmin, ymax, ymin, zlim, z_min, inclmax, inclmin, declmax, declmin, magmax, magmin, n_dip, n_pop, homogeneo):\n",
    "    \"\"\"\n",
    "    Função com o objetivo de criar uma população com n indivíduos randômicos, que estaram de acordo com os parâmetros\n",
    "    escolhidos.\n",
    "\n",
    "    :param xmax: O valor máximo da coordenada X.\n",
    "    :param ymax: O valor máximo da coordenada Y.\n",
    "    :param zlim: O valor máximo da coordenada Z.\n",
    "    :param xmin: O valor minímo da coordenada X.\n",
    "    :param ymin: O valor minímo da coordenada Y.\n",
    "    :param z_min: O valor minímo da coordenada Z.\n",
    "    :param n_pop: O número de indivíduos desejados na população.\n",
    "    :param n_dip: O número de dipolos desejados para cada indivíduo.\n",
    "    :param inclmax: Valor máximo da inclianção magnética.\n",
    "    :param inclmin: Valor mínimo da inclianção magnética.\n",
    "    :param declmax: Valor máximo da inclianção magnética.\n",
    "    :param declmin: Valor mínimo da declianção magnética.\n",
    "    :param magmax: Valor máximo da magnetização.\n",
    "    :param magmin: Valor mínimo da magnetização.\n",
    "    :param homogeneo: True para valores de inclinação, declinação e magnetização iguais para as n dipolos.\n",
    "                      False é a opção default, onde os valores de inclinação, declinação e magnetização é criada de\n",
    "                      forma randômica.\n",
    "\n",
    "    :return pop: Lista com n indivíduos/dipolos criados de forma randômica.\n",
    "    \"\"\"\n",
    "    if n_pop >= 10:\n",
    "        pop = []\n",
    "        n_par = 6\n",
    "        for j in range(n_pop):\n",
    "            individuo = np.zeros((n_dip, n_par))\n",
    "            coodX, coodY, coodZ = sample_random.sample_random_coordinated(xmax, xmin, ymax, ymin, zlim, z_min, n_dip)\n",
    "            incl, decl, mag = sample_random.sample_random_mag(inclmax, inclmin, declmax, declmin, magmax, magmin, n_dip, homogeneo)\n",
    "            for i in range(n_dip):\n",
    "                individuo[i][0], individuo[i][1], individuo[i][2], individuo[i][3], individuo[i][4], individuo[i][5] = coodX[i], coodY[i], coodZ[i], incl[i], decl[i], mag[i]\n",
    "            pop.append(individuo)\n",
    "        return pop\n",
    "    else:\n",
    "        return print('Por favor. Coloque o número de indivíduos maior ou igual a 10')\n"
   ]
  },
  {
   "cell_type": "code",
   "execution_count": 33,
   "metadata": {},
   "outputs": [],
   "source": [
    "population = {'xmax': 10000.0,\n",
    "                'xmin': -10000.0,\n",
    "                'ymax': 10000.0,\n",
    "                'ymin': -10000.0,\n",
    "                'zlim': 150.0,\n",
    "                'z_min': 0.0,\n",
    "                'n_dip': 5,\n",
    "                'n_pop': 30,\n",
    "                'inclmax': -80.0,\n",
    "                'inclmin': 15.0,\n",
    "                'declmax': 172.0,\n",
    "                'declmin': -15.0,\n",
    "                'magmax': 5.0,\n",
    "                'magmin': 0.5,\n",
    "                'homogeneo': True\n",
    "                }"
   ]
  },
  {
   "cell_type": "code",
   "execution_count": 34,
   "metadata": {},
   "outputs": [
    {
     "name": "stdout",
     "output_type": "stream",
     "text": [
      "2.02 ms ± 79.3 µs per loop (mean ± std. dev. of 7 runs, 1000 loops each)\n"
     ]
    }
   ],
   "source": [
    "%timeit create_population_v1(**population)"
   ]
  },
  {
   "cell_type": "code",
   "execution_count": 5,
   "metadata": {},
   "outputs": [],
   "source": [
    "def fit_value_v1(X, Y, Z, I, D, pop, tfa_n_dip):\n",
    "    \"\"\"\n",
    "    Função que calcula o fitness de cada indivíduo da população.\n",
    "\n",
    "    :param X: Pontos de observação na coordenadas X.\n",
    "    :param Y: Pontos de observação na coordenadas Y.\n",
    "    :param Z: Pontos de observação na coordenadas Z.\n",
    "    :param I: Inclinação magnética regional.\n",
    "    :param D: Declinação magnética regional.\n",
    "    :param pop: População com n indivíduos.\n",
    "    :param tfa_n_dip: Anomalia magnética referência.\n",
    "\n",
    "    :return fit_cada: Lista com o valor de fitness de cara indivíduo da população.\n",
    "    \"\"\"\n",
    "    raio = 100.0\n",
    "    fit_cada = []\n",
    "\n",
    "    for i in range(len(pop)):\n",
    "        spheres = []\n",
    "        incl = []\n",
    "        decl = []\n",
    "        mag = []\n",
    "        for j in range(len(pop[0])):\n",
    "            spheres.append((pop[i][j][0], pop[i][j][1], pop[i][j][2], raio))\n",
    "            incl.append(pop[i][j][3])\n",
    "            decl.append(pop[i][j][4])\n",
    "            mag.append(pop[i][j][5])\n",
    "\n",
    "        tfa_dip = aux_operators.tfa_n_dips(incl, decl, mag, len(pop[0]), X, Y, Z, I, D, spheres)\n",
    "        fit_cada.append(aux_operators.f_difference(tfa_n_dip, tfa_dip))\n",
    "    return fit_cada"
   ]
  },
  {
   "cell_type": "code",
   "execution_count": 35,
   "metadata": {},
   "outputs": [
    {
     "data": {
      "image/png": "[encoded data removed]",
      "text/plain": [
       "<Figure size 864x864 with 1 Axes>"
      ]
     },
     "metadata": {
      "needs_background": "light"
     },
     "output_type": "display_data"
    }
   ],
   "source": [
    "acquisition = {'nx': 100,\n",
    "                  'ny': 100,\n",
    "                  'xmin': -10000,\n",
    "                  'xmax': 10000,\n",
    "                  'ymin': -10000,\n",
    "                  'ymax': 10000,\n",
    "                  'z': -100.0,\n",
    "                  'color': '.r'}\n",
    "\n",
    "cood_bounds = {'xmax': 250.0,\n",
    "                'xmin': 40.0,\n",
    "                'ymax': 100.0,\n",
    "                'ymin': 0.0,\n",
    "                'zlim': 150,\n",
    "                'z_min': 100,\n",
    "                'n': 5}\n",
    "\n",
    "mag_bounds = {'inclmax': -20.0,\n",
    "                'inclmin': 15.0,\n",
    "                'declmax': 20.0,\n",
    "                'declmin': -15.0,\n",
    "                'magmax': 5.0,\n",
    "                'magmin': 1.0,\n",
    "                'homogeneo': True,\n",
    "                'n': 5}\n",
    "\n",
    "coodX, coodY, coodZ = sample_random.sample_random_coordinated(**cood_bounds)\n",
    "\n",
    "incl, decl, mag = sample_random.sample_random_mag(**mag_bounds)\n",
    "\n",
    "x, y, X, Y, Z = plot_3D.create_aquisicao(**acquisition)\n",
    "\n",
    "balls_mag = {'incl': incl,\n",
    "               'decl': decl,\n",
    "               'mag': mag,\n",
    "               'n': 5,\n",
    "               'Xref': X,\n",
    "               'Yref': Y,\n",
    "               'Zref': Z,\n",
    "               'I': 30.0,\n",
    "               'D': 50.0,\n",
    "               'coodX': coodX,\n",
    "               'coodY': coodY,\n",
    "               'coodZ': coodZ,\n",
    "               'raio': 100.0}\n",
    "\n",
    "tfa_n_bolinhas = sample_random.tfa_n_dots(**balls_mag)\n",
    "\n",
    "I, D = 30.0, 50.0\n",
    "\n",
    "pop = Operators.create_population(**population)"
   ]
  },
  {
   "cell_type": "code",
   "execution_count": 36,
   "metadata": {},
   "outputs": [],
   "source": [
    "def caculation_anomaly(X, Y, Z, I, D, pop):\n",
    "    raio = 100.0\n",
    "    anomaly = []\n",
    "\n",
    "    for i in range(len(pop)):\n",
    "        spheres = []\n",
    "        incl = []\n",
    "        decl = []\n",
    "        mag = []\n",
    "        for j in range(len(pop[0])):\n",
    "            spheres.append((pop[i][j][0], pop[i][j][1], pop[i][j][2], raio))\n",
    "            incl.append(pop[i][j][3])\n",
    "            decl.append(pop[i][j][4])\n",
    "            mag.append(pop[i][j][5])\n",
    "        anomaly.append(aux_operators.tfa_n_dips(incl, decl, mag, len(pop[0]), X, Y, Z, I, D, spheres))\n",
    "    return anomaly"
   ]
  },
  {
   "cell_type": "code",
   "execution_count": 37,
   "metadata": {},
   "outputs": [
    {
     "name": "stdout",
     "output_type": "stream",
     "text": [
      "30\n"
     ]
    }
   ],
   "source": [
    "anomalia = caculation_anomaly(X, Y, Z, I, D, pop)\n",
    "print(len(anomalia))"
   ]
  },
  {
   "cell_type": "code",
   "execution_count": 38,
   "metadata": {},
   "outputs": [],
   "source": [
    "def fit_value_v2(X, Y, Z, I, D, pop, tfa_n_dip):\n",
    "    \"\"\"\n",
    "    Função que calcula o fitness de cada indivíduo da população.\n",
    "\n",
    "    :param X: Pontos de observação na coordenadas X.\n",
    "    :param Y: Pontos de observação na coordenadas Y.\n",
    "    :param Z: Pontos de observação na coordenadas Z.\n",
    "    :param I: Inclinação magnética regional.\n",
    "    :param D: Declinação magnética regional.\n",
    "    :param pop: População com n indivíduos.\n",
    "    :param tfa_n_dip: Anomalia magnética referência.\n",
    "\n",
    "    :return fit_cada: Lista com o valor de fitness de cara indivíduo da população.\n",
    "    \"\"\"\n",
    "    fit_cada = []\n",
    "    anomalia = caculation_anomaly(X, Y, Z, I, D, pop)\n",
    "    for i in range(len(pop)):\n",
    "        fit_cada.append(aux_operators.f_difference(tfa_n_dip, anomalia[i]))\n",
    "    return fit_cada"
   ]
  },
  {
   "cell_type": "code",
   "execution_count": 39,
   "metadata": {},
   "outputs": [
    {
     "name": "stdout",
     "output_type": "stream",
     "text": [
      "229 ms ± 27.9 ms per loop (mean ± std. dev. of 7 runs, 1 loop each)\n"
     ]
    }
   ],
   "source": [
    "%timeit fit_value_v2(X, Y, Z, I, D, pop, tfa_n_bolinhas)"
   ]
  },
  {
   "cell_type": "code",
   "execution_count": 40,
   "metadata": {},
   "outputs": [
    {
     "name": "stdout",
     "output_type": "stream",
     "text": [
      "237 ms ± 20.2 ms per loop (mean ± std. dev. of 7 runs, 1 loop each)\n"
     ]
    }
   ],
   "source": [
    "%timeit fit_value_v1(X, Y, Z, I, D, pop, tfa_n_bolinhas)"
   ]
  },
  {
   "cell_type": "code",
   "execution_count": 12,
   "metadata": {},
   "outputs": [
    {
     "name": "stdout",
     "output_type": "stream",
     "text": [
      "[490.95329294670614, 274.69357122806224, 477.71109238304393, 520.4820471546574, 233.02551199326538, 601.0608052753272, 173.56130474003385, 435.2736329216412, 262.3678384629059, 4675.08897395712, 229.81004123808296, 1091.4969683327854, 664.0755078772928, 864.1126641012293, 174.95141618220086, 1985.420484718056, 3899.9300211187037, 195.04120881665168, 148.62670542239593, 329.81503932260443, 358.78240965062537, 650.6069234161188, 113.19449367292269, 706.4074244951983, 159.62165912551419, 778.8226454590168, 566.1993516022792, 171.54937121548653, 440.7087016238485, 307.7992127546684]\n",
      "[490.95329294670614, 274.69357122806224, 477.71109238304393, 520.4820471546574, 233.02551199326538, 601.0608052753272, 173.56130474003385, 435.2736329216412, 262.3678384629059, 4675.08897395712, 229.81004123808296, 1091.4969683327854, 664.0755078772928, 864.1126641012293, 174.95141618220086, 1985.420484718056, 3899.9300211187037, 195.04120881665168, 148.62670542239593, 329.81503932260443, 358.78240965062537, 650.6069234161188, 113.19449367292269, 706.4074244951983, 159.62165912551419, 778.8226454590168, 566.1993516022792, 171.54937121548653, 440.7087016238485, 307.7992127546684]\n"
     ]
    }
   ],
   "source": [
    "fit_cada1 = fit_value_v1(X, Y, Z, I, D, pop, tfa_n_bolinhas)\n",
    "fit_cada2 = fit_value_v2(X, Y, Z, I, D, pop, tfa_n_bolinhas)\n",
    "\n",
    "print(fit_cada1)\n",
    "print(fit_cada2)"
   ]
  },
  {
   "cell_type": "code",
   "execution_count": 13,
   "metadata": {},
   "outputs": [],
   "source": [
    "def tournament_selection_v1(pop, fit_cada):\n",
    "    \"\"\"\n",
    "    Função com o objetivo de selecionar os futuros pais, pelo dinâmica do Torneio.\n",
    "\n",
    "    :param pop: População com n indivíduos.\n",
    "    :param fit_cada: O valor de fitness para cada n indivpiduos.\n",
    "\n",
    "    :return chosen: Lista com os n pais.\n",
    "    \"\"\"\n",
    "\n",
    "    pop_1 = pop.copy()\n",
    "    chosen = []\n",
    "    for i in range(int(0.2 * len(pop))):\n",
    "        capture_select = []\n",
    "    # ---------------------------- Escolhidos para o torneio ---------------------------------#\n",
    "        index_select = list(random.sample(range(0, len(pop_1)), k=(int(0.2 * len(pop)))))\n",
    "        for j in range(int(0.2 * len(pop))):\n",
    "            capture = [fit_cada1[index_select[j]], index_select[j]]\n",
    "            capture_select.append(capture)\n",
    "    # ---------------------------- Vencedor do torneio ---------------------------------#\n",
    "        escolhido = pop_1[min(capture_select[:])[1]]\n",
    "    # ------------------ Retirada do vencedor da população artificial ------------------------#\n",
    "        del (pop_1[min(capture_select[:])[1]])\n",
    "    # ---------------------------- Vencedores do torneio ---------------------------------#\n",
    "        chosen.append(escolhido)\n",
    "\n",
    "    return chosen"
   ]
  },
  {
   "cell_type": "code",
   "execution_count": 14,
   "metadata": {},
   "outputs": [
    {
     "data": {
      "text/plain": [
       "'pop_1 = pop.copy()\\nchosen = []\\nfor i in range(int(0.2 * len(pop))):\\n    capture_select = []\\n    # ---------------------------- Escolhidos para o torneio ---------------------------------#\\n    index_select = list(random.sample(range(0, len(pop_1)), k=(int(0.2 * len(pop)))))\\n    for j in range(int(0.2 * len(pop))):\\n        capture = [fit_cada1[index_select[j]], index_select[j]]\\n        capture_select.append(capture)\\n    # ---------------------------- Vencedor do torneio ---------------------------------#\\n    escolhido = pop_1[min(capture_select[:])[1]]\\n    # ------------------ Retirada do vencedor da população artificial ------------------------#\\n    del (pop_1[min(capture_select[:])[1]])\\n        # ---------------------------- Vencedores do torneio ---------------------------------#\\n    chosen.append(escolhido)\\n\\n#print(capture_select)\\n#print(min(capture_select[:]))\\n#print(min(capture_select[:])[1])\\n'"
      ]
     },
     "execution_count": 14,
     "metadata": {},
     "output_type": "execute_result"
    }
   ],
   "source": [
    "'''pop_1 = pop.copy()\n",
    "chosen = []\n",
    "for i in range(int(0.2 * len(pop))):\n",
    "    capture_select = []\n",
    "    # ---------------------------- Escolhidos para o torneio ---------------------------------#\n",
    "    index_select = list(random.sample(range(0, len(pop_1)), k=(int(0.2 * len(pop)))))\n",
    "    for j in range(int(0.2 * len(pop))):\n",
    "        capture = [fit_cada1[index_select[j]], index_select[j]]\n",
    "        capture_select.append(capture)\n",
    "    # ---------------------------- Vencedor do torneio ---------------------------------#\n",
    "    escolhido = pop_1[min(capture_select[:])[1]]\n",
    "    # ------------------ Retirada do vencedor da população artificial ------------------------#\n",
    "    del (pop_1[min(capture_select[:])[1]])\n",
    "        # ---------------------------- Vencedores do torneio ---------------------------------#\n",
    "    chosen.append(escolhido)\n",
    "\n",
    "#print(capture_select)\n",
    "#print(min(capture_select[:]))\n",
    "#print(min(capture_select[:])[1])\n",
    "'''"
   ]
  },
  {
   "cell_type": "code",
   "execution_count": 15,
   "metadata": {},
   "outputs": [
    {
     "name": "stdout",
     "output_type": "stream",
     "text": [
      "96.8 µs ± 7.08 µs per loop (mean ± std. dev. of 7 runs, 10000 loops each)\n"
     ]
    }
   ],
   "source": [
    "%timeit tournament_selection_v1(pop, fit_cada1)"
   ]
  },
  {
   "cell_type": "code",
   "execution_count": 16,
   "metadata": {},
   "outputs": [],
   "source": [
    "pais_torneio = tournament_selection_v1(pop, fit_cada1)"
   ]
  },
  {
   "cell_type": "code",
   "execution_count": 17,
   "metadata": {},
   "outputs": [],
   "source": [
    "def crossover_v1(pais_torneio):\n",
    "    filhos = []\n",
    "    n_filhos = int(len(pais_torneio) / 2)\n",
    "    pai = np.array(pais_torneio[0:n_filhos])\n",
    "    mae = np.array(pais_torneio[n_filhos:len(pais_torneio)])\n",
    "    prob_pai = random.random()\n",
    "    prob_mae = random.random()\n",
    "    den = prob_mae + prob_pai\n",
    "\n",
    "    for j in range(n_filhos):\n",
    "        num = (prob_pai * pai[j] + prob_mae * mae[j])\n",
    "        filho = num / den\n",
    "        filhos.append(filho)\n",
    "\n",
    "    return filhos\n"
   ]
  },
  {
   "cell_type": "code",
   "execution_count": 18,
   "metadata": {},
   "outputs": [
    {
     "name": "stdout",
     "output_type": "stream",
     "text": [
      "3\n",
      "[0.7266511342974449, 0.8058173952533827, 0.7556261309291006] [0.006038376674433188, 0.42071220038085, 0.2420854163341264] [0.7326895109718781, 1.2265295956342328, 0.997711547263227]\n"
     ]
    }
   ],
   "source": [
    "n_filhos = int(len(pais_torneio) / 2)\n",
    "print(n_filhos)\n",
    "pai = np.array(pais_torneio[0:n_filhos])\n",
    "mae = np.array(pais_torneio[n_filhos:len(pais_torneio)])\n",
    "\n",
    "def definition_prob(pai_torneio, X, Y, Z, I, D, n_filhos, tfa_n_bolinhas):\n",
    "    prob_pai = []\n",
    "    prob_mae = []\n",
    "    sum_den = []\n",
    "\n",
    "    fit_pais = fit_value_v2(X, Y, Z, I, D, pai_torneio, tfa_n_bolinhas)\n",
    "    f_pais, f_maes = fit_pais[0:n_filhos], fit_pais[n_filhos:len(pai_torneio)]\n",
    "    for i in range(n_filhos):\n",
    "        casal = [f_pais[i], f_maes[i]]\n",
    "        melhor = casal.index(min(casal))\n",
    "        if melhor == 0:\n",
    "            prob_pai.append(random.uniform(0.5, 1.0))\n",
    "            prob_mae.append(random.random())\n",
    "        else:\n",
    "            prob_mae.append(random.uniform(0.5, 1.0))\n",
    "            prob_pai.append(random.random())\n",
    "        sum_den.append(prob_pai[i] + prob_mae[i])\n",
    "\n",
    "    return prob_pai, prob_mae, sum_den\n",
    "\n",
    "\n",
    "p_prob, m_prob, s_dem = definition_prob(pais_torneio, X, Y, Z, I, D, n_filhos, tfa_n_bolinhas)\n",
    "print(p_prob, m_prob, s_dem)"
   ]
  },
  {
   "cell_type": "code",
   "execution_count": 19,
   "metadata": {},
   "outputs": [
    {
     "name": "stdout",
     "output_type": "stream",
     "text": [
      "22.1 µs ± 2.68 µs per loop (mean ± std. dev. of 7 runs, 10000 loops each)\n"
     ]
    }
   ],
   "source": [
    "%timeit crossover_v1(pais_torneio)"
   ]
  },
  {
   "cell_type": "code",
   "execution_count": 20,
   "metadata": {},
   "outputs": [],
   "source": [
    "def crossover_eletista(pais_torneio,  X, Y, Z, I, D, tfa_n_bolinhas):\n",
    "    filhos = []\n",
    "    n_filhos = int(len(pais_torneio) / 2)\n",
    "    pai = np.array(pais_torneio[0:n_filhos])\n",
    "    mae = np.array(pais_torneio[n_filhos:len(pais_torneio)])\n",
    "    prob_pai, prob_mae, den = definition_prob(pais_torneio, X, Y, Z, I, D, n_filhos, tfa_n_bolinhas)\n",
    "\n",
    "    for j in range(n_filhos):\n",
    "        num = (prob_pai[j] * pai[j] + prob_mae[j] * mae[j])\n",
    "        filho = num / den[j] # Verificar se os n filhos estão dentro dos limites de busca.\n",
    "        filhos.append(filho)\n",
    "\n",
    "    return filhos"
   ]
  },
  {
   "cell_type": "code",
   "execution_count": 21,
   "metadata": {},
   "outputs": [
    {
     "name": "stdout",
     "output_type": "stream",
     "text": [
      "45.9 ms ± 2.35 ms per loop (mean ± std. dev. of 7 runs, 10 loops each)\n"
     ]
    }
   ],
   "source": [
    "%timeit crossover_eletista(pais_torneio, X, Y, Z, I, D, tfa_n_bolinhas)"
   ]
  },
  {
   "cell_type": "code",
   "execution_count": 22,
   "metadata": {},
   "outputs": [],
   "source": [
    "filho = crossover_v1(pais_torneio)"
   ]
  },
  {
   "cell_type": "code",
   "execution_count": 23,
   "metadata": {},
   "outputs": [],
   "source": [
    "def mutacao_v1(filho, xmax, xmin, ymax, ymin, zlim, z_min, inclmax, inclmin, declmax, declmin, magmax, magmin, n, homogeneo):\n",
    "\n",
    "    prob_mut = 0.01\n",
    "    for index, rand_mut in enumerate(filho):\n",
    "        rand_mut = random.random()\n",
    "        if prob_mut > rand_mut:\n",
    "            dip_select = random.randint(0, (len(filho[0]) - 1)) #Seleção qual dipolo será mutado.\n",
    "            param_select = random.randint(0, (len(filho[0][0]) - 1)) #Selecão qual parâmetro será mutado.\n",
    "            if param_select <= 2:\n",
    "                coodX, coodY, coodZ = sample_random.sample_random_coordinated(xmax, xmin, ymax, ymin, zlim, z_min, n)\n",
    "                if param_select == 0:\n",
    "                    filho[index][dip_select][param_select] = float(coodX[0])\n",
    "                elif param_select == 1:\n",
    "                    filho[index][dip_select][param_select] = float(coodY[0])\n",
    "                elif param_select == 2:\n",
    "                    filho[index][dip_select][param_select] = float(coodZ[0])\n",
    "            else:\n",
    "                incl, decl, mag = sample_random.sample_random_mag(inclmax, inclmin, declmax, declmin, magmax, magmin, n,\n",
    "                                                                  homogeneo)\n",
    "                if homogeneo == True:\n",
    "                    if param_select == 3:\n",
    "                        filho[index][:, param_select] = float(incl[0])\n",
    "                    elif param_select == 4:\n",
    "                        filho[index][:, param_select] = float(decl[0])\n",
    "                    elif param_select == 5:\n",
    "                        filho[index][:, param_select] = float(mag[0])\n",
    "                else:\n",
    "                    if param_select == 3:\n",
    "                        filho[index][dip_select][param_select] = float(incl[0])\n",
    "                    elif param_select == 4:\n",
    "                        filho[index][dip_select][param_select] = float(decl[0])\n",
    "                    elif param_select == 5:\n",
    "                        filho[index][dip_select][param_select] = float(mag[0])\n",
    "\n",
    "    return filho\n"
   ]
  },
  {
   "cell_type": "code",
   "execution_count": 24,
   "metadata": {},
   "outputs": [],
   "source": [
    "filhos_mut = {'xmax': 10000.0,\n",
    "                'xmin': -10000.0,\n",
    "                'ymax': 10000.0,\n",
    "                'ymin': -10000.0,\n",
    "                'zlim': 150.0,\n",
    "                'z_min': 0.0,\n",
    "                'n': 1,\n",
    "                'inclmax': -80.0,\n",
    "                'inclmin': 15.0,\n",
    "                'declmax': 172.0,\n",
    "                'declmin': -15.0,\n",
    "                'magmax': 5.0,\n",
    "                'magmin': 0.5,\n",
    "                'homogeneo': True\n",
    "                }"
   ]
  },
  {
   "cell_type": "code",
   "execution_count": 25,
   "metadata": {},
   "outputs": [
    {
     "name": "stdout",
     "output_type": "stream",
     "text": [
      "1.72 µs ± 130 ns per loop (mean ± std. dev. of 7 runs, 1000000 loops each)\n"
     ]
    }
   ],
   "source": [
    "%timeit mutacao_v1(filho, **filhos_mut)"
   ]
  },
  {
   "cell_type": "code",
   "execution_count": 26,
   "metadata": {},
   "outputs": [],
   "source": [
    "filhos = mutacao_v1(filho, **filhos_mut)"
   ]
  },
  {
   "cell_type": "code",
   "execution_count": 27,
   "metadata": {},
   "outputs": [],
   "source": [
    "def elitismo_v1(pop, filhos, fit_cada):\n",
    "    n_fica = (len(pop) - len(filhos))\n",
    "    df = pd.DataFrame(fit_cada)\n",
    "    x = df.sort_values(0, ascending=True)\n",
    "    piores = x.index[n_fica:]\n",
    "    for index, pos in enumerate(piores):\n",
    "        pop[pos] = filhos[index]\n",
    "\n",
    "    return pop"
   ]
  },
  {
   "cell_type": "code",
   "execution_count": 28,
   "metadata": {},
   "outputs": [
    {
     "name": "stdout",
     "output_type": "stream",
     "text": [
      "1.13 ms ± 36.9 µs per loop (mean ± std. dev. of 7 runs, 1000 loops each)\n"
     ]
    }
   ],
   "source": [
    "%timeit elitismo_v1(pop, filhos, fit_cada1)"
   ]
  },
  {
   "cell_type": "code",
   "execution_count": 29,
   "metadata": {},
   "outputs": [],
   "source": [
    "fit_rodada = [104.10914879334956, 104.10914879334956, 104.10914879334956, 104.10914879334956, 104.10914879334956, 104.10914879334956, 104.10914879334956, 104.10914879334956, 104.10914879334956, 104.10914879334956, 104.10914879334956, 103.92869362823858, 103.92869362823858, 103.92869362823858, 103.92869362823858, 103.92869362823858, 102.47961796963487, 102.23280638671147, 102.23280638671147, 102.23280638671147, 102.23280638671147, 102.23280638671147, 102.23280638671147, 102.23280638671147, 102.23280638671147, 102.23280638671147, 102.23280638671147, 102.23280638671147, 102.23280638671147, 102.23280638671147, 101.83729241892279, 101.83729241892279, 101.83729241892279, 101.83729241892279, 101.83729241892279, 101.83729241892279, 101.83729241892279, 101.83729241892279, 101.11636128641891, 99.0148946126171, 98.38262660480673, 98.38262660480673, 98.29568335933938, 98.29568335933938, 98.29568335933938, 98.29568335933938, 98.29568335933938, 98.29568335933938, 98.29568335933938, 98.29568335933938, 98.29568335933938, 98.29568335933938, 98.29568335933938, 98.20190444071582, 98.20190444071582, 98.20190444071582, 98.20190444071582, 98.20190444071582, 98.20190444071582, 98.20190444071582, 98.20190444071582, 98.20190444071582, 98.20190444071582, 98.20190444071582, 98.20190444071582, 98.20190444071582, 98.20190444071582, 98.20190444071582, 98.20190444071582, 98.20190444071582, 98.18782346051232, 98.18782346051232, 98.18782346051232, 98.18782346051232, 98.18782346051232, 98.18782346051232, 98.18782346051232, 97.91238780756827, 97.91238780756827, 97.91238780756827, 97.91238780756827, 97.91238780756827, 97.91238780756827, 97.91238780756827, 97.91238780756827, 97.910047043656, 97.76401580099613, 97.10175608484276, 97.10175608484276, 97.10175608484276, 97.10175608484276, 97.10175608484276, 97.10175608484276, 97.10175608484276, 97.10175608484276, 97.10175608484276, 97.10175608484276, 97.10175608484276, 97.10175608484276, 96.99258583597327, 96.99258583597327, 96.99258583597327, 96.99258583597327, 96.99258583597327, 96.99258583597327, 96.99258583597327, 96.99258583597327, 96.99258583597327, 96.99258583597327, 96.99258583597327, 96.99258583597327, 96.99258583597327, 96.99258583597327, 96.99258583597327, 96.99258583597327, 96.95648637368116, 96.95648637368116, 96.95648637368116, 96.84177692343167, 96.84177692343167, 96.84177692343167, 96.84177692343167, 96.82559088644486, 96.82559088644486, 96.82559088644486, 96.82559088644486, 96.82559088644486, 96.82559088644486, 96.82559088644486, 96.82559088644486, 96.82559088644486, 96.82559088644486, 96.82559088644486, 96.82559088644486, 96.82559088644486, 96.82559088644486, 96.82559088644486, 96.82559088644486, 96.82559088644486, 96.82559088644486, 96.82559088644486, 96.82558074617401, 96.82558074617401, 96.82558074617401, 96.82558074617401, 96.82558074617401, 96.82558074617401, 96.82558074617401, 96.82558074617401, 96.82558074617401, 96.82558074617401, 96.82501525409803, 96.82501525409803, 96.82501525409803, 96.82501525409803, 96.82501525409803, 96.82501525409803, 96.82501525409803, 96.82501525409803, 96.82501525409803, 96.82501525409803, 96.82501525409803, 96.82501525409803, 96.82499406518838, 96.82499406518838, 96.82499406518838, 96.82499406518838, 96.8249894366704, 96.8249894366704, 96.82497744167748, 96.82497744167748, 96.82494836106608, 96.82494836106608, 96.82494836106608, 96.82494836106608, 96.82494836106608, 96.82494836106608, 96.82494836106608, 96.82494836106608, 96.82494836106608, 96.82494836106608, 96.82494836106608, 96.82494836106608, 96.82494836106608, 96.82494836106608, 96.82494836106608, 96.82494836106608, 96.82494836106608, 96.82494836106608, 96.82494836106608, 96.82494836106608, 96.82494836106608, 96.82494836106608, 96.82494836106608, 96.82494836106608, 96.82494836106608, 96.82494836106608, 96.82494836106608, 96.82494836106608, 96.82494836106608, 96.82494836106608, 96.82494836106608, 96.82494836106608, 96.82494836106608, 96.82494836106608, 96.82494836106608, 96.82494836106608, 96.82494836106608, 96.82494836106608, 96.82494836106608, 96.82494836106608, 96.82494836106608, 96.82494836106608, 96.82494836106608, 96.82494836106608, 96.82494836106608, 96.82494836106608, 96.82494836106608, 96.82494836106608, 96.82494836106608, 96.82494836106608, 96.82494836106608, 96.82494836106608, 96.82494836106608, 96.82494836106608, 96.82494836106608, 96.82494836106608, 96.82494836106608, 96.82494836106608, 96.82494836106608, 96.82494836106608, 96.82494836106608, 96.82494836106608, 96.82494836106608, 96.82494836106608, 96.82494836106608, 96.82494836106608, 96.82494836106608, 96.82494836106608, 96.82494836106608, 96.82494836106608, 96.82494836106608, 96.82494836106608, 96.82494836106608, 96.82494836106608, 96.82494836106608, 96.82494836106608, 96.82494836106608, 96.82494836106608, 96.82494836106608, 96.82494836106608, 96.82494836106608, 96.82494836106608, 96.82494836106608, 96.82494836106608, 96.82494836106608, 96.55945841531612, 96.52284722601026, 96.50635624990966, 96.50635624990966, 96.50635624990966, 96.50635624990966, 96.50635624990966, 96.50635624990966, 96.50635624990966, 96.50635624990966, 96.50635624990966, 96.50635624990966, 96.50635624990966, 96.50635624990966, 96.50635624990966, 96.50635624990966, 96.50635624990966, 96.50635624990966, 96.50635624990966, 96.50635624990966, 96.50635624990966, 96.50635624990966, 96.50635624990966, 96.50185340460519, 96.50185340460519, 96.50185340460519, 96.50185340460519, 96.50185340460519, 96.50185340460519, 96.50185340460519, 96.50185340460519, 96.50185340460519, 96.50185340460519, 96.50185340460519, 96.50185340460519, 96.50185340460519, 96.50185340460519, 96.50185340460519, 96.50185340460519, 96.50185340460519, 96.50185340460519, 96.50185340460519, 96.50185340460519, 96.50185340460519, 96.50185340460519, 96.50185340460519, 96.50185340460519, 96.50185340460519, 96.50185340460519, 96.50185340460519, 96.50185340460519, 96.50185340460519, 96.50185340460519, 96.50057360164179, 96.50057360164179, 96.50057360164179, 96.50057360164179, 96.50057360164179, 96.50057360164179, 96.50057360164179, 96.50057360164179, 96.50057360164179, 96.50057360164179, 96.50057360164179, 96.50057360164179, 96.50057360164179, 96.50056812037263, 96.50056812037263, 96.50056731323888, 96.50056731323888, 96.50056731323888, 96.50056731323888, 96.50056731323888, 96.50056731323888, 96.50056731323888, 96.47308233028389, 96.4086845749231, 96.4086845749231, 96.36120068578128, 96.36120068578128, 96.36120068578128, 96.36120068578128, 96.36120068578128, 96.36120068578128, 96.36120068578128, 96.36120068578128, 96.36120068578128, 96.36120068578128, 96.36120068578128, 96.36120068578128, 96.36120068578128, 96.36120068578128, 96.36120068578128, 96.36120068578128, 96.36120068578128, 96.36120068578128, 96.36120068578128, 96.36120068578128, 96.36120068578128, 96.36120068578128, 96.36120068578128, 96.36120068578128, 96.36120068578128, 96.36120068578128, 96.3572791905006, 96.3572791905006, 96.3572791905006, 96.3572791905006, 96.3572791905006, 96.3572791905006, 96.3572791905006, 96.3572791905006, 96.3572791905006, 96.3572791905006, 96.3572791905006, 96.3572791905006, 96.3572791905006, 96.3572791905006, 96.3572791905006, 96.3572791905006, 96.35723870645805, 96.35723870645805, 96.35723870645805, 96.35723870645805, 96.35721247572941, 96.35721247572941, 96.35721247572941, 96.35721247572941, 96.35721247572941, 96.35721247572941, 96.35721247572941, 96.35721247572941, 96.35721247572941, 96.35721247572941, 96.35721247572941, 96.35721247572941, 96.35721247572941, 96.35721247572941, 96.35721247572941, 96.35721247572941, 96.35721247572941, 96.35721247572941, 96.35721247572941, 96.35721247572941, 96.35721247572941, 96.35721247572941, 96.35721247572941, 96.35721247572941, 96.35721247572941, 96.35721247572941, 96.35721247572941, 96.35721247572941, 96.35721247572941, 96.35721247572941, 96.35721247572941, 96.35721247572941, 96.35721247572941, 96.35721247572941, 96.35721247572941, 96.35721247572941, 96.35721247572941, 96.35721247572941, 96.35721247572941, 96.35721247572941, 96.35721247572941, 96.35721247572941, 96.35721247572941, 96.35721247572941, 96.35721247572941, 96.35721247572941, 96.35721247572941, 96.35721247572941, 96.35721247572941, 96.35721247572941, 96.35721247572941, 96.35721247572941, 96.35721247572941, 96.35721247572941, 96.35721247572941, 96.35721247572941, 96.35721247572941, 96.35721247572941, 96.35721247572941, 96.35721247572941, 96.35721247572941, 96.3571981103971, 96.3571981103971, 96.3571981103971, 96.3571981103971, 96.3571981103971, 96.3571981103971, 96.3571981103971, 96.3571981103971, 96.3571981103971, 96.3571981103971, 96.3571981103971, 96.3571981103971, 96.3571981103971, 96.3571981103971, 96.3571981103971, 96.3571981103971, 96.3571981103971, 96.3571981103971, 96.3571981103971, 96.3571981103971, 96.3571981103971, 96.3571981103971, 96.3571981103971, 96.3571981103971, 96.3571981103971, 96.3571981103971, 96.3571981103971, 96.3571981103971, 96.3571981103971, 96.3571981103971, 96.3571981103971, 96.3571981103971, 96.3571981103971, 96.3571981103971, 96.3571981103971, 96.3571981103971, 96.3571981103971, 96.3571981103971, 96.3571981103971, 96.3571981103971, 96.3571981103971, 96.3571981103971, 96.3571981103971, 96.3571981103971, 96.3571981103971, 96.3571981103971, 96.3571981103971, 96.3571981103971, 96.3571981103971, 96.3571981103971, 96.3571981103971, 96.3571981103971, 96.3571981103971, 96.3571981103971, 96.3571981103971, 96.3571981103971, 96.3571981103971, 96.3571981103971, 96.3571981103971, 96.3571981103971, 96.3571981103971, 96.3571981103971, 96.3571981103971, 96.3571981103971, 96.3571981103971, 96.3571981103971, 96.3571981103971, 96.3571981103971, 96.3571981103971, 96.3571981103971, 96.3571981103971, 96.3571981103971, 96.3571981103971, 96.3571981103971, 96.3571981103971, 96.3571981103971, 96.3571981103971, 96.3571981103971, 96.3571981103971, 96.3571981103971, 96.3571981103971, 96.3571981103971, 96.3571981103971, 96.3571981103971, 96.3571981103971, 96.3571981103971, 96.3571981103971, 96.3571981103971, 96.3571981103971, 96.3571981103971, 96.3571981103971, 96.3571981103971, 96.3571981103971, 96.3571981103971, 96.3571981103971, 96.3571981103971, 96.3571981103971, 96.3571981103971, 96.3571981103971, 96.3571981103971, 96.3571981103971, 96.3571981103971, 96.3571981103971, 96.3571981103971, 96.3571981103971, 96.3571981103971, 96.3571981103971, 96.3571981103971, 96.3571981103971, 96.3571981103971, 96.3571981103971, 96.3571981103971, 96.3571981103971, 96.3571981103971, 96.3571981103971, 96.3571981103971, 96.3571981103971, 96.3571981103971, 96.3571981103971, 96.3571981103971, 96.3571981103971, 96.3571981103971, 96.3571981103971, 96.3571981103971, 96.3571981103971, 96.3571981103971, 96.3571981103971, 96.3571981103971, 96.3571981103971, 96.3571981103971, 96.3571981103971, 96.3571981103971, 96.3571981103971, 96.3571981103971, 96.3571981103971, 96.3571981103971, 96.3571981103971, 96.3571981103971, 96.3571981103971, 96.3571981103971, 96.3571981103971, 96.3571981103971, 96.3571981103971, 96.3571981103971, 96.3571981103971, 96.3571981103971, 96.3571981103971, 96.3571981103971, 96.3571981103971, 96.3571981103971, 96.3571981103971, 96.3571981103971, 96.3571981103971, 96.3571981103971, 96.3571981103971, 96.3571981103971, 96.3571981103971, 96.3571981103971, 96.3571981103971, 96.3571981103971, 96.3571981103971, 96.3571981103971, 96.3571981103971, 96.3571981103971, 96.3571981103971, 96.3571981103971, 96.3571981103971, 96.3571981103971, 96.3571981103971, 96.3571981103971, 96.3571981103971, 96.3571981103971, 96.3571981103971, 96.3571981103971, 96.3571981103971, 96.3571981103971, 96.3571981103971, 96.3571981103971, 96.3571981103971, 96.3571981103971, 96.3571981103971, 96.3571981103971, 96.3571981103971, 96.3571981103971, 96.3571981103971, 96.3571981103971, 96.3571981103971, 96.3571981103971, 96.3571981103971, 96.3571981103971, 96.3571981103971, 96.3571981103971, 96.3571981103971, 96.3571981103971, 96.3571981103971, 96.3571981103971, 96.3571981103971, 96.3571981103971, 96.3571981103971, 96.3571981103971, 96.3571981103971, 96.3571981103971, 96.3571981103971, 96.3571981103971, 96.3571981103971, 96.3571981103971, 96.3571981103971, 96.3571981103971, 96.3571981103971, 96.3571981103971, 96.3571981103971, 96.3571981103971, 96.3571981103971, 96.3571981103971, 96.3571981103971, 96.3571981103971, 96.3571981103971, 96.3571981103971, 96.3571981103971, 96.3571981103971, 96.3571981103971, 96.3571981103971, 96.3571981103971, 96.3571981103971, 96.3571981103971, 96.3571981103971, 96.3571981103971, 96.3571981103971, 96.3571981103971, 96.3571981103971, 96.3571981103971, 96.3571981103971, 96.3571981103971, 96.3571981103971, 96.3571981103971, 96.3571981103971, 96.3571981103971, 96.3571981103971, 96.3571981103971, 96.3571981103971, 96.3571981103971, 96.3571981103971, 96.3571981103971, 96.3571981103971, 96.3571981103971, 96.3571981103971, 96.3571981103971, 96.3571981103971, 96.3571981103971, 96.3571981103971, 96.3571981103971, 96.3571981103971, 96.3571981103971, 96.3571981103971, 96.3571981103971, 96.3571981103971, 96.3571981103971, 96.3571981103971, 96.3571981103971, 96.3571981103971, 96.3571981103971, 96.3571981103971, 96.3571981103971, 96.3571981103971, 96.3571981103971, 96.3571981103971, 96.3571981103971, 96.3571981103971, 96.3571981103971, 96.3571981103971, 96.3571981103971, 96.3571981103971, 96.3571981103971, 96.3571981103971, 96.3571981103971, 96.3571981103971, 96.3571981103971, 96.3571981103971, 96.3571981103971, 96.3571981103971, 96.3571981103971, 96.3571981103971, 96.3571981103971, 96.3571981103971, 96.3571981103971, 96.3571981103971, 96.3571981103971, 96.3571981103971, 96.3571981103971, 96.3571981103971, 96.3571981103971, 96.3571981103971, 96.3571981103971, 96.3571981103971, 96.3571981103971, 95.88024053341445, 95.88024053341445, 95.88024053341445, 95.88024053341445, 95.88024053341445, 95.88024053341445, 95.88024053341445, 95.88024053341445, 95.88024053341445, 95.88024053341445, 95.88024053341445, 95.88024053341445, 95.88024053341445, 95.88024053341445, 95.88024053341445, 95.88024053341445, 95.88024053341445, 95.88024053341445, 95.88024053341445, 95.88024053341445, 95.88024053341445, 95.88024053341445, 95.88024053341445, 95.88024053341445, 95.88024053341445, 95.88024053341445, 95.88024053341445, 95.88024053341445, 95.88024053341445, 95.88024053341445, 95.88024053341445, 95.88024053341445, 95.88024053341445, 95.88024053341445, 95.88024053341445, 95.88024053341445, 95.88024053341445, 95.88024053341445, 95.88024053341445, 95.88024053341445, 95.88024053341445, 95.88024053341445, 95.88024053341445, 95.88024053341445, 95.88024053341445, 95.88024053341445, 95.88024053341445, 95.88024053341445, 95.88024053341445, 95.88024053341445, 95.88024053341445, 95.88024053341445, 95.88024053341445, 95.88024053341445, 95.88024053341445, 95.88024053341445, 95.88024053341445, 95.88024053341445, 95.88024053341445, 95.88024053341445, 95.88024053341445, 95.88024053341445, 95.88024053341445, 95.88024053341445, 95.88024053341445, 95.88024053341445, 95.88024053341445, 95.88024053341445, 95.88024053341445, 95.88024053341445, 95.88024053341445, 95.88024053341445, 95.88024053341445, 95.88024053341445, 95.88024053341445, 95.88024053341445, 95.88024053341445, 95.88024053341445, 95.88024053341445, 95.88024053341445, 95.88024053341445, 95.88024053341445, 95.88024053341445, 95.88024053341445, 95.88024053341445, 95.88024053341445, 95.88024053341445, 95.88024053341445, 95.88024053341445, 95.88024053341445, 95.88024053341445, 95.88024053341445, 95.88024053341445, 95.88024053341445, 95.88024053341445, 95.88024053341445, 95.88024053341445, 95.88024053341445, 95.88024053341445, 95.88024053341445, 95.88024053341445, 95.88024053341445, 95.88024053341445, 95.88024053341445, 95.88024053341445, 95.88024053341445, 95.88024053341445, 95.88024053341445, 95.88024053341445, 95.88024053341445, 95.88024053341445, 95.88024053341445, 95.88024053341445, 95.88024053341445, 95.88024053341445, 95.88024053341445, 95.88024053341445, 95.88024053341445, 95.88024053341445, 95.88024053341445, 95.88024053341445, 95.88024053341445, 95.88024053341445, 95.88024053341445, 95.88024053341445, 95.88024053341445, 95.88024053341445, 95.88024053341445, 95.88024053341445, 95.88024053341445, 95.88024053341445, 95.88024053341445, 95.88024053341445, 95.88024053341445, 95.88024053341445, 95.88024053341445, 95.88024053341445, 95.88024053341445, 95.88024053341445, 95.88024053341445, 95.88024053341445, 95.88024053341445, 95.88024053341445, 95.88024053341445, 95.88024053341445, 95.88024053341445, 95.88024053341445, 95.88024053341445, 95.88024053341445, 95.88024053341445, 95.88024053341445, 95.88024053341445, 95.88024053341445, 95.88024053341445, 95.88024053341445, 95.88024053341445, 95.88024053341445, 95.88024053341445, 95.88024053341445, 95.88024053341445, 95.88024053341445, 95.88024053341445, 95.88024053341445, 95.88024053341445, 95.88024053341445, 95.88024053341445, 95.88024053341445, 95.88024053341445, 95.88024053341445, 95.88024053341445, 95.88024053341445, 95.88024053341445, 95.88024053341445, 95.88024053341445, 95.88024053341445, 95.88024053341445, 95.88024053341445, 95.88024053341445, 95.88024053341445, 95.88024053341445, 95.88024053341445, 95.88024053341445, 95.88024053341445, 95.88024053341445, 95.88024053341445, 95.88024053341445, 95.88024053341445, 95.88024053341445, 95.88024053341445, 95.88024053341445, 95.88024053341445, 95.88024053341445, 95.88024053341445, 95.88024053341445, 95.88024053341445, 95.88024053341445, 95.88024053341445, 95.88024053341445, 95.88024053341445, 95.88024053341445, 95.88024053341445, 95.88024053341445, 95.88024053341445, 95.88024053341445, 95.88024053341445, 95.88024053341445, 95.88024053341445, 95.88024053341445, 95.88024053341445, 95.88024053341445, 95.88024053341445, 95.88024053341445, 95.88024053341445, 95.88024053341445, 95.88024053341445, 95.88024053341445, 95.88024053341445, 95.88024053341445, 95.88024053341445, 95.88024053341445, 95.88024053341445, 95.88024053341445, 95.88024053341445, 95.88024053341445, 95.88024053341445, 95.88024053341445, 95.88024053341445, 95.88024053341445, 95.88024053341445, 95.88024053341445, 95.88024053341445, 95.88024053341445, 95.88024053341445, 95.88024053341445, 95.88024053341445, 95.88024053341445, 95.88024053341445, 95.88024053341445, 95.88024053341445, 95.88024053341445, 95.88024053341445, 95.88024053341445, 95.88024053341445, 95.88024053341445, 95.88024053341445, 95.88024053341445, 95.88024053341445, 95.88024053341445, 95.88024053341445, 95.88024053341445, 95.88024053341445, 95.63390887243727, 95.63390887243727, 95.63390887243727, 95.63390887243727, 95.63390887243727, 95.63390887243727, 95.63390887243727, 95.63390887243727, 95.63390887243727, 95.60023391028744, 95.60023391028744, 95.60023391028744, 95.60023391028744]"
   ]
  },
  {
   "cell_type": "code",
   "execution_count": 30,
   "metadata": {},
   "outputs": [
    {
     "data": {
      "image/png": "[encoded data removed]",
      "text/plain": [
       "<Figure size 576x576 with 1 Axes>"
      ]
     },
     "metadata": {
      "needs_background": "light"
     },
     "output_type": "display_data"
    }
   ],
   "source": [
    "x = np.linspace(0, 1000, 1000)\n",
    "fig = plt.figure(figsize=(8, 8))\n",
    "plt.plot(x, fit_rodada)\n",
    "plt.xlabel('Interações', fontsize=20)\n",
    "plt.ylabel('fitness', fontsize=20)\n",
    "plt.grid()\n",
    "plt.show()"
   ]
  },
  {
   "cell_type": "code",
   "execution_count": 31,
   "metadata": {},
   "outputs": [
    {
     "name": "stdout",
     "output_type": "stream",
     "text": [
      "[array([ 1597.12933653, -2773.03954622,  3938.84851911,  1458.6483327 ,\n",
      "        1535.76698422,  -331.11639597,  3345.73717325,  1411.83939316,\n",
      "        2427.44127806,  1932.99739188]), array([ 4229.60481032, -3643.52770412, -1954.5999169 ,  4186.00675503,\n",
      "        4487.86663656,  4198.02977241, -2555.0040089 ,  -905.55181089,\n",
      "        2774.22910438, -1926.8089354 ]), array([ 1756.94766941,  2511.17744082,  4946.57486007, -4475.50868155,\n",
      "        1989.45111507, -3232.93750913,  4698.05761328, -3983.40024324,\n",
      "        -301.17456228, -3794.16206354]), array([  275.52865304, -4189.71811142, -2988.5626476 ,  1604.75614196,\n",
      "        1178.59734314, -2860.96502312,   117.28776461, -3818.48685954,\n",
      "         522.05370072,  -432.75341985]), array([ -227.14711683,  -692.92600437,  1434.36046571,  1801.0666443 ,\n",
      "       -4030.68996321,  3620.2489863 , -1597.34364023,  4714.49842204,\n",
      "       -2304.01957407, -1130.22293317]), array([-4972.58820944,  3801.56547942, -1657.02596799, -3025.19886361,\n",
      "        1900.99411772,  -135.03394824,   719.50580368,  -945.99963273,\n",
      "        3452.840844  ,  4334.93266816]), array([ 1028.20751924, -1861.27330012,  -783.22808202, -1119.70942931,\n",
      "       -4403.87513181, -2644.51041895, -1005.89631214, -4118.44998785,\n",
      "         322.36859451, -2668.32594093]), array([-3688.45257304, -2034.30470358,  1426.18897763, -4252.86686706,\n",
      "        1675.80310235,  4330.15426465,   492.27513563,   194.88474331,\n",
      "       -2333.5060302 ,   125.99192293]), array([ 3105.90406519, -2222.25464228, -1043.15746815,  1027.62419855,\n",
      "        2087.38188243,  4037.61009397, -2653.89513791,   895.08323478,\n",
      "         832.29853356, -4599.1892481 ]), array([ 2818.2677814 ,  4979.6303937 ,  2400.31500574, -2065.4640917 ,\n",
      "        -593.68465801,  -872.19212655,  4484.16501561, -4411.05342136,\n",
      "        2074.81609469, -1806.30722053])]\n"
     ]
    }
   ],
   "source": [
    "x = []\n",
    "\n",
    "for i in range(10):\n",
    "    xcood = np.random.uniform(-5000.0, 5000.0, 10)\n",
    "    x.append(xcood)\n",
    "\n",
    "\n",
    "print(x)\n"
   ]
  },
  {
   "cell_type": "code",
   "execution_count": null,
   "metadata": {},
   "outputs": [],
   "source": []
  },
  {
   "cell_type": "code",
   "execution_count": null,
   "metadata": {},
   "outputs": [],
   "source": []
  },
  {
   "cell_type": "code",
   "execution_count": null,
   "metadata": {},
   "outputs": [],
   "source": []
  }
 ],
 "metadata": {
  "kernelspec": {
   "display_name": "Python 3",
   "language": "python",
   "name": "python3"
  },
  "language_info": {
   "codemirror_mode": {
    "name": "ipython",
    "version": 3
   },
   "file_extension": ".py",
   "mimetype": "text/x-python",
   "name": "python",
   "nbconvert_exporter": "python",
   "pygments_lexer": "ipython3",
   "version": "3.6.5"
  }
 },
 "nbformat": 4,
 "nbformat_minor": 4
}
