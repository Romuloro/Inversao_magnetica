{
 "cells": [
  {
   "cell_type": "code",
   "execution_count": 1,
   "metadata": {},
   "outputs": [],
   "source": [
    "import pytest\n",
    "import numpy as np\n",
    "import random\n",
    "import sys\n",
    "import matplotlib.pyplot as plt\n",
    "import pandas as pd\n",
    "a = sys.path.append('../modules/')\n",
    "import plot_3D, auxiliars, salve_doc, sphere, sample_random, Operators\n",
    "import timeit"
   ]
  },
  {
   "cell_type": "code",
   "execution_count": 2,
   "metadata": {},
   "outputs": [],
   "source": [
    "\n",
    "def create_population_v1(xmax, xmin, ymax, ymin, zlim, z_min, inclmax, inclmin, declmax, declmin, magmax, magmin, n_dip, n_pop, homogeneo):\n",
    "    \"\"\"\n",
    "    Função com o objetivo de criar uma população com n indivíduos randômicos, que estaram de acordo com os parâmetros\n",
    "    escolhidos.\n",
    "\n",
    "    :param xmax: O valor máximo da coordenada X.\n",
    "    :param ymax: O valor máximo da coordenada Y.\n",
    "    :param zlim: O valor máximo da coordenada Z.\n",
    "    :param xmin: O valor minímo da coordenada X.\n",
    "    :param ymin: O valor minímo da coordenada Y.\n",
    "    :param z_min: O valor minímo da coordenada Z.\n",
    "    :param n_pop: O número de indivíduos desejados na população.\n",
    "    :param n_dip: O número de dipolos desejados para cada indivíduo.\n",
    "    :param inclmax: Valor máximo da inclianção magnética.\n",
    "    :param inclmin: Valor mínimo da inclianção magnética.\n",
    "    :param declmax: Valor máximo da inclianção magnética.\n",
    "    :param declmin: Valor mínimo da declianção magnética.\n",
    "    :param magmax: Valor máximo da magnetização.\n",
    "    :param magmin: Valor mínimo da magnetização.\n",
    "    :param homogeneo: True para valores de inclinação, declinação e magnetização iguais para as n dipolos.\n",
    "                      False é a opção default, onde os valores de inclinação, declinação e magnetização é criada de\n",
    "                      forma randômica.\n",
    "\n",
    "    :return pop: Lista com n indivíduos/dipolos criados de forma randômica.\n",
    "    \"\"\"\n",
    "    pop = []\n",
    "    n_par = 6\n",
    "    for j in range(n_pop):\n",
    "        individuo = np.zeros((n_dip, n_par))\n",
    "        coodX, coodY, coodZ = sample_random.sample_random_coordinated(xmax, xmin, ymax, ymin, zlim, z_min, n_dip)\n",
    "        incl, decl, mag = sample_random.sample_random_mag(inclmax, inclmin, declmax, declmin, magmax, magmin, n_dip, homogeneo)\n",
    "        for i in range(n_dip):\n",
    "            individuo[i][0], individuo[i][1], individuo[i][2], individuo[i][3], individuo[i][4], individuo[i][5] = coodX[i], coodY[i], coodZ[i], incl[i], decl[i], mag[i]\n",
    "        pop.append(individuo)\n",
    "    \n",
    "    return pop\n"
   ]
  },
  {
   "cell_type": "code",
   "execution_count": 3,
   "metadata": {},
   "outputs": [],
   "source": [
    "population = {'xmax': 10000.0,\n",
    "                'xmin': -10000.0,\n",
    "                'ymax': 10000.0,\n",
    "                'ymin': -10000.0,\n",
    "                'zlim': 150.0,\n",
    "                'z_min': 0.0,\n",
    "                'n_dip': 5,\n",
    "                'n_pop': 100,\n",
    "                'inclmax': -80.0,\n",
    "                'inclmin': 15.0,\n",
    "                'declmax': 172.0,\n",
    "                'declmin': -15.0,\n",
    "                'magmax': 5.0,\n",
    "                'magmin': 0.5,\n",
    "                'homogeneo': True\n",
    "                }"
   ]
  },
  {
   "cell_type": "code",
   "execution_count": 5,
   "metadata": {},
   "outputs": [
    {
     "name": "stdout",
     "output_type": "stream",
     "text": [
      "6.9 ms ± 791 µs per loop (mean ± std. dev. of 7 runs, 100 loops each)\n"
     ]
    }
   ],
   "source": [
    "%timeit create_population_v1(**population)"
   ]
  },
  {
   "cell_type": "code",
   "execution_count": 6,
   "metadata": {},
   "outputs": [],
   "source": [
    "def fit_value_v1(X, Y, Z, I, D, pop, tfa_n_dip):\n",
    "    \"\"\"\n",
    "    Função que calcula o fitness de cada indivíduo da população.\n",
    "\n",
    "    :param X: Pontos de observação na coordenadas X.\n",
    "    :param Y: Pontos de observação na coordenadas Y.\n",
    "    :param Z: Pontos de observação na coordenadas Z.\n",
    "    :param I: Inclinação magnética regional.\n",
    "    :param D: Declinação magnética regional.\n",
    "    :param pop: População com n indivíduos.\n",
    "    :param tfa_n_dip: Anomalia magnética referência.\n",
    "\n",
    "    :return fit_cada: Lista com o valor de fitness de cara indivíduo da população.\n",
    "    \"\"\"\n",
    "    raio = 100.0\n",
    "    fit_cada = []\n",
    "\n",
    "    for i in range(len(pop)):\n",
    "        spheres = []\n",
    "        incl = []\n",
    "        decl = []\n",
    "        mag = []\n",
    "        for j in range(len(pop[0])):\n",
    "            spheres.append((pop[i][j][0], pop[i][j][1], pop[i][j][2], raio))\n",
    "            incl.append(pop[i][j][3])\n",
    "            decl.append(pop[i][j][4])\n",
    "            mag.append(pop[i][j][5])\n",
    "\n",
    "        tfa_dip = sample_random.tfa_n_dips(incl, decl, mag, len(pop[0]), X, Y, Z, I, D, spheres)\n",
    "        fit_cada.append(sample_random.f_difference(tfa_n_dip, tfa_dip))\n",
    "    return fit_cada"
   ]
  },
  {
   "cell_type": "code",
   "execution_count": 7,
   "metadata": {},
   "outputs": [
    {
     "data": {
      "image/png": "[encoded data removed]",
      "text/plain": [
       "<Figure size 864x864 with 1 Axes>"
      ]
     },
     "metadata": {
      "needs_background": "light"
     },
     "output_type": "display_data"
    }
   ],
   "source": [
    "acquisition = {'nx': 100,\n",
    "                  'ny': 100,\n",
    "                  'xmin': -10000,\n",
    "                  'xmax': 10000,\n",
    "                  'ymin': -10000,\n",
    "                  'ymax': 10000,\n",
    "                  'z': -100.0,\n",
    "                  'color': '.r'}\n",
    "\n",
    "cood_bounds = {'xmax': 250.0,\n",
    "                'xmin': 40.0,\n",
    "                'ymax': 100.0,\n",
    "                'ymin': 0.0,\n",
    "                'zlim': 150,\n",
    "                'z_min': 100,\n",
    "                'n': 5}\n",
    "\n",
    "mag_bounds = {'inclmax': -20.0,\n",
    "                'inclmin': 15.0,\n",
    "                'declmax': 20.0,\n",
    "                'declmin': -15.0,\n",
    "                'magmax': 5.0,\n",
    "                'magmin': 1.0,\n",
    "                'homogeneo': True,\n",
    "                'n': 5}\n",
    "\n",
    "coodX, coodY, coodZ = sample_random.sample_random_coordinated(**cood_bounds)\n",
    "\n",
    "incl, decl, mag = sample_random.sample_random_mag(**mag_bounds)\n",
    "\n",
    "x, y, X, Y, Z = plot_3D.create_aquisicao(**acquisition)\n",
    "\n",
    "balls_mag = {'incl': incl,\n",
    "               'decl': decl,\n",
    "               'mag': mag,\n",
    "               'n': 5,\n",
    "               'Xref': X,\n",
    "               'Yref': Y,\n",
    "               'Zref': Z,\n",
    "               'I': 30.0,\n",
    "               'D': 50.0,\n",
    "               'coodX': coodX,\n",
    "               'coodY': coodY,\n",
    "               'coodZ': coodZ,\n",
    "               'raio': 100.0}\n",
    "\n",
    "tfa_n_bolinhas = sample_random.tfa_n_dots(**balls_mag)\n",
    "\n",
    "I, D = 30.0, 50.0\n",
    "\n",
    "pop = Operators.create_population(**population)"
   ]
  },
  {
   "cell_type": "code",
   "execution_count": null,
   "metadata": {},
   "outputs": [],
   "source": []
  },
  {
   "cell_type": "code",
   "execution_count": 9,
   "metadata": {},
   "outputs": [],
   "source": [
    "def fit_value_v2(X, Y, Z, I, D, pop, tfa_n_dip):\n",
    "    \"\"\"\n",
    "    Função que calcula o fitness de cada indivíduo da população.\n",
    "\n",
    "    :param X: Pontos de observação na coordenadas X.\n",
    "    :param Y: Pontos de observação na coordenadas Y.\n",
    "    :param Z: Pontos de observação na coordenadas Z.\n",
    "    :param I: Inclinação magnética regional.\n",
    "    :param D: Declinação magnética regional.\n",
    "    :param pop: População com n indivíduos.\n",
    "    :param tfa_n_dip: Anomalia magnética referência.\n",
    "\n",
    "    :return fit_cada: Lista com o valor de fitness de cara indivíduo da população.\n",
    "    \"\"\"\n",
    "    raio = 100.0\n",
    "    fit_cada = []\n",
    "\n",
    "    for i in range(len(pop)):\n",
    "        spheres = []\n",
    "        incl = []\n",
    "        decl = []\n",
    "        mag = []\n",
    "        for j in range(len(pop[0])):\n",
    "            spheres.append((pop[i][j][0], pop[i][j][1], pop[i][j][2], raio))\n",
    "            incl.append(pop[i][j][3])\n",
    "            decl.append(pop[i][j][4])\n",
    "            mag.append(pop[i][j][5])\n",
    "\n",
    "        tfa_dip = sample_random.tfa_n_dips(incl, decl, mag, len(pop[0]), X, Y, Z, I, D, spheres)\n",
    "        fit_cada.append(sample_random.f_difference(tfa_n_dip, tfa_dip))\n",
    "    return fit_cada"
   ]
  },
  {
   "cell_type": "code",
   "execution_count": 10,
   "metadata": {},
   "outputs": [
    {
     "name": "stdout",
     "output_type": "stream",
     "text": [
      "746 ms ± 39.6 ms per loop (mean ± std. dev. of 7 runs, 1 loop each)\n"
     ]
    }
   ],
   "source": [
    "%timeit fit_value_v2(X, Y, Z, I, D, pop, tfa_n_bolinhas)"
   ]
  },
  {
   "cell_type": "code",
   "execution_count": 11,
   "metadata": {},
   "outputs": [
    {
     "name": "stdout",
     "output_type": "stream",
     "text": [
      "727 ms ± 23.7 ms per loop (mean ± std. dev. of 7 runs, 1 loop each)\n"
     ]
    }
   ],
   "source": [
    "%timeit fit_value_v1(X, Y, Z, I, D, pop, tfa_n_bolinhas)"
   ]
  },
  {
   "cell_type": "code",
   "execution_count": 12,
   "metadata": {},
   "outputs": [
    {
     "name": "stdout",
     "output_type": "stream",
     "text": [
      "[546.406950102765, 2158.5074117534764, 2714.003244990209, 208.8783110674958, 138.90074561899408, 225.41417618831798, 591.8360364821891, 781.6955722698316, 1358.2038906446726, 1059.3411741470625, 5599.842115145371, 3771.804724009462, 3276.166686245452, 3170.205773300021, 925.9139724666388, 1394.3931765016064, 816.6175209661835, 3110.0676608207373, 229.57828929500258, 303.80268791038407, 701.1887887295248, 1496.2966223177837, 154.27370935292385, 1841.0974797906053, 788.7604546620813, 809.9858222777423, 1101.133382208069, 981.5666158821523, 2468.850683974135, 1370.2856647623714, 295.2658717192052, 896.3541535069459, 138.2337688206332, 1457.995583717786, 299.95785189307963, 3786.116013084017, 11905.975978422039, 793.7629580773562, 8124.857584415029, 4091.727650426651, 665.1071188678271, 7108.78559731841, 132.1581244827279, 196.80665094842482, 1487.8719793054788, 1465.362909764069, 227.16484634296478, 1083.4497796086696, 138.09285551412017, 1758.5707658824142, 5554.822718095302, 2478.899800680207, 1010.1351227660774, 1964.6966220777222, 114.28448885316902, 2449.825163983579, 4477.286857083995, 135.1224732348295, 183.27214919217397, 199.65645080573384, 4227.165910646534, 910.4793657895683, 284.1552115554446, 1797.0150993708103, 163.98336831261705, 5350.445744290681, 129.20078019744963, 303.27453501978, 767.4222347579259, 4017.41543883673, 787.681342912232, 928.4375253358644, 433.1602198210159, 2194.1255543158554, 669.3806077734505, 2235.154021176454, 1527.0304391408247, 861.1413711263929, 1147.1572845351848, 314.32757132003564, 4737.785446195339, 3537.814137620402, 739.9879202158913, 982.6007365758252, 485.2877346132051, 2025.777128920486, 1513.1865624869977, 204.90100918973295, 354.5573430369246, 233.27919509258052, 854.563290719207, 257.4255425619886, 1393.5372225291032, 254.76278627644376, 468.78569853078494, 1616.7954109765567, 489.1614440558457, 741.5571654145267, 346.3191281004402, 1143.5898581254635]\n",
      "[546.406950102765, 2158.5074117534764, 2714.003244990209, 208.8783110674958, 138.90074561899408, 225.41417618831798, 591.8360364821891, 781.6955722698316, 1358.2038906446726, 1059.3411741470625, 5599.842115145371, 3771.804724009462, 3276.166686245452, 3170.205773300021, 925.9139724666388, 1394.3931765016064, 816.6175209661835, 3110.0676608207373, 229.57828929500258, 303.80268791038407, 701.1887887295248, 1496.2966223177837, 154.27370935292385, 1841.0974797906053, 788.7604546620813, 809.9858222777423, 1101.133382208069, 981.5666158821523, 2468.850683974135, 1370.2856647623714, 295.2658717192052, 896.3541535069459, 138.2337688206332, 1457.995583717786, 299.95785189307963, 3786.116013084017, 11905.975978422039, 793.7629580773562, 8124.857584415029, 4091.727650426651, 665.1071188678271, 7108.78559731841, 132.1581244827279, 196.80665094842482, 1487.8719793054788, 1465.362909764069, 227.16484634296478, 1083.4497796086696, 138.09285551412017, 1758.5707658824142, 5554.822718095302, 2478.899800680207, 1010.1351227660774, 1964.6966220777222, 114.28448885316902, 2449.825163983579, 4477.286857083995, 135.1224732348295, 183.27214919217397, 199.65645080573384, 4227.165910646534, 910.4793657895683, 284.1552115554446, 1797.0150993708103, 163.98336831261705, 5350.445744290681, 129.20078019744963, 303.27453501978, 767.4222347579259, 4017.41543883673, 787.681342912232, 928.4375253358644, 433.1602198210159, 2194.1255543158554, 669.3806077734505, 2235.154021176454, 1527.0304391408247, 861.1413711263929, 1147.1572845351848, 314.32757132003564, 4737.785446195339, 3537.814137620402, 739.9879202158913, 982.6007365758252, 485.2877346132051, 2025.777128920486, 1513.1865624869977, 204.90100918973295, 354.5573430369246, 233.27919509258052, 854.563290719207, 257.4255425619886, 1393.5372225291032, 254.76278627644376, 468.78569853078494, 1616.7954109765567, 489.1614440558457, 741.5571654145267, 346.3191281004402, 1143.5898581254635]\n"
     ]
    }
   ],
   "source": [
    "fit_cada1 = fit_value_v1(X, Y, Z, I, D, pop, tfa_n_bolinhas)\n",
    "fit_cada2 = fit_value_v2(X, Y, Z, I, D, pop, tfa_n_bolinhas)\n",
    "\n",
    "print(fit_cada1)\n",
    "print(fit_cada2)"
   ]
  },
  {
   "cell_type": "code",
   "execution_count": null,
   "metadata": {},
   "outputs": [],
   "source": [
    "def tournament_selection_v1(pop, fit_cada):\n",
    "    \"\"\"\n",
    "    Função com o objetivo de selecionar os futuros pais, pelo dinâmica do Torneio.\n",
    "\n",
    "    :param pop: População com n indivíduos.\n",
    "    :param fit_cada: O valor de fitness para cada n indivpiduos.\n",
    "\n",
    "    :return chosen: Lista com os n pais.\n",
    "    \"\"\"\n",
    "\n",
    "    pop_1 = pop.copy()\n",
    "    chosen = []\n",
    "    capture_select = []\n",
    "    for i in range(int(0.2 * len(pop))):\n",
    "        # ---------------------------- Escolhidos para o torneio ---------------------------------#\n",
    "        index_select = list(random.sample(range(0, len(pop_1)), k=(int(0.2 * len(pop)))))\n",
    "        capture = [index_select[i], fit_cada[index_select[i]]]\n",
    "        capture_select.append(capture)\n",
    "        # ---------------------------- Vencedor do torneio ---------------------------------#\n",
    "        escolhido = pop_1[min(capture_select)[0]]\n",
    "        # ------------------ Retirada do vencedor da população artificial ------------------------#\n",
    "        del (pop_1[min(capture_select)[0]])\n",
    "        # ---------------------------- Vencedores do torneio ---------------------------------#\n",
    "        chosen.append(escolhido)\n",
    "\n",
    "    return chosen"
   ]
  },
  {
   "cell_type": "code",
   "execution_count": null,
   "metadata": {},
   "outputs": [],
   "source": [
    "%timeit tournament_selection_v1(pop, fit_cada1)"
   ]
  },
  {
   "cell_type": "code",
   "execution_count": null,
   "metadata": {},
   "outputs": [],
   "source": [
    "pais_torneio = tournament_selection_v1(pop, fit_cada1)"
   ]
  },
  {
   "cell_type": "code",
   "execution_count": null,
   "metadata": {},
   "outputs": [],
   "source": [
    "def crossover_v1(pais_torneio):\n",
    "    filhos = []\n",
    "    n_filhos = int(len(pais_torneio) / 2)\n",
    "    pai = np.array(pais_torneio[0:n_filhos])\n",
    "    mae = np.array(pais_torneio[n_filhos:len(pais_torneio)])\n",
    "    prob_pai = random.random()\n",
    "    prob_mae = random.random()\n",
    "    den = prob_mae + prob_pai\n",
    "\n",
    "    for j in range(n_filhos):\n",
    "        num = (prob_pai * pai[j] + prob_mae * mae[j])\n",
    "        filho = num / den\n",
    "        filhos.append(filho)\n",
    "\n",
    "    return filhos\n"
   ]
  },
  {
   "cell_type": "code",
   "execution_count": null,
   "metadata": {},
   "outputs": [],
   "source": [
    "%timeit crossover_v1(pais_torneio)"
   ]
  },
  {
   "cell_type": "code",
   "execution_count": null,
   "metadata": {},
   "outputs": [],
   "source": [
    "filho = crossover_v1(pais_torneio)"
   ]
  },
  {
   "cell_type": "code",
   "execution_count": null,
   "metadata": {},
   "outputs": [],
   "source": [
    "def mutacao_v1(filho, xmax, xmin, ymax, ymin, zlim, z_min, inclmax, inclmin, declmax, declmin, magmax, magmin, n, homogeneo):\n",
    "\n",
    "    prob_mut = 0.01\n",
    "    for index, rand_mut in enumerate(filho):\n",
    "        rand_mut = random.random()\n",
    "        if prob_mut > rand_mut:\n",
    "            dip_select = random.randint(0, (len(filho[0]) - 1))\n",
    "            param_select = random.randint(0, (len(filho[0][0]) - 1))\n",
    "            if param_select <= 2:\n",
    "                coodX, coodY, coodZ = sample_random.sample_random_coordinated(xmax, xmin, ymax, ymin, zlim, z_min, n)\n",
    "                if param_select == 0:\n",
    "                    filho[index][dip_select][param_select] = float(coodX[0])\n",
    "                elif param_select == 1:\n",
    "                    filho[index][dip_select][param_select] = float(coodY[0])\n",
    "                elif param_select == 2:\n",
    "                    filho[index][dip_select][param_select] = float(coodZ[0])\n",
    "            else:\n",
    "                incl, decl, mag = sample_random.sample_random_mag(inclmax, inclmin, declmax, declmin, magmax, magmin, n, homogeneo)\n",
    "                if param_select == 3:\n",
    "                    filho[index][dip_select][param_select] = float(incl[0])\n",
    "                elif param_select == 4:\n",
    "                    filho[index][dip_select][param_select] = float(decl[0])\n",
    "                elif param_select == 5:\n",
    "                    filho[index][dip_select][param_select] = float(mag[0])\n",
    "\n",
    "    return filho\n"
   ]
  },
  {
   "cell_type": "code",
   "execution_count": null,
   "metadata": {},
   "outputs": [],
   "source": [
    "filhos_mut = {'xmax': 10000.0,\n",
    "                'xmin': -10000.0,\n",
    "                'ymax': 10000.0,\n",
    "                'ymin': -10000.0,\n",
    "                'zlim': 150.0,\n",
    "                'z_min': 0.0,\n",
    "                'n': 1,\n",
    "                'inclmax': -80.0,\n",
    "                'inclmin': 15.0,\n",
    "                'declmax': 172.0,\n",
    "                'declmin': -15.0,\n",
    "                'magmax': 5.0,\n",
    "                'magmin': 0.5,\n",
    "                'homogeneo': True\n",
    "                }"
   ]
  },
  {
   "cell_type": "code",
   "execution_count": null,
   "metadata": {},
   "outputs": [],
   "source": [
    "%timeit mutacao_v1(filho, **filhos_mut)"
   ]
  },
  {
   "cell_type": "code",
   "execution_count": null,
   "metadata": {},
   "outputs": [],
   "source": [
    "filhos = mutacao_v1(filho, **filhos_mut)"
   ]
  },
  {
   "cell_type": "code",
   "execution_count": null,
   "metadata": {},
   "outputs": [],
   "source": [
    "def elitismo_v1(pop, filhos, fit_cada):\n",
    "    n_fica = (len(pop) - len(filhos))\n",
    "    df = pd.DataFrame(fit_cada)\n",
    "    x = df.sort_values(0, ascending=True)\n",
    "    piores = x.index[n_fica:]\n",
    "    for index, pos in enumerate(piores):\n",
    "        pop[pos] = filhos[index]\n",
    "\n",
    "    return pop"
   ]
  },
  {
   "cell_type": "code",
   "execution_count": null,
   "metadata": {},
   "outputs": [],
   "source": [
    "%timeit elitismo_v1(pop, filhos, fit_cada1)"
   ]
  },
  {
   "cell_type": "code",
   "execution_count": null,
   "metadata": {},
   "outputs": [],
   "source": []
  },
  {
   "cell_type": "code",
   "execution_count": null,
   "metadata": {},
   "outputs": [],
   "source": []
  },
  {
   "cell_type": "code",
   "execution_count": null,
   "metadata": {},
   "outputs": [],
   "source": []
  }
 ],
 "metadata": {
  "kernelspec": {
   "display_name": "Python 3",
   "language": "python",
   "name": "python3"
  },
  "language_info": {
   "codemirror_mode": {
    "name": "ipython",
    "version": 3
   },
   "file_extension": ".py",
   "mimetype": "text/x-python",
   "name": "python",
   "nbconvert_exporter": "python",
   "pygments_lexer": "ipython3",
   "version": "3.6.5"
  }
 },
 "nbformat": 4,
 "nbformat_minor": 4
}
