{
 "cells": [
  {
   "cell_type": "code",
   "execution_count": 1,
   "metadata": {},
   "outputs": [],
   "source": [
    "import numpy as np\n",
    "import random\n",
    "import sys\n",
    "import matplotlib.pyplot as plt\n",
    "import pandas as pd\n",
    "import math\n",
    "import time\n",
    "a = sys.path.append('../modules/') # endereco das funcoes implementadas por voce!\n",
    "import plot_3D, auxiliars, salve_doc, sphere, sample_random, Operators_array, Operators_alpina\n",
    "#import test_operators_06_10_2020 as top\n",
    "from mpl_toolkits.mplot3d import Axes3D\n",
    "from mpl_toolkits.mplot3d.art3d import Poly3DCollection, Line3DCollection"
   ]
  },
  {
   "cell_type": "code",
   "execution_count": 2,
   "metadata": {},
   "outputs": [],
   "source": [
    "population = {'xmax': 10.0,\n",
    "                'xmin': 0.0,\n",
    "                'ymax': 10.0,\n",
    "                'ymin': 0.0,\n",
    "                'zlim': 10.0,\n",
    "                'z_min': 0.0,\n",
    "                'n_dip': 1,\n",
    "                'n_pop': 10,\n",
    "                'homogeneo': True\n",
    "                }\n",
    "\n",
    "filhos_mut = {'xmax': 10.0,\n",
    "                'xmin': 0.0,\n",
    "                'ymax': 10.0,\n",
    "                'ymin': 0.0,\n",
    "                'zlim': 100.0,\n",
    "                'z_min': 0.0,\n",
    "                'n': 1,\n",
    "                'homogeneo': True\n",
    "                }\n",
    "\n"
   ]
  },
  {
   "cell_type": "code",
   "execution_count": 3,
   "metadata": {},
   "outputs": [
    {
     "name": "stdout",
     "output_type": "stream",
     "text": [
      "[array([[2.94797896, 4.93302884]]), array([[2.26601896, 2.92450826]]), array([[2.99390604, 9.33270514]]), array([[8.6380547, 3.5994388]]), array([[7.20991982, 3.48483309]]), array([[6.30390954, 0.54935509]]), array([[3.74993999, 2.58385768]]), array([[2.38437082, 8.40754512]]), array([[6.89405084, 1.1805787 ]]), array([[1.16013555, 8.78235447]])]\n"
     ]
    }
   ],
   "source": [
    "pop_inicial = Operators_alpina.create_population(**population)\n",
    "print(pop_inicial)"
   ]
  },
  {
   "cell_type": "code",
   "execution_count": 21,
   "metadata": {},
   "outputs": [],
   "source": [
    "def uniform_crossover(pop_inicial):\n",
    "    p_shape = tuple(pop_inicial[0].shape) #tuple(mae1.shape)\n",
    "    filhos = []\n",
    "    n_filhos = int(len(pop_inicial) / 2)\n",
    "    pai = pop_inicial[0:n_filhos]\n",
    "    mae = pop_inicial[n_filhos:len(pop_inicial)]\n",
    "    print(mae)\n",
    "    for k in range(n_filhos):\n",
    "        probs = np.random.rand(p_shape[0], p_shape[1])\n",
    "        i_pai = pai[k]\n",
    "        i_mae = mae[k]\n",
    "        m_mae = np.zeros(p_shape)\n",
    "        m_pai = np.zeros(p_shape)\n",
    "        for i in range(p_shape[0]):\n",
    "            for j in range(p_shape[1]):\n",
    "                if probs[i,j] < 0.5:\n",
    "                    m_pai[i,j], m_mae[i,j] = i_mae[i,j], i_pai[i,j]\n",
    "                else:\n",
    "                    m_pai[i, j], m_mae[i, j] = i_pai[i, j], i_mae[i, j]\n",
    "        filhos +=[m_pai, m_mae]\n",
    "    return filhos"
   ]
  },
  {
   "cell_type": "code",
   "execution_count": 23,
   "metadata": {},
   "outputs": [],
   "source": [
    "def single_p_crossover(pop_inicial, X = 1):\n",
    "    filhos = []\n",
    "    n_filhos = int(len(pop_inicial) / 2)\n",
    "    pai = np.array(pop_inicial[0:n_filhos])\n",
    "    inv_pai = pai[::-1]\n",
    "    mae = np.array(pop_inicial[n_filhos:len(pop_inicial)])\n",
    "    for i in range(n_filhos):\n",
    "        pai_new = np.zeros((1,2))\n",
    "        mae_new = np.zeros((1,2))\n",
    "        invpai_new = np.zeros((1,2))\n",
    "        pai_new[0,0], pai_new[0,1] = pai[i][0,:X], mae[i][0,X:]\n",
    "        mae_new[0,0], mae_new[0,1] = mae[i][0,:X], pai[i][0,X:]\n",
    "        invpai_new[0,0], invpai_new[0,1] = inv_pai[i][0,:X], mae[i][0,X:]\n",
    "        filhos +=[pai_new, mae_new, invpai_new]\n",
    "    return filhos"
   ]
  },
  {
   "cell_type": "code",
   "execution_count": 6,
   "metadata": {},
   "outputs": [],
   "source": [
    "def crossover_mix_doubles(pais_torneio, escolhidos, fit):\n",
    "    filhos = []\n",
    "    n_filhos = int(len(pais_torneio) / 2)\n",
    "    n1_4_filhos = int(len(pais_torneio)/4)\n",
    "    pai = np.array(pais_torneio[0:n_filhos])\n",
    "    inv_pai = pai[::-1]\n",
    "    mae = np.array(pais_torneio[n_filhos:len(pais_torneio)])\n",
    "    m_pai = np.array(pais_torneio[n1_4_filhos:n_filhos])\n",
    "    m_mae = np.array(pais_torneio[n_filhos:(n_filhos+n1_4_filhos)])\n",
    "    m_pai = np.concatenate((m_pai, m_mae), axis=0)\n",
    "    # Sorteio das probabilidades de forma randômica.\n",
    "    probs = np.random.rand(4)\n",
    "\n",
    "    for j in range(n_filhos):\n",
    "        num0 = (probs[0] * pai[j] + probs[1] * mae[j])\n",
    "        filho0 = num0 / (probs[0] + probs[1]) # Cálculo do filho\n",
    "        #print('Filho=', j, filho)\n",
    "        num1 = (probs[2] * pai[j] + probs[3] * mae[j])\n",
    "        filho1 = num1 / (probs[2] + probs[3]) # Cálculo do filho\n",
    "        \n",
    "        num2 = (probs[0] * inv_pai[j] + probs[1] * mae[j])\n",
    "        filho2 = num2 / (probs[0] + probs[1])\n",
    "        \n",
    "        num3 = (probs[2] * inv_pai[j] + probs[3] * mae[j])\n",
    "        filho3 = num3 / (probs[2] + probs[3])\n",
    "        \n",
    "        num4 = (probs[0] * pai[j] + probs[1] * m_pai[j])\n",
    "        filho4 = num4 / (probs[0] + probs[1])\n",
    "        \n",
    "        num5 = (probs[2] * pai[j] + probs[3] * m_pai[j])\n",
    "        filho5 = num5 / (probs[2] + probs[3])\n",
    "        \n",
    "        num6 = (probs[0] * mae[j] + probs[1] * m_pai[j])\n",
    "        filho6 = num6 / (probs[0] + probs[1])\n",
    "        \n",
    "        num7 = (probs[2] * mae[j] + probs[3] * m_pai[j])\n",
    "        filho7 = num7 / (probs[2] + probs[3])\n",
    "        \n",
    "        \n",
    "        filhos += [filho0, filho1, filho2, filho3, filho4, filho5, filho6, filho7]\n",
    "\n",
    "    return filhos"
   ]
  },
  {
   "cell_type": "code",
   "execution_count": 7,
   "metadata": {},
   "outputs": [
    {
     "name": "stdout",
     "output_type": "stream",
     "text": [
      "[[0.07790816 0.9753555 ]\n",
      " [0.07185181 0.76761828]]\n",
      "<class 'numpy.ndarray'>\n",
      "-------------\n",
      "[[0.54134434 0.03121027]\n",
      " [0.62761335 0.35597305]]\n"
     ]
    }
   ],
   "source": [
    "mae1 = np.random.rand(2,2)\n",
    "print(mae1)\n",
    "print(type(mae1))\n",
    "print('-------------')\n",
    "pai1 = np.random.rand(2,2)\n",
    "print(pai1)"
   ]
  },
  {
   "cell_type": "code",
   "execution_count": 8,
   "metadata": {},
   "outputs": [
    {
     "name": "stdout",
     "output_type": "stream",
     "text": [
      "------------------------------\n",
      "[[0.57310295 0.00578259]]\n"
     ]
    }
   ],
   "source": [
    "p_shape = tuple(pop_inicial[0].shape) #tuple(mae1.shape)\n",
    "filhos = []\n",
    "n_filhos = int(len(pop_inicial) / 2)\n",
    "pai = pop_inicial[0:n_filhos]\n",
    "mae = pop_inicial[n_filhos:len(pop_inicial)]\n",
    "for k in range(n_filhos):\n",
    "    probs = np.random.rand(p_shape[0], p_shape[1])\n",
    "    i_pai = pai[k]\n",
    "    i_mae = mae[k]\n",
    "    m_mae = np.zeros(p_shape)\n",
    "    m_pai = np.zeros(p_shape)\n",
    "    for i in range(p_shape[0]):\n",
    "        for j in range(p_shape[1]):\n",
    "            if probs[i,j] < 0.5:\n",
    "                m_pai[i,j], m_mae[i,j] = i_mae[i,j], i_pai[i,j]\n",
    "            else:\n",
    "                m_pai[i, j], m_mae[i, j] = i_pai[i, j], i_mae[i, j]\n",
    "    filhos +=[m_pai, m_mae]\n",
    "print('------------------------------')\n",
    "print(probs)\n"
   ]
  },
  {
   "cell_type": "code",
   "execution_count": 9,
   "metadata": {},
   "outputs": [
    {
     "name": "stdout",
     "output_type": "stream",
     "text": [
      "[array([[2.94797896, 4.93302884]]), array([[2.26601896, 2.92450826]]), array([[2.99390604, 9.33270514]]), array([[8.6380547, 3.5994388]]), array([[7.20991982, 3.48483309]])]\n",
      "-----------------\n",
      "[array([[6.30390954, 0.54935509]]), array([[3.74993999, 2.58385768]]), array([[2.38437082, 8.40754512]]), array([[6.89405084, 1.1805787 ]]), array([[1.16013555, 8.78235447]])]\n"
     ]
    }
   ],
   "source": [
    "print(pai)\n",
    "print('-----------------')\n",
    "print(mae)"
   ]
  },
  {
   "cell_type": "code",
   "execution_count": 10,
   "metadata": {},
   "outputs": [
    {
     "name": "stdout",
     "output_type": "stream",
     "text": [
      "[array([[6.30390954, 0.54935509]]), array([[2.94797896, 4.93302884]]), array([[2.26601896, 2.92450826]]), array([[3.74993999, 2.58385768]]), array([[2.99390604, 9.33270514]]), array([[2.38437082, 8.40754512]]), array([[8.6380547, 1.1805787]]), array([[6.89405084, 3.5994388 ]]), array([[7.20991982, 8.78235447]]), array([[1.16013555, 3.48483309]])]\n",
      "10\n"
     ]
    }
   ],
   "source": [
    "print(filhos)\n",
    "print(len(filhos))"
   ]
  },
  {
   "cell_type": "code",
   "execution_count": 11,
   "metadata": {},
   "outputs": [
    {
     "name": "stdout",
     "output_type": "stream",
     "text": [
      "(1, 2)\n",
      "[[0.57310295 0.00578259]]\n",
      "1\n"
     ]
    }
   ],
   "source": [
    "print(p_shape)\n",
    "print(probs)\n",
    "print(len(probs))"
   ]
  },
  {
   "cell_type": "code",
   "execution_count": 12,
   "metadata": {},
   "outputs": [
    {
     "name": "stdout",
     "output_type": "stream",
     "text": [
      "[array([[2.94797896, 4.93302884]]), array([[2.26601896, 2.92450826]]), array([[2.99390604, 9.33270514]]), array([[8.6380547, 3.5994388]]), array([[7.20991982, 3.48483309]])]\n",
      "---------------------------\n",
      "[array([[6.30390954, 0.54935509]]), array([[3.74993999, 2.58385768]]), array([[2.38437082, 8.40754512]]), array([[6.89405084, 1.1805787 ]]), array([[1.16013555, 8.78235447]])]\n"
     ]
    }
   ],
   "source": [
    "print(pai)\n",
    "print('---------------------------')\n",
    "print(mae)"
   ]
  },
  {
   "cell_type": "code",
   "execution_count": 13,
   "metadata": {},
   "outputs": [
    {
     "name": "stdout",
     "output_type": "stream",
     "text": [
      "[array([[6.30390954, 0.54935509]]), array([[2.94797896, 4.93302884]]), array([[2.26601896, 2.92450826]]), array([[3.74993999, 2.58385768]]), array([[2.99390604, 9.33270514]]), array([[2.38437082, 8.40754512]]), array([[8.6380547, 1.1805787]]), array([[6.89405084, 3.5994388 ]]), array([[7.20991982, 8.78235447]]), array([[1.16013555, 3.48483309]])]\n",
      "10\n"
     ]
    }
   ],
   "source": [
    "print(filhos)\n",
    "print(len(filhos))"
   ]
  },
  {
   "cell_type": "code",
   "execution_count": 14,
   "metadata": {},
   "outputs": [
    {
     "name": "stdout",
     "output_type": "stream",
     "text": [
      "[[6.30390954 0.54935509]]\n"
     ]
    }
   ],
   "source": [
    "print(filhos[0])"
   ]
  },
  {
   "cell_type": "code",
   "execution_count": 24,
   "metadata": {},
   "outputs": [
    {
     "name": "stdout",
     "output_type": "stream",
     "text": [
      "[array([[2.94797896, 0.54935509]]), array([[6.30390954, 4.93302884]]), array([[7.20991982, 0.54935509]]), array([[2.26601896, 2.58385768]]), array([[3.74993999, 2.92450826]]), array([[8.6380547 , 2.58385768]]), array([[2.99390604, 8.40754512]]), array([[2.38437082, 9.33270514]]), array([[2.99390604, 8.40754512]]), array([[8.6380547, 1.1805787]]), array([[6.89405084, 3.5994388 ]]), array([[2.26601896, 1.1805787 ]]), array([[7.20991982, 8.78235447]]), array([[1.16013555, 3.48483309]]), array([[2.94797896, 8.78235447]])]\n",
      "15\n",
      "1\n"
     ]
    }
   ],
   "source": [
    "test_filho = single_p_crossover(pop_inicial, X = 1)\n",
    "print(test_filho)\n",
    "print(len(test_filho))\n",
    "print(len(test_filho[0]))"
   ]
  },
  {
   "cell_type": "code",
   "execution_count": 16,
   "metadata": {},
   "outputs": [
    {
     "name": "stdout",
     "output_type": "stream",
     "text": [
      "[[2.94797896 4.93302884]]\n",
      "<class 'list'>\n"
     ]
    }
   ],
   "source": [
    "print(test_filho[0])\n",
    "print(type(test_filho))"
   ]
  },
  {
   "cell_type": "code",
   "execution_count": 17,
   "metadata": {},
   "outputs": [
    {
     "data": {
      "text/plain": [
       "0"
      ]
     },
     "execution_count": 17,
     "metadata": {},
     "output_type": "execute_result"
    }
   ],
   "source": [
    "param_select = random.randint(0, 1)\n",
    "param_select"
   ]
  },
  {
   "cell_type": "code",
   "execution_count": 18,
   "metadata": {},
   "outputs": [],
   "source": [
    "t_t = Operators_array.crossover_polyamory(pop_inicial, 1, 1)"
   ]
  },
  {
   "cell_type": "code",
   "execution_count": 19,
   "metadata": {},
   "outputs": [
    {
     "name": "stdout",
     "output_type": "stream",
     "text": [
      "[array([[4.65717803, 2.70039294]]), array([[4.91607135, 2.36221435]]), array([[6.74848241, 1.98977348]]), array([[6.67858823, 1.76331598]]), array([[6.82205055, 2.22813464]]), array([[6.77920749, 2.08932291]]), array([[6.68691343, 1.79028968]]), array([[6.77078792, 2.06204347]]), array([[4.6443755, 2.7171162]]), array([[4.38467607, 3.05634777]]), array([[3.02179039, 2.75101252]]), array([[3.1362675 , 2.72473303]]), array([[6.14850347, 3.08219619]]), array([[5.77140977, 3.00384916]]), array([[6.54541897, 3.16466149]]), array([[6.31427171, 3.11663709]]), array([[5.81632599, 3.0131812 ]]), array([[6.2688464 , 3.10719928]]), array([[3.01612938, 2.75231207]]), array([[2.90129582, 2.77867339]]), array([[2.68346546, 8.86151463]]), array([[2.63644286, 8.79014314]]), array([[2.68346546, 8.86151463]]), array([[2.63644286, 8.79014314]]), array([[2.73295979, 8.93663773]]), array([[2.70413633, 8.89288913]]), array([[2.64204379, 8.79864431]]), array([[2.69847191, 8.88429161]]), array([[2.68579078, 8.86504402]]), array([[2.73295979, 8.93663773]]), array([[7.74982126, 2.36749632]]), array([[7.61528005, 2.18089332]]), array([[4.62310817, 2.03631266]]), array([[4.98013778, 1.90177718]]), array([[4.24731143, 2.17791995]]), array([[4.46615999, 2.09545369]]), array([[4.93761142, 1.91780191]]), array([[4.50916835, 2.07924733]]), array([[7.75647445, 2.37672402]]), array([[7.89143458, 2.56390805]]), array([[4.12872211, 6.18289802]]), array([[3.66201139, 6.5915754 ]]), array([[2.03741773, 6.89351748]]), array([[1.89949452, 7.19047377]]), array([[2.18259083, 6.58095178]]), array([[2.09804799, 6.76297718]]), array([[1.91592277, 7.15510285]]), array([[2.08143354, 6.79874902]]), array([[4.15180141, 6.16268852]]), array([[4.61996531, 5.75273865]])]\n",
      "<class 'list'>\n"
     ]
    }
   ],
   "source": [
    "print(t_t)\n",
    "print(type(t_t))"
   ]
  },
  {
   "cell_type": "code",
   "execution_count": 20,
   "metadata": {},
   "outputs": [
    {
     "name": "stdout",
     "output_type": "stream",
     "text": [
      "[array([[2.94797896, 0.54935509]]), array([[6.30390954, 4.93302884]]), array([[3.74993999, 2.58385768]]), array([[2.26601896, 2.92450826]]), array([[2.38437082, 8.40754512]]), array([[2.99390604, 9.33270514]]), array([[6.89405084, 3.5994388 ]]), array([[8.6380547, 1.1805787]]), array([[1.16013555, 8.78235447]]), array([[7.20991982, 3.48483309]])]\n",
      "10\n",
      "1\n"
     ]
    }
   ],
   "source": [
    "test_filho1 = uniform_crossover(pop_inicial)\n",
    "print(test_filho1)\n",
    "print(len(test_filho1))\n",
    "print(len(test_filho1[0]))"
   ]
  },
  {
   "cell_type": "code",
   "execution_count": null,
   "metadata": {},
   "outputs": [],
   "source": []
  }
 ],
 "metadata": {
  "kernelspec": {
   "display_name": "Python 3",
   "language": "python",
   "name": "python3"
  },
  "language_info": {
   "codemirror_mode": {
    "name": "ipython",
    "version": 3
   },
   "file_extension": ".py",
   "mimetype": "text/x-python",
   "name": "python",
   "nbconvert_exporter": "python",
   "pygments_lexer": "ipython3",
   "version": "3.6.5"
  }
 },
 "nbformat": 4,
 "nbformat_minor": 4
}
