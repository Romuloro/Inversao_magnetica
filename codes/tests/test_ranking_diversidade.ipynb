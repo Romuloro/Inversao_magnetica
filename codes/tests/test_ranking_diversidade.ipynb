{
 "cells": [
  {
   "cell_type": "code",
   "execution_count": 1,
   "metadata": {},
   "outputs": [],
   "source": [
    "import numpy as np\n",
    "import random\n",
    "import sys\n",
    "import matplotlib.pyplot as plt\n",
    "import pandas as pd\n",
    "import time\n",
    "from numba import jit\n",
    "from numba.typed import List\n",
    "a = sys.path.append('../modules/')\n",
    "import plot_3D, auxiliars, salve_doc, sphere, sample_random, Operators_array, aux_operators_array, graphs_and_dist"
   ]
  },
  {
   "cell_type": "code",
   "execution_count": 2,
   "metadata": {},
   "outputs": [
    {
     "data": {
      "image/png": "[encoded data removed]",
      "text/plain": [
       "<Figure size 864x864 with 1 Axes>"
      ]
     },
     "metadata": {
      "needs_background": "light"
     },
     "output_type": "display_data"
    }
   ],
   "source": [
    "acquisition = {'nx': 20,\n",
    "                  'ny': 20,\n",
    "                  'xmin': -5000,\n",
    "                  'xmax': 5000,\n",
    "                  'ymin': -5000,\n",
    "                  'ymax': 5000,\n",
    "                  'z': -50.0,\n",
    "                  'color': '.r'}\n",
    "\n",
    "\n",
    "x, y, X, Y, Z = plot_3D.create_aquisicao(**acquisition)\n",
    "\n",
    "data_cubo = pd.read_table('Logfile/28_01_2021_16_20/data_mag.cvs', sep =',')\n",
    "anomaly_cubo = np.reshape(np.array(data_cubo['Anomalia Magnética(nT)']), (20,20))\n"
   ]
  },
  {
   "cell_type": "code",
   "execution_count": 3,
   "metadata": {},
   "outputs": [],
   "source": [
    "population = {'xmax': 5000.0,\n",
    "                'xmin': -5000.0,\n",
    "                'ymax': 5000.0,\n",
    "                'ymin': -5000.0,\n",
    "                'zlim': 7000.0,\n",
    "                'z_min': 0.0,\n",
    "                'n_dip': 12,\n",
    "                'n_pop': 50,\n",
    "                'inclmax': 5.0,\n",
    "                'inclmin': -5.0,\n",
    "                'declmax': 5.0,\n",
    "                'declmin': -5.0,\n",
    "                'mmax': 100000000000,\n",
    "                'mmin': 10000000,\n",
    "                'homogeneo': True\n",
    "                }\n",
    "\n",
    "I, D = 5.0, 70.0\n",
    "momento = 38000000000\n",
    "\n",
    "filhos_mut = {'xmax': 5000.0,\n",
    "                'xmin': -5000.0,\n",
    "                'ymax': 5000.0,\n",
    "                'ymin': -5000.0,\n",
    "                'zlim': 7000.0,\n",
    "                'z_min': 0.0,\n",
    "                'n': 1,\n",
    "                'inclmax': 5.0,\n",
    "                'inclmin': -5.0,\n",
    "                'declmax': 5.0,\n",
    "                'declmin': -5.0,\n",
    "                'magmax': 100000000000,\n",
    "                'magmin': 1000000000,\n",
    "                'homogeneo': True\n",
    "                }"
   ]
  },
  {
   "cell_type": "code",
   "execution_count": 4,
   "metadata": {},
   "outputs": [
    {
     "name": "stdout",
     "output_type": "stream",
     "text": [
      "[[-1.77388428e+03  3.23996750e+02  2.57700894e+03]\n",
      " [-8.35370917e+02 -6.56584272e+02  9.26617948e+02]\n",
      " [ 2.45418045e+03  4.64290145e+03  1.53335545e+03]\n",
      " [-2.35467927e+03  8.90544117e+02  4.44321879e+03]\n",
      " [ 2.13539292e+02 -4.53793737e+03  6.03827554e+03]\n",
      " [-8.34928485e+01 -4.48885965e+03  3.56127756e+02]\n",
      " [-1.44387409e+03 -1.72491770e+03  3.29445898e+03]\n",
      " [-4.50138723e+03  1.00228306e+03  2.22361375e+03]\n",
      " [-3.61799136e+03 -5.27423372e+02  2.71476812e+03]\n",
      " [-1.53909863e+03 -5.85500202e+02  2.19307500e+03]\n",
      " [ 1.29442497e+03 -1.17881493e+03  3.27688825e+03]\n",
      " [ 1.29652899e+03  2.79164577e+03  6.39043952e+03]\n",
      " [ 3.29506735e+00 -2.45375077e-01  4.34644879e+09]]\n"
     ]
    }
   ],
   "source": [
    "populacao = Operators_array.create_population(**population)\n",
    "populacao = List(populacao)\n",
    "#print(populacao)\n",
    "print(populacao[0])"
   ]
  },
  {
   "cell_type": "code",
   "execution_count": 5,
   "metadata": {},
   "outputs": [
    {
     "name": "stdout",
     "output_type": "stream",
     "text": [
      "[87.25442291835273, 38.08371069769377, 19.452902068543462, 33.10972792649621, 18.839015402119667, 26.915252198019118, 22798.97662654964, 18.653643445796643, 1847.9563519840328, 7313.501888859386, 78.67664429641532, 20.46291426754076, 19.39983207460496, 2823.267908118668, 20.514570220991303, 29.173672945743277, 1020.3619915130951, 619566.8051229172, 1470.7358686953373, 49.90051374941146, 20.795055899800182, 12855.08405523431, 191.74879884789976, 42.39004453442717, 43510.88249743219, 31.264431734697922, 2339.4529959934393, 5636.318358462706, 5417.482875967415, 1501.552215940353, 2187.839237514181, 22.757502767771285, 725.805850220905, 18937.747061434653, 428.2794053657446, 161.75799060166847, 24.924476213360695, 15.361042239198957, 965.8288413555993, 37.249924992690396, 21.533347159879803, 56.87117033388871, 348.7474602774982, 20.248971363375954, 21.27545368092481, 498.1503281385364, 24.57880299045963, 159.98026684113577, 11133.451173601963, 86.3623046083138]\n"
     ]
    }
   ],
   "source": [
    "fit_, anomaly = Operators_array.fit_value(X, Y, Z, I, D, populacao, anomaly_cubo)\n",
    "print(fit_)"
   ]
  },
  {
   "cell_type": "code",
   "execution_count": 6,
   "metadata": {},
   "outputs": [
    {
     "name": "stdout",
     "output_type": "stream",
     "text": [
      "3.295067348970183\n"
     ]
    }
   ],
   "source": [
    "print(populacao[0][12,0])"
   ]
  },
  {
   "cell_type": "code",
   "execution_count": 7,
   "metadata": {},
   "outputs": [
    {
     "name": "stdout",
     "output_type": "stream",
     "text": [
      "87.25442291835273 38.08371069769377\n"
     ]
    }
   ],
   "source": [
    "pop_fit = []\n",
    "for i in range(len(populacao)):\n",
    "    pop_fit_junta = [populacao[i], fit_[i]]\n",
    "    pop_fit.append(pop_fit_junta)\n",
    "\n",
    "print(pop_fit[0][1], pop_fit[1][1])"
   ]
  },
  {
   "cell_type": "code",
   "execution_count": 25,
   "metadata": {},
   "outputs": [
    {
     "ename": "TypeError",
     "evalue": "'list' object is not callable",
     "output_type": "error",
     "traceback": [
      "\u001b[1;31m---------------------------------------------------------------------------\u001b[0m",
      "\u001b[1;31mTypeError\u001b[0m                                 Traceback (most recent call last)",
      "\u001b[1;32m<ipython-input-25-31a730d924d0>\u001b[0m in \u001b[0;36m<module>\u001b[1;34m\u001b[0m\n\u001b[1;32m----> 1\u001b[1;33m \u001b[0mfit_s\u001b[0m \u001b[1;33m=\u001b[0m \u001b[0msorted\u001b[0m\u001b[1;33m(\u001b[0m\u001b[0mpop_fit\u001b[0m\u001b[1;33m,\u001b[0m \u001b[0mkey\u001b[0m \u001b[1;33m=\u001b[0m \u001b[0mpop_fit\u001b[0m\u001b[1;33m[\u001b[0m\u001b[1;33m:\u001b[0m\u001b[1;33m]\u001b[0m\u001b[1;33m[\u001b[0m\u001b[1;36m1\u001b[0m\u001b[1;33m]\u001b[0m\u001b[1;33m)\u001b[0m\u001b[1;33m\u001b[0m\u001b[0m\n\u001b[0m\u001b[0;32m      2\u001b[0m \u001b[1;31m#print(fit_s)\u001b[0m\u001b[1;33m\u001b[0m\u001b[1;33m\u001b[0m\u001b[0m\n\u001b[0;32m      3\u001b[0m \u001b[1;31m#i_fit = fit_.index(fit_s)\u001b[0m\u001b[1;33m\u001b[0m\u001b[1;33m\u001b[0m\u001b[0m\n",
      "\u001b[1;31mTypeError\u001b[0m: 'list' object is not callable"
     ]
    }
   ],
   "source": [
    "\n",
    "fit_s = sorted(pop_fit, key = pop_fit[:][1])\n",
    "#print(fit_s)\n",
    "#i_fit = fit_.index(fit_s)"
   ]
  },
  {
   "cell_type": "code",
   "execution_count": 9,
   "metadata": {},
   "outputs": [],
   "source": [
    "v_teste = [45, 6, 70, 4, 80, 7, 12, 45, 9, 52]"
   ]
  },
  {
   "cell_type": "code",
   "execution_count": 10,
   "metadata": {},
   "outputs": [
    {
     "name": "stdout",
     "output_type": "stream",
     "text": [
      "10\n",
      "[45, 6, 70, 4, 80, 7, 12, 45, 9, 52]\n",
      "[70, 4]\n",
      "[80, 7]\n",
      "[12, 45]\n",
      "[9, 52]\n"
     ]
    }
   ],
   "source": [
    "n_div = 5\n",
    "n_len = int(len(populacao)/n_div)\n",
    "print(n_len)\n",
    "# [i*2, n_len*(i+1)]\n",
    "v_div = v_teste[0:n_len]\n",
    "v_div1 = v_teste[2:4]\n",
    "v_div2 = v_teste[4:6]\n",
    "v_div3 = v_teste[6:8]\n",
    "v_div4 = v_teste[8:10]\n",
    "print(v_div)\n",
    "print(v_div1)\n",
    "print(v_div2)\n",
    "print(v_div3)\n",
    "print(v_div4)"
   ]
  },
  {
   "cell_type": "code",
   "execution_count": 11,
   "metadata": {},
   "outputs": [],
   "source": [
    "k = 20\n",
    "v_regiao_pop = []\n",
    "for i in range(5):\n",
    "    v_pega_pop = populacao[(i*n_len):(n_len*(i+1))]\n",
    "    #v_pega_fit = fit_[]\n",
    "    v_regiao_pop.append(v_pega_pop)\n",
    "#print(len(v_segura[0]))"
   ]
  },
  {
   "cell_type": "code",
   "execution_count": 12,
   "metadata": {},
   "outputs": [
    {
     "name": "stdout",
     "output_type": "stream",
     "text": [
      "[None, None, None, None, None, None, None, None, None, None, None, None, None, None, None, None, None, None, None, None, None, None, None, None, None, None, None, None, None, None, None, None, None, None, None, None, None, None, None, None, None, None, None, None, None, None, None, None, None, None]\n"
     ]
    }
   ],
   "source": [
    "n_pop = populacao.copy()\n",
    "o = len(n_pop)\n",
    "pop_ord = [None]*o\n",
    "fit_ord = [None]*o\n",
    "fit_1 = np.array(fit_)\n",
    "print(pop_ord)\n",
    "#n_fica = 30\n",
    "#n_fica = int(len(pop) - (len(filhos)-(0.2*len(pop)))) Colocar o if!!!\n",
    "#print('N fica é =', n_fica)\n",
    "df = pd.DataFrame(fit_1)\n",
    "x = df.sort_values(0, ascending=True) #Ordenar os valores de acordo com o menor fit.\n",
    "y = x.index[0:len(x)]\n",
    "for index, pos in enumerate(y): #Substituir os piores indivíduos pelos filhos\n",
    "    pop_ord[index] = n_pop[pos]\n",
    "    fit_ord[index] = fit_[pos]\n",
    "\n"
   ]
  },
  {
   "cell_type": "code",
   "execution_count": 13,
   "metadata": {},
   "outputs": [],
   "source": [
    "#x"
   ]
  },
  {
   "cell_type": "code",
   "execution_count": 14,
   "metadata": {},
   "outputs": [],
   "source": [
    "#print(fit_ord)"
   ]
  },
  {
   "cell_type": "code",
   "execution_count": 15,
   "metadata": {},
   "outputs": [],
   "source": [
    "#print(y)\n",
    "#print(type(y))"
   ]
  },
  {
   "cell_type": "code",
   "execution_count": 16,
   "metadata": {},
   "outputs": [],
   "source": [
    "#pop_ord"
   ]
  },
  {
   "cell_type": "code",
   "execution_count": 17,
   "metadata": {},
   "outputs": [],
   "source": [
    "#pop_ord[0]\n",
    "#print(len(pop_ord))"
   ]
  },
  {
   "cell_type": "code",
   "execution_count": 18,
   "metadata": {},
   "outputs": [],
   "source": [
    "#populacao[37]"
   ]
  },
  {
   "cell_type": "code",
   "execution_count": 19,
   "metadata": {},
   "outputs": [],
   "source": [
    "def tournament_selection_ranking_diversit(populacao, fit_, n_regiao= 5):\n",
    "    n_pop = populacao.copy()\n",
    "    pais_ = []\n",
    "    n_len = int(len(populacao)/n_regiao)\n",
    "    k = 20\n",
    "    v_regiao_pop = []\n",
    "    v_regiao_fit = []\n",
    "    pop_ord = [None]*len(n_pop)\n",
    "    fit_ord = [None]*len(n_pop)\n",
    "    # Ordenando os valores da população e do phi\n",
    "    df = pd.DataFrame(fit_)\n",
    "    x = df.sort_values(0, ascending=True) #Ordenar os valores de acordo com o menor fit.\n",
    "    y = x.index[0:len(x)]\n",
    "    for index, pos in enumerate(y):\n",
    "        pop_ord[index] = n_pop[pos]\n",
    "        fit_ord[index] = fit_[pos]\n",
    "    #Dividindo as regiões\n",
    "    for i in range(n_regiao):\n",
    "        v_pega_pop = pop_ord[(i*n_len):(n_len*(i+1))]\n",
    "        v_pega_fit = fit_ord[(i*n_len):(n_len*(i+1))]\n",
    "        v_regiao_pop.append(v_pega_pop)\n",
    "        v_regiao_fit.append(v_pega_fit)\n",
    "    #Escolhendo os pais via torneios\n",
    "        aprovados, escolhidos = Operators_array.tournament_selection(v_regiao_pop[i], v_regiao_fit[i])\n",
    "        pais_.extend(aprovados)\n",
    "    \n",
    "    return pais_\n"
   ]
  },
  {
   "cell_type": "code",
   "execution_count": 20,
   "metadata": {},
   "outputs": [],
   "source": [
    "#papai = tournament_selection_ranking_diversit(populacao, fit_, n_regiao= 5)"
   ]
  },
  {
   "cell_type": "markdown",
   "metadata": {},
   "source": [
    "# Grafos"
   ]
  },
  {
   "cell_type": "code",
   "execution_count": 21,
   "metadata": {},
   "outputs": [],
   "source": [
    "theta, mst = graphs_and_dist.theta_value(populacao)"
   ]
  },
  {
   "cell_type": "code",
   "execution_count": 22,
   "metadata": {},
   "outputs": [
    {
     "name": "stdout",
     "output_type": "stream",
     "text": [
      "57.9 ms ± 2.23 ms per loop (mean ± std. dev. of 7 runs, 10 loops each)\n"
     ]
    }
   ],
   "source": [
    "%timeit graphs_and_dist.theta_value(populacao)"
   ]
  },
  {
   "cell_type": "code",
   "execution_count": 23,
   "metadata": {},
   "outputs": [
    {
     "name": "stdout",
     "output_type": "stream",
     "text": [
      "41.6 ms ± 3.65 ms per loop (mean ± std. dev. of 7 runs, 10 loops each)\n"
     ]
    }
   ],
   "source": [
    "%timeit Operators_array.fit_value(X, Y, Z, I, D, populacao, anomaly_cubo)"
   ]
  },
  {
   "cell_type": "code",
   "execution_count": 24,
   "metadata": {},
   "outputs": [
    {
     "name": "stdout",
     "output_type": "stream",
     "text": [
      "1.74 ms ± 34.7 µs per loop (mean ± std. dev. of 7 runs, 1000 loops each)\n"
     ]
    }
   ],
   "source": [
    "%timeit Operators_array.tournament_selection(populacao, fit_, p_pop = 0.5, n_pai = 0.4)"
   ]
  },
  {
   "cell_type": "code",
   "execution_count": null,
   "metadata": {},
   "outputs": [],
   "source": []
  }
 ],
 "metadata": {
  "kernelspec": {
   "display_name": "Python 3",
   "language": "python",
   "name": "python3"
  },
  "language_info": {
   "codemirror_mode": {
    "name": "ipython",
    "version": 3
   },
   "file_extension": ".py",
   "mimetype": "text/x-python",
   "name": "python",
   "nbconvert_exporter": "python",
   "pygments_lexer": "ipython3",
   "version": "3.6.5"
  }
 },
 "nbformat": 4,
 "nbformat_minor": 4
}
