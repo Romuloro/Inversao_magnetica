{
 "cells": [
  {
   "cell_type": "code",
   "execution_count": 1,
   "metadata": {},
   "outputs": [],
   "source": [
    "import numpy as np\n",
    "import random\n",
    "import pandas as pd\n",
    "import sys\n",
    "import networkx as nx\n",
    "import matplotlib.pyplot as plt\n",
    "import math as mt\n",
    "from mpl_toolkits.mplot3d import Axes3D\n",
    "from mpl_toolkits.mplot3d.art3d import Poly3DCollection, Line3DCollection\n",
    "a = sys.path.append('../modules/')  # endereco das funcoes implementadas por voce!\n",
    "import sphere, sample_random, aux_operators_array, Operators_array, plot_3D"
   ]
  },
  {
   "cell_type": "code",
   "execution_count": 2,
   "metadata": {},
   "outputs": [],
   "source": [
    "population = {'xmax': 5000.0,\n",
    "                'xmin': -5000.0,\n",
    "                'ymax': 5000.0,\n",
    "                'ymin': -5000.0,\n",
    "                'zlim': 7000.0,\n",
    "                'z_min': 0.0,\n",
    "                'n_dip': 4,\n",
    "                'n_pop': 2,\n",
    "                'inclmax': 5.0,\n",
    "                'inclmin': -5.0,\n",
    "                'declmax': 5.0,\n",
    "                'declmin': -5.0,\n",
    "                'magmax': 2.5,\n",
    "                'magmin': 1.5,\n",
    "                'homogeneo': True\n",
    "                }\n",
    "\n",
    "\n",
    "filhos_mut = {'xmax': 5000.0,\n",
    "                'xmin': -5000.0,\n",
    "                'ymax': 5000.0,\n",
    "                'ymin': -5000.0,\n",
    "                'zlim': 7000.0,\n",
    "                'z_min': 0.0,\n",
    "                'n': 1,\n",
    "                'inclmax': 5.0,\n",
    "                'inclmin': -5.0,\n",
    "                'declmax': 5.0,\n",
    "                'declmin': -5.0,\n",
    "                'magmax': 2.5,\n",
    "                'magmin': 1.5,\n",
    "                'homogeneo': True\n",
    "                }"
   ]
  },
  {
   "cell_type": "code",
   "execution_count": 3,
   "metadata": {},
   "outputs": [],
   "source": [
    "populacao = Operators_array.create_population(**population)"
   ]
  },
  {
   "cell_type": "code",
   "execution_count": 4,
   "metadata": {},
   "outputs": [
    {
     "name": "stdout",
     "output_type": "stream",
     "text": [
      "[[-7.14773824e+02  1.03677194e+03  3.57922919e+02]\n",
      " [ 1.37987972e+03 -4.56503246e+03  3.63375117e+03]\n",
      " [-2.03055582e+02  4.60171423e+02  7.18975035e+02]\n",
      " [ 2.01543176e+03 -3.78502796e+03  4.32999589e+03]\n",
      " [ 4.94100420e+00 -1.09855348e+00  1.69589451e+00]]\n",
      "[-714.77382361 1036.77194408  357.92291875]\n"
     ]
    }
   ],
   "source": [
    "print(populacao[0])\n",
    "print(populacao[0][0])"
   ]
  },
  {
   "cell_type": "code",
   "execution_count": 5,
   "metadata": {},
   "outputs": [],
   "source": [
    "def mutacao_multi_vhomo(filho, xmax, xmin, ymax, ymin, zlim, z_min, inclmax, inclmin, declmax, declmin, magmax, magmin, n, homogeneo):\n",
    "\n",
    "    prob_mut = 0.05\n",
    "    n_dip = len(filho[0]) - 1\n",
    "    n_param = 6\n",
    "    for index, rand_mut in enumerate(filho): #Index = qual será o indivíduo que será mutado.\n",
    "        rand_mut = random.random()\n",
    "        if prob_mut > rand_mut:\n",
    "            dip_select = random.sample(range(0,(len(filho[0]) - 2)), k=(int(n_dip/2))) #Seleção qual dipolo será mutado.\n",
    "            param_select = random.sample(range(0, (len(populacao[0][0]) + 3)), k=(int(n_param/2))) #Selecão qual parâmetro será mutado.\n",
    "            for round in dip_select:\n",
    "                for param in param_select:\n",
    "                    if param <= 2:\n",
    "                        coodX, coodY, coodZ = sample_random.sample_random_coordinated(xmax, xmin, ymax, ymin, zlim, z_min, n)\n",
    "                    if param == 0:\n",
    "                        filho[index][round][param] = coodX[0]\n",
    "                    elif param == 1:\n",
    "                        filho[index][round][param] = coodY[0]\n",
    "                    elif param == 2:\n",
    "                        filho[index][round][param] = coodZ[0]\n",
    "                    else:\n",
    "                        incl, decl, mag = sample_random.sample_random_mag(inclmax, inclmin, declmax, declmin, magmax, magmin, n, homogeneo)\n",
    "                    if param == 3:\n",
    "                        filho[index][len(filho[0])-1][0] = incl[0]\n",
    "                    elif param == 4:\n",
    "                        filho[index][len(filho[0])-1][1] = decl[0]\n",
    "                    elif param == 5:\n",
    "                        filho[index][len(filho[0])-1][2] = mag[0]\n",
    "\n",
    "    return filho"
   ]
  },
  {
   "cell_type": "code",
   "execution_count": 6,
   "metadata": {},
   "outputs": [
    {
     "name": "stdout",
     "output_type": "stream",
     "text": [
      "4\n",
      "[2, 1]\n",
      "[2, 5, 0]\n"
     ]
    }
   ],
   "source": [
    "n_dip = 4\n",
    "bb = len(populacao[0]) - 1\n",
    "print(bb)\n",
    "n_param = 6\n",
    "dipol_select = random.sample(range(0,(len(populacao[0]) - 2)), k=(int(n_dip/2)))\n",
    "param_select = random.sample(range(0, (len(populacao[0][0]) + 3)), k=(int(n_param/2)))\n",
    "print(dipol_select)\n",
    "print(param_select)"
   ]
  },
  {
   "cell_type": "code",
   "execution_count": 7,
   "metadata": {},
   "outputs": [
    {
     "name": "stdout",
     "output_type": "stream",
     "text": [
      "[array([[-7.14773824e+02,  1.03677194e+03,  3.57922919e+02],\n",
      "       [ 1.37987972e+03, -4.56503246e+03,  3.63375117e+03],\n",
      "       [-2.03055582e+02,  4.60171423e+02,  7.18975035e+02],\n",
      "       [ 2.01543176e+03, -3.78502796e+03,  4.32999589e+03],\n",
      "       [ 4.94100420e+00, -1.09855348e+00,  1.69589451e+00]]), array([[ 3.95553097e+03, -2.64640659e+03,  1.85579342e+03],\n",
      "       [ 1.52365867e+03, -1.10213387e+03,  2.42435319e+03],\n",
      "       [-7.93759337e+01,  2.97840058e+03,  4.98469324e+03],\n",
      "       [ 3.05297055e+03,  3.69991984e+03,  6.83298435e+03],\n",
      "       [ 3.29135307e+00,  5.66380840e-01,  1.97684581e+00]])]\n"
     ]
    }
   ],
   "source": [
    "print(populacao)"
   ]
  },
  {
   "cell_type": "code",
   "execution_count": 8,
   "metadata": {},
   "outputs": [],
   "source": [
    "mut_ = mutacao_multi_vhomo(populacao,**filhos_mut)"
   ]
  },
  {
   "cell_type": "code",
   "execution_count": 9,
   "metadata": {},
   "outputs": [
    {
     "name": "stdout",
     "output_type": "stream",
     "text": [
      "[array([[-7.14773824e+02,  1.03677194e+03,  3.57922919e+02],\n",
      "       [ 1.37987972e+03, -4.56503246e+03,  3.63375117e+03],\n",
      "       [-2.03055582e+02,  4.60171423e+02,  7.18975035e+02],\n",
      "       [ 2.01543176e+03, -3.78502796e+03,  4.32999589e+03],\n",
      "       [ 4.94100420e+00, -1.09855348e+00,  1.69589451e+00]]), array([[ 3.95553097e+03, -2.64640659e+03,  1.85579342e+03],\n",
      "       [ 1.52365867e+03, -1.10213387e+03,  2.42435319e+03],\n",
      "       [-7.93759337e+01,  2.97840058e+03,  4.98469324e+03],\n",
      "       [ 3.05297055e+03,  3.69991984e+03,  6.83298435e+03],\n",
      "       [ 3.29135307e+00,  5.66380840e-01,  1.97684581e+00]])]\n"
     ]
    }
   ],
   "source": [
    "print(mut_)"
   ]
  },
  {
   "cell_type": "code",
   "execution_count": 29,
   "metadata": {},
   "outputs": [
    {
     "name": "stdout",
     "output_type": "stream",
     "text": [
      "15\n",
      "[5, 5, 7]\n"
     ]
    }
   ],
   "source": [
    "vetor_test = [5,5,5,5,5,5,2,2,2,3,7,7,7,7,7]\n",
    "vv = vetor_test[0:15:5]\n",
    "print(len(vetor_test))\n",
    "print(vv)"
   ]
  },
  {
   "cell_type": "code",
   "execution_count": 30,
   "metadata": {},
   "outputs": [
    {
     "name": "stdout",
     "output_type": "stream",
     "text": [
      "mantem em 0,05\n",
      "mantem em 0,05\n",
      "mantem em 0,05\n",
      "mantem em 0,05\n",
      "mantem em 0,05\n",
      "aumenta mut para 0,2\n",
      "mantem em 0,05\n",
      "mantem em 0,05\n",
      "mantem em 0,05\n",
      "mantem em 0,05\n",
      "mantem em 0,05\n",
      "mantem em 0,05\n",
      "mantem em 0,05\n",
      "mantem em 0,05\n",
      "mantem em 0,05\n"
     ]
    }
   ],
   "source": [
    "for i in range(len(vetor_test)):\n",
    "    if (i % 5 == 0) and (vetor_test[i] == vetor_test[i-5]):\n",
    "        print('aumenta mut para 0,2')\n",
    "    else:\n",
    "        print(\"mantem em 0,05\")\n",
    "        "
   ]
  },
  {
   "cell_type": "code",
   "execution_count": null,
   "metadata": {},
   "outputs": [],
   "source": []
  }
 ],
 "metadata": {
  "kernelspec": {
   "display_name": "Python 3",
   "language": "python",
   "name": "python3"
  },
  "language_info": {
   "codemirror_mode": {
    "name": "ipython",
    "version": 3
   },
   "file_extension": ".py",
   "mimetype": "text/x-python",
   "name": "python",
   "nbconvert_exporter": "python",
   "pygments_lexer": "ipython3",
   "version": "3.6.5"
  }
 },
 "nbformat": 4,
 "nbformat_minor": 4
}
