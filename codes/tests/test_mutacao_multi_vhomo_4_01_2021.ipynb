{
 "cells": [
  {
   "cell_type": "code",
   "execution_count": 1,
   "metadata": {},
   "outputs": [],
   "source": [
    "import numpy as np\n",
    "import random\n",
    "import pandas as pd\n",
    "import sys\n",
    "import networkx as nx\n",
    "import matplotlib.pyplot as plt\n",
    "import math as mt\n",
    "from mpl_toolkits.mplot3d import Axes3D\n",
    "from mpl_toolkits.mplot3d.art3d import Poly3DCollection, Line3DCollection\n",
    "a = sys.path.append('../modules/')  # endereco das funcoes implementadas por voce!\n",
    "import sphere, sample_random, aux_operators_array, Operators_array, plot_3D"
   ]
  },
  {
   "cell_type": "code",
   "execution_count": 2,
   "metadata": {},
   "outputs": [],
   "source": [
    "population = {'xmax': 5000.0,\n",
    "                'xmin': -5000.0,\n",
    "                'ymax': 5000.0,\n",
    "                'ymin': -5000.0,\n",
    "                'zlim': 7000.0,\n",
    "                'z_min': 0.0,\n",
    "                'n_dip': 4,\n",
    "                'n_pop': 2,\n",
    "                'inclmax': 5.0,\n",
    "                'inclmin': -5.0,\n",
    "                'declmax': 5.0,\n",
    "                'declmin': -5.0,\n",
    "                'magmax': 2.5,\n",
    "                'magmin': 1.5,\n",
    "                'homogeneo': True\n",
    "                }\n",
    "\n",
    "\n",
    "filhos_mut = {'xmax': 5000.0,\n",
    "                'xmin': -5000.0,\n",
    "                'ymax': 5000.0,\n",
    "                'ymin': -5000.0,\n",
    "                'zlim': 7000.0,\n",
    "                'z_min': 0.0,\n",
    "                'n': 1,\n",
    "                'inclmax': 5.0,\n",
    "                'inclmin': -5.0,\n",
    "                'declmax': 5.0,\n",
    "                'declmin': -5.0,\n",
    "                'magmax': 2.5,\n",
    "                'magmin': 1.5,\n",
    "                'homogeneo': True\n",
    "                }"
   ]
  },
  {
   "cell_type": "code",
   "execution_count": 3,
   "metadata": {},
   "outputs": [],
   "source": [
    "populacao = Operators_array.create_population(**population)"
   ]
  },
  {
   "cell_type": "code",
   "execution_count": 4,
   "metadata": {},
   "outputs": [
    {
     "name": "stdout",
     "output_type": "stream",
     "text": [
      "[[-4.95225813e+03 -1.78771942e+03  1.35753096e+03]\n",
      " [-6.73312742e+02 -1.13317055e+03  6.86971159e+03]\n",
      " [-1.62640934e+03  1.51354729e+03  6.91143773e+03]\n",
      " [-1.82576982e+03  5.47835820e+02  3.69308586e+03]\n",
      " [ 3.93669568e+00 -4.79859331e+00  2.34536913e+00]]\n",
      "[-4952.25812809 -1787.71941885  1357.53095972]\n"
     ]
    }
   ],
   "source": [
    "print(populacao[0])\n",
    "print(populacao[0][0])"
   ]
  },
  {
   "cell_type": "code",
   "execution_count": 5,
   "metadata": {},
   "outputs": [],
   "source": [
    "def mutacao_multi_vhomo(filho, xmax, xmin, ymax, ymin, zlim, z_min, inclmax, inclmin, declmax, declmin, magmax, magmin, n, homogeneo):\n",
    "\n",
    "    prob_mut = 0.05\n",
    "    n_dip = len(filho[0]) - 1\n",
    "    n_param = 6\n",
    "    for index, rand_mut in enumerate(filho): #Index = qual será o indivíduo que será mutado.\n",
    "        rand_mut = random.random()\n",
    "        if prob_mut > rand_mut:\n",
    "            dip_select = random.sample(range(0,(len(filho[0]) - 2)), k=(int(n_dip/2))) #Seleção qual dipolo será mutado.\n",
    "            param_select = random.sample(range(0, (len(populacao[0][0]) + 3)), k=(int(n_param/2))) #Selecão qual parâmetro será mutado.\n",
    "            for round in dip_select:\n",
    "                for param in param_select:\n",
    "                    if param <= 2:\n",
    "                        coodX, coodY, coodZ = sample_random.sample_random_coordinated(xmax, xmin, ymax, ymin, zlim, z_min, n)\n",
    "                    if param == 0:\n",
    "                        filho[index][round][param] = coodX[0]\n",
    "                    elif param == 1:\n",
    "                        filho[index][round][param] = coodY[0]\n",
    "                    elif param == 2:\n",
    "                        filho[index][round][param] = coodZ[0]\n",
    "                    else:\n",
    "                        incl, decl, mag = sample_random.sample_random_mag(inclmax, inclmin, declmax, declmin, magmax, magmin, n, homogeneo)\n",
    "                    if param == 3:\n",
    "                        filho[index][len(filho[0])-1][0] = incl[0]\n",
    "                    elif param == 4:\n",
    "                        filho[index][len(filho[0])-1][1] = decl[0]\n",
    "                    elif param == 5:\n",
    "                        filho[index][len(filho[0])-1][2] = mag[0]\n",
    "\n",
    "    return filho"
   ]
  },
  {
   "cell_type": "code",
   "execution_count": 6,
   "metadata": {},
   "outputs": [
    {
     "name": "stdout",
     "output_type": "stream",
     "text": [
      "4\n",
      "[2, 0]\n",
      "[3, 0, 4]\n"
     ]
    }
   ],
   "source": [
    "n_dip = 4\n",
    "bb = len(populacao[0]) - 1\n",
    "print(bb)\n",
    "n_param = 6\n",
    "dipol_select = random.sample(range(0,(len(populacao[0]) - 2)), k=(int(n_dip/2)))\n",
    "param_select = random.sample(range(0, (len(populacao[0][0]) + 3)), k=(int(n_param/2)))\n",
    "print(dipol_select)\n",
    "print(param_select)"
   ]
  },
  {
   "cell_type": "code",
   "execution_count": 7,
   "metadata": {},
   "outputs": [
    {
     "name": "stdout",
     "output_type": "stream",
     "text": [
      "[array([[-4.95225813e+03, -1.78771942e+03,  1.35753096e+03],\n",
      "       [-6.73312742e+02, -1.13317055e+03,  6.86971159e+03],\n",
      "       [-1.62640934e+03,  1.51354729e+03,  6.91143773e+03],\n",
      "       [-1.82576982e+03,  5.47835820e+02,  3.69308586e+03],\n",
      "       [ 3.93669568e+00, -4.79859331e+00,  2.34536913e+00]]), array([[-1.99157338e+03, -3.45868328e+03,  5.60998691e+03],\n",
      "       [-3.04040647e+03,  3.63276524e+03,  2.35316249e+03],\n",
      "       [ 6.78020697e+02,  3.43294100e+03,  2.99076680e+02],\n",
      "       [ 2.09058773e+03, -3.82326472e+03,  3.65650624e+03],\n",
      "       [-3.42703776e+00, -1.84290518e+00,  1.86475224e+00]])]\n"
     ]
    }
   ],
   "source": [
    "print(populacao)"
   ]
  },
  {
   "cell_type": "code",
   "execution_count": 10,
   "metadata": {},
   "outputs": [],
   "source": [
    "mut_ = mutacao_multi_vhomo(populacao,**filhos_mut)"
   ]
  },
  {
   "cell_type": "code",
   "execution_count": 11,
   "metadata": {},
   "outputs": [
    {
     "name": "stdout",
     "output_type": "stream",
     "text": [
      "[array([[-4.95225813e+03, -1.78771942e+03,  1.35753096e+03],\n",
      "       [-6.73312742e+02, -1.13317055e+03,  6.86971159e+03],\n",
      "       [-1.62640934e+03,  1.51354729e+03,  6.91143773e+03],\n",
      "       [-1.82576982e+03,  5.47835820e+02,  3.69308586e+03],\n",
      "       [ 3.93669568e+00, -4.79859331e+00,  2.34536913e+00]]), array([[-1.99157338e+03, -3.45868328e+03,  5.60998691e+03],\n",
      "       [-3.04040647e+03,  3.63276524e+03,  2.35316249e+03],\n",
      "       [ 6.78020697e+02,  3.43294100e+03,  2.99076680e+02],\n",
      "       [ 2.09058773e+03, -3.82326472e+03,  3.65650624e+03],\n",
      "       [-3.42703776e+00, -1.84290518e+00,  1.86475224e+00]])]\n"
     ]
    }
   ],
   "source": [
    "print(mut_)"
   ]
  },
  {
   "cell_type": "code",
   "execution_count": null,
   "metadata": {},
   "outputs": [],
   "source": []
  }
 ],
 "metadata": {
  "kernelspec": {
   "display_name": "Python 3",
   "language": "python",
   "name": "python3"
  },
  "language_info": {
   "codemirror_mode": {
    "name": "ipython",
    "version": 3
   },
   "file_extension": ".py",
   "mimetype": "text/x-python",
   "name": "python",
   "nbconvert_exporter": "python",
   "pygments_lexer": "ipython3",
   "version": "3.6.5"
  }
 },
 "nbformat": 4,
 "nbformat_minor": 4
}
