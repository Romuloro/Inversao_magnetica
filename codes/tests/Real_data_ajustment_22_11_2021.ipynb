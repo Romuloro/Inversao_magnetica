{
 "cells": [
  {
   "cell_type": "code",
   "execution_count": 1,
   "id": "minute-russian",
   "metadata": {},
   "outputs": [],
   "source": [
    "import numpy as np\n",
    "import random\n",
    "import sys, os\n",
    "import matplotlib.pyplot as plt\n",
    "import pandas as pd\n",
    "a = sys.path.append('../modules/') # endereco das funcoes implementadas por voce!\n",
    "from datetime import datetime\n",
    "import plot_3D, auxiliars, salve_doc, sphere, sample_random, Operators_array, aux_operators_array, graphs_and_dist, derivative\n",
    "import warnings\n",
    "warnings.filterwarnings(\"ignore\")\n",
    "#import test_operators_12_02_2021_sem_lambda as top\n",
    "#import tes_operators_22_02_2021_KM as top\n",
    "#import test_operators_11_02_2021 as top\n",
    "from mpl_toolkits.mplot3d import Axes3D\n",
    "from mpl_toolkits.mplot3d.art3d import Poly3DCollection, Line3DCollection"
   ]
  },
  {
   "cell_type": "code",
   "execution_count": 2,
   "id": "appropriate-biodiversity",
   "metadata": {},
   "outputs": [],
   "source": [
    "#os.chdir('/home/romulo/my_project_dir/Inversao_magnetica/codes/tests/Dissertacao/Test_sintetico/Dique_inclinado/25_09_2022_15_53')"
   ]
  },
  {
   "cell_type": "code",
   "execution_count": 3,
   "id": "upset-living",
   "metadata": {},
   "outputs": [],
   "source": [
    "#dipolos = np.array(pd.read_table('final_ind.csv', sep=',', header=None))\n",
    "#data_cubo = pd.read_table('result_anomaly.csv', sep=',')\n",
    "data_cubo = pd.read_table('/home/romulo/my_project_dir/Inversao_magnetica/codes/tests/Dissertacao/Test_real/Morro_do_forno/Data_mag_morro_do_forno_residuo.csv', sep=',')\n",
    "anomaly_cubo = np.reshape(np.array(data_cubo['Anomalia Magnética(nT)']), (20,20))\n",
    "X = np.reshape(np.array(data_cubo['North(m)']), (20,20))\n",
    "Y = np.reshape(np.array(data_cubo['East(m)']), (20,20))\n",
    "#Z = np.reshape(np.array(data_cubo['Altura de voo(m)']), (20,20))\n",
    "Z = np.full((20, 20), 100.0)"
   ]
  },
  {
   "cell_type": "code",
   "execution_count": 4,
   "id": "experimental-awareness",
   "metadata": {},
   "outputs": [
    {
     "data": {
      "text/html": [
       "<div>\n",
       "<style scoped>\n",
       "    .dataframe tbody tr th:only-of-type {\n",
       "        vertical-align: middle;\n",
       "    }\n",
       "\n",
       "    .dataframe tbody tr th {\n",
       "        vertical-align: top;\n",
       "    }\n",
       "\n",
       "    .dataframe thead th {\n",
       "        text-align: right;\n",
       "    }\n",
       "</style>\n",
       "<table border=\"1\" class=\"dataframe\">\n",
       "  <thead>\n",
       "    <tr style=\"text-align: right;\">\n",
       "      <th></th>\n",
       "      <th>North(m)</th>\n",
       "      <th>East(m)</th>\n",
       "      <th>Anomalia Magnética(nT)</th>\n",
       "    </tr>\n",
       "  </thead>\n",
       "  <tbody>\n",
       "    <tr>\n",
       "      <th>0</th>\n",
       "      <td>7.456709e+06</td>\n",
       "      <td>805045.855200</td>\n",
       "      <td>3.958776</td>\n",
       "    </tr>\n",
       "    <tr>\n",
       "      <th>1</th>\n",
       "      <td>7.456913e+06</td>\n",
       "      <td>805049.994770</td>\n",
       "      <td>-5.841504</td>\n",
       "    </tr>\n",
       "    <tr>\n",
       "      <th>2</th>\n",
       "      <td>7.457117e+06</td>\n",
       "      <td>805054.134025</td>\n",
       "      <td>1.699822</td>\n",
       "    </tr>\n",
       "    <tr>\n",
       "      <th>3</th>\n",
       "      <td>7.457321e+06</td>\n",
       "      <td>805058.272965</td>\n",
       "      <td>-56.749345</td>\n",
       "    </tr>\n",
       "    <tr>\n",
       "      <th>4</th>\n",
       "      <td>7.457525e+06</td>\n",
       "      <td>805062.411591</td>\n",
       "      <td>-40.058582</td>\n",
       "    </tr>\n",
       "    <tr>\n",
       "      <th>...</th>\n",
       "      <td>...</td>\n",
       "      <td>...</td>\n",
       "      <td>...</td>\n",
       "    </tr>\n",
       "    <tr>\n",
       "      <th>395</th>\n",
       "      <td>7.459676e+06</td>\n",
       "      <td>809725.967494</td>\n",
       "      <td>-27.384021</td>\n",
       "    </tr>\n",
       "    <tr>\n",
       "      <th>396</th>\n",
       "      <td>7.459880e+06</td>\n",
       "      <td>809730.165124</td>\n",
       "      <td>-25.048045</td>\n",
       "    </tr>\n",
       "    <tr>\n",
       "      <th>397</th>\n",
       "      <td>7.460084e+06</td>\n",
       "      <td>809734.362435</td>\n",
       "      <td>-17.981916</td>\n",
       "    </tr>\n",
       "    <tr>\n",
       "      <th>398</th>\n",
       "      <td>7.460289e+06</td>\n",
       "      <td>809738.559426</td>\n",
       "      <td>-24.085584</td>\n",
       "    </tr>\n",
       "    <tr>\n",
       "      <th>399</th>\n",
       "      <td>7.460493e+06</td>\n",
       "      <td>809742.756097</td>\n",
       "      <td>-42.709572</td>\n",
       "    </tr>\n",
       "  </tbody>\n",
       "</table>\n",
       "<p>400 rows × 3 columns</p>\n",
       "</div>"
      ],
      "text/plain": [
       "         North(m)        East(m)  Anomalia Magnética(nT)\n",
       "0    7.456709e+06  805045.855200                3.958776\n",
       "1    7.456913e+06  805049.994770               -5.841504\n",
       "2    7.457117e+06  805054.134025                1.699822\n",
       "3    7.457321e+06  805058.272965              -56.749345\n",
       "4    7.457525e+06  805062.411591              -40.058582\n",
       "..            ...            ...                     ...\n",
       "395  7.459676e+06  809725.967494              -27.384021\n",
       "396  7.459880e+06  809730.165124              -25.048045\n",
       "397  7.460084e+06  809734.362435              -17.981916\n",
       "398  7.460289e+06  809738.559426              -24.085584\n",
       "399  7.460493e+06  809742.756097              -42.709572\n",
       "\n",
       "[400 rows x 3 columns]"
      ]
     },
     "execution_count": 4,
     "metadata": {},
     "output_type": "execute_result"
    }
   ],
   "source": [
    "data_cubo"
   ]
  },
  {
   "cell_type": "code",
   "execution_count": 5,
   "id": "about-simon",
   "metadata": {},
   "outputs": [],
   "source": [
    "#I, D = 90.0, 0.0"
   ]
  },
  {
   "cell_type": "code",
   "execution_count": 6,
   "id": "stainless-fairy",
   "metadata": {},
   "outputs": [
    {
     "name": "stdout",
     "output_type": "stream",
     "text": [
      "2.7000623958883806e-14\n"
     ]
    }
   ],
   "source": [
    "print (np.mean(anomaly_cubo))"
   ]
  },
  {
   "cell_type": "code",
   "execution_count": 7,
   "id": "brutal-sucking",
   "metadata": {},
   "outputs": [
    {
     "data": {
      "text/plain": [
       "'spheres = dipolos[0:15,0:3]\\nprint(spheres)\\nincl = dipolos[15,0]\\ndecl = dipolos[15,1]\\nmom = dipolos[15,2]\\n#print(spheres)\\nprint(incl, decl, mom)\\n#anomaly= aux_operators_array.tfa_n_dips(incl, decl, mom, 15, X, Y, Z, I, D, spheres)'"
      ]
     },
     "execution_count": 7,
     "metadata": {},
     "output_type": "execute_result"
    }
   ],
   "source": [
    "'''spheres = dipolos[0:15,0:3]\n",
    "print(spheres)\n",
    "incl = dipolos[15,0]\n",
    "decl = dipolos[15,1]\n",
    "mom = dipolos[15,2]\n",
    "#print(spheres)\n",
    "print(incl, decl, mom)\n",
    "#anomaly= aux_operators_array.tfa_n_dips(incl, decl, mom, 15, X, Y, Z, I, D, spheres)'''"
   ]
  },
  {
   "cell_type": "code",
   "execution_count": 8,
   "id": "apart-permit",
   "metadata": {},
   "outputs": [
    {
     "data": {
      "image/png": "[encoded data removed]",
      "text/plain": [
       "<Figure size 648x720 with 2 Axes>"
      ]
     },
     "metadata": {
      "needs_background": "light"
     },
     "output_type": "display_data"
    }
   ],
   "source": [
    "%matplotlib inline\n",
    "#xs = [x1, x1, x2, x2, x1]\n",
    "#ys = [y1, y2, y2, y1, y1]\n",
    "\n",
    "#xs1 = [pointx[0], pointx[0], pointx[5], pointx[5], pointx[0]]\n",
    "\n",
    "#ys1 = [pointy[0], pointy[5], pointy[5], pointy[0], pointy[0]]\n",
    "\n",
    "#flechax = [[numpy.absolute(pointx[0] + pointx[5])], [pointx[5]]]\n",
    "#flechay = [[numpy.absolute(pointy[0] + pointy[5])], [pointy[5]]]\n",
    "\n",
    "\n",
    "#origin = [[numpy.absolute(pointx[0] + pointx[5])], [[numpy.absolute(pointy[0] + pointy[5])]]]\n",
    "#ponta = [[pointx[5]], [pointy[5]]]\n",
    "\n",
    "#print(ponta)\n",
    "\n",
    "# graficos\n",
    "plt.close('all')\n",
    "plt.figure(figsize=(9,10))\n",
    "#******************************************************\n",
    "#copia = plt.contour(Y, X, tfa_final, levels = 16, cmap = 'jet', linewidths = 2)\n",
    "#plt.clabel(copia , inline=2, fontsize=12, colors = 'k')\n",
    "#plt.set(copia,'LineWidth',[5])\n",
    "original = plt.contourf(Y, X, anomaly_cubo, 20, cmap = plt.cm.RdYlBu_r)\n",
    "plt.title('Anomalia de Campo Total(nT)', fontsize = 20)\n",
    "plt.xlabel('East (m)', fontsize = 20)\n",
    "plt.ylabel('North (m)', fontsize = 20)\n",
    "#corpo, = plt.plot(ys1,xs1,'k-*', label = 'Extensão do Dique')\n",
    "#plt.plot(ys2,xs2,'k-')\n",
    "#plt.plot(ys3,xs3,'m-')\n",
    "#arrow = plt.arrow(2000.0, 0.0, 4500.0, 0.0, width=250, length_includes_head = True, color = 'k')\n",
    "#first_legend = plt.legend(handles=[corpo], bbox_to_anchor=(1.25, 1), loc='upper left', borderaxespad=0.0, fontsize= 12.0)\n",
    "#plt.legend([arrow, corpo], ['Direção de mergulho', 'Extensão do Dique'], bbox_to_anchor=(1.25, 1), loc='upper left', borderaxespad=0.0, fontsize= 12.0)\n",
    "plt.colorbar()\n",
    "#plt.savefig('prisma_anomalia.pdf', format='pdf')\n",
    "plt.show()\n"
   ]
  },
  {
   "cell_type": "code",
   "execution_count": 9,
   "id": "fossil-finland",
   "metadata": {},
   "outputs": [
    {
     "data": {
      "text/plain": [
       "'# definicao da nova altitude:\\ndz = 250.0\\nmag_up = filtering.my_continuation(Y, X, anomaly_cubo, dz)\\nmag_up = mag_up.reshape(X.shape)\\nprint(mag_up.shape)'"
      ]
     },
     "execution_count": 9,
     "metadata": {},
     "output_type": "execute_result"
    }
   ],
   "source": [
    "'''# definicao da nova altitude:\n",
    "dz = 250.0\n",
    "mag_up = filtering.my_continuation(Y, X, anomaly_cubo, dz)\n",
    "mag_up = mag_up.reshape(X.shape)\n",
    "print(mag_up.shape)'''"
   ]
  },
  {
   "cell_type": "code",
   "execution_count": 10,
   "id": "analyzed-prime",
   "metadata": {},
   "outputs": [
    {
     "data": {
      "text/plain": [
       "\"%matplotlib inline\\n#xs = [x1, x1, x2, x2, x1]\\n#ys = [y1, y2, y2, y1, y1]\\n\\n#xs1 = [pointx[0], pointx[0], pointx[5], pointx[5], pointx[0]]\\n\\n#ys1 = [pointy[0], pointy[5], pointy[5], pointy[0], pointy[0]]\\n\\n#flechax = [[numpy.absolute(pointx[0] + pointx[5])], [pointx[5]]]\\n#flechay = [[numpy.absolute(pointy[0] + pointy[5])], [pointy[5]]]\\n\\n\\n#origin = [[numpy.absolute(pointx[0] + pointx[5])], [[numpy.absolute(pointy[0] + pointy[5])]]]\\n#ponta = [[pointx[5]], [pointy[5]]]\\n\\n#print(ponta)\\n\\n# graficos\\nplt.close('all')\\nplt.figure(figsize=(9,10))\\n#******************************************************\\n#copia = plt.contour(Y, X, tfa_final, levels = 16, cmap = 'jet', linewidths = 2)\\n#plt.clabel(copia , inline=2, fontsize=12, colors = 'k')\\n#plt.set(copia,'LineWidth',[5])\\noriginal = plt.contourf(Y, X, mag_up, 20, cmap = plt.cm.RdYlBu_r)\\nplt.title('Anomalia de Campo Total(nT)', fontsize = 20)\\nplt.xlabel('East (m)', fontsize = 20)\\nplt.ylabel('North (m)', fontsize = 20)\\n#corpo, = plt.plot(ys1,xs1,'k-*', label = 'Extensão do Dique')\\n#plt.plot(ys2,xs2,'k-')\\n#plt.plot(ys3,xs3,'m-')\\n#arrow = plt.arrow(2000.0, 0.0, 4500.0, 0.0, width=250, length_includes_head = True, color = 'k')\\n#first_legend = plt.legend(handles=[corpo], bbox_to_anchor=(1.25, 1), loc='upper left', borderaxespad=0.0, fontsize= 12.0)\\n#plt.legend([arrow, corpo], ['Direção de mergulho', 'Extensão do Dique'], bbox_to_anchor=(1.25, 1), loc='upper left', borderaxespad=0.0, fontsize= 12.0)\\nplt.colorbar()\\n#plt.savefig('prisma_anomalia.pdf', format='pdf')\\nplt.show()\\n\""
      ]
     },
     "execution_count": 10,
     "metadata": {},
     "output_type": "execute_result"
    }
   ],
   "source": [
    "'''%matplotlib inline\n",
    "#xs = [x1, x1, x2, x2, x1]\n",
    "#ys = [y1, y2, y2, y1, y1]\n",
    "\n",
    "#xs1 = [pointx[0], pointx[0], pointx[5], pointx[5], pointx[0]]\n",
    "\n",
    "#ys1 = [pointy[0], pointy[5], pointy[5], pointy[0], pointy[0]]\n",
    "\n",
    "#flechax = [[numpy.absolute(pointx[0] + pointx[5])], [pointx[5]]]\n",
    "#flechay = [[numpy.absolute(pointy[0] + pointy[5])], [pointy[5]]]\n",
    "\n",
    "\n",
    "#origin = [[numpy.absolute(pointx[0] + pointx[5])], [[numpy.absolute(pointy[0] + pointy[5])]]]\n",
    "#ponta = [[pointx[5]], [pointy[5]]]\n",
    "\n",
    "#print(ponta)\n",
    "\n",
    "# graficos\n",
    "plt.close('all')\n",
    "plt.figure(figsize=(9,10))\n",
    "#******************************************************\n",
    "#copia = plt.contour(Y, X, tfa_final, levels = 16, cmap = 'jet', linewidths = 2)\n",
    "#plt.clabel(copia , inline=2, fontsize=12, colors = 'k')\n",
    "#plt.set(copia,'LineWidth',[5])\n",
    "original = plt.contourf(Y, X, mag_up, 20, cmap = plt.cm.RdYlBu_r)\n",
    "plt.title('Anomalia de Campo Total(nT)', fontsize = 20)\n",
    "plt.xlabel('East (m)', fontsize = 20)\n",
    "plt.ylabel('North (m)', fontsize = 20)\n",
    "#corpo, = plt.plot(ys1,xs1,'k-*', label = 'Extensão do Dique')\n",
    "#plt.plot(ys2,xs2,'k-')\n",
    "#plt.plot(ys3,xs3,'m-')\n",
    "#arrow = plt.arrow(2000.0, 0.0, 4500.0, 0.0, width=250, length_includes_head = True, color = 'k')\n",
    "#first_legend = plt.legend(handles=[corpo], bbox_to_anchor=(1.25, 1), loc='upper left', borderaxespad=0.0, fontsize= 12.0)\n",
    "#plt.legend([arrow, corpo], ['Direção de mergulho', 'Extensão do Dique'], bbox_to_anchor=(1.25, 1), loc='upper left', borderaxespad=0.0, fontsize= 12.0)\n",
    "plt.colorbar()\n",
    "#plt.savefig('prisma_anomalia.pdf', format='pdf')\n",
    "plt.show()\n",
    "'''"
   ]
  },
  {
   "cell_type": "code",
   "execution_count": 11,
   "id": "fluid-annotation",
   "metadata": {},
   "outputs": [],
   "source": [
    "#print(np.mean(mag_up))"
   ]
  },
  {
   "cell_type": "code",
   "execution_count": 12,
   "id": "mexican-tuner",
   "metadata": {},
   "outputs": [
    {
     "data": {
      "text/plain": [
       "\"fig, (ax1, ax2) = plt.subplots(1, 2, figsize=(12,5),\\n                               tight_layout=True, sharey=True)\\n\\noriginal = ax1.contourf(Y, X, anomaly_cubo, 20, cmap = plt.cm.RdYlBu_r)\\n\\ncontinuado = ax2.contourf(Y, X, mag_up, 20, cmap = plt.cm.RdYlBu_r)\\n\\nax1.set_title('Anomalia de Campo Total(nT)', fontsize = 15)\\nax2.set_title('Anomalia de Campo Total Continuada (nT)', fontsize = 15)\\nax1.set_xlabel('East (m)', fontsize = 20)\\nax1.set_ylabel('North (m)', fontsize = 20)\\nax2.set_xlabel('East (m)', fontsize = 20)\\nfig.colorbar(original, ax=ax1)\\nfig.colorbar(continuado, ax=ax2)\\n#ax1.xaxis.set_major_locator(mticker.MaxNLocator(5))\\n#ax1.set_xlabel('counts')\\n#ax1.set_ylabel('x')\\n#ax2.set_ylabel('x')\\n\\nplt.show()\""
      ]
     },
     "execution_count": 12,
     "metadata": {},
     "output_type": "execute_result"
    }
   ],
   "source": [
    "'''fig, (ax1, ax2) = plt.subplots(1, 2, figsize=(12,5),\n",
    "                               tight_layout=True, sharey=True)\n",
    "\n",
    "original = ax1.contourf(Y, X, anomaly_cubo, 20, cmap = plt.cm.RdYlBu_r)\n",
    "\n",
    "continuado = ax2.contourf(Y, X, mag_up, 20, cmap = plt.cm.RdYlBu_r)\n",
    "\n",
    "ax1.set_title('Anomalia de Campo Total(nT)', fontsize = 15)\n",
    "ax2.set_title('Anomalia de Campo Total Continuada (nT)', fontsize = 15)\n",
    "ax1.set_xlabel('East (m)', fontsize = 20)\n",
    "ax1.set_ylabel('North (m)', fontsize = 20)\n",
    "ax2.set_xlabel('East (m)', fontsize = 20)\n",
    "fig.colorbar(original, ax=ax1)\n",
    "fig.colorbar(continuado, ax=ax2)\n",
    "#ax1.xaxis.set_major_locator(mticker.MaxNLocator(5))\n",
    "#ax1.set_xlabel('counts')\n",
    "#ax1.set_ylabel('x')\n",
    "#ax2.set_ylabel('x')\n",
    "\n",
    "plt.show()'''"
   ]
  },
  {
   "cell_type": "markdown",
   "id": "local-discussion",
   "metadata": {},
   "source": [
    "## Deconvolução de Euler"
   ]
  },
  {
   "cell_type": "code",
   "execution_count": 13,
   "id": "exact-duration",
   "metadata": {},
   "outputs": [],
   "source": [
    "#Z = np.ones((20,20))*(-20.0)\n",
    "#print(Z)"
   ]
  },
  {
   "cell_type": "code",
   "execution_count": 14,
   "id": "technological-national",
   "metadata": {},
   "outputs": [],
   "source": [
    "def matrix_Euler(X, dx_act, Y, dy_act, Z, dz_act, eta, tfa_final, N):\n",
    "    A, B = 0., 0.\n",
    "    B = np.reshape(X*dx_act + Y*dy_act + Z*dz_act + eta*tfa_final, (N, 1))\n",
    "    A = np.hstack((np.reshape(dx_act, (N, 1)), \n",
    "            np.reshape(dy_act, (N, 1)), \n",
    "            np.reshape(dz_act, (N, 1)), \n",
    "            np.zeros((N,1)) + eta))\n",
    "    return A, B"
   ]
  },
  {
   "cell_type": "code",
   "execution_count": 15,
   "id": "sixth-senate",
   "metadata": {},
   "outputs": [],
   "source": [
    "def Euler_calc(X, Y, Z, tfa_final, eta, N):\n",
    "    \n",
    "    n = len(eta)\n",
    "    #Calculo das derivadas espaciais\n",
    "    delta = np.abs(X[0][0] - X[0][1])*0.1\n",
    "\n",
    "    dx_act = np.reshape(derivative.my_xderiv(X, Y, tfa_final, n = 1), (20,20))\n",
    "\n",
    "    dy_act = np.reshape(derivative.my_yderiv(X, Y, tfa_final, n = 1), (20,20))\n",
    "\n",
    "    dz_act = np.reshape(derivative.my_zderiv(X, Y, tfa_final, n = 1), (20,20))\n",
    "    \n",
    "    #Calculo da Deconvolução de Euler\n",
    "    final_result = np.zeros((4, n))\n",
    "    for i in range(n):\n",
    "        A, B = matrix_Euler(X, dx_act, Y, dy_act, Z, dz_act, eta[i], tfa_final, N)\n",
    "        result = np.linalg.solve(np.dot(A.T, A), np.dot(A.T, B))\n",
    "        final_result[0, i], final_result[1, i], final_result[2, i], final_result[3, i]  = result[0], result[1], result[2], result[3]\n",
    "    \n",
    "    return final_result"
   ]
  },
  {
   "cell_type": "code",
   "execution_count": 16,
   "id": "aging-kelly",
   "metadata": {},
   "outputs": [],
   "source": [
    "eta = [1., 2., 3.]\n",
    "N = 20 * 20"
   ]
  },
  {
   "cell_type": "code",
   "execution_count": 17,
   "id": "fixed-brush",
   "metadata": {},
   "outputs": [],
   "source": [
    "final_result = Euler_calc(X, Y, Z, anomaly_cubo, eta, N)"
   ]
  },
  {
   "cell_type": "code",
   "execution_count": 18,
   "id": "altered-effect",
   "metadata": {},
   "outputs": [
    {
     "name": "stdout",
     "output_type": "stream",
     "text": [
      "[[7.45861615e+06 7.45861615e+06 7.45861615e+06]\n",
      " [8.06715914e+05 8.06715914e+05 8.06715914e+05]\n",
      " [2.19706512e+02 3.89959209e+02 5.60211907e+02]\n",
      " [3.73783224e-01 1.86891612e-01 1.24594408e-01]]\n"
     ]
    }
   ],
   "source": [
    "print(final_result)"
   ]
  },
  {
   "cell_type": "code",
   "execution_count": null,
   "id": "rural-bachelor",
   "metadata": {},
   "outputs": [],
   "source": [
    "#column_names = [\"X(m)\", \"Y(m)\", \"Column_3\"]\n",
    "#euler_data = pd.DataFrame(final_result, columns=column_names)"
   ]
  },
  {
   "cell_type": "markdown",
   "id": "harmful-integer",
   "metadata": {},
   "source": [
    "## Correlação"
   ]
  },
  {
   "cell_type": "code",
   "execution_count": null,
   "id": "difficult-reaction",
   "metadata": {},
   "outputs": [],
   "source": [
    "#b = sys.path.append('../romulo/') # endereco das funcoes implementadas por voce!\n",
    "\n",
    "import equivalentlayer\n",
    "from equivalentlayer import my_rtp_layer\n",
    "from time import time\n",
    "from statistical import my_correlation_coef\n",
    "# Import *griddata* function from Scipy library\n",
    "from scipy.interpolate import griddata\n",
    "from grids import my_regular, my_profile"
   ]
  },
  {
   "cell_type": "code",
   "execution_count": null,
   "id": "rising-timothy",
   "metadata": {},
   "outputs": [],
   "source": [
    "shp = (20,20)\n",
    "shape = X.shape\n",
    "X_1 = np.reshape(X, (shape[0]**2))\n",
    "Y_1 = np.reshape(Y, (shape[0]**2))\n",
    "Z_1 = np.reshape(Z, (shape[0]**2))\n",
    "mag_up_1 = np.reshape(anomaly_cubo, (shape[0]**2))\n",
    "\n",
    "data = [X_1, Y_1, Z_1, mag_up_1]\n",
    "\n",
    "inc, dec = -36.346, -21.826"
   ]
  },
  {
   "cell_type": "code",
   "execution_count": null,
   "id": "frank-baker",
   "metadata": {},
   "outputs": [],
   "source": [
    "# Define the setting of equivalent layer to fit magnetic data\n",
    "areal = (X.min(), X.max(), Y.min(), Y.max()) # Same area of data\n",
    "shapel = (15,15)\n",
    "depthl = 300.\n",
    "\n",
    "# Compute the equivalent layer\n",
    "mylayer = equivalentlayer.my_layer(areal, shapel, depthl)"
   ]
  },
  {
   "cell_type": "code",
   "execution_count": null,
   "id": "gentle-tobago",
   "metadata": {},
   "outputs": [],
   "source": [
    "# Create a range of inclination and declination\n",
    "grid_inc = np.linspace(-90., 90., 20)\n",
    "grid_dec = np.linspace(-90., 90., 20)\n",
    "#print(grid_inc)\n",
    "D, I = np.meshgrid(grid_dec, grid_inc)\n",
    "\n",
    "# Create a zero matrix to allocate the results\n",
    "C = np.zeros_like(I)"
   ]
  },
  {
   "cell_type": "code",
   "execution_count": null,
   "id": "painted-tongue",
   "metadata": {},
   "outputs": [],
   "source": [
    "# Compute the cross-correlation and time of processing\n",
    "timei = time()\n",
    "#\n",
    "for cols, d in enumerate(grid_dec):\n",
    "    for rows, i in enumerate(grid_inc):\n",
    "        if i >= -20. or i <= 20.:\n",
    "            rtp = equivalentlayer.my_rtp_layer(data, shp, mylayer, shapel, 1.e-3, inc, dec, i, d)\n",
    "            C[rows, cols] = my_correlation_coef(\n",
    "                derivative.my_totalgrad(X_1.reshape(shp), Y_1.reshape(shp), rtp.reshape(shp)),\n",
    "                derivative.my_zderiv(X_1.reshape(shp), Y_1.reshape(shp), rtp.reshape(shp)))\n",
    "        else:\n",
    "            #rtpdata = filtering.reduction(north.reshape(shp), east.reshape(shp), di.reshape(shp), inc, dec, i, d)\n",
    "            rtpdata = filtering.reduction(Y_1.reshape(shp), X_1.reshape(shp), dup.reshape(shp), inc, dec, i, d)\n",
    "            C[rows, cols] = my_correlation_coef(\n",
    "                derivative.my_totalgrad(X_1.reshape(shp), Y_1.reshape(shp), rtp.reshape(shp)),\n",
    "                derivative.my_zderiv(X_1.reshape(shp), Y_1.reshape(shp), rtp.reshape(shp)))\n",
    "#\n",
    "timef = time()"
   ]
  },
  {
   "cell_type": "code",
   "execution_count": null,
   "id": "satisfied-snapshot",
   "metadata": {},
   "outputs": [],
   "source": [
    "# Import an statistical function to analyze the data\n",
    "from statistical import my_analysis\n",
    "\n",
    "# Analysis of correlation coefficients\n",
    "_ = my_analysis(C)"
   ]
  },
  {
   "cell_type": "code",
   "execution_count": null,
   "id": "pacific-slope",
   "metadata": {},
   "outputs": [],
   "source": [
    "# Interpolate the result to better visualization\n",
    "shpi = (121, 121)\n",
    "Di, Ii = my_regular((-70., 70., -70., 70.), shpi)\n",
    "\n",
    "Ci = griddata((D.reshape(D.size), I.reshape(I.size)), C.reshape(C.size), (Di, Ii), method = 'cubic')"
   ]
  },
  {
   "cell_type": "code",
   "execution_count": null,
   "id": "fitted-ordinary",
   "metadata": {},
   "outputs": [],
   "source": [
    "# Search for the interpolated result\n",
    "p1, p2 = np.where(Ci.reshape(shpi) == Ci.max())\n",
    "pimax = float(Ii.reshape(shpi)[p1, p2])\n",
    "pdmax = float(Di.reshape(shpi)[p1, p2])\n",
    "print ('(I,D) for maximum coefficient')\n",
    "print ('Inclination: %.2f' % pimax)\n",
    "print ('Declination: %.2f'% pdmax)"
   ]
  },
  {
   "cell_type": "code",
   "execution_count": null,
   "id": "elect-recording",
   "metadata": {},
   "outputs": [],
   "source": [
    "# Setting x and y axis for plotting\n",
    "xdec = np.around(np.linspace(Di.min(), Di.max(), 7), decimals = 2)\n",
    "yinc = np.around(np.linspace(Ii.min(), Ii.max(), 7), decimals = 2)"
   ]
  },
  {
   "cell_type": "code",
   "execution_count": null,
   "id": "buried-drink",
   "metadata": {},
   "outputs": [],
   "source": [
    "x_space = [-20,-20,10,10,-20]\n",
    "y_space = [-30,35,35,-30,-30]"
   ]
  },
  {
   "cell_type": "code",
   "execution_count": null,
   "id": "catholic-journal",
   "metadata": {
    "scrolled": true
   },
   "outputs": [],
   "source": [
    "# Plotting fitted data\n",
    "plt.figure(figsize=(10,10))\n",
    "cc = plt.tricontour(Di, Ii, Ci, 20, colors = 'k', linewidths = 0.75)\n",
    "cl = plt.clabel(cc, inline = 1, fontsize = 12, fmt = '%1.2f')\n",
    "cs = plt.tricontourf(Di, Ii, Ci, 20, cmap = plt.cm.gray, vmin = Ci.min(), vmax = Ci.max())\n",
    "cb = plt.colorbar(cs, shrink = 1., aspect = 30, fraction = 0.04, orientation = 'vertical', pad = 0.025)\n",
    "cb.set_ticks(np.linspace(Ci.min(), Ci.max(), 7))\n",
    "cb.set_label('Correlation', fontsize = 20, labelpad = 10)\n",
    "cb.ax.tick_params(labelsize = 15)\n",
    "#incl_max = plt.plot(-44.0,-33.0,'kx', mew = 15.0, label = 'True mag.')\n",
    "incl_max = plt.plot(pdmax,pimax,'r+', mew = 15.0, label = 'Estimated mag.')\n",
    "space_plot = plt.plot(y_space,x_space, 'b-', mew = 15.0, label = 'Search domain')\n",
    "plt.xlabel('Declination ($^{\\circ}$)', fontsize = 20, labelpad = 5)\n",
    "plt.ylabel('Inclination ($^{\\circ}$)', fontsize = 20, labelpad = 5)\n",
    "plt.xticks(xdec, fontsize = 15)\n",
    "plt.yticks(yinc, fontsize = 15)\n",
    "plt.legend(fontsize=15)\n",
    "#plt.savefig(\"/home/romulo/my_project_dir/Inversao_magnetica/codes/tests/Logfile/26_09_2022_17_00/crosscorelation.png\", dpi=300, bbox_inches='tight')\n",
    "#plt.savefig(\"/home/romulo/my_project_dir/Inversao_magnetica/codes/tests/Logfile/26_09_2022_17_00/crosscorelation.pdf\", dpi=300, bbox_inches='tight')\n",
    "plt.show()"
   ]
  },
  {
   "cell_type": "markdown",
   "id": "focused-housing",
   "metadata": {},
   "source": [
    "## Salvando Data Frame"
   ]
  },
  {
   "cell_type": "code",
   "execution_count": null,
   "id": "binding-feelings",
   "metadata": {},
   "outputs": [],
   "source": [
    "shape = X.shape\n",
    "print(shape)\n",
    "X = np.reshape(X, (shape[0]**2, 1))\n",
    "Y = np.reshape(Y, (shape[0]**2, 1))\n",
    "mag_up = np.reshape(mag_up, (shape[0]**2, 1))\n",
    "\n",
    "cabecalho = ['North(m)']\n",
    "Data_f = pd.DataFrame(data = X, index = None, columns=cabecalho)\n",
    "Data_f['East(m)'] = Y\n",
    "Data_f['Anomalia Magnética(nT)'] = mag_up"
   ]
  },
  {
   "cell_type": "code",
   "execution_count": null,
   "id": "brutal-sewing",
   "metadata": {},
   "outputs": [],
   "source": [
    "Data_f"
   ]
  },
  {
   "cell_type": "code",
   "execution_count": null,
   "id": "organized-cambodia",
   "metadata": {},
   "outputs": [],
   "source": [
    "#Data_f.to_csv('data_ajustment_mag_arraial_02_12_2021_background_0_continuacao_250.csv', index = False, header = True)"
   ]
  },
  {
   "cell_type": "code",
   "execution_count": null,
   "id": "sudden-bonus",
   "metadata": {},
   "outputs": [],
   "source": []
  }
 ],
 "metadata": {
  "kernelspec": {
   "display_name": "Python 3 (ipykernel)",
   "language": "python",
   "name": "python3"
  },
  "language_info": {
   "codemirror_mode": {
    "name": "ipython",
    "version": 3
   },
   "file_extension": ".py",
   "mimetype": "text/x-python",
   "name": "python",
   "nbconvert_exporter": "python",
   "pygments_lexer": "ipython3",
   "version": "3.8.10"
  }
 },
 "nbformat": 4,
 "nbformat_minor": 5
}
