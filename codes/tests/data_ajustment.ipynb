{
 "cells": [
  {
   "cell_type": "code",
   "execution_count": 1,
   "id": "disabled-alert",
   "metadata": {},
   "outputs": [],
   "source": [
    "import numpy as np\n",
    "import random\n",
    "import sys\n",
    "import matplotlib.pyplot as plt\n",
    "import pandas as pd\n",
    "import time\n",
    "import os\n",
    "from numba import jit\n",
    "from numba.typed import List\n",
    "a = sys.path.append('../modules/')\n",
    "b = sys.path.append('../codes/')\n",
    "import plot_3D, auxiliars, salve_doc, sphere, sample_random, Operators_array, aux_operators_array, graphs_and_dist"
   ]
  },
  {
   "cell_type": "code",
   "execution_count": 2,
   "id": "intelligent-cathedral",
   "metadata": {},
   "outputs": [],
   "source": [
    "os.chdir('/home/romulo/my_project_dir/Inversao_magnetica/codes/tests')\n",
    "data_cubo = pd.read_table('data_ajustment_mag_arraial_28_11_2021_background0.csv', sep=',')"
   ]
  },
  {
   "cell_type": "code",
   "execution_count": 3,
   "id": "waiting-alexandria",
   "metadata": {},
   "outputs": [],
   "source": [
    "east_min = np.min(data_cubo['East(m)'])\n",
    "east_max = np.max(data_cubo['East(m)'])\n",
    "north_min = np.min(data_cubo['North(m)'])\n",
    "north_max = np.max(data_cubo['North(m)'])"
   ]
  },
  {
   "cell_type": "code",
   "execution_count": 4,
   "id": "sapphire-daily",
   "metadata": {},
   "outputs": [
    {
     "name": "stdout",
     "output_type": "stream",
     "text": [
      "{'nx': 20, 'ny': 20, 'xmax': 810803.3383135288, 'xmin': 803484.484403922, 'ymax': 7462279.995826231, 'ymin': 7455485.14487149, 'z': -50.0, 'color': '.r'}\n"
     ]
    },
    {
     "data": {
      "image/png": "[encoded data removed]",
      "text/plain": [
       "<Figure size 864x864 with 1 Axes>"
      ]
     },
     "metadata": {
      "needs_background": "light"
     },
     "output_type": "display_data"
    }
   ],
   "source": [
    "acquisition = {'nx': 20,\n",
    "               'ny': 20,\n",
    "               'xmax': east_max,\n",
    "               'xmin': east_min ,\n",
    "               'ymax': north_max,\n",
    "               'ymin': north_min,\n",
    "               'z': -50.0,\n",
    "               'color': '.r'}\n",
    "\n",
    "print(acquisition)\n",
    "\n",
    "x, y, X, Y, Z = plot_3D.create_aquisicao(**acquisition)"
   ]
  },
  {
   "cell_type": "code",
   "execution_count": 5,
   "id": "chief-bankruptcy",
   "metadata": {},
   "outputs": [
    {
     "data": {
      "text/html": [
       "<div>\n",
       "<style scoped>\n",
       "    .dataframe tbody tr th:only-of-type {\n",
       "        vertical-align: middle;\n",
       "    }\n",
       "\n",
       "    .dataframe tbody tr th {\n",
       "        vertical-align: top;\n",
       "    }\n",
       "\n",
       "    .dataframe thead th {\n",
       "        text-align: right;\n",
       "    }\n",
       "</style>\n",
       "<table border=\"1\" class=\"dataframe\">\n",
       "  <thead>\n",
       "    <tr style=\"text-align: right;\">\n",
       "      <th></th>\n",
       "      <th>North(m)</th>\n",
       "      <th>East(m)</th>\n",
       "      <th>Anomalia Magnética(nT)</th>\n",
       "    </tr>\n",
       "  </thead>\n",
       "  <tbody>\n",
       "    <tr>\n",
       "      <th>0</th>\n",
       "      <td>7.455632e+06</td>\n",
       "      <td>803484.484404</td>\n",
       "      <td>-102.266401</td>\n",
       "    </tr>\n",
       "    <tr>\n",
       "      <th>1</th>\n",
       "      <td>7.455982e+06</td>\n",
       "      <td>803491.547619</td>\n",
       "      <td>0.000000</td>\n",
       "    </tr>\n",
       "    <tr>\n",
       "      <th>2</th>\n",
       "      <td>7.456332e+06</td>\n",
       "      <td>803498.609914</td>\n",
       "      <td>0.000000</td>\n",
       "    </tr>\n",
       "    <tr>\n",
       "      <th>3</th>\n",
       "      <td>7.456682e+06</td>\n",
       "      <td>803505.671289</td>\n",
       "      <td>0.000000</td>\n",
       "    </tr>\n",
       "    <tr>\n",
       "      <th>4</th>\n",
       "      <td>7.457031e+06</td>\n",
       "      <td>803512.731744</td>\n",
       "      <td>0.000000</td>\n",
       "    </tr>\n",
       "    <tr>\n",
       "      <th>...</th>\n",
       "      <td>...</td>\n",
       "      <td>...</td>\n",
       "      <td>...</td>\n",
       "    </tr>\n",
       "    <tr>\n",
       "      <th>395</th>\n",
       "      <td>7.460734e+06</td>\n",
       "      <td>810774.476946</td>\n",
       "      <td>0.000000</td>\n",
       "    </tr>\n",
       "    <tr>\n",
       "      <th>396</th>\n",
       "      <td>7.461084e+06</td>\n",
       "      <td>810781.693701</td>\n",
       "      <td>0.000000</td>\n",
       "    </tr>\n",
       "    <tr>\n",
       "      <th>397</th>\n",
       "      <td>7.461434e+06</td>\n",
       "      <td>810788.909514</td>\n",
       "      <td>0.000000</td>\n",
       "    </tr>\n",
       "    <tr>\n",
       "      <th>398</th>\n",
       "      <td>7.461784e+06</td>\n",
       "      <td>810796.124385</td>\n",
       "      <td>0.000000</td>\n",
       "    </tr>\n",
       "    <tr>\n",
       "      <th>399</th>\n",
       "      <td>7.462134e+06</td>\n",
       "      <td>810803.338314</td>\n",
       "      <td>0.000000</td>\n",
       "    </tr>\n",
       "  </tbody>\n",
       "</table>\n",
       "<p>400 rows × 3 columns</p>\n",
       "</div>"
      ],
      "text/plain": [
       "         North(m)        East(m)  Anomalia Magnética(nT)\n",
       "0    7.455632e+06  803484.484404             -102.266401\n",
       "1    7.455982e+06  803491.547619                0.000000\n",
       "2    7.456332e+06  803498.609914                0.000000\n",
       "3    7.456682e+06  803505.671289                0.000000\n",
       "4    7.457031e+06  803512.731744                0.000000\n",
       "..            ...            ...                     ...\n",
       "395  7.460734e+06  810774.476946                0.000000\n",
       "396  7.461084e+06  810781.693701                0.000000\n",
       "397  7.461434e+06  810788.909514                0.000000\n",
       "398  7.461784e+06  810796.124385                0.000000\n",
       "399  7.462134e+06  810803.338314                0.000000\n",
       "\n",
       "[400 rows x 3 columns]"
      ]
     },
     "execution_count": 5,
     "metadata": {},
     "output_type": "execute_result"
    }
   ],
   "source": [
    "data_cubo"
   ]
  },
  {
   "cell_type": "code",
   "execution_count": 6,
   "id": "joint-update",
   "metadata": {},
   "outputs": [],
   "source": [
    "Y = np.array(data_cubo['East(m)'])\n",
    "Y = np.reshape(Y, (20,20))\n",
    "X = np.array(data_cubo['North(m)'])\n",
    "X = np.reshape(X, (20,20))\n",
    "Z = np.array(data_cubo['Anomalia Magnética(nT)'])\n",
    "Z = np.reshape(Z, (20,20))"
   ]
  },
  {
   "cell_type": "code",
   "execution_count": 7,
   "id": "technological-norwegian",
   "metadata": {},
   "outputs": [
    {
     "data": {
      "image/png": "[encoded data removed]",
      "text/plain": [
       "<Figure size 648x720 with 2 Axes>"
      ]
     },
     "metadata": {
      "needs_background": "light"
     },
     "output_type": "display_data"
    }
   ],
   "source": [
    "plt.figure(figsize=(9,10))\n",
    "#bolas = plt.contour(data_cubo['East(m)'], data_cubo['North(m)'], data_cubo['Anomalia Magnética(nT)'], levels = 10, cmap = 'gray', linewidths = 2, vmin = np.min(anomaly_cubo), vmax = np.max(anomaly_cubo))\n",
    "#plt.clabel(bolas , inline=2, fontsize=12, colors = 'k')\n",
    "cubo = plt.contourf(Y, X, Z, 15, cmap = plt.cm.RdBu_r)#, vmin = np.min(anomaly_cubo), vmax = np.max(anomaly_cubo))\n",
    "#arrow = plt.arrow(0.0, 0.0, 1000.0*ptx, 1000.0*pty, width=50.0,head_width=250.0, length_includes_head = False, color = 'k')\n",
    "#arrow1 = plt.arrow(0.0, 0.0, 1000.0*rptx, 1000.0*rpty, width=50.0,head_width=250.0, length_includes_head = False, color = 'g')\n",
    "#arrow2 = plt.arrow(0.0, 0.0, 1000.0*bptx, 1000.0*bpty, width=50.0,head_width=250.0, length_includes_head = False, color = 'y')\n",
    "#first_legend = plt.legend(handles=[cubo], bbox_to_anchor=(1.25, 1), loc='upper left', borderaxespad=0.0, fontsize= 12.0)\n",
    "#plt.legend([arrow, arrow1, arrow2], ['Vetor magnetização da fonte', 'Vetor magnetização do campo Regional', 'Vetor de magnetização do Campo estimado'], bbox_to_anchor=(1.2, 1), loc='upper left', borderaxespad=0.0, fontsize= 12.0)\n",
    "#plt.title('Total Field Anomaly of the final subject(nT)', fontsize = 20)\n",
    "plt.xlabel('East (m)', fontsize = 20)\n",
    "plt.ylabel('North (m)', fontsize = 20)\n",
    "plt.colorbar()\n",
    "#plt.savefig('prisma_anomalia.pdf', format='pdf')\n",
    "plt.show()"
   ]
  },
  {
   "cell_type": "code",
   "execution_count": null,
   "id": "choice-performance",
   "metadata": {},
   "outputs": [],
   "source": [
    "mean_anomaly = np.mean(data_cubo['Anomalia Magnética(nT)'])\n",
    "print(mean_anomaly)"
   ]
  },
  {
   "cell_type": "code",
   "execution_count": null,
   "id": "substantial-hierarchy",
   "metadata": {},
   "outputs": [],
   "source": [
    "# Ajuste 1\n",
    "data_cubo.loc[(data_cubo['East(m)'] >= 803484.49) & (data_cubo['East(m)'] <= 805500.0) & (data_cubo['North(m)'] >= 7460000.0) & (data_cubo['North(m)'] <= 7462335.0), 'Anomalia Magnética(nT)'] = 0.0"
   ]
  },
  {
   "cell_type": "code",
   "execution_count": null,
   "id": "loaded-appliance",
   "metadata": {},
   "outputs": [],
   "source": [
    "# Ajuste 2\n",
    "data_cubo.loc[(data_cubo['East(m)'] >= 803484.49) & (data_cubo['East(m)'] <= 805600.0) & (data_cubo['North(m)'] >= 7462500.0) & (data_cubo['North(m)'] <= 7462000.0), 'Anomalia Magnética(nT)'] = 0.0"
   ]
  },
  {
   "cell_type": "code",
   "execution_count": null,
   "id": "downtown-merit",
   "metadata": {},
   "outputs": [],
   "source": [
    "# Ajuste 2\n",
    "#data_cubo.loc[(data_cubo['East(m)'] >= 804500.00) & (data_cubo['East(m)'] <= 806000.0) & (data_cubo['North(m)'] >= 7461000.0) & (data_cubo['North(m)'] <= 7460900.0), 'Anomalia Magnética(nT)'] = mean_anomaly"
   ]
  },
  {
   "cell_type": "code",
   "execution_count": null,
   "id": "referenced-bristol",
   "metadata": {},
   "outputs": [],
   "source": [
    "# Ajuste 3\n",
    "data_cubo.loc[(data_cubo['East(m)'] >= 803484.49) & (data_cubo['East(m)'] <= 805450.0) & (data_cubo['North(m)'] >= 7457000.0) & (data_cubo['North(m)'] <= 7461500.0), 'Anomalia Magnética(nT)'] = 0.0"
   ]
  },
  {
   "cell_type": "code",
   "execution_count": null,
   "id": "secondary-dining",
   "metadata": {},
   "outputs": [],
   "source": [
    "# Ajuste 4\n",
    "data_cubo.loc[(data_cubo['East(m)'] >= 803484.49) & (data_cubo['East(m)'] <= 810813.0) & (data_cubo['North(m)'] >= 7460400.0) & (data_cubo['North(m)'] <= 7462900.0), 'Anomalia Magnética(nT)'] = 0.0"
   ]
  },
  {
   "cell_type": "code",
   "execution_count": null,
   "id": "imposed-funds",
   "metadata": {},
   "outputs": [],
   "source": [
    "# Ajuste 4\n",
    "data_cubo.loc[(data_cubo['East(m)'] >= 803000.49) & (data_cubo['East(m)'] <= 810813.0) & (data_cubo['North(m)'] >= 7454552.0) & (data_cubo['North(m)'] <= 7456900.0), 'Anomalia Magnética(nT)'] = 0.0"
   ]
  },
  {
   "cell_type": "code",
   "execution_count": null,
   "id": "developed-custom",
   "metadata": {},
   "outputs": [],
   "source": [
    "# Ajuste 5\n",
    "data_cubo.loc[(data_cubo['East(m)'] >= 803484.49) & (data_cubo['East(m)'] <= 808000.0) & (data_cubo['North(m)'] >= 7460700.0) & (data_cubo['North(m)'] <= 7462000.0), 'Anomalia Magnética(nT)'] = 0.0"
   ]
  },
  {
   "cell_type": "code",
   "execution_count": null,
   "id": "wooden-berry",
   "metadata": {},
   "outputs": [],
   "source": [
    "# Ajuste 6\n",
    "data_cubo.loc[(data_cubo['East(m)'] >= 809000.0) & (data_cubo['East(m)'] <= 810813.0) & (data_cubo['North(m)'] >= 7455486.0) & (data_cubo['North(m)'] <= 7463552.0), 'Anomalia Magnética(nT)'] = 0.0"
   ]
  },
  {
   "cell_type": "code",
   "execution_count": null,
   "id": "choice-karaoke",
   "metadata": {},
   "outputs": [],
   "source": [
    "# Ajuste 6\n",
    "data_cubo.loc[(data_cubo['East(m)'] >= 805000.0) & (data_cubo['East(m)'] <= 806100.0) & (data_cubo['North(m)'] >= 7459050.0) & (data_cubo['North(m)'] <= 7461500.0), 'Anomalia Magnética(nT)'] = 0.0"
   ]
  },
  {
   "cell_type": "code",
   "execution_count": null,
   "id": "stopped-labor",
   "metadata": {},
   "outputs": [],
   "source": [
    "# Ajuste 6\n",
    "data_cubo.loc[(data_cubo['East(m)'] >= 805300.0) & (data_cubo['East(m)'] <= 806600.0) & (data_cubo['North(m)'] >= 7459750.0) & (data_cubo['North(m)'] <= 7460200.0), 'Anomalia Magnética(nT)'] = 0.0"
   ]
  },
  {
   "cell_type": "code",
   "execution_count": null,
   "id": "neural-input",
   "metadata": {},
   "outputs": [],
   "source": [
    "data_cubo"
   ]
  },
  {
   "cell_type": "code",
   "execution_count": null,
   "id": "academic-luxembourg",
   "metadata": {},
   "outputs": [],
   "source": [
    "Y_1 = np.array(data_cubo['East(m)'])\n",
    "Y_1 = np.reshape(Y_1, (20,20))\n",
    "X_1 = np.array(data_cubo['North(m)'])\n",
    "X_1 = np.reshape(X_1, (20,20))\n",
    "Z_1 = np.array(data_cubo['Anomalia Magnética(nT)'])\n",
    "Z_1 = np.reshape(Z_1, (20,20))"
   ]
  },
  {
   "cell_type": "code",
   "execution_count": null,
   "id": "daily-smith",
   "metadata": {},
   "outputs": [],
   "source": [
    "plt.figure(figsize=(9,10))\n",
    "#bolas = plt.contour(data_cubo['East(m)'], data_cubo['North(m)'], data_cubo['Anomalia Magnética(nT)'], levels = 10, cmap = 'gray', linewidths = 2, vmin = np.min(anomaly_cubo), vmax = np.max(anomaly_cubo))\n",
    "#plt.clabel(bolas , inline=2, fontsize=12, colors = 'k')\n",
    "cubo = plt.contourf(Y_1, X_1, Z_1, 15, cmap = plt.cm.RdBu_r)#, vmin = np.min(anomaly_cubo), vmax = np.max(anomaly_cubo))\n",
    "#arrow = plt.arrow(0.0, 0.0, 1000.0*ptx, 1000.0*pty, width=50.0,head_width=250.0, length_includes_head = False, color = 'k')\n",
    "#arrow1 = plt.arrow(0.0, 0.0, 1000.0*rptx, 1000.0*rpty, width=50.0,head_width=250.0, length_includes_head = False, color = 'g')\n",
    "#arrow2 = plt.arrow(0.0, 0.0, 1000.0*bptx, 1000.0*bpty, width=50.0,head_width=250.0, length_includes_head = False, color = 'y')\n",
    "#first_legend = plt.legend(handles=[cubo], bbox_to_anchor=(1.25, 1), loc='upper left', borderaxespad=0.0, fontsize= 12.0)\n",
    "#plt.legend([arrow, arrow1, arrow2], ['Vetor magnetização da fonte', 'Vetor magnetização do campo Regional', 'Vetor de magnetização do Campo estimado'], bbox_to_anchor=(1.2, 1), loc='upper left', borderaxespad=0.0, fontsize= 12.0)\n",
    "#plt.title('Total Field Anomaly of the final subject(nT)', fontsize = 20)\n",
    "plt.xlabel('East (m)', fontsize = 20)\n",
    "plt.ylabel('North (m)', fontsize = 20)\n",
    "plt.colorbar()\n",
    "#plt.savefig('prisma_anomalia.pdf', format='pdf')\n",
    "plt.show()"
   ]
  },
  {
   "cell_type": "code",
   "execution_count": null,
   "id": "thick-virgin",
   "metadata": {},
   "outputs": [],
   "source": [
    "# Importing *regular grid* and *profile* from grids\n",
    "c = sys.path.append('/home/romulo/my_project_dir/Inversao_magnetica/codes/romulo/')\n",
    "from grids import my_regular, my_profile\n",
    "# Import *griddata* function from Scipy library\n",
    "from scipy.interpolate import griddata"
   ]
  },
  {
   "cell_type": "code",
   "execution_count": null,
   "id": "contemporary-eleven",
   "metadata": {},
   "outputs": [],
   "source": [
    "# Setting area for Morro do Forno (northern anomaly)\n",
    "area = (804500, 809500, 7456000, 7461000)\n",
    "# Shape of new data and grid creation\n",
    "shp = (20,20)\n",
    "mag = np.array(data_cubo['Anomalia Magnética(nT)'])\n",
    "xi, yi, zi = my_regular(area, shp, -10.) # The *-200* value represent the flight level"
   ]
  },
  {
   "cell_type": "code",
   "execution_count": null,
   "id": "considered-arbor",
   "metadata": {},
   "outputs": [],
   "source": [
    "Y_real = np.array(data_cubo['East(m)'])\n",
    "X_real = np.array(data_cubo['North(m)'])"
   ]
  },
  {
   "cell_type": "code",
   "execution_count": null,
   "id": "following-forum",
   "metadata": {},
   "outputs": [],
   "source": [
    "di = griddata((Y_real,X_real), mag, (xi,yi), method = 'linear', fill_value=0.)"
   ]
  },
  {
   "cell_type": "code",
   "execution_count": null,
   "id": "million-nutrition",
   "metadata": {},
   "outputs": [],
   "source": [
    "Y_2 = np.reshape(xi, (20,20))\n",
    "X_2 = np.reshape(yi, (20,20))\n",
    "Z_2 = np.reshape(di, (20,20))"
   ]
  },
  {
   "cell_type": "code",
   "execution_count": null,
   "id": "personalized-center",
   "metadata": {},
   "outputs": [],
   "source": [
    "plt.figure(figsize=(9,10))\n",
    "#bolas = plt.contour(data_cubo['East(m)'], data_cubo['North(m)'], data_cubo['Anomalia Magnética(nT)'], levels = 10, cmap = 'gray', linewidths = 2, vmin = np.min(anomaly_cubo), vmax = np.max(anomaly_cubo))\n",
    "#plt.clabel(bolas , inline=2, fontsize=12, colors = 'k')\n",
    "cubo = plt.contourf(Y_2, X_2, Z_2, 15, cmap = plt.cm.RdBu_r)#, vmin = np.min(anomaly_cubo), vmax = np.max(anomaly_cubo))\n",
    "#arrow = plt.arrow(0.0, 0.0, 1000.0*ptx, 1000.0*pty, width=50.0,head_width=250.0, length_includes_head = False, color = 'k')\n",
    "#arrow1 = plt.arrow(0.0, 0.0, 1000.0*rptx, 1000.0*rpty, width=50.0,head_width=250.0, length_includes_head = False, color = 'g')\n",
    "#arrow2 = plt.arrow(0.0, 0.0, 1000.0*bptx, 1000.0*bpty, width=50.0,head_width=250.0, length_includes_head = False, color = 'y')\n",
    "#first_legend = plt.legend(handles=[cubo], bbox_to_anchor=(1.25, 1), loc='upper left', borderaxespad=0.0, fontsize= 12.0)\n",
    "#plt.legend([arrow, arrow1, arrow2], ['Vetor magnetização da fonte', 'Vetor magnetização do campo Regional', 'Vetor de magnetização do Campo estimado'], bbox_to_anchor=(1.2, 1), loc='upper left', borderaxespad=0.0, fontsize= 12.0)\n",
    "#plt.title('Total Field Anomaly of the final subject(nT)', fontsize = 20)\n",
    "plt.xlabel('East (m)', fontsize = 20)\n",
    "plt.ylabel('North (m)', fontsize = 20)\n",
    "plt.colorbar()\n",
    "#plt.savefig('prisma_anomalia.pdf', format='pdf')\n",
    "plt.show()"
   ]
  },
  {
   "cell_type": "code",
   "execution_count": null,
   "id": "transsexual-trunk",
   "metadata": {},
   "outputs": [],
   "source": [
    "shape = di.shape\n",
    "north_1 = np.reshape(yi, (shape[0], 1))\n",
    "east_1 = np.reshape(xi, (shape[0], 1))\n",
    "di_1 = np.reshape(di, (shape[0], 1))\n",
    "cabecalho = ['North(m)']\n",
    "Data_f = pd.DataFrame(data = north_1, index = None, columns=cabecalho)\n",
    "Data_f['East(m)'] = east_1\n",
    "Data_f['Anomalia Magnética(nT)'] = di_1"
   ]
  },
  {
   "cell_type": "code",
   "execution_count": null,
   "id": "induced-adaptation",
   "metadata": {},
   "outputs": [],
   "source": [
    "#Data_f = data_cubo\n",
    "#Data_f.to_csv('data_ajustment_mag_arraial_02_12_2021_background_0.csv', index = False, header = True)"
   ]
  },
  {
   "cell_type": "code",
   "execution_count": null,
   "id": "other-columbia",
   "metadata": {},
   "outputs": [],
   "source": [
    "Data_f"
   ]
  },
  {
   "cell_type": "code",
   "execution_count": null,
   "id": "neutral-difficulty",
   "metadata": {},
   "outputs": [],
   "source": []
  }
 ],
 "metadata": {
  "kernelspec": {
   "display_name": "Python 3 (ipykernel)",
   "language": "python",
   "name": "python3"
  },
  "language_info": {
   "codemirror_mode": {
    "name": "ipython",
    "version": 3
   },
   "file_extension": ".py",
   "mimetype": "text/x-python",
   "name": "python",
   "nbconvert_exporter": "python",
   "pygments_lexer": "ipython3",
   "version": "3.8.10"
  }
 },
 "nbformat": 4,
 "nbformat_minor": 5
}
