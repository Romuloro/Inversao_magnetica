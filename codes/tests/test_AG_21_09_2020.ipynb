{
 "cells": [
  {
   "cell_type": "code",
   "execution_count": 1,
   "metadata": {},
   "outputs": [],
   "source": [
    "import pytest\n",
    "import numpy as np\n",
    "import random\n",
    "import sys\n",
    "import matplotlib.pyplot as plt\n",
    "import pandas as pd\n",
    "a = sys.path.append('../modules/')\n",
    "import plot_3D, auxiliars, salve_doc, sphere, sample_random, Operators\n",
    "import timeit"
   ]
  },
  {
   "cell_type": "code",
   "execution_count": 2,
   "metadata": {},
   "outputs": [],
   "source": [
    "def create_population_v1(xmax, xmin, ymax, ymin, zlim, z_min, inclmax, inclmin, declmax, declmin, magmax, magmin, n_dip, n_pop, homogeneo):\n",
    "    \"\"\"\n",
    "    Função com o objetivo de criar uma população com n indivíduos randômicos, que estaram de acordo com os parâmetros\n",
    "    escolhidos.\n",
    "\n",
    "    :param xmax: O valor máximo da coordenada X.\n",
    "    :param ymax: O valor máximo da coordenada Y.\n",
    "    :param zlim: O valor máximo da coordenada Z.\n",
    "    :param xmin: O valor minímo da coordenada X.\n",
    "    :param ymin: O valor minímo da coordenada Y.\n",
    "    :param z_min: O valor minímo da coordenada Z.\n",
    "    :param n_pop: O número de indivíduos desejados na população.\n",
    "    :param n_dip: O número de dipolos desejados para cada indivíduo.\n",
    "    :param inclmax: Valor máximo da inclianção magnética.\n",
    "    :param inclmin: Valor mínimo da inclianção magnética.\n",
    "    :param declmax: Valor máximo da inclianção magnética.\n",
    "    :param declmin: Valor mínimo da declianção magnética.\n",
    "    :param magmax: Valor máximo da magnetização.\n",
    "    :param magmin: Valor mínimo da magnetização.\n",
    "    :param homogeneo: True para valores de inclinação, declinação e magnetização iguais para as n dipolos.\n",
    "                      False é a opção default, onde os valores de inclinação, declinação e magnetização é criada de\n",
    "                      forma randômica.\n",
    "\n",
    "    :return pop: Lista com n indivíduos/dipolos criados de forma randômica.\n",
    "    \"\"\"\n",
    "    pop = []\n",
    "    n_par = 6\n",
    "    for j in range(n_pop):\n",
    "        individuo = np.zeros((n_dip, n_par))\n",
    "        coodX, coodY, coodZ = sample_random.sample_random_coordinated(xmax, xmin, ymax, ymin, zlim, z_min, n_dip)\n",
    "        incl, decl, mag = sample_random.sample_random_mag(inclmax, inclmin, declmax, declmin, magmax, magmin, n_dip, homogeneo)\n",
    "        for i in range(n_dip):\n",
    "            individuo[i][0], individuo[i][1], individuo[i][2], individuo[i][3], individuo[i][4], individuo[i][5] = coodX[i], coodY[i], coodZ[i], incl[i], decl[i], mag[i]\n",
    "        pop.append(individuo)\n",
    "    \n",
    "    return pop\n"
   ]
  },
  {
   "cell_type": "code",
   "execution_count": 3,
   "metadata": {},
   "outputs": [],
   "source": [
    "population = {'xmax': 10000.0,\n",
    "                'xmin': -10000.0,\n",
    "                'ymax': 10000.0,\n",
    "                'ymin': -10000.0,\n",
    "                'zlim': 150.0,\n",
    "                'z_min': 0.0,\n",
    "                'n_dip': 5,\n",
    "                'n_pop': 2,\n",
    "                'inclmax': -80.0,\n",
    "                'inclmin': 15.0,\n",
    "                'declmax': 172.0,\n",
    "                'declmin': -15.0,\n",
    "                'magmax': 5.0,\n",
    "                'magmin': 0.5,\n",
    "                'homogeneo': True\n",
    "                }"
   ]
  },
  {
   "cell_type": "code",
   "execution_count": 4,
   "metadata": {},
   "outputs": [],
   "source": [
    "pop = create_population_v1(**population)"
   ]
  },
  {
   "cell_type": "code",
   "execution_count": 5,
   "metadata": {},
   "outputs": [
    {
     "data": {
      "text/plain": [
       "[array([[ 5.52134082e+03, -5.83079744e+03,  1.27294619e+00,\n",
       "         -1.21247179e+01,  1.62884057e+02,  9.64000342e-01],\n",
       "        [ 3.50280111e+03, -4.44548269e+03,  9.37852285e+01,\n",
       "         -1.21247179e+01,  1.62884057e+02,  9.64000342e-01],\n",
       "        [-8.69077884e+03, -8.41532833e+03,  6.40933115e+01,\n",
       "         -1.21247179e+01,  1.62884057e+02,  9.64000342e-01],\n",
       "        [-2.47464163e+02,  7.62501782e+02,  2.11541233e+01,\n",
       "         -1.21247179e+01,  1.62884057e+02,  9.64000342e-01],\n",
       "        [ 1.25857934e+02, -6.00552267e+03,  7.46366752e+01,\n",
       "         -1.21247179e+01,  1.62884057e+02,  9.64000342e-01]]),\n",
       " array([[ 5.18769610e+02,  4.64343579e+03,  7.95321764e+01,\n",
       "         -5.45431742e+01,  3.95523225e+01,  4.74735402e+00],\n",
       "        [-7.64087173e+03,  7.54073308e+03,  1.07381729e+02,\n",
       "         -5.45431742e+01,  3.95523225e+01,  4.74735402e+00],\n",
       "        [ 9.24243168e+03,  6.17646468e+03,  1.20299870e+02,\n",
       "         -5.45431742e+01,  3.95523225e+01,  4.74735402e+00],\n",
       "        [-7.43071382e+03, -9.87112176e+03,  4.39718885e+01,\n",
       "         -5.45431742e+01,  3.95523225e+01,  4.74735402e+00],\n",
       "        [ 8.83178537e+03,  2.88236488e+02,  8.39404698e+00,\n",
       "         -5.45431742e+01,  3.95523225e+01,  4.74735402e+00]])]"
      ]
     },
     "execution_count": 5,
     "metadata": {},
     "output_type": "execute_result"
    }
   ],
   "source": [
    "pop"
   ]
  },
  {
   "cell_type": "code",
   "execution_count": 6,
   "metadata": {},
   "outputs": [],
   "source": [
    "pop1 = pop.copy()"
   ]
  },
  {
   "cell_type": "code",
   "execution_count": 7,
   "metadata": {},
   "outputs": [],
   "source": [
    "pop1[1][:,5] = 5.0"
   ]
  },
  {
   "cell_type": "code",
   "execution_count": 8,
   "metadata": {},
   "outputs": [
    {
     "name": "stdout",
     "output_type": "stream",
     "text": [
      "[array([[ 5.52134082e+03, -5.83079744e+03,  1.27294619e+00,\n",
      "        -1.21247179e+01,  1.62884057e+02,  9.64000342e-01],\n",
      "       [ 3.50280111e+03, -4.44548269e+03,  9.37852285e+01,\n",
      "        -1.21247179e+01,  1.62884057e+02,  9.64000342e-01],\n",
      "       [-8.69077884e+03, -8.41532833e+03,  6.40933115e+01,\n",
      "        -1.21247179e+01,  1.62884057e+02,  9.64000342e-01],\n",
      "       [-2.47464163e+02,  7.62501782e+02,  2.11541233e+01,\n",
      "        -1.21247179e+01,  1.62884057e+02,  9.64000342e-01],\n",
      "       [ 1.25857934e+02, -6.00552267e+03,  7.46366752e+01,\n",
      "        -1.21247179e+01,  1.62884057e+02,  9.64000342e-01]]), array([[ 5.18769610e+02,  4.64343579e+03,  7.95321764e+01,\n",
      "        -5.45431742e+01,  3.95523225e+01,  5.00000000e+00],\n",
      "       [-7.64087173e+03,  7.54073308e+03,  1.07381729e+02,\n",
      "        -5.45431742e+01,  3.95523225e+01,  5.00000000e+00],\n",
      "       [ 9.24243168e+03,  6.17646468e+03,  1.20299870e+02,\n",
      "        -5.45431742e+01,  3.95523225e+01,  5.00000000e+00],\n",
      "       [-7.43071382e+03, -9.87112176e+03,  4.39718885e+01,\n",
      "        -5.45431742e+01,  3.95523225e+01,  5.00000000e+00],\n",
      "       [ 8.83178537e+03,  2.88236488e+02,  8.39404698e+00,\n",
      "        -5.45431742e+01,  3.95523225e+01,  5.00000000e+00]])]\n"
     ]
    }
   ],
   "source": [
    "print(pop1)"
   ]
  },
  {
   "cell_type": "code",
   "execution_count": null,
   "metadata": {},
   "outputs": [],
   "source": []
  },
  {
   "cell_type": "code",
   "execution_count": null,
   "metadata": {},
   "outputs": [],
   "source": []
  },
  {
   "cell_type": "code",
   "execution_count": null,
   "metadata": {},
   "outputs": [],
   "source": []
  }
 ],
 "metadata": {
  "kernelspec": {
   "display_name": "Python 3",
   "language": "python",
   "name": "python3"
  },
  "language_info": {
   "codemirror_mode": {
    "name": "ipython",
    "version": 3
   },
   "file_extension": ".py",
   "mimetype": "text/x-python",
   "name": "python",
   "nbconvert_exporter": "python",
   "pygments_lexer": "ipython3",
   "version": "3.6.5"
  }
 },
 "nbformat": 4,
 "nbformat_minor": 4
}
