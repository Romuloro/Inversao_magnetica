{
 "cells": [
  {
   "cell_type": "code",
   "execution_count": 1,
   "metadata": {},
   "outputs": [],
   "source": [
    "import pytest\n",
    "import numpy as np\n",
    "import random\n",
    "import sys\n",
    "import matplotlib.pyplot as plt\n",
    "import pandas as pd\n",
    "a = sys.path.append('../modules/')\n",
    "import plot_3D, auxiliars, salve_doc, sphere, sample_random, Operators,aux_operators\n",
    "import timeit\n",
    "from mpl_toolkits.mplot3d import Axes3D\n",
    "from mpl_toolkits.mplot3d.art3d import Poly3DCollection, Line3DCollection\n"
   ]
  },
  {
   "cell_type": "code",
   "execution_count": 2,
   "metadata": {},
   "outputs": [
    {
     "data": {
      "image/png": "[encoded data removed]",
      "text/plain": [
       "<Figure size 864x864 with 1 Axes>"
      ]
     },
     "metadata": {
      "needs_background": "light"
     },
     "output_type": "display_data"
    }
   ],
   "source": [
    "acquisition = {'nx': 100,\n",
    "                  'ny': 100,\n",
    "                  'xmin': -5000,\n",
    "                  'xmax': 5000,\n",
    "                  'ymin': -5000,\n",
    "                  'ymax': 5000,\n",
    "                  'z': -100.0,\n",
    "                  'color': '.r'}\n",
    "\n",
    "x, y, X, Y, Z = plot_3D.create_aquisicao(**acquisition)\n",
    "\n",
    "data_cubo = pd.read_table('Logfile/20_09_2020_11_26/data_mag.cvs', sep =',')\n",
    "anomaly_cubo = np.reshape(np.array(data_cubo['Anomalia Magnética(nT)']), (100,100))"
   ]
  },
  {
   "cell_type": "code",
   "execution_count": null,
   "metadata": {},
   "outputs": [],
   "source": []
  },
  {
   "cell_type": "markdown",
   "metadata": {},
   "source": [
    "## Create Population"
   ]
  },
  {
   "cell_type": "code",
   "execution_count": 3,
   "metadata": {},
   "outputs": [],
   "source": [
    "population = {'xmax': 5000.0,\n",
    "                'xmin': -5000.0,\n",
    "                'ymax': 5000.0,\n",
    "                'ymin': -5000.0,\n",
    "                'zlim': 1400.0,\n",
    "                'z_min': 600.0,\n",
    "                'n_dip': 5,\n",
    "                'n_pop': 30,\n",
    "                'inclmax': -40.0,\n",
    "                'inclmin': -20.0,\n",
    "                'declmax': -20.0,\n",
    "                'declmin': 0.0,\n",
    "                'magmax': 5.0,\n",
    "                'magmin': 0.5,\n",
    "                'homogeneo': True\n",
    "                }\n",
    "I, D = -30.0, -23.0\n",
    "\n",
    "filhos_mut = {'xmax': 5000.0,\n",
    "                'xmin': -5000.0,\n",
    "                'ymax': 5000.0,\n",
    "                'ymin': -5000.0,\n",
    "                'zlim': 1500.0,\n",
    "                'z_min': 500.0,\n",
    "                'n': 1,\n",
    "                'inclmax': -40.0,\n",
    "                'inclmin': -20.0,\n",
    "                'declmax': -20.0,\n",
    "                'declmin': 0.0,\n",
    "                'magmax': 5.0,\n",
    "                'magmin': 0.5,\n",
    "                'homogeneo': True\n",
    "                }\n"
   ]
  },
  {
   "cell_type": "code",
   "execution_count": 4,
   "metadata": {},
   "outputs": [],
   "source": [
    "def create_population_dic(xmax, xmin, ymax, ymin, zlim, z_min, inclmax, inclmin, declmax, declmin, magmax, magmin, n_dip, n_pop, homogeneo):\n",
    "    \"\"\"\n",
    "    Função com o objetivo de criar uma população com n indivíduos randômicos, que estaram de acordo com os parâmetros\n",
    "    escolhidos.\n",
    "\n",
    "    :param xmax: O valor máximo da coordenada X.\n",
    "    :param ymax: O valor máximo da coordenada Y.\n",
    "    :param zlim: O valor máximo da coordenada Z.\n",
    "    :param xmin: O valor minímo da coordenada X.\n",
    "    :param ymin: O valor minímo da coordenada Y.\n",
    "    :param z_min: O valor minímo da coordenada Z.\n",
    "    :param n_pop: O número de indivíduos desejados na população.\n",
    "    :param n_dip: O número de dipolos desejados para cada indivíduo.\n",
    "    :param inclmax: Valor máximo da inclianção magnética.\n",
    "    :param inclmin: Valor mínimo da inclianção magnética.\n",
    "    :param declmax: Valor máximo da inclianção magnética.\n",
    "    :param declmin: Valor mínimo da declianção magnética.\n",
    "    :param magmax: Valor máximo da magnetização.\n",
    "    :param magmin: Valor mínimo da magnetização.\n",
    "    :param homogeneo: True para valores de inclinação, declinação e magnetização iguais para as n dipolos.\n",
    "                      False é a opção default, onde os valores de inclinação, declinação e magnetização é criada de\n",
    "                      forma randômica.\n",
    "\n",
    "    :return pop: Lista com n indivíduos/dipolos criados de forma randômica.\n",
    "    \"\"\"\n",
    "    if n_pop >= 10:\n",
    "        pop = []\n",
    "        n_par = 3\n",
    "        for j in range(n_pop):\n",
    "            cood = np.zeros((n_dip, n_par))\n",
    "            coodX, coodY, coodZ = sample_random.sample_random_coordinated(xmax, xmin, ymax, ymin, zlim, z_min, n_dip)\n",
    "            incl, decl, mag = sample_random.sample_random_mag(inclmax, inclmin, declmax, declmin, magmax, magmin, 1, homogeneo)\n",
    "            for i in range(n_dip):\n",
    "                cood[i][0], cood[i][1], cood[i][2] = coodX[i], coodY[i], coodZ[i]\n",
    "            individuo = {'cood': cood, 'incl': incl, 'decl': decl, 'mag': mag}\n",
    "            pop.append(individuo)    \n",
    "        return pop\n",
    "    else:\n",
    "        return print('Por favor. Coloque o número de indivíduos maior ou igual a 10')\n"
   ]
  },
  {
   "cell_type": "code",
   "execution_count": 5,
   "metadata": {},
   "outputs": [],
   "source": [
    "pop_test = create_population_dic(**population)"
   ]
  },
  {
   "cell_type": "code",
   "execution_count": 6,
   "metadata": {},
   "outputs": [
    {
     "name": "stdout",
     "output_type": "stream",
     "text": [
      "[{'cood': array([[ 1438.16377151,  4676.88376511,  1182.37701566],\n",
      "       [   70.54728655, -3583.58637783,  1333.65605296],\n",
      "       [ 3790.0636865 , -3607.08023357,  1063.12019323],\n",
      "       [ 2695.79961285, -1624.924856  ,   783.24448345],\n",
      "       [-1248.53953137,  1526.68476938,  1066.37677875]]), 'incl': [-24.461596191008873], 'decl': [-7.275647314405978], 'mag': [3.1586890238769443]}, {'cood': array([[-4713.24592165,  3237.5483644 ,   928.35946479],\n",
      "       [-4771.94043739,   230.67121392,   696.99319099],\n",
      "       [ 2529.14892265, -2368.03204831,   726.02715668],\n",
      "       [-4057.30461557, -1379.67591283,  1249.11659249],\n",
      "       [-4662.47995247,  -612.08835269,   901.40921795]]), 'incl': [-29.0897137995667], 'decl': [-5.652024588731528], 'mag': [1.6916341895321572]}, {'cood': array([[ 3822.06044856,  1773.02021065,  1160.97870795],\n",
      "       [ 3608.43405935, -1904.70453062,   735.96025742],\n",
      "       [ -815.13915694,  1440.85815092,   609.42788483],\n",
      "       [-2541.28765654,   146.03588351,  1285.38298821],\n",
      "       [ 4958.76976198, -1514.18425816,  1027.56255208]]), 'incl': [-29.180313891595933], 'decl': [-15.698694315446991], 'mag': [3.4791703881248166]}, {'cood': array([[ 1964.74336505,  4971.23922005,  1276.28909639],\n",
      "       [-1858.70422504, -2433.35577651,   730.82539687],\n",
      "       [-2011.20541247,   536.05939418,  1228.97856143],\n",
      "       [   15.24098548,   552.41904574,   960.1490266 ],\n",
      "       [-4014.66670143, -4928.94193121,   657.00301352]]), 'incl': [-34.53782825699278], 'decl': [-18.930640812715314], 'mag': [1.511809913333095]}, {'cood': array([[ 3867.50989061,  4211.20934662,   804.93407062],\n",
      "       [ -641.1659968 , -3976.27972547,   948.86221295],\n",
      "       [-2269.47188298,  -904.09498454,  1242.52972271],\n",
      "       [-1503.98288729, -4853.39077229,   920.79550579],\n",
      "       [  325.66157096,  -689.18582953,   715.59907823]]), 'incl': [-34.746334016974394], 'decl': [-11.471494841619128], 'mag': [0.6426090783638667]}, {'cood': array([[-4.82168086e+00, -1.07732364e+03,  1.20467890e+03],\n",
      "       [ 2.27414906e+03, -2.77792768e+03,  1.24263542e+03],\n",
      "       [ 4.94457715e+02,  1.00479131e+03,  1.26408386e+03],\n",
      "       [-1.39809677e+03, -9.88236606e+02,  1.36232035e+03],\n",
      "       [ 4.98069237e+03,  5.95942657e+01,  1.31301457e+03]]), 'incl': [-30.632236666513354], 'decl': [-13.390659986437935], 'mag': [3.6170657424378527]}, {'cood': array([[-4577.75906757, -3124.10816469,   774.77497203],\n",
      "       [ 3487.63307926, -3651.50602807,  1071.27739913],\n",
      "       [-3603.83978994,  1999.65041596,  1360.84665817],\n",
      "       [-3912.5180174 , -1151.1153231 ,  1163.81796808],\n",
      "       [ 4223.92397871,  -534.43262316,  1343.33241907]]), 'incl': [-20.714059250449907], 'decl': [-0.34028548522811164], 'mag': [1.5000470395634924]}, {'cood': array([[ 3264.34848105,  1183.54268332,  1071.65658522],\n",
      "       [ 2002.91337754,  2938.12514225,   604.37919643],\n",
      "       [ 3260.73702688, -1881.97289228,   774.67378988],\n",
      "       [  239.19871876, -2200.9278228 ,  1153.83934997],\n",
      "       [-2300.31128961,  3183.81919705,   895.02710766]]), 'incl': [-25.635692557495286], 'decl': [-13.040970095379862], 'mag': [1.8374285162963204]}, {'cood': array([[ 1889.86761602,    69.7826474 ,  1380.36049632],\n",
      "       [ 4377.04361749,  3912.41958337,   680.04150498],\n",
      "       [ 3817.2231636 ,  2666.04939638,   620.49029854],\n",
      "       [-3586.14926152,   663.6763083 ,   817.70062653],\n",
      "       [-4647.80414073, -1294.51190436,   898.7748841 ]]), 'incl': [-24.462518368285124], 'decl': [-12.985234030197768], 'mag': [2.5285212665610293]}, {'cood': array([[ 2688.86747885,  1175.34315781,   946.03360166],\n",
      "       [-4542.64367998,  4487.84842482,  1199.17746224],\n",
      "       [-1476.30067982, -4891.98266027,   756.19241228],\n",
      "       [ -676.65685719,  -358.27007216,  1226.11068493],\n",
      "       [ 4702.00289698, -4086.27591735,   965.74433152]]), 'incl': [-24.429956870464046], 'decl': [-3.636393917028304], 'mag': [1.1759499452162556]}, {'cood': array([[ 3588.28836907,  -169.3022739 ,  1076.30892794],\n",
      "       [ 4041.24658873,  4468.8921542 ,  1357.90284515],\n",
      "       [ 4879.41168734, -2182.34838066,  1078.6301006 ],\n",
      "       [  406.36771337,  3772.80142894,  1039.86241135],\n",
      "       [-2389.34104094, -1681.49077665,   796.04470805]]), 'incl': [-36.73993446318018], 'decl': [-11.585609908549156], 'mag': [3.0305672239257335]}, {'cood': array([[ 3419.75570553, -4458.29061645,  1190.67385236],\n",
      "       [ -981.18033182,  3766.46147028,  1091.79831216],\n",
      "       [ 2917.99114901, -3527.1685692 ,  1071.97033983],\n",
      "       [ 1682.80619779, -4360.22882334,  1107.71626399],\n",
      "       [  420.7159524 ,  4379.90057236,   729.65609248]]), 'incl': [-30.603264068953006], 'decl': [-8.757894774547657], 'mag': [4.041386341178962]}, {'cood': array([[  166.47723549, -2386.35671012,   794.99116151],\n",
      "       [ 3084.61050224,  4622.38590602,   771.08293212],\n",
      "       [-1357.0844039 ,  2951.33710247,  1079.07067168],\n",
      "       [ 3003.15610241,  4103.17531097,  1215.32699992],\n",
      "       [-1302.36270193, -3589.26953891,   716.17248065]]), 'incl': [-39.62628002203675], 'decl': [-19.39821605075961], 'mag': [4.010188475108318]}, {'cood': array([[ 2730.04922795,  3428.21885544,   818.7443033 ],\n",
      "       [-2413.87005339,  3747.28344562,  1231.6224873 ],\n",
      "       [ -645.00343991, -4940.89695591,   824.02402781],\n",
      "       [ 4174.02645625,  1984.46926786,   940.90942876],\n",
      "       [  994.37218297, -4946.15241832,  1265.41360847]]), 'incl': [-39.13055687192817], 'decl': [-6.402007684325916], 'mag': [0.660120469431086]}, {'cood': array([[ -100.33277583, -2011.85825517,   931.85993738],\n",
      "       [-3408.43673909,  4510.31205849,  1237.42566549],\n",
      "       [  -98.1668338 , -1283.71224763,  1327.58188487],\n",
      "       [-2059.7940041 , -4724.9155429 ,  1201.23132692],\n",
      "       [ 3562.09331615,  4328.06034856,  1101.17389529]]), 'incl': [-25.070732839095832], 'decl': [-1.6679516974575428], 'mag': [4.072585253549807]}, {'cood': array([[ 2747.84327088, -4396.89724889,  1097.13232644],\n",
      "       [-1175.22236869, -4171.71281833,  1136.50177942],\n",
      "       [-4456.86948   , -4601.50468374,  1186.08053987],\n",
      "       [ 3749.99749151,  4422.8330932 ,  1166.97825071],\n",
      "       [ -314.1341779 , -2451.86358482,   648.48238674]]), 'incl': [-23.559177437994535], 'decl': [-17.090084389013786], 'mag': [0.8996632845218073]}, {'cood': array([[-4991.93813525,  2306.70118554,   703.53908163],\n",
      "       [-3426.01384853,  2421.38866073,   849.67780429],\n",
      "       [ 3521.40396921,  -146.69713085,  1246.2163002 ],\n",
      "       [ 4497.45417569,  2682.03022551,   638.47258045],\n",
      "       [  -24.24733541,  1724.5717596 ,  1145.02767228]]), 'incl': [-26.747987821963846], 'decl': [-10.541655512814243], 'mag': [2.281692877711543]}, {'cood': array([[-3770.48107855,  4517.62539585,  1125.91576501],\n",
      "       [ 1873.32281714,   380.50266493,   744.36879006],\n",
      "       [-4225.00809703, -2597.09513664,   728.27118072],\n",
      "       [-3881.81126157,  4818.3675457 ,   743.92224131],\n",
      "       [-3120.13915425, -4345.87378697,   903.35343641]]), 'incl': [-30.008109516156754], 'decl': [-19.502157174719883], 'mag': [1.1348205005242225]}, {'cood': array([[  296.18276418,  2816.34353106,  1031.41499608],\n",
      "       [ 2892.00451665, -2519.39287123,   933.81068146],\n",
      "       [ 3906.14848736,   887.93658273,   718.38057185],\n",
      "       [  792.55355873,  -739.72073557,   963.45561763],\n",
      "       [-4542.84413575, -3143.65817659,   675.22386288]]), 'incl': [-36.465268682810084], 'decl': [-11.939467033308738], 'mag': [2.9217837503543334]}, {'cood': array([[  420.72223799,  2688.87139407,   656.48075387],\n",
      "       [ 4225.94830774,  3749.95820275,  1081.23914543],\n",
      "       [-1579.09235349,  1226.75436879,   946.78976611],\n",
      "       [ 4942.13922445,   860.07051287,  1335.43153283],\n",
      "       [-1406.14510603,  2402.23909424,   720.96476156]]), 'incl': [-25.40475932383211], 'decl': [-0.7902025605212444], 'mag': [0.6607902001949348]}, {'cood': array([[-3334.39757193,  2217.36047274,  1152.84241861],\n",
      "       [-1739.52751765, -1984.74016912,   986.22399322],\n",
      "       [ 1304.0188872 ,  1339.57699411,  1118.19675273],\n",
      "       [ 2447.52541289,  1310.31744906,  1257.30647865],\n",
      "       [-1594.68726804, -4011.75091493,  1296.60689702]]), 'incl': [-39.86358787986751], 'decl': [-12.041598569825293], 'mag': [4.031943010919336]}, {'cood': array([[-2213.86031942,  4261.75068766,   979.58930889],\n",
      "       [-4183.11128143, -4561.62438028,   723.73672854],\n",
      "       [-2538.67565866,  -664.75871151,  1243.47069302],\n",
      "       [ 4457.39717965,  1058.23357132,  1326.77734656],\n",
      "       [-2485.96644022,  -584.60823378,   656.19457304]]), 'incl': [-32.74857625532941], 'decl': [-1.0116182124009967], 'mag': [3.7412565228166703]}, {'cood': array([[-2857.86610199,  3263.11228675,   789.09430457],\n",
      "       [-2289.73773495, -4129.13721596,   803.63918178],\n",
      "       [  -71.35812813,  4114.85632427,   663.2021808 ],\n",
      "       [ 1908.14488496,  1181.01230319,  1032.58397655],\n",
      "       [ 1157.2094412 ,  -674.33930996,   999.38039188]]), 'incl': [-25.688558835963597], 'decl': [-4.780154088589235], 'mag': [3.477942447892864]}, {'cood': array([[ -904.42149043, -2009.40409037,  1314.76321531],\n",
      "       [ 3565.22831013,  2179.90919806,   828.00970374],\n",
      "       [-3027.24602085,   187.38221459,   953.10372414],\n",
      "       [-3034.85035938,  2869.23294035,  1096.32753724],\n",
      "       [ 3863.06507437,  -806.32685188,   970.09728542]]), 'incl': [-29.905302077330536], 'decl': [-11.700048992556642], 'mag': [3.6258142990167066]}, {'cood': array([[-1956.42091096,  1397.66669941,  1257.39531624],\n",
      "       [-2834.75688188, -2538.32568823,  1104.54554591],\n",
      "       [  434.70136206,   280.12395719,   700.53937653],\n",
      "       [ 2980.74337835, -1577.43770185,  1270.250329  ],\n",
      "       [ 2091.3922112 ,  2560.01260984,  1041.1738473 ]]), 'incl': [-26.09126395521846], 'decl': [-3.187897718650401], 'mag': [1.74624179973365]}, {'cood': array([[-4115.44688933,  2234.2995344 ,   788.90146174],\n",
      "       [-4193.058794  ,  2306.21327847,   719.58384441],\n",
      "       [-2805.6183663 ,  -253.99758306,  1313.8856639 ],\n",
      "       [ 4688.42105826, -2472.6414399 ,  1012.78027081],\n",
      "       [-3716.56603402,  -770.75058205,  1177.44369149]]), 'incl': [-24.941162527445233], 'decl': [-11.168010157224096], 'mag': [1.4191882448551705]}, {'cood': array([[ 3870.38183978,  4124.83387954,  1200.91298939],\n",
      "       [-3628.23411022,  2171.89384256,   609.95436918],\n",
      "       [-3366.34797504, -3834.67043629,  1295.01203617],\n",
      "       [-1486.79869219, -2614.39396752,  1200.94035593],\n",
      "       [ 2012.15132143,  2343.12338628,  1091.22693758]]), 'incl': [-28.534164665624935], 'decl': [-10.517170029529773], 'mag': [4.064141339526834]}, {'cood': array([[ -239.38209823,  2895.34311505,  1137.12612245],\n",
      "       [-2996.05604463, -4122.07566522,  1063.11543443],\n",
      "       [-3238.04443018, -2652.82383958,   849.84038827],\n",
      "       [ 4901.69134409,   849.71718158,   730.88420941],\n",
      "       [-2922.86466582,  3334.9853899 ,   604.94056913]]), 'incl': [-24.90318841620486], 'decl': [-3.0854444931751246], 'mag': [1.0942582446089064]}, {'cood': array([[ 2972.16449386,  4603.02713664,   877.39014238],\n",
      "       [ -258.48571518,  1885.19694517,  1178.70312693],\n",
      "       [ -738.27770099, -2224.73081872,   731.93180989],\n",
      "       [-3731.88319618,  3024.34811328,   977.76419947],\n",
      "       [ 4255.32958516,  -335.34324358,   952.57466825]]), 'incl': [-27.75174164483156], 'decl': [-10.105402902966073], 'mag': [2.1050980507470682]}, {'cood': array([[-3688.55671258,   641.00625145,   948.4017657 ],\n",
      "       [-2098.52820208,  3782.29786037,   714.68142337],\n",
      "       [-4483.02499816,  1324.07290595,   727.53694327],\n",
      "       [ -278.61380158,    38.60965278,  1060.95576986],\n",
      "       [-3010.57294553, -1926.39872715,  1025.75336578]]), 'incl': [-32.60224248913605], 'decl': [-9.245286961760733], 'mag': [3.558134843380612]}]\n"
     ]
    }
   ],
   "source": [
    "print(pop_test)"
   ]
  },
  {
   "cell_type": "code",
   "execution_count": 7,
   "metadata": {},
   "outputs": [
    {
     "name": "stdout",
     "output_type": "stream",
     "text": [
      "1.78 ms ± 281 µs per loop (mean ± std. dev. of 7 runs, 1000 loops each)\n"
     ]
    }
   ],
   "source": [
    "%timeit create_population_dic(**population)"
   ]
  },
  {
   "cell_type": "code",
   "execution_count": 8,
   "metadata": {},
   "outputs": [
    {
     "name": "stdout",
     "output_type": "stream",
     "text": [
      "30\n",
      "4\n",
      "{'cood': array([[ 1438.16377151,  4676.88376511,  1182.37701566],\n",
      "       [   70.54728655, -3583.58637783,  1333.65605296],\n",
      "       [ 3790.0636865 , -3607.08023357,  1063.12019323],\n",
      "       [ 2695.79961285, -1624.924856  ,   783.24448345],\n",
      "       [-1248.53953137,  1526.68476938,  1066.37677875]]), 'incl': [-24.461596191008873], 'decl': [-7.275647314405978], 'mag': [3.1586890238769443]}\n",
      "[[ 1438.16377151  4676.88376511  1182.37701566]\n",
      " [   70.54728655 -3583.58637783  1333.65605296]\n",
      " [ 3790.0636865  -3607.08023357  1063.12019323]\n",
      " [ 2695.79961285 -1624.924856     783.24448345]\n",
      " [-1248.53953137  1526.68476938  1066.37677875]]\n",
      "========================\n",
      "[   70.54728655 -3583.58637783  1333.65605296]\n",
      "70.54728655278541\n",
      "[-24.461596191008873]\n",
      "5\n",
      "<class 'list'>\n"
     ]
    }
   ],
   "source": [
    "print(len(pop_test))\n",
    "print(len(pop_test[0]))\n",
    "print(pop_test[0])\n",
    "print(pop_test[0]['cood'])\n",
    "print('========================')\n",
    "print(pop_test[0]['cood'][1])\n",
    "print(pop_test[0]['cood'][1][0])\n",
    "print(pop_test[0]['incl'])\n",
    "print(len(pop_test[0]['cood']))\n",
    "print(type(pop_test[0]['incl']))"
   ]
  },
  {
   "cell_type": "markdown",
   "metadata": {},
   "source": [
    "## Fit"
   ]
  },
  {
   "cell_type": "code",
   "execution_count": 9,
   "metadata": {},
   "outputs": [],
   "source": [
    "def tfa_n_dips(incl, decl, mag, n, Xref, Yref, Zref, I, D, spheres):\n",
    "    \"\"\"\n",
    "    Função com o objetivo calcular a anomalia magnética de n bolinhas.\n",
    "\n",
    "    As entradas da função é feita da forma clássica ou através de um dicionário que é descompactado.\n",
    "    O dicinário deve conter as chaves nomeadas de forma identica aos parâmetros de entrada da função.\n",
    "    Exemplo de entrada: tfa_n_dots(**dicionario).\n",
    "\n",
    "    :param dicionario: incl - Lista com os valores de inclinação magnética.\n",
    "                       decl - Lista com os valores de declinação magnética.\n",
    "                       mag - Lista com os valores de magnetização.\n",
    "                       n - número de bolinhas desejadas.\n",
    "                       Xref - Matrix com as coordenadas em X.\n",
    "                       Yref - Matrix com as coordenadas em Y.\n",
    "                       Zref - Matrix com as coordenadas em Z.\n",
    "                       I - valor de inclinação regional.\n",
    "                       D - valor de declinação regional.\n",
    "                       spheres - Lista com os valores de coordenadas e raio de cada dipolo.\n",
    "                           spheres[0] - Coordenada no eixo X.\n",
    "                           spheres[1] - Coordenada no eixo Y.\n",
    "                           spheres[2] - Coordenada no eixo Z.\n",
    "                           spheres[3] - Raio do dipolo.\n",
    "    :return: Uma matrix com os valores de anomália magnética para cada ponto do local estudado.\n",
    "    \"\"\"\n",
    "\n",
    "    # ---------------------------------------------------------------------------------------------------------------------#\n",
    "    tfa_n = 0\n",
    "    for i in range(n):\n",
    "        tfa_cada = sphere.sphere_tfa(Xref, Yref, Zref, spheres[i], mag[0], I, D, incl[0], decl[0])\n",
    "        tfa_n += tfa_cada\n",
    "\n",
    "    return tfa_n"
   ]
  },
  {
   "cell_type": "code",
   "execution_count": 10,
   "metadata": {},
   "outputs": [],
   "source": [
    "def caculation_anomaly(X, Y, Z, I, D, pop):\n",
    "    raio = 100.0\n",
    "    anomaly = []\n",
    "\n",
    "    for i in range(len(pop)):\n",
    "        spheres = []\n",
    "        incl = pop[i]['incl']\n",
    "        decl = pop[i]['decl']\n",
    "        mag = pop[i]['mag']\n",
    "        for j in range(len(pop[0]['cood'])):\n",
    "            spheres.append((pop[i]['cood'][j][0], pop[i]['cood'][j][1], pop[i]['cood'][j][2], raio))\n",
    "        anomaly.append(tfa_n_dips(incl, decl, mag, len(pop[0]), X, Y, Z, I, D, spheres))\n",
    "    return anomaly"
   ]
  },
  {
   "cell_type": "code",
   "execution_count": 11,
   "metadata": {},
   "outputs": [],
   "source": [
    "def fit_value_v2(X, Y, Z, I, D, pop, tfa_n_dip):\n",
    "    \"\"\"\n",
    "    Função que calcula o fitness de cada indivíduo da população.\n",
    "\n",
    "    :param X: Pontos de observação na coordenadas X.\n",
    "    :param Y: Pontos de observação na coordenadas Y.\n",
    "    :param Z: Pontos de observação na coordenadas Z.\n",
    "    :param I: Inclinação magnética regional.\n",
    "    :param D: Declinação magnética regional.\n",
    "    :param pop: População com n indivíduos.\n",
    "    :param tfa_n_dip: Anomalia magnética referência.\n",
    "\n",
    "    :return fit_cada: Lista com o valor de fitness de cara indivíduo da população.\n",
    "    \"\"\"\n",
    "    fit_cada = []\n",
    "    anomalia = caculation_anomaly(X, Y, Z, I, D, pop) #Cálculo da anomalia\n",
    "    for i in range(len(pop)):\n",
    "        fit_cada.append(aux_operators.f_difference(tfa_n_dip, anomalia[i])) #Cálculo do fit\n",
    "    return fit_cada\n"
   ]
  },
  {
   "cell_type": "code",
   "execution_count": 12,
   "metadata": {},
   "outputs": [],
   "source": [
    "fit_ = fit_value_v2(X, Y, Z, I, D, pop_test, anomaly_cubo)"
   ]
  },
  {
   "cell_type": "code",
   "execution_count": 13,
   "metadata": {},
   "outputs": [
    {
     "name": "stdout",
     "output_type": "stream",
     "text": [
      "[101.44014758165395, 101.22352255985366, 101.89164117948633, 99.92632433264548, 100.85796739943932, 97.9976601919779, 101.1177497834279, 101.01383616285686, 101.70693046956465, 100.50858929812394, 101.27873782723832, 101.41098527670083, 100.72801621271594, 100.8865348125249, 98.64069944360563, 100.85126792812851, 101.43515841881317, 101.13791923004936, 100.28310507075304, 100.88066811141802, 100.23879797290456, 101.70410585841384, 101.18369414534192, 101.39081788507612, 99.75898342330456, 101.20554675660844, 101.00225067684224, 100.87551329684845, 100.05690987895889, 99.42032540003629]\n"
     ]
    }
   ],
   "source": [
    "print(fit_)"
   ]
  },
  {
   "cell_type": "code",
   "execution_count": 14,
   "metadata": {},
   "outputs": [
    {
     "name": "stdout",
     "output_type": "stream",
     "text": [
      "280 ms ± 52.5 ms per loop (mean ± std. dev. of 7 runs, 1 loop each)\n"
     ]
    }
   ],
   "source": [
    "%timeit fit_value_v2(X, Y, Z, I, D, pop_test, anomaly_cubo)"
   ]
  },
  {
   "cell_type": "markdown",
   "metadata": {},
   "source": [
    "## Nova função para auxiliar o crossover_eletista:"
   ]
  },
  {
   "cell_type": "code",
   "execution_count": 15,
   "metadata": {},
   "outputs": [
    {
     "name": "stdout",
     "output_type": "stream",
     "text": [
      "[9, 0, 6, 7]\n"
     ]
    }
   ],
   "source": [
    "#def count_index_fit(index):\n",
    "lista = [9 , 0 , 5, 5]\n",
    "def count_index_fit(lista):\n",
    "    escolhido = []\n",
    "    for i in range(len(lista)):\n",
    "        n = lista[i]\n",
    "        B = len([i for i in lista[0:i] if i <= n])\n",
    "        n += B\n",
    "        escolhido.append(n)\n",
    "    return escolhido\n",
    "'''\n",
    "for i in range(len(index)-1):\n",
    "        if num > index[i]:\n",
    "            num += i\n",
    "'''\n",
    "\n",
    "lista1 = count_index_fit(lista)\n",
    "print(lista1)"
   ]
  },
  {
   "cell_type": "code",
   "execution_count": 16,
   "metadata": {},
   "outputs": [
    {
     "name": "stdout",
     "output_type": "stream",
     "text": [
      "[9.473684210526315, 0.0, 6.315789473684211, 7.368421052631579]\n",
      "4\n",
      "<class 'list'>\n"
     ]
    }
   ],
   "source": [
    "x_test = np.linspace(0, 20, 20)\n",
    "i_escolhido = list(x_test[lista1])\n",
    "print(i_escolhido)\n",
    "print(len(i_escolhido))\n",
    "print(type(i_escolhido))"
   ]
  },
  {
   "cell_type": "markdown",
   "metadata": {},
   "source": [
    "## Seleção por torneio:"
   ]
  },
  {
   "cell_type": "code",
   "execution_count": 17,
   "metadata": {},
   "outputs": [],
   "source": [
    "def tournament_selection_v2(pop, fit_cada):\n",
    "    \"\"\"\n",
    "    Função com o objetivo de selecionar os futuros pais, pelo dinâmica do Torneio.\n",
    "\n",
    "    :param pop: População com n indivíduos.\n",
    "    :param fit_cada: O valor de fitness para cada n indivpiduos.\n",
    "\n",
    "    :return chosen: Lista com os n pais.\n",
    "    \"\"\"\n",
    "\n",
    "    pop_1 = pop.copy()\n",
    "    chosen = []\n",
    "    select = []\n",
    "    for i in range(int(0.2 * len(pop))):\n",
    "        capture_select = []\n",
    "        # ---------------------------- Escolhidos para o torneio ---------------------------------#\n",
    "        index_select = list(random.sample(range(0, len(pop_1)), k=(int(0.2 * len(pop)))))\n",
    "        for j in range(int(0.2 * len(pop))):\n",
    "            capture = [fit_cada[index_select[j]], index_select[j]]\n",
    "            capture_select.append(capture)\n",
    "        # ---------------------------- Vencedor do torneio ---------------------------------#\n",
    "        escolhido = pop_1[min(capture_select[:])[1]]\n",
    "        select.append(min(capture_select[:])[1])\n",
    "        # ------------------ Retirada do vencedor da população artificial ------------------------#\n",
    "        del (pop_1[min(capture_select[:])[1]])\n",
    "        # ---------------------------- Vencedores do torneio ---------------------------------#\n",
    "        chosen.append(escolhido)\n",
    "\n",
    "    return chosen, select\n",
    "\n",
    "pais_, escolhidos = tournament_selection_v2(pop_test, fit_)"
   ]
  },
  {
   "cell_type": "code",
   "execution_count": 18,
   "metadata": {},
   "outputs": [
    {
     "name": "stdout",
     "output_type": "stream",
     "text": [
      "[24, 3, 14, 6, 19, 14]\n"
     ]
    }
   ],
   "source": [
    "print(escolhidos)"
   ]
  },
  {
   "cell_type": "code",
   "execution_count": 19,
   "metadata": {},
   "outputs": [
    {
     "name": "stdout",
     "output_type": "stream",
     "text": [
      "[24, 3, 15, 7, 22, 17]\n"
     ]
    }
   ],
   "source": [
    "escolhido = count_index_fit(escolhidos)\n",
    "print(escolhido)"
   ]
  },
  {
   "cell_type": "markdown",
   "metadata": {},
   "source": [
    "## Croosover_eletista:"
   ]
  },
  {
   "cell_type": "code",
   "execution_count": 23,
   "metadata": {},
   "outputs": [],
   "source": [
    "def definition_prob(pai_torneio, escolhidos, fit, n_filhos):\n",
    "    prob_pai = []\n",
    "    prob_mae = []\n",
    "    sum_den = []\n",
    "    fit = np.array(fit)\n",
    "    escolhidos = count_index_fit(escolhidos)\n",
    "\n",
    "    fit_pais = list(fit[escolhidos])\n",
    "    f_pais, f_maes = fit_pais[0:n_filhos], fit_pais[n_filhos:len(pai_torneio)]\n",
    "    for i in range(n_filhos):\n",
    "        casal = [f_pais[i], f_maes[i]]\n",
    "        melhor = casal.index(min(casal))\n",
    "        if melhor == 0:\n",
    "            prob_pai.append(random.uniform(0.5, 1.0))\n",
    "            prob_mae.append(random.random())\n",
    "        else:\n",
    "            prob_mae.append(random.uniform(0.5, 1.0))\n",
    "            prob_pai.append(random.random())\n",
    "        sum_den.append(prob_pai[i] + prob_mae[i])\n",
    "\n",
    "    return prob_pai, prob_mae, sum_den\n"
   ]
  },
  {
   "cell_type": "code",
   "execution_count": 24,
   "metadata": {},
   "outputs": [],
   "source": [
    "def crossover_eletista(pais_torneio, escolhidos, fit):\n",
    "    filhos = []\n",
    "    n_filhos = int(len(pais_torneio) / 2)\n",
    "    pai = np.array(pais_torneio[0:n_filhos])\n",
    "    mae = np.array(pais_torneio[n_filhos:len(pais_torneio)])\n",
    "    # Sorteio das probabilidades de forma randômica.\n",
    "    prob_pai, prob_mae, den = definition_prob(pais_torneio, escolhidos, fit, n_filhos)\n",
    "\n",
    "    for j in range(n_filhos):\n",
    "        num = (prob_pai[j] * pai[j] + prob_mae[j] * mae[j])\n",
    "        filho = num / den[j] # Cálculo do filho\n",
    "        filhos.append(filho)\n",
    "\n",
    "    return filhos\n"
   ]
  },
  {
   "cell_type": "code",
   "execution_count": 25,
   "metadata": {},
   "outputs": [
    {
     "ename": "TypeError",
     "evalue": "unsupported operand type(s) for *: 'float' and 'dict'",
     "output_type": "error",
     "traceback": [
      "\u001b[1;31m---------------------------------------------------------------------------\u001b[0m",
      "\u001b[1;31mTypeError\u001b[0m                                 Traceback (most recent call last)",
      "\u001b[1;32m<ipython-input-25-3e28e074a32f>\u001b[0m in \u001b[0;36m<module>\u001b[1;34m\u001b[0m\n\u001b[1;32m----> 1\u001b[1;33m \u001b[0mpais_croosover\u001b[0m \u001b[1;33m=\u001b[0m \u001b[0mcrossover_eletista\u001b[0m\u001b[1;33m(\u001b[0m\u001b[0mpais_\u001b[0m\u001b[1;33m,\u001b[0m \u001b[0mescolhidos\u001b[0m\u001b[1;33m,\u001b[0m \u001b[0mfit_\u001b[0m\u001b[1;33m)\u001b[0m\u001b[1;33m\u001b[0m\u001b[0m\n\u001b[0m",
      "\u001b[1;32m<ipython-input-24-bfe3de57ed30>\u001b[0m in \u001b[0;36mcrossover_eletista\u001b[1;34m(pais_torneio, escolhidos, fit)\u001b[0m\n\u001b[0;32m      8\u001b[0m \u001b[1;33m\u001b[0m\u001b[0m\n\u001b[0;32m      9\u001b[0m     \u001b[1;32mfor\u001b[0m \u001b[0mj\u001b[0m \u001b[1;32min\u001b[0m \u001b[0mrange\u001b[0m\u001b[1;33m(\u001b[0m\u001b[0mn_filhos\u001b[0m\u001b[1;33m)\u001b[0m\u001b[1;33m:\u001b[0m\u001b[1;33m\u001b[0m\u001b[0m\n\u001b[1;32m---> 10\u001b[1;33m         \u001b[0mnum\u001b[0m \u001b[1;33m=\u001b[0m \u001b[1;33m(\u001b[0m\u001b[0mprob_pai\u001b[0m\u001b[1;33m[\u001b[0m\u001b[0mj\u001b[0m\u001b[1;33m]\u001b[0m \u001b[1;33m*\u001b[0m \u001b[0mpai\u001b[0m\u001b[1;33m[\u001b[0m\u001b[0mj\u001b[0m\u001b[1;33m]\u001b[0m \u001b[1;33m+\u001b[0m \u001b[0mprob_mae\u001b[0m\u001b[1;33m[\u001b[0m\u001b[0mj\u001b[0m\u001b[1;33m]\u001b[0m \u001b[1;33m*\u001b[0m \u001b[0mmae\u001b[0m\u001b[1;33m[\u001b[0m\u001b[0mj\u001b[0m\u001b[1;33m]\u001b[0m\u001b[1;33m)\u001b[0m\u001b[1;33m\u001b[0m\u001b[0m\n\u001b[0m\u001b[0;32m     11\u001b[0m         \u001b[0mfilho\u001b[0m \u001b[1;33m=\u001b[0m \u001b[0mnum\u001b[0m \u001b[1;33m/\u001b[0m \u001b[0mden\u001b[0m\u001b[1;33m[\u001b[0m\u001b[0mj\u001b[0m\u001b[1;33m]\u001b[0m \u001b[1;31m# Cálculo do filho\u001b[0m\u001b[1;33m\u001b[0m\u001b[0m\n\u001b[0;32m     12\u001b[0m         \u001b[0mfilhos\u001b[0m\u001b[1;33m.\u001b[0m\u001b[0mappend\u001b[0m\u001b[1;33m(\u001b[0m\u001b[0mfilho\u001b[0m\u001b[1;33m)\u001b[0m\u001b[1;33m\u001b[0m\u001b[0m\n",
      "\u001b[1;31mTypeError\u001b[0m: unsupported operand type(s) for *: 'float' and 'dict'"
     ]
    }
   ],
   "source": [
    "pais_croosover = crossover_eletista(pais_, escolhidos, fit_)"
   ]
  },
  {
   "cell_type": "code",
   "execution_count": null,
   "metadata": {},
   "outputs": [],
   "source": []
  },
  {
   "cell_type": "code",
   "execution_count": null,
   "metadata": {},
   "outputs": [],
   "source": []
  },
  {
   "cell_type": "code",
   "execution_count": null,
   "metadata": {},
   "outputs": [],
   "source": []
  }
 ],
 "metadata": {
  "kernelspec": {
   "display_name": "Python 3",
   "language": "python",
   "name": "python3"
  },
  "language_info": {
   "codemirror_mode": {
    "name": "ipython",
    "version": 3
   },
   "file_extension": ".py",
   "mimetype": "text/x-python",
   "name": "python",
   "nbconvert_exporter": "python",
   "pygments_lexer": "ipython3",
   "version": "3.6.5"
  }
 },
 "nbformat": 4,
 "nbformat_minor": 4
}
