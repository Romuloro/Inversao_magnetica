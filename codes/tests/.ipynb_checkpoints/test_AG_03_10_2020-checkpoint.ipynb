{
 "cells": [
  {
   "cell_type": "code",
   "execution_count": 1,
   "metadata": {},
   "outputs": [],
   "source": [
    "import pytest\n",
    "import numpy as np\n",
    "import random\n",
    "import sys\n",
    "import matplotlib.pyplot as plt\n",
    "import pandas as pd\n",
    "a = sys.path.append('../modules/')\n",
    "import plot_3D, auxiliars, salve_doc, sphere, sample_random, Operators,aux_operators\n",
    "import timeit\n",
    "from mpl_toolkits.mplot3d import Axes3D\n",
    "from mpl_toolkits.mplot3d.art3d import Poly3DCollection, Line3DCollection\n"
   ]
  },
  {
   "cell_type": "code",
   "execution_count": 2,
   "metadata": {},
   "outputs": [
    {
     "data": {
      "image/png": "[encoded data removed]",
      "text/plain": [
       "<Figure size 864x864 with 1 Axes>"
      ]
     },
     "metadata": {
      "needs_background": "light"
     },
     "output_type": "display_data"
    }
   ],
   "source": [
    "acquisition = {'nx': 100,\n",
    "                  'ny': 100,\n",
    "                  'xmin': -5000,\n",
    "                  'xmax': 5000,\n",
    "                  'ymin': -5000,\n",
    "                  'ymax': 5000,\n",
    "                  'z': -100.0,\n",
    "                  'color': '.r'}\n",
    "\n",
    "x, y, X, Y, Z = plot_3D.create_aquisicao(**acquisition)\n",
    "\n",
    "data_cubo = pd.read_table('Logfile/20_09_2020_11_26/data_mag.cvs', sep =',')\n",
    "anomaly_cubo = np.reshape(np.array(data_cubo['Anomalia Magnética(nT)']), (100,100))"
   ]
  },
  {
   "cell_type": "code",
   "execution_count": null,
   "metadata": {},
   "outputs": [],
   "source": []
  },
  {
   "cell_type": "markdown",
   "metadata": {},
   "source": [
    "## Create Population"
   ]
  },
  {
   "cell_type": "code",
   "execution_count": 3,
   "metadata": {},
   "outputs": [],
   "source": [
    "population = {'xmax': 5000.0,\n",
    "                'xmin': -5000.0,\n",
    "                'ymax': 5000.0,\n",
    "                'ymin': -5000.0,\n",
    "                'zlim': 1400.0,\n",
    "                'z_min': 600.0,\n",
    "                'n_dip': 5,\n",
    "                'n_pop': 30,\n",
    "                'inclmax': -40.0,\n",
    "                'inclmin': -20.0,\n",
    "                'declmax': -20.0,\n",
    "                'declmin': 0.0,\n",
    "                'magmax': 5.0,\n",
    "                'magmin': 0.5,\n",
    "                'homogeneo': True\n",
    "                }\n",
    "I, D = -30.0, -23.0\n",
    "\n",
    "filhos_mut = {'xmax': 5000.0,\n",
    "                'xmin': -5000.0,\n",
    "                'ymax': 5000.0,\n",
    "                'ymin': -5000.0,\n",
    "                'zlim': 1500.0,\n",
    "                'z_min': 500.0,\n",
    "                'n': 1,\n",
    "                'inclmax': -40.0,\n",
    "                'inclmin': -20.0,\n",
    "                'declmax': -20.0,\n",
    "                'declmin': 0.0,\n",
    "                'magmax': 5.0,\n",
    "                'magmin': 0.5,\n",
    "                'homogeneo': True\n",
    "                }\n"
   ]
  },
  {
   "cell_type": "code",
   "execution_count": 4,
   "metadata": {},
   "outputs": [],
   "source": [
    "def create_population_dic(xmax, xmin, ymax, ymin, zlim, z_min, inclmax, inclmin, declmax, declmin, magmax, magmin, n_dip, n_pop, homogeneo):\n",
    "    \"\"\"\n",
    "    Função com o objetivo de criar uma população com n indivíduos randômicos, que estaram de acordo com os parâmetros\n",
    "    escolhidos.\n",
    "\n",
    "    :param xmax: O valor máximo da coordenada X.\n",
    "    :param ymax: O valor máximo da coordenada Y.\n",
    "    :param zlim: O valor máximo da coordenada Z.\n",
    "    :param xmin: O valor minímo da coordenada X.\n",
    "    :param ymin: O valor minímo da coordenada Y.\n",
    "    :param z_min: O valor minímo da coordenada Z.\n",
    "    :param n_pop: O número de indivíduos desejados na população.\n",
    "    :param n_dip: O número de dipolos desejados para cada indivíduo.\n",
    "    :param inclmax: Valor máximo da inclianção magnética.\n",
    "    :param inclmin: Valor mínimo da inclianção magnética.\n",
    "    :param declmax: Valor máximo da inclianção magnética.\n",
    "    :param declmin: Valor mínimo da declianção magnética.\n",
    "    :param magmax: Valor máximo da magnetização.\n",
    "    :param magmin: Valor mínimo da magnetização.\n",
    "    :param homogeneo: True para valores de inclinação, declinação e magnetização iguais para as n dipolos.\n",
    "                      False é a opção default, onde os valores de inclinação, declinação e magnetização é criada de\n",
    "                      forma randômica.\n",
    "\n",
    "    :return pop: Lista com n indivíduos/dipolos criados de forma randômica.\n",
    "    \"\"\"\n",
    "    if n_pop >= 10:\n",
    "        pop = []\n",
    "        n_par = 3\n",
    "        for j in range(n_pop):\n",
    "            cood = np.zeros((n_dip, n_par))\n",
    "            coodX, coodY, coodZ = sample_random.sample_random_coordinated(xmax, xmin, ymax, ymin, zlim, z_min, n_dip)\n",
    "            incl, decl, mag = sample_random.sample_random_mag(inclmax, inclmin, declmax, declmin, magmax, magmin, 1, homogeneo)\n",
    "            for i in range(n_dip):\n",
    "                cood[i][0], cood[i][1], cood[i][2] = coodX[i], coodY[i], coodZ[i]\n",
    "            individuo = {'cood': cood, 'incl': incl, 'decl': decl, 'mag': mag}\n",
    "            pop.append(individuo)    \n",
    "        return pop\n",
    "    else:\n",
    "        return print('Por favor. Coloque o número de indivíduos maior ou igual a 10')\n"
   ]
  },
  {
   "cell_type": "code",
   "execution_count": 5,
   "metadata": {},
   "outputs": [],
   "source": [
    "pop_test = create_population_dic(**population)"
   ]
  },
  {
   "cell_type": "code",
   "execution_count": 6,
   "metadata": {},
   "outputs": [
    {
     "name": "stdout",
     "output_type": "stream",
     "text": [
      "[{'cood': array([[ -378.09744476, -2689.6981168 ,   783.81469727],\n",
      "       [ -755.59345564,   687.97400165,  1303.12139134],\n",
      "       [ 4891.6156104 ,  3966.39859163,   834.53251098],\n",
      "       [-3866.46539862, -1431.30176287,  1196.2410451 ],\n",
      "       [  471.9763995 ,  3077.11195893,   909.79595509]]), 'incl': [-23.043880007917206], 'decl': [-0.34534190739784165], 'mag': [1.9219353484329176]}, {'cood': array([[-4399.91088013,  2687.61884155,  1140.29675422],\n",
      "       [ 2802.24852074,  3223.25982201,  1029.27585702],\n",
      "       [ 4590.0877412 ,  1935.45002442,   921.19115628],\n",
      "       [-3466.55488718,  2901.06101559,   882.44960192],\n",
      "       [-2666.20756706, -1533.98234129,   948.54345473]]), 'incl': [-37.8777649137227], 'decl': [-6.997794795751705], 'mag': [1.6212791670291304]}, {'cood': array([[ 3054.64380878,  1150.94519087,  1095.04864083],\n",
      "       [-1149.33997398,    70.85365724,  1110.45688915],\n",
      "       [-4776.51749415,   765.61586538,   751.52330366],\n",
      "       [  688.31762383,  4053.0559931 ,  1110.05410427],\n",
      "       [ 2759.43512049, -4720.53936799,   719.25237486]]), 'incl': [-35.30280388858005], 'decl': [-5.787759829499908], 'mag': [1.9438810726735287]}, {'cood': array([[-3450.28537055, -2530.68261002,   825.81591749],\n",
      "       [   16.50308612,   787.21709757,   697.82088495],\n",
      "       [-2064.08075816,  1624.64308725,  1260.31988628],\n",
      "       [ -369.55087931,  4341.18945321,   909.96931108],\n",
      "       [ 1639.06886736,  4671.12708815,   767.12724557]]), 'incl': [-32.39030012290563], 'decl': [-5.238726254644735], 'mag': [3.552628183680615]}, {'cood': array([[ -274.51737842,   403.02544247,  1312.43431728],\n",
      "       [-4813.01848088, -4639.39092856,   952.84682272],\n",
      "       [-3743.53984056, -4796.47765289,  1176.61885019],\n",
      "       [-3128.77629465, -3124.13260668,  1326.99494837],\n",
      "       [-2668.55331283, -1486.41537687,   710.12036052]]), 'incl': [-37.31845884709688], 'decl': [-11.118275109715354], 'mag': [4.907083068496634]}, {'cood': array([[ 2520.46241648,  -251.13980991,   748.30887577],\n",
      "       [-4749.09411123, -1353.52442872,   842.08168076],\n",
      "       [ 4359.42024294,  1731.92239486,  1025.51851824],\n",
      "       [-2131.13164561,  4178.35792526,   629.62253938],\n",
      "       [ 2023.13315493, -2600.5292134 ,   954.04417216]]), 'incl': [-26.28115341306383], 'decl': [-11.249221697203238], 'mag': [4.7913475172756295]}, {'cood': array([[-2870.82525861,   348.9727149 ,  1012.13848265],\n",
      "       [-3177.86503562,  -417.27732671,   835.10519223],\n",
      "       [ 1814.06049585,  1770.63095058,  1242.75505064],\n",
      "       [   49.21942265, -3730.71572224,   622.88067099],\n",
      "       [ 4658.0029586 ,  2862.53893296,   663.30644836]]), 'incl': [-27.112914769982797], 'decl': [-3.2902008753299974], 'mag': [1.5103866425634447]}, {'cood': array([[-4143.24266922, -4657.26347793,   795.85805738],\n",
      "       [-1549.71230117,  1947.21198993,  1044.26194607],\n",
      "       [ 3265.30644134, -4491.48071112,  1348.03131019],\n",
      "       [-1335.61115902, -2441.16419104,   606.94788046],\n",
      "       [-1206.88919014,  3038.26153333,   671.84179848]]), 'incl': [-21.853652606819544], 'decl': [-15.859863193746298], 'mag': [4.726927919789544]}, {'cood': array([[ 3872.12268833,   626.20345518,   862.12623236],\n",
      "       [  926.36688394,  1774.24031405,  1113.2940855 ],\n",
      "       [  645.84622467,  1611.38231147,   973.36207905],\n",
      "       [-3243.2575204 ,  2514.60076137,  1263.77149894],\n",
      "       [ 1457.08479901, -4578.53380663,   821.70153983]]), 'incl': [-35.92375524970142], 'decl': [-14.467289590376106], 'mag': [2.0908840689053054]}, {'cood': array([[-2179.09771692,  3296.59595686,  1198.66829694],\n",
      "       [-1710.10676933, -3305.34740924,  1284.05663761],\n",
      "       [-1695.34047333,  2491.31234695,   898.72283951],\n",
      "       [-1036.63998698,  4781.27380311,  1188.91134224],\n",
      "       [-3155.75786345, -1532.88290836,  1009.26939199]]), 'incl': [-36.283681119222145], 'decl': [-3.456779436403181], 'mag': [4.397117588916585]}, {'cood': array([[-2190.30976126, -4555.75037087,   961.14900021],\n",
      "       [  462.18301053,  4148.13765306,  1146.19711166],\n",
      "       [ 1453.79854092, -1401.91794666,   724.44828133],\n",
      "       [-3224.17459662, -3355.58593019,  1116.28296605],\n",
      "       [  723.42495817, -1932.03276887,  1058.59447316]]), 'incl': [-31.61137701528044], 'decl': [-12.941405706229741], 'mag': [4.957277054590934]}, {'cood': array([[-4666.07505349, -3448.82776619,  1322.67916326],\n",
      "       [-3166.19045594, -3946.02713632,  1297.88469227],\n",
      "       [ 2106.87087752,   477.44543131,   776.57914142],\n",
      "       [-3121.76297823,   762.22842448,   878.31183506],\n",
      "       [ 1663.98664399, -2438.77170031,  1091.74555422]]), 'incl': [-33.36533807678808], 'decl': [-15.412463379049623], 'mag': [4.854538945126618]}, {'cood': array([[-2320.24481557,  1535.12483729,   681.89306174],\n",
      "       [ 2327.52335309,  2685.18946739,   852.51091533],\n",
      "       [  912.37848409,  2919.43015851,  1209.40590644],\n",
      "       [ 2640.34110147,  2524.50195441,   962.56611323],\n",
      "       [ 1636.4697546 , -2140.44756696,  1032.92227962]]), 'incl': [-35.66828490527794], 'decl': [-5.045148459331681], 'mag': [1.182190770763313]}, {'cood': array([[-3031.41121607,   683.89417435,   723.64216075],\n",
      "       [-2801.82883455, -3600.3667235 ,   766.30913999],\n",
      "       [ 2151.74411216,   597.85954085,  1034.10549448],\n",
      "       [ 4068.97846501, -1610.29556927,  1331.01007114],\n",
      "       [-4317.86408149,  1860.80418966,  1116.5165492 ]]), 'incl': [-37.14349427533357], 'decl': [-19.33953845746798], 'mag': [1.7108405892585905]}, {'cood': array([[-4688.54705538, -4377.65395449,  1336.65031433],\n",
      "       [-4549.1817099 , -4817.08950192,   796.16338084],\n",
      "       [ 1308.43698311,  3760.03505689,   969.6147277 ],\n",
      "       [-1661.08535934,  -583.7662421 ,  1230.53559013],\n",
      "       [-2728.80445041,   810.66048798,   641.15582111]]), 'incl': [-35.064276542651754], 'decl': [-9.772623571158237], 'mag': [3.867437124062434]}, {'cood': array([[-3022.40048796, -1723.57322778,   991.43084345],\n",
      "       [ 2733.1207922 , -1163.65294024,   800.9806881 ],\n",
      "       [-1837.28646606, -3570.88211955,  1177.37585952],\n",
      "       [ 3462.64445661,  4300.96329779,   879.8727095 ],\n",
      "       [-4253.78118319,   196.06144183,  1166.38579811]]), 'incl': [-28.123902122880956], 'decl': [-0.26635985441874865], 'mag': [4.7065639634171035]}, {'cood': array([[ 2220.5816247 ,  2155.75413339,  1096.16573847],\n",
      "       [ 3627.15531776,  2379.66441853,   728.12117739],\n",
      "       [ 1805.78087   , -4830.05010598,  1347.44384706],\n",
      "       [-3023.60090172,  3556.80477791,   935.33729291],\n",
      "       [-4811.378254  , -1687.7705071 ,  1100.27498796]]), 'incl': [-24.12126293362266], 'decl': [-1.2711196158301235], 'mag': [0.6787787747675855]}, {'cood': array([[-3442.92452463,  2277.85980793,   817.80121518],\n",
      "       [ 1624.88600549,  3982.69437249,   851.20549544],\n",
      "       [-4122.49169233,  -519.65819324,   652.95820019],\n",
      "       [-1648.80212382,  -132.61898973,  1138.53340437],\n",
      "       [-4197.41982607, -2790.19299702,   650.07113987]]), 'incl': [-25.98133957223248], 'decl': [-12.45749917723128], 'mag': [1.4799894517819117]}, {'cood': array([[ 4439.84736728,  3873.35473095,  1371.06118587],\n",
      "       [  -46.00381899, -3100.94302091,  1243.74194631],\n",
      "       [-2003.51869634,  1535.82608076,   786.77322182],\n",
      "       [ -651.99326585, -2181.6809325 ,  1265.54649396],\n",
      "       [ 1979.73194073, -4319.81920562,   743.50704697]]), 'incl': [-36.948045291334715], 'decl': [-8.73140280726817], 'mag': [3.348412746902206]}, {'cood': array([[-3673.4328726 ,    29.52510164,  1340.96285601],\n",
      "       [ 2523.58207387,  3364.0698376 ,  1177.42476349],\n",
      "       [ 1591.01115167,  -983.83267694,  1188.47598275],\n",
      "       [ 1358.22176555,  1514.568158  ,   801.99128664],\n",
      "       [ -339.69423883,  3466.93827336,  1150.33125026]]), 'incl': [-31.666132962594133], 'decl': [-7.299606896411126], 'mag': [0.6288802106820279]}, {'cood': array([[  437.92383216,   358.52989038,  1111.51863494],\n",
      "       [-3818.55137909,  1310.11785097,   914.34684292],\n",
      "       [-2394.36530184,  3813.27162882,  1092.89393313],\n",
      "       [-3887.12268326,  4716.29428939,  1155.3000922 ],\n",
      "       [  813.17426437,  2031.83513488,  1178.64868171]]), 'incl': [-22.31979634545696], 'decl': [-19.47252867469902], 'mag': [4.580284909255768]}, {'cood': array([[-3645.61738148, -1057.44959042,   823.5855872 ],\n",
      "       [-4314.57851773,  -513.92908512,   916.73828533],\n",
      "       [ 1464.49275094, -2461.65837247,  1319.82795474],\n",
      "       [ 2674.42077035,  4447.61197291,   818.76299144],\n",
      "       [  945.86717802, -4836.14578064,   807.38180726]]), 'incl': [-38.48370404739707], 'decl': [-2.7930754569909304], 'mag': [3.4994166735534744]}, {'cood': array([[-4244.61282007, -2699.88491584,   979.49533228],\n",
      "       [-4223.10507948,  2430.95446073,  1263.74358194],\n",
      "       [ 2293.91722757, -3071.32047247,  1218.42559921],\n",
      "       [ 4925.56534367,  3810.56712793,   933.78736957],\n",
      "       [ 4349.26607079, -3043.67413775,  1032.43383836]]), 'incl': [-26.5441280409461], 'decl': [-3.968685500032784], 'mag': [1.5825645300321538]}, {'cood': array([[ 3608.84539784,   851.59548477,  1298.70373983],\n",
      "       [ 4673.68571357, -2976.30763362,   796.49745617],\n",
      "       [ -860.98885332,  -437.21242388,   943.9353084 ],\n",
      "       [-2942.74035349, -4802.15962128,  1022.91585991],\n",
      "       [-1715.57173614, -4245.9885598 ,   986.72975416]]), 'incl': [-29.32291851796102], 'decl': [-8.852926762878859], 'mag': [0.7807480939933358]}, {'cood': array([[-1216.34429392,  1651.12214955,   917.02488023],\n",
      "       [ 1484.74364442,  1847.7168436 ,  1080.53119257],\n",
      "       [ 3697.70975392,  2837.52703718,   668.46784309],\n",
      "       [  347.95466992, -1879.58101765,  1365.4559646 ],\n",
      "       [  257.38790662,  2448.30474865,   966.02970253]]), 'incl': [-21.76282232726354], 'decl': [-15.061974148728714], 'mag': [2.627922837241209]}, {'cood': array([[ 3189.98207547, -1008.06533495,  1230.3114622 ],\n",
      "       [ 1147.74428988,   190.57152124,   874.0643819 ],\n",
      "       [ 2478.72095583,  2565.62444276,  1329.99578737],\n",
      "       [-1422.953927  , -1958.45700351,   783.6954494 ],\n",
      "       [-2158.1262026 ,  4797.16783744,  1219.07946335]]), 'incl': [-29.175579710368165], 'decl': [-7.439284032086386], 'mag': [4.75109536835687]}, {'cood': array([[-1281.42131393,   139.99692411,   827.43204939],\n",
      "       [-2201.74803332,   -81.88723352,   901.60381642],\n",
      "       [ 3622.08056429, -1279.95423283,  1215.17920057],\n",
      "       [-2135.50049182,  1934.22702752,   831.11278281],\n",
      "       [-1380.72094342, -4941.00372604,   872.78227903]]), 'incl': [-25.653622968603123], 'decl': [-10.041516002038069], 'mag': [0.8939479160134489]}, {'cood': array([[ 3319.80926236,  2590.037378  ,  1131.07738633],\n",
      "       [ 3831.56043562,  3383.10272129,   794.43287146],\n",
      "       [ 2124.14362766,  1603.43105959,   674.69370226],\n",
      "       [ 4927.61051891,  2032.34981495,   609.66977202],\n",
      "       [ 4581.12003777, -2553.23035756,   800.67086678]]), 'incl': [-20.409343839066533], 'decl': [-19.898265823802493], 'mag': [3.645224977917893]}, {'cood': array([[ 4696.75000711,  3457.66455774,   624.72476279],\n",
      "       [ -662.23819148,  3410.67094696,  1038.65355292],\n",
      "       [-2356.92097676, -3022.37161388,   942.38871871],\n",
      "       [-4109.74414876,  4838.60730709,   638.36432271],\n",
      "       [  182.24036882,  3167.60436388,   980.44736867]]), 'incl': [-20.28680945981221], 'decl': [-19.328896121422513], 'mag': [3.673376029123391]}, {'cood': array([[ 4755.42630739,   651.6515514 ,  1096.39678051],\n",
      "       [-3115.3184028 ,  4864.27614119,   624.59751067],\n",
      "       [-3589.38996775, -2881.99161725,   945.09295558],\n",
      "       [ 4286.68843434, -2566.02445621,  1271.79019129],\n",
      "       [  884.11685204,   454.16739794,   661.01614445]]), 'incl': [-32.82955430367635], 'decl': [-10.954165862614076], 'mag': [3.999242374364865]}]\n"
     ]
    }
   ],
   "source": [
    "print(pop_test)"
   ]
  },
  {
   "cell_type": "code",
   "execution_count": 7,
   "metadata": {},
   "outputs": [
    {
     "name": "stdout",
     "output_type": "stream",
     "text": [
      "1.41 ms ± 113 µs per loop (mean ± std. dev. of 7 runs, 1000 loops each)\n"
     ]
    }
   ],
   "source": [
    "%timeit create_population_dic(**population)"
   ]
  },
  {
   "cell_type": "code",
   "execution_count": 8,
   "metadata": {},
   "outputs": [
    {
     "name": "stdout",
     "output_type": "stream",
     "text": [
      "30\n",
      "4\n",
      "{'cood': array([[ -378.09744476, -2689.6981168 ,   783.81469727],\n",
      "       [ -755.59345564,   687.97400165,  1303.12139134],\n",
      "       [ 4891.6156104 ,  3966.39859163,   834.53251098],\n",
      "       [-3866.46539862, -1431.30176287,  1196.2410451 ],\n",
      "       [  471.9763995 ,  3077.11195893,   909.79595509]]), 'incl': [-23.043880007917206], 'decl': [-0.34534190739784165], 'mag': [1.9219353484329176]}\n",
      "[[ -378.09744476 -2689.6981168    783.81469727]\n",
      " [ -755.59345564   687.97400165  1303.12139134]\n",
      " [ 4891.6156104   3966.39859163   834.53251098]\n",
      " [-3866.46539862 -1431.30176287  1196.2410451 ]\n",
      " [  471.9763995   3077.11195893   909.79595509]]\n",
      "========================\n",
      "[-755.59345564  687.97400165 1303.12139134]\n",
      "-755.5934556413913\n",
      "[-23.043880007917206]\n",
      "5\n",
      "<class 'list'>\n"
     ]
    }
   ],
   "source": [
    "print(len(pop_test))\n",
    "print(len(pop_test[0]))\n",
    "print(pop_test[0])\n",
    "print(pop_test[0]['cood'])\n",
    "print('========================')\n",
    "print(pop_test[0]['cood'][1])\n",
    "print(pop_test[0]['cood'][1][0])\n",
    "print(pop_test[0]['incl'])\n",
    "print(len(pop_test[0]['cood']))\n",
    "print(type(pop_test[0]['incl']))"
   ]
  },
  {
   "cell_type": "markdown",
   "metadata": {},
   "source": [
    "## Fit"
   ]
  },
  {
   "cell_type": "code",
   "execution_count": 9,
   "metadata": {},
   "outputs": [],
   "source": [
    "def tfa_n_dips(incl, decl, mag, n, Xref, Yref, Zref, I, D, spheres):\n",
    "    \"\"\"\n",
    "    Função com o objetivo calcular a anomalia magnética de n bolinhas.\n",
    "\n",
    "    As entradas da função é feita da forma clássica ou através de um dicionário que é descompactado.\n",
    "    O dicinário deve conter as chaves nomeadas de forma identica aos parâmetros de entrada da função.\n",
    "    Exemplo de entrada: tfa_n_dots(**dicionario).\n",
    "\n",
    "    :param dicionario: incl - Lista com os valores de inclinação magnética.\n",
    "                       decl - Lista com os valores de declinação magnética.\n",
    "                       mag - Lista com os valores de magnetização.\n",
    "                       n - número de bolinhas desejadas.\n",
    "                       Xref - Matrix com as coordenadas em X.\n",
    "                       Yref - Matrix com as coordenadas em Y.\n",
    "                       Zref - Matrix com as coordenadas em Z.\n",
    "                       I - valor de inclinação regional.\n",
    "                       D - valor de declinação regional.\n",
    "                       spheres - Lista com os valores de coordenadas e raio de cada dipolo.\n",
    "                           spheres[0] - Coordenada no eixo X.\n",
    "                           spheres[1] - Coordenada no eixo Y.\n",
    "                           spheres[2] - Coordenada no eixo Z.\n",
    "                           spheres[3] - Raio do dipolo.\n",
    "    :return: Uma matrix com os valores de anomália magnética para cada ponto do local estudado.\n",
    "    \"\"\"\n",
    "\n",
    "    # ---------------------------------------------------------------------------------------------------------------------#\n",
    "    tfa_n = 0\n",
    "    for i in range(n):\n",
    "        tfa_cada = sphere.sphere_tfa(Xref, Yref, Zref, spheres[i], mag[0], I, D, incl[0], decl[0])\n",
    "        tfa_n += tfa_cada\n",
    "\n",
    "    return tfa_n"
   ]
  },
  {
   "cell_type": "code",
   "execution_count": 10,
   "metadata": {},
   "outputs": [],
   "source": [
    "def caculation_anomaly(X, Y, Z, I, D, pop):\n",
    "    raio = 100.0\n",
    "    anomaly = []\n",
    "\n",
    "    for i in range(len(pop)):\n",
    "        spheres = []\n",
    "        incl = pop[i]['incl']\n",
    "        decl = pop[i]['decl']\n",
    "        mag = pop[i]['mag']\n",
    "        for j in range(len(pop[0]['cood'])):\n",
    "            spheres.append((pop[i]['cood'][j][0], pop[i]['cood'][j][1], pop[i]['cood'][j][2], raio))\n",
    "        anomaly.append(tfa_n_dips(incl, decl, mag, len(pop[0]), X, Y, Z, I, D, spheres))\n",
    "    return anomaly"
   ]
  },
  {
   "cell_type": "code",
   "execution_count": 11,
   "metadata": {},
   "outputs": [],
   "source": [
    "def fit_value_v2(X, Y, Z, I, D, pop, tfa_n_dip):\n",
    "    \"\"\"\n",
    "    Função que calcula o fitness de cada indivíduo da população.\n",
    "\n",
    "    :param X: Pontos de observação na coordenadas X.\n",
    "    :param Y: Pontos de observação na coordenadas Y.\n",
    "    :param Z: Pontos de observação na coordenadas Z.\n",
    "    :param I: Inclinação magnética regional.\n",
    "    :param D: Declinação magnética regional.\n",
    "    :param pop: População com n indivíduos.\n",
    "    :param tfa_n_dip: Anomalia magnética referência.\n",
    "\n",
    "    :return fit_cada: Lista com o valor de fitness de cara indivíduo da população.\n",
    "    \"\"\"\n",
    "    fit_cada = []\n",
    "    anomalia = caculation_anomaly(X, Y, Z, I, D, pop) #Cálculo da anomalia\n",
    "    for i in range(len(pop)):\n",
    "        fit_cada.append(aux_operators.f_difference(tfa_n_dip, anomalia[i])) #Cálculo do fit\n",
    "    return fit_cada\n"
   ]
  },
  {
   "cell_type": "code",
   "execution_count": 12,
   "metadata": {},
   "outputs": [],
   "source": [
    "fit_ = fit_value_v2(X, Y, Z, I, D, pop_test, anomaly_cubo)"
   ]
  },
  {
   "cell_type": "code",
   "execution_count": 13,
   "metadata": {},
   "outputs": [
    {
     "name": "stdout",
     "output_type": "stream",
     "text": [
      "[100.24375427929832, 101.04445256096692, 100.76622639895467, 98.51576633602443, 98.93542897381701, 103.29958660678025, 101.27902903677659, 100.94680985616513, 99.97901359266359, 101.51521047544703, 101.95218307557056, 102.7630721480564, 101.05983946518873, 101.45131305276213, 100.76411121834808, 102.19658349817395, 100.94098457017873, 101.05708672802419, 101.07476507109257, 100.83363808084634, 99.21567990367528, 101.52777432413454, 101.0829600976031, 100.60151814942881, 100.625399136742, 99.97888631008668, 101.21737909879728, 101.73644343915662, 101.04290819620273, 101.61794763871524]\n"
     ]
    }
   ],
   "source": [
    "print(fit_)"
   ]
  },
  {
   "cell_type": "code",
   "execution_count": 14,
   "metadata": {},
   "outputs": [
    {
     "name": "stdout",
     "output_type": "stream",
     "text": [
      "173 ms ± 5.18 ms per loop (mean ± std. dev. of 7 runs, 10 loops each)\n"
     ]
    }
   ],
   "source": [
    "%timeit fit_value_v2(X, Y, Z, I, D, pop_test, anomaly_cubo)"
   ]
  },
  {
   "cell_type": "markdown",
   "metadata": {},
   "source": [
    "## Nova função para auxiliar o crossover_eletista:"
   ]
  },
  {
   "cell_type": "code",
   "execution_count": 15,
   "metadata": {},
   "outputs": [
    {
     "name": "stdout",
     "output_type": "stream",
     "text": [
      "[9, 0, 6, 7]\n"
     ]
    }
   ],
   "source": [
    "#def count_index_fit(index):\n",
    "lista = [9 , 0 , 5, 5]\n",
    "def count_index_fit(lista):\n",
    "    escolhido = []\n",
    "    for i in range(len(lista)):\n",
    "        n = lista[i]\n",
    "        B = len([i for i in lista[0:i] if i <= n])\n",
    "        n += B\n",
    "        escolhido.append(n)\n",
    "    return escolhido\n",
    "'''\n",
    "for i in range(len(index)-1):\n",
    "        if num > index[i]:\n",
    "            num += i\n",
    "'''\n",
    "\n",
    "lista1 = count_index_fit(lista)\n",
    "print(lista1)"
   ]
  },
  {
   "cell_type": "code",
   "execution_count": 16,
   "metadata": {},
   "outputs": [
    {
     "name": "stdout",
     "output_type": "stream",
     "text": [
      "[9.473684210526315, 0.0, 6.315789473684211, 7.368421052631579]\n",
      "4\n",
      "<class 'list'>\n"
     ]
    }
   ],
   "source": [
    "x_test = np.linspace(0, 20, 20)\n",
    "i_escolhido = list(x_test[lista1])\n",
    "print(i_escolhido)\n",
    "print(len(i_escolhido))\n",
    "print(type(i_escolhido))"
   ]
  },
  {
   "cell_type": "markdown",
   "metadata": {},
   "source": [
    "## Seleção por torneio:"
   ]
  },
  {
   "cell_type": "code",
   "execution_count": 17,
   "metadata": {},
   "outputs": [],
   "source": [
    "def tournament_selection_v2(pop, fit_cada):\n",
    "    \"\"\"\n",
    "    Função com o objetivo de selecionar os futuros pais, pelo dinâmica do Torneio.\n",
    "\n",
    "    :param pop: População com n indivíduos.\n",
    "    :param fit_cada: O valor de fitness para cada n indivpiduos.\n",
    "\n",
    "    :return chosen: Lista com os n pais.\n",
    "    \"\"\"\n",
    "\n",
    "    pop_1 = pop.copy()\n",
    "    chosen = []\n",
    "    select = []\n",
    "    for i in range(int(0.2 * len(pop))):\n",
    "        capture_select = []\n",
    "        # ---------------------------- Escolhidos para o torneio ---------------------------------#\n",
    "        index_select = list(random.sample(range(0, len(pop_1)), k=(int(0.2 * len(pop)))))\n",
    "        for j in range(int(0.2 * len(pop))):\n",
    "            capture = [fit_cada[index_select[j]], index_select[j]]\n",
    "            capture_select.append(capture)\n",
    "        # ---------------------------- Vencedor do torneio ---------------------------------#\n",
    "        escolhido = pop_1[min(capture_select[:])[1]]\n",
    "        select.append(min(capture_select[:])[1])\n",
    "        # ------------------ Retirada do vencedor da população artificial ------------------------#\n",
    "        del (pop_1[min(capture_select[:])[1]])\n",
    "        # ---------------------------- Vencedores do torneio ---------------------------------#\n",
    "        chosen.append(escolhido)\n",
    "\n",
    "    return chosen, select\n",
    "\n",
    "pais_, escolhidos = tournament_selection_v2(pop_test, fit_)"
   ]
  },
  {
   "cell_type": "code",
   "execution_count": 18,
   "metadata": {},
   "outputs": [
    {
     "name": "stdout",
     "output_type": "stream",
     "text": [
      "[3, 1, 4, 3, 3, 4]\n",
      "85.9 µs ± 8.44 µs per loop (mean ± std. dev. of 7 runs, 10000 loops each)\n"
     ]
    }
   ],
   "source": [
    "print(escolhidos)\n",
    "%timeit tournament_selection_v2(pop_test, fit_)"
   ]
  },
  {
   "cell_type": "code",
   "execution_count": null,
   "metadata": {},
   "outputs": [],
   "source": [
    "escolhido = count_index_fit(escolhidos)\n",
    "print(escolhido)"
   ]
  },
  {
   "cell_type": "markdown",
   "metadata": {},
   "source": [
    "## Croosover_eletista:"
   ]
  },
  {
   "cell_type": "code",
   "execution_count": null,
   "metadata": {},
   "outputs": [],
   "source": [
    "def definition_prob(pai_torneio, escolhidos, fit, n_filhos):\n",
    "    prob_pai = []\n",
    "    prob_mae = []\n",
    "    sum_den = []\n",
    "    fit = np.array(fit)\n",
    "    escolhidos = count_index_fit(escolhidos)\n",
    "\n",
    "    fit_pais = list(fit[escolhidos])\n",
    "    f_pais, f_maes = fit_pais[0:n_filhos], fit_pais[n_filhos:len(pai_torneio)]\n",
    "    for i in range(n_filhos):\n",
    "        casal = [f_pais[i], f_maes[i]]\n",
    "        melhor = casal.index(min(casal))\n",
    "        if melhor == 0:\n",
    "            prob_pai.append(random.uniform(0.5, 1.0))\n",
    "            prob_mae.append(random.random())\n",
    "        else:\n",
    "            prob_mae.append(random.uniform(0.5, 1.0))\n",
    "            prob_pai.append(random.random())\n",
    "        sum_den.append(prob_pai[i] + prob_mae[i])\n",
    "\n",
    "    return prob_pai, prob_mae, sum_den\n"
   ]
  },
  {
   "cell_type": "code",
   "execution_count": null,
   "metadata": {},
   "outputs": [],
   "source": [
    "def crossover_eletista(pais_torneio, escolhidos, fit):\n",
    "    filhos = []\n",
    "    n_filhos = int(len(pais_torneio) / 2)\n",
    "    pai = np.array(pais_torneio[0:n_filhos])\n",
    "    mae = np.array(pais_torneio[n_filhos:len(pais_torneio)])\n",
    "    # Sorteio das probabilidades de forma randômica.\n",
    "    prob_pai, prob_mae, den = definition_prob(pais_torneio, escolhidos, fit, n_filhos)\n",
    "\n",
    "    for j in range(n_filhos):\n",
    "        num = (prob_pai[j] * pai[j] + prob_mae[j] * mae[j])\n",
    "        filho = num / den[j] # Cálculo do filho\n",
    "        filhos.append(filho)\n",
    "\n",
    "    return filhos\n"
   ]
  },
  {
   "cell_type": "code",
   "execution_count": null,
   "metadata": {},
   "outputs": [],
   "source": [
    "n_filhos = int(len(pais_) / 2)\n",
    "pai = pais_[0:n_filhos]\n",
    "mae = np.array(pais_[n_filhos:len(pais_)])\n",
    "prob_pai, prob_mae, den = definition_prob(pais_, escolhido, fit_, n_filhos)\n",
    "\n",
    "'''for j in range(n_filhos):\n",
    "        num = (prob_pai[j] * pai[j] + prob_mae[j] * mae[j])\n",
    "        filho = num / den[j] # Cálculo do filho\n",
    "        filhos.append(filho)'''\n"
   ]
  },
  {
   "cell_type": "code",
   "execution_count": null,
   "metadata": {},
   "outputs": [],
   "source": [
    "print(type(pai))\n",
    "#test_num = pd.DataFrame(data=pai_ai)\n",
    "print(prob_pai)\n",
    "\n",
    "test_num = pd.DataFrame.from_dict(pai, orient='columns')\n",
    "\n",
    "test_num"
   ]
  },
  {
   "cell_type": "code",
   "execution_count": null,
   "metadata": {},
   "outputs": [],
   "source": [
    "num_1 = test_num.loc[0]\n",
    "print(num_1)\n",
    "print(type(num_1))\n",
    "#data.iloc[222]\n"
   ]
  },
  {
   "cell_type": "code",
   "execution_count": null,
   "metadata": {},
   "outputs": [],
   "source": [
    "pai[0].values()"
   ]
  },
  {
   "cell_type": "code",
   "execution_count": null,
   "metadata": {},
   "outputs": [],
   "source": [
    "pop_test[0]['cood']*2"
   ]
  },
  {
   "cell_type": "code",
   "execution_count": null,
   "metadata": {},
   "outputs": [],
   "source": [
    "a = list(pop_test[0].values())\n",
    "print(a)"
   ]
  },
  {
   "cell_type": "code",
   "execution_count": null,
   "metadata": {},
   "outputs": [],
   "source": [
    "for i in "
   ]
  }
 ],
 "metadata": {
  "kernelspec": {
   "display_name": "Python 3",
   "language": "python",
   "name": "python3"
  },
  "language_info": {
   "codemirror_mode": {
    "name": "ipython",
    "version": 3
   },
   "file_extension": ".py",
   "mimetype": "text/x-python",
   "name": "python",
   "nbconvert_exporter": "python",
   "pygments_lexer": "ipython3",
   "version": "3.6.5"
  }
 },
 "nbformat": 4,
 "nbformat_minor": 4
}
