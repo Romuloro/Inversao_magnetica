{
 "cells": [
  {
   "cell_type": "code",
   "execution_count": 1,
   "metadata": {},
   "outputs": [],
   "source": [
    "import pytest\n",
    "import numpy as np\n",
    "import random\n",
    "import sys\n",
    "import matplotlib.pyplot as plt\n",
    "import pandas as pd\n",
    "a = sys.path.append('../modules/')\n",
    "import plot_3D, auxiliars, salve_doc, sphere, sample_random, Operators,aux_operators\n",
    "import timeit\n",
    "from mpl_toolkits.mplot3d import Axes3D\n",
    "from mpl_toolkits.mplot3d.art3d import Poly3DCollection, Line3DCollection\n"
   ]
  },
  {
   "cell_type": "code",
   "execution_count": 2,
   "metadata": {},
   "outputs": [
    {
     "data": {
      "image/png": "[encoded data removed]",
      "text/plain": [
       "<Figure size 864x864 with 1 Axes>"
      ]
     },
     "metadata": {
      "needs_background": "light"
     },
     "output_type": "display_data"
    }
   ],
   "source": [
    "acquisition = {'nx': 100,\n",
    "                  'ny': 100,\n",
    "                  'xmin': -5000,\n",
    "                  'xmax': 5000,\n",
    "                  'ymin': -5000,\n",
    "                  'ymax': 5000,\n",
    "                  'z': -100.0,\n",
    "                  'color': '.r'}\n",
    "\n",
    "x, y, X, Y, Z = plot_3D.create_aquisicao(**acquisition)\n",
    "\n",
    "data_cubo = pd.read_table('Logfile/20_09_2020_11_26/data_mag.cvs', sep =',')\n",
    "anomaly_cubo = np.reshape(np.array(data_cubo['Anomalia Magnética(nT)']), (100,100))"
   ]
  },
  {
   "cell_type": "markdown",
   "metadata": {},
   "source": [
    "## Create Population"
   ]
  },
  {
   "cell_type": "code",
   "execution_count": 3,
   "metadata": {},
   "outputs": [],
   "source": [
    "population = {'xmax': 5000.0,\n",
    "                'xmin': -5000.0,\n",
    "                'ymax': 5000.0,\n",
    "                'ymin': -5000.0,\n",
    "                'zlim': 1400.0,\n",
    "                'z_min': 600.0,\n",
    "                'n_dip': 5,\n",
    "                'n_pop': 30,\n",
    "                'inclmax': -40.0,\n",
    "                'inclmin': -20.0,\n",
    "                'declmax': -20.0,\n",
    "                'declmin': 0.0,\n",
    "                'magmax': 5.0,\n",
    "                'magmin': 0.5,\n",
    "                'homogeneo': True\n",
    "                }\n",
    "I, D = -30.0, -23.0\n",
    "\n",
    "filhos_mut = {'xmax': 5000.0,\n",
    "                'xmin': -5000.0,\n",
    "                'ymax': 5000.0,\n",
    "                'ymin': -5000.0,\n",
    "                'zlim': 1500.0,\n",
    "                'z_min': 500.0,\n",
    "                'n': 1,\n",
    "                'inclmax': -40.0,\n",
    "                'inclmin': -20.0,\n",
    "                'declmax': -20.0,\n",
    "                'declmin': 0.0,\n",
    "                'magmax': 5.0,\n",
    "                'magmin': 0.5,\n",
    "                'homogeneo': True\n",
    "                }\n"
   ]
  },
  {
   "cell_type": "code",
   "execution_count": 4,
   "metadata": {},
   "outputs": [],
   "source": [
    "def create_population_array(xmax, xmin, ymax, ymin, zlim, z_min, inclmax, inclmin, declmax, declmin, magmax, magmin, n_dip, n_pop, homogeneo):\n",
    "    \"\"\"\n",
    "    Função com o objetivo de criar uma população com n indivíduos randômicos, que estaram de acordo com os parâmetros\n",
    "    escolhidos.\n",
    "\n",
    "    :param xmax: O valor máximo da coordenada X.\n",
    "    :param ymax: O valor máximo da coordenada Y.\n",
    "    :param zlim: O valor máximo da coordenada Z.\n",
    "    :param xmin: O valor minímo da coordenada X.\n",
    "    :param ymin: O valor minímo da coordenada Y.\n",
    "    :param z_min: O valor minímo da coordenada Z.\n",
    "    :param n_pop: O número de indivíduos desejados na população.\n",
    "    :param n_dip: O número de dipolos desejados para cada indivíduo.\n",
    "    :param inclmax: Valor máximo da inclianção magnética.\n",
    "    :param inclmin: Valor mínimo da inclianção magnética.\n",
    "    :param declmax: Valor máximo da inclianção magnética.\n",
    "    :param declmin: Valor mínimo da declianção magnética.\n",
    "    :param magmax: Valor máximo da magnetização.\n",
    "    :param magmin: Valor mínimo da magnetização.\n",
    "    :param homogeneo: True para valores de inclinação, declinação e magnetização iguais para as n dipolos.\n",
    "                      False é a opção default, onde os valores de inclinação, declinação e magnetização é criada de\n",
    "                      forma randômica.\n",
    "\n",
    "    :return pop: Lista com n indivíduos/dipolos criados de forma randômica.\n",
    "    \"\"\"\n",
    "    if n_pop >= 10:\n",
    "        pop = []\n",
    "        n_par = 3\n",
    "        for j in range(n_pop):\n",
    "            cood = np.zeros((n_dip+1, n_par))\n",
    "            coodX, coodY, coodZ = sample_random.sample_random_coordinated(xmax, xmin, ymax, ymin, zlim, z_min, n_dip)\n",
    "            incl, decl, mag = sample_random.sample_random_mag(inclmax, inclmin, declmax, declmin, magmax, magmin, 1, homogeneo)\n",
    "            for i in range(n_dip):\n",
    "                cood[i][0], cood[i][1], cood[i][2] = coodX[i], coodY[i], coodZ[i]\n",
    "            cood[n_dip][0], cood[n_dip][1], cood[n_dip][2] = incl[0], decl[0], mag[0] \n",
    "            pop.append(cood)    \n",
    "        return pop\n",
    "    else:\n",
    "        return print('Por favor. Coloque o número de indivíduos maior ou igual a 10')\n"
   ]
  },
  {
   "cell_type": "code",
   "execution_count": 5,
   "metadata": {},
   "outputs": [],
   "source": [
    "pop = create_population_array(**population)"
   ]
  },
  {
   "cell_type": "code",
   "execution_count": 6,
   "metadata": {},
   "outputs": [
    {
     "name": "stdout",
     "output_type": "stream",
     "text": [
      "[array([[ 9.44783322e+02,  4.30544399e+03,  9.69718430e+02],\n",
      "       [-6.35613486e+02,  7.22219610e+02,  6.69860773e+02],\n",
      "       [ 4.46817891e+03,  4.20327486e+03,  6.23526217e+02],\n",
      "       [ 1.30033229e+03, -3.31612866e+03,  1.14893246e+03],\n",
      "       [ 4.25747708e+03, -1.87143408e+03,  1.16006994e+03],\n",
      "       [-2.96671914e+01, -5.02431779e+00,  2.00834894e+00]]), array([[-3.51186449e+03,  2.52196300e+03,  6.29969875e+02],\n",
      "       [ 8.96754346e+02, -1.69360447e+03,  6.02523202e+02],\n",
      "       [ 2.69667849e+03,  1.77634646e+03,  7.71001954e+02],\n",
      "       [ 4.27897660e+03,  4.25474349e+03,  8.12561935e+02],\n",
      "       [ 5.21801197e+02, -1.35083124e+03,  6.10067179e+02],\n",
      "       [-3.02354171e+01, -1.94196842e+01,  2.20244252e+00]]), array([[ 1.57228588e+03, -4.64935369e+03,  1.03505525e+03],\n",
      "       [-1.50258433e+03, -3.80079908e+03,  1.10837486e+03],\n",
      "       [-2.76959228e+03, -2.66767935e+03,  7.58796672e+02],\n",
      "       [-1.27046850e+03, -3.90128761e+03,  6.36464609e+02],\n",
      "       [ 4.12756240e+03, -4.46404533e+03,  8.98132797e+02],\n",
      "       [-3.29294904e+01, -6.26937120e+00,  4.31769688e+00]]), array([[-1.79486085e+03, -4.26718979e+03,  9.28809727e+02],\n",
      "       [-2.76454447e+03, -1.62722382e+03,  1.13994695e+03],\n",
      "       [ 9.83687316e+02,  4.35744146e+03,  9.61609510e+02],\n",
      "       [ 4.92263267e+03,  4.73717027e+03,  9.48843060e+02],\n",
      "       [-4.55417861e+03, -2.01249686e+03,  8.15431109e+02],\n",
      "       [-2.99023725e+01, -1.74113952e+01,  3.12899946e+00]]), array([[ 4.09625990e+03,  4.23627342e+03,  7.59327314e+02],\n",
      "       [-6.63236502e+02,  4.14404775e+03,  6.60648055e+02],\n",
      "       [-4.67555508e+03,  3.09171086e+03,  1.23658424e+03],\n",
      "       [ 2.40429909e+03,  1.56934684e+03,  1.35230575e+03],\n",
      "       [-2.13812786e+03,  1.83986685e+03,  6.45224442e+02],\n",
      "       [-2.18083474e+01, -1.98858500e+01,  5.11321347e-01]]), array([[ 5.45823408e+02, -1.40016295e+03,  1.33011525e+03],\n",
      "       [-3.91123666e+03,  3.34372535e+03,  9.48604086e+02],\n",
      "       [ 3.88627234e+03, -3.62499288e+03,  1.06578306e+03],\n",
      "       [ 3.37224998e+03, -1.67119513e+03,  1.14225483e+03],\n",
      "       [ 4.17152882e+03,  1.07728452e+03,  1.37921809e+03],\n",
      "       [-3.71728603e+01, -9.54099331e-01,  1.52005943e+00]]), array([[-2.73310839e+03, -1.08194914e+03,  9.13867320e+02],\n",
      "       [ 4.23962355e+03, -2.09941450e+03,  1.22473238e+03],\n",
      "       [-1.99541189e+03, -3.18689742e+03,  1.09685741e+03],\n",
      "       [-3.27514451e+03,  2.07528730e+03,  1.04873163e+03],\n",
      "       [-6.85671665e+02, -2.37556183e+03,  6.62527701e+02],\n",
      "       [-2.15604532e+01, -9.46936925e-02,  8.94098459e-01]]), array([[ 2.26917532e+03,  4.15979032e+03,  8.21794458e+02],\n",
      "       [-2.03357487e+02, -4.78989656e+03,  1.28834343e+03],\n",
      "       [-7.30263807e+01, -1.27392632e+03,  9.64934570e+02],\n",
      "       [ 2.75917553e+03, -2.94750443e+03,  1.17885271e+03],\n",
      "       [-2.64176619e+03, -2.90960811e+03,  1.05775538e+03],\n",
      "       [-3.88903292e+01, -6.95790399e+00,  4.44708195e+00]]), array([[ 1.69702195e+02,  4.50953317e+03,  9.42299614e+02],\n",
      "       [-5.86468733e+02, -4.29489005e+03,  8.07388580e+02],\n",
      "       [-3.25455886e+03,  1.55496830e+03,  1.15426887e+03],\n",
      "       [-3.55734144e+03, -1.12271831e+03,  1.08963370e+03],\n",
      "       [ 3.60895443e+03, -6.09454878e+02,  1.11227615e+03],\n",
      "       [-2.10762818e+01, -3.59240114e+00,  3.84537584e+00]]), array([[ 1.15897922e+03,  4.77908814e+03,  9.43099155e+02],\n",
      "       [ 2.04007168e+03,  1.76113740e+03,  1.05893247e+03],\n",
      "       [-8.72956132e+02, -1.78248303e+03,  1.13599297e+03],\n",
      "       [ 4.59611911e+03, -3.31820269e+03,  6.60680248e+02],\n",
      "       [-4.31770386e+02,  4.98316189e+03,  1.03008366e+03],\n",
      "       [-3.76881885e+01, -4.10767864e+00,  3.89723627e+00]]), array([[ 3.44843884e+03,  3.44024663e+03,  1.18164646e+03],\n",
      "       [-3.50528535e+03, -4.64968030e+03,  1.24472398e+03],\n",
      "       [ 4.50022542e+03,  5.31255323e+02,  8.74723454e+02],\n",
      "       [ 3.75020485e+03, -2.78132265e+03,  1.21339704e+03],\n",
      "       [-2.93444357e+03, -4.59966264e+03,  1.20605649e+03],\n",
      "       [-2.94847503e+01, -1.89373048e+01,  2.25658500e+00]]), array([[-4.02807468e+02,  1.51090327e+03,  1.31020131e+03],\n",
      "       [-4.06181640e+03, -1.73217419e+03,  7.74831727e+02],\n",
      "       [-8.64314047e+02, -3.19933241e+03,  1.18022165e+03],\n",
      "       [ 1.53912102e+01,  1.03882070e+02,  1.35869463e+03],\n",
      "       [ 3.62194952e+03, -4.58480519e+01,  1.06861665e+03],\n",
      "       [-2.81613691e+01, -4.67315048e-01,  4.50783112e+00]]), array([[-4.42728234e+03, -4.65374360e+03,  1.01756146e+03],\n",
      "       [-3.71953249e+03,  1.43315108e+03,  1.02836538e+03],\n",
      "       [ 4.25405951e+02,  4.56742929e+02,  1.38522608e+03],\n",
      "       [ 2.66150527e+03,  3.62731933e+03,  1.30474547e+03],\n",
      "       [ 3.16395179e+03, -3.20192852e+03,  1.23103450e+03],\n",
      "       [-2.69147331e+01, -1.26171768e+01,  2.41018755e+00]]), array([[ 2.13655728e+02, -2.86568081e+03,  9.90057583e+02],\n",
      "       [-2.94354740e+03, -2.25551752e+03,  9.08602542e+02],\n",
      "       [ 4.14647972e+03, -3.84779693e+03,  1.01524429e+03],\n",
      "       [-3.58375994e+03,  3.77043294e+03,  1.36698164e+03],\n",
      "       [ 2.11076174e+02,  2.78131621e+03,  1.31012517e+03],\n",
      "       [-2.03747864e+01, -6.20248474e+00,  2.06546924e+00]]), array([[-4.98226138e+03, -3.09824859e+03,  1.24107955e+03],\n",
      "       [ 3.07644208e+03,  2.41450206e+03,  8.82869383e+02],\n",
      "       [ 2.06363117e+03, -2.93218788e+03,  6.48110534e+02],\n",
      "       [ 3.77142422e+03, -2.54190791e+03,  9.12897439e+02],\n",
      "       [ 6.35710534e+02, -2.49228933e+03,  8.89955813e+02],\n",
      "       [-2.09814872e+01, -7.25789947e+00,  1.28483902e+00]]), array([[ 4.30852950e+03, -5.57848781e+02,  9.95463874e+02],\n",
      "       [-7.45899967e+02,  3.01941936e+03,  1.00208103e+03],\n",
      "       [-2.41939143e+03, -1.43372520e+03,  1.02546706e+03],\n",
      "       [-7.73140526e+02,  5.43703511e+02,  8.33289456e+02],\n",
      "       [ 1.36179375e+03, -4.37860300e+03,  8.76275508e+02],\n",
      "       [-3.13959480e+01, -1.31013002e+01,  2.86268959e+00]]), array([[ 2.56569625e+01, -4.40771812e+03,  9.32382637e+02],\n",
      "       [-1.90282051e+03, -4.16417954e+03,  8.77866237e+02],\n",
      "       [ 1.95532386e+03,  4.08730141e+03,  1.35734124e+03],\n",
      "       [-2.95145254e+03, -2.74807457e+03,  1.00762977e+03],\n",
      "       [-4.42334575e+03,  1.49429236e+03,  8.73504766e+02],\n",
      "       [-2.10632828e+01, -1.42922892e+01,  4.34254757e+00]]), array([[-4.62361020e+03, -1.87366235e+03,  7.03548614e+02],\n",
      "       [ 9.64510965e+01,  4.07767350e+03,  1.12208843e+03],\n",
      "       [ 2.07008601e+03,  1.03505475e+03,  7.44259025e+02],\n",
      "       [-3.73079054e+03,  1.93671779e+03,  1.20226075e+03],\n",
      "       [ 2.39709518e+02,  5.20200358e+02,  1.14699570e+03],\n",
      "       [-2.40444931e+01, -1.90241289e+01,  3.29505946e+00]]), array([[-3.09136113e+03, -2.47947236e+03,  1.38277367e+03],\n",
      "       [ 4.81658595e+03,  1.63621259e+03,  6.57868859e+02],\n",
      "       [ 2.00498188e+03,  4.30171313e+03,  1.18732976e+03],\n",
      "       [-1.22973836e+03, -1.23117594e+03,  6.35561595e+02],\n",
      "       [-4.28975205e+03, -1.18821798e+02,  8.67892748e+02],\n",
      "       [-3.85927975e+01, -8.69350746e+00,  3.02490264e+00]]), array([[-1.66584512e+03,  4.50588691e+03,  8.99302069e+02],\n",
      "       [-2.97681486e+03,  1.20586510e+03,  1.20698477e+03],\n",
      "       [-2.02682133e+03,  3.14724126e+03,  1.38092265e+03],\n",
      "       [-2.67181462e+03,  2.18283422e+02,  7.44887119e+02],\n",
      "       [ 4.24129071e+03, -7.01666592e+02,  7.76142758e+02],\n",
      "       [-3.34589371e+01, -1.64426238e+01,  2.85074809e+00]]), array([[-4.89468460e+03, -2.72635688e+03,  1.08742795e+03],\n",
      "       [ 1.09253733e+03,  3.67048621e+03,  1.12809295e+03],\n",
      "       [ 3.65798513e+01, -4.81001869e+02,  1.30832965e+03],\n",
      "       [-1.56728451e+03,  2.33133479e+03,  1.36266978e+03],\n",
      "       [-4.86400886e+03, -3.81093634e+03,  9.86821409e+02],\n",
      "       [-3.04897567e+01, -1.92010688e+01,  4.55107845e+00]]), array([[ 1.05995753e+03, -3.16011896e+03,  1.02908608e+03],\n",
      "       [ 4.85272418e+03,  1.93878379e+02,  1.30811366e+03],\n",
      "       [-9.59633363e+02, -2.04199140e+03,  9.71409349e+02],\n",
      "       [-3.36968859e+02,  3.26388494e+03,  1.12410016e+03],\n",
      "       [ 3.43397663e+03,  1.59256626e+03,  1.33576727e+03],\n",
      "       [-3.53501412e+01, -2.87624527e+00,  1.58646389e+00]]), array([[ 1.76740411e+03, -4.36785447e+03,  1.31313272e+03],\n",
      "       [-6.91645129e+02, -3.50984709e+02,  1.24321859e+03],\n",
      "       [ 2.39052252e+03,  4.75388665e+03,  1.18829107e+03],\n",
      "       [-3.90088767e+02, -4.48868849e+03,  9.02573653e+02],\n",
      "       [ 6.71469490e+02, -3.82680726e+03,  1.25583849e+03],\n",
      "       [-2.34981324e+01, -6.45726103e+00,  4.32626126e+00]]), array([[-3.88953849e+02,  2.42599335e+03,  1.25768000e+03],\n",
      "       [-3.18287061e+03,  3.59158587e+03,  6.93446549e+02],\n",
      "       [ 3.81330496e+03,  1.08377585e+03,  6.71876935e+02],\n",
      "       [ 2.66371382e+03,  2.89935740e+03,  6.99114269e+02],\n",
      "       [-8.38426321e+02,  1.00124394e+03,  1.35615406e+03],\n",
      "       [-3.88930983e+01, -4.92430587e+00,  1.37032512e+00]]), array([[-2.22985993e+03, -1.95062030e+03,  7.35445611e+02],\n",
      "       [-3.02049976e+03,  2.03663892e+03,  1.24696183e+03],\n",
      "       [ 1.52117718e+03,  6.35451284e+02,  1.30153371e+03],\n",
      "       [-4.37240561e+03,  2.11113447e+03,  8.98277489e+02],\n",
      "       [-6.53505816e+02,  1.92824436e+03,  1.07008010e+03],\n",
      "       [-2.61020603e+01, -6.50351473e+00,  4.00782999e+00]]), array([[ -777.24661885, -2842.1098732 ,  1374.09500932],\n",
      "       [ 2969.28289252,  1880.64586608,  1234.61521881],\n",
      "       [ -984.24741009,   770.99439922,  1026.06096532],\n",
      "       [  406.50598682, -2663.43671796,  1387.37036846],\n",
      "       [-3026.97892538, -1893.40701813,  1304.85528439],\n",
      "       [  -32.29916843,    -6.78390324,     3.6147226 ]]), array([[-3.01190891e+03, -4.52205911e+03,  1.20278693e+03],\n",
      "       [-4.96805178e+03, -1.41724168e+03,  1.36898897e+03],\n",
      "       [ 4.09607568e+03,  6.33614938e+02,  6.00857051e+02],\n",
      "       [-1.15514699e+02, -4.48750924e+03,  8.03021118e+02],\n",
      "       [ 3.09465924e+03,  1.40484972e+03,  6.98438959e+02],\n",
      "       [-3.43140421e+01, -7.51066606e+00,  3.10895040e+00]]), array([[ 1.65559121e+03,  2.60514181e+02,  7.35330227e+02],\n",
      "       [ 3.97834714e+03,  2.49102525e+03,  7.68124683e+02],\n",
      "       [-9.80888367e+02,  3.11155765e+03,  1.39735295e+03],\n",
      "       [ 2.05707283e+03, -4.55233919e+03,  1.37971590e+03],\n",
      "       [ 7.13154448e+02, -1.55967566e+03,  8.28323273e+02],\n",
      "       [-2.33637283e+01, -1.52111760e+01,  2.62777106e+00]]), array([[ 3.95306344e+03, -2.80479387e+03,  7.92084639e+02],\n",
      "       [ 1.73133720e+03, -2.13081028e+03,  8.34005567e+02],\n",
      "       [-3.34483767e+03,  4.82867999e+03,  1.18758735e+03],\n",
      "       [ 4.71655577e+03,  3.62548624e+03,  8.06418830e+02],\n",
      "       [-8.98952249e+02,  3.77902613e+03,  8.53949521e+02],\n",
      "       [-2.16524106e+01, -1.55581460e+01,  4.77764572e+00]]), array([[-2.29346868e+03, -2.51006230e+03,  1.26047633e+03],\n",
      "       [ 3.02239932e+03,  2.12953644e+03,  9.56850023e+02],\n",
      "       [ 8.93364888e+00, -3.07952470e+03,  1.25853821e+03],\n",
      "       [ 3.27816303e+03,  4.29983159e+03,  1.27645412e+03],\n",
      "       [-1.44169195e+03,  4.24565112e+03,  1.32865728e+03],\n",
      "       [-3.53070949e+01, -5.61936064e+00,  7.47613464e-01]])]\n"
     ]
    }
   ],
   "source": [
    "print(pop)"
   ]
  },
  {
   "cell_type": "code",
   "execution_count": 7,
   "metadata": {},
   "outputs": [
    {
     "name": "stdout",
     "output_type": "stream",
     "text": [
      "6\n",
      "-29.667191437640444\n",
      "944.7833221808041\n"
     ]
    }
   ],
   "source": [
    "print(len(pop[0]))\n",
    "incl = pop[0][len(pop[0])-1, 0]\n",
    "x_ = pop[0][0, 0]\n",
    "print(incl)\n",
    "print(x_)"
   ]
  },
  {
   "cell_type": "code",
   "execution_count": 8,
   "metadata": {},
   "outputs": [
    {
     "name": "stdout",
     "output_type": "stream",
     "text": [
      "2.62 ms ± 416 µs per loop (mean ± std. dev. of 7 runs, 100 loops each)\n"
     ]
    }
   ],
   "source": [
    "%timeit create_population_array(**population)"
   ]
  },
  {
   "cell_type": "markdown",
   "metadata": {},
   "source": [
    "## Fit"
   ]
  },
  {
   "cell_type": "code",
   "execution_count": 9,
   "metadata": {},
   "outputs": [],
   "source": [
    "def tfa_n_dips(incl, decl, mag, n, Xref, Yref, Zref, I, D, spheres):\n",
    "    \"\"\"\n",
    "    Função com o objetivo calcular a anomalia magnética de n bolinhas.\n",
    "\n",
    "    As entradas da função é feita da forma clássica ou através de um dicionário que é descompactado.\n",
    "    O dicinário deve conter as chaves nomeadas de forma identica aos parâmetros de entrada da função.\n",
    "    Exemplo de entrada: tfa_n_dots(**dicionario).\n",
    "\n",
    "    :param dicionario: incl - Lista com os valores de inclinação magnética.\n",
    "                       decl - Lista com os valores de declinação magnética.\n",
    "                       mag - Lista com os valores de magnetização.\n",
    "                       n - número de bolinhas desejadas.\n",
    "                       Xref - Matrix com as coordenadas em X.\n",
    "                       Yref - Matrix com as coordenadas em Y.\n",
    "                       Zref - Matrix com as coordenadas em Z.\n",
    "                       I - valor de inclinação regional.\n",
    "                       D - valor de declinação regional.\n",
    "                       spheres - Lista com os valores de coordenadas e raio de cada dipolo.\n",
    "                           spheres[0] - Coordenada no eixo X.\n",
    "                           spheres[1] - Coordenada no eixo Y.\n",
    "                           spheres[2] - Coordenada no eixo Z.\n",
    "                           spheres[3] - Raio do dipolo.\n",
    "    :return: Uma matrix com os valores de anomália magnética para cada ponto do local estudado.\n",
    "    \"\"\"\n",
    "\n",
    "    # ---------------------------------------------------------------------------------------------------------------------#\n",
    "    tfa_n = 0\n",
    "    for i in range(n):\n",
    "        tfa_cada = sphere.sphere_tfa(Xref, Yref, Zref, spheres[i], mag, I, D, incl, decl)\n",
    "        tfa_n += tfa_cada\n",
    "\n",
    "    return tfa_n"
   ]
  },
  {
   "cell_type": "code",
   "execution_count": 18,
   "metadata": {},
   "outputs": [],
   "source": [
    "def caculation_anomaly(X, Y, Z, I, D, pop):\n",
    "    raio = 100.0\n",
    "    anomaly = []\n",
    "    #n_dip = len(pop[0])-1\n",
    "\n",
    "    for i in range(len(pop)):\n",
    "        spheres = []\n",
    "        incl = pop[i][len(pop[0])-1, 0]\n",
    "        decl = pop[i][len(pop[0])-1, 1]\n",
    "        mag = pop[i][len(pop[0])-1, 2]\n",
    "        for j in range(len(pop[0])-1):\n",
    "            spheres.append((pop[i][j, 0], pop[i][j, 1], pop[i][j, 2], raio))\n",
    "        anomaly.append(tfa_n_dips(incl, decl, mag, len(pop[0])-1, X, Y, Z, I, D, spheres))\n",
    "    return anomaly"
   ]
  },
  {
   "cell_type": "code",
   "execution_count": 19,
   "metadata": {},
   "outputs": [
    {
     "name": "stdout",
     "output_type": "stream",
     "text": [
      "341 ms ± 64.9 ms per loop (mean ± std. dev. of 7 runs, 1 loop each)\n"
     ]
    }
   ],
   "source": [
    "%timeit caculation_anomaly(X, Y, Z, I, D, pop)"
   ]
  },
  {
   "cell_type": "code",
   "execution_count": 24,
   "metadata": {},
   "outputs": [],
   "source": [
    "def fit_value_v2(X, Y, Z, I, D, pop, tfa_n_dip):\n",
    "    \"\"\"\n",
    "    Função que calcula o fitness de cada indivíduo da população.\n",
    "\n",
    "    :param X: Pontos de observação na coordenadas X.\n",
    "    :param Y: Pontos de observação na coordenadas Y.\n",
    "    :param Z: Pontos de observação na coordenadas Z.\n",
    "    :param I: Inclinação magnética regional.\n",
    "    :param D: Declinação magnética regional.\n",
    "    :param pop: População com n indivíduos.\n",
    "    :param tfa_n_dip: Anomalia magnética referência.\n",
    "\n",
    "    :return fit_cada: Lista com o valor de fitness de cara indivíduo da população.\n",
    "    \"\"\"\n",
    "    fit_cada = []\n",
    "    anomalia = caculation_anomaly(X, Y, Z, I, D, pop) #Cálculo da anomalia\n",
    "    for i in range(len(pop)):\n",
    "        fit_cada.append(aux_operators.f_difference(tfa_n_dip, anomalia[i])) #Cálculo do fit\n",
    "    return fit_cada"
   ]
  },
  {
   "cell_type": "code",
   "execution_count": 25,
   "metadata": {},
   "outputs": [
    {
     "name": "stdout",
     "output_type": "stream",
     "text": [
      "[100.09226745374608, 101.0506695536331, 101.05394736081988, 100.96659433451569, 101.00018489804576, 100.86860522536153, 100.81900638775213, 98.96758396079316, 101.77670069225067, 100.14083228966243, 101.18356832322264, 98.60793574896016, 100.26399352045772, 100.71242867074093, 101.15291907228924, 100.41270454207225, 100.83718564365232, 99.8318041425237, 100.729606528598, 102.58221681764468, 99.00449044470406, 100.68462474988013, 99.17653199854831, 100.86751024893385, 100.96143330401375, 100.24510667313945, 101.63948770734034, 101.70302545897209, 102.49603142892796, 100.82574359251916]\n",
      "30\n"
     ]
    }
   ],
   "source": [
    "fit_ = fit_value_v2(X, Y, Z, I, D, pop, anomaly_cubo)\n",
    "print(fit_)\n",
    "print(len(fit_))"
   ]
  },
  {
   "cell_type": "code",
   "execution_count": 27,
   "metadata": {},
   "outputs": [
    {
     "name": "stdout",
     "output_type": "stream",
     "text": [
      "303 ms ± 21.6 ms per loop (mean ± std. dev. of 7 runs, 1 loop each)\n"
     ]
    }
   ],
   "source": [
    "%timeit fit_value_v2(X, Y, Z, I, D, pop, anomaly_cubo)"
   ]
  },
  {
   "cell_type": "markdown",
   "metadata": {},
   "source": [
    "## Seleção"
   ]
  },
  {
   "cell_type": "code",
   "execution_count": null,
   "metadata": {},
   "outputs": [],
   "source": [
    "def tournament_selection_v2(pop, fit_cada):\n",
    "    \"\"\"\n",
    "    Função com o objetivo de selecionar os futuros pais, pelo dinâmica do Torneio.\n",
    "\n",
    "    :param pop: População com n indivíduos.\n",
    "    :param fit_cada: O valor de fitness para cada n indivpiduos.\n",
    "\n",
    "    :return chosen: Lista com os n pais.\n",
    "    \"\"\"\n",
    "\n",
    "    pop_1 = pop.copy()\n",
    "    chosen = []\n",
    "    select = []\n",
    "    for i in range(int(0.2 * len(pop))):\n",
    "        capture_select = []\n",
    "        # ---------------------------- Escolhidos para o torneio ---------------------------------#\n",
    "        index_select = list(random.sample(range(0, len(pop_1)), k=(int(0.2 * len(pop)))))\n",
    "        for j in range(int(0.2 * len(pop))):\n",
    "            capture = [fit_cada[index_select[j]], index_select[j]]\n",
    "            capture_select.append(capture)\n",
    "        # ---------------------------- Vencedor do torneio ---------------------------------#\n",
    "        escolhido = pop_1[min(capture_select[:])[1]]\n",
    "        select.append(min(capture_select[:])[1])\n",
    "        # ------------------ Retirada do vencedor da população artificial ------------------------#\n",
    "        del (pop_1[min(capture_select[:])[1]])\n",
    "        # ---------------------------- Vencedores do torneio ---------------------------------#\n",
    "        chosen.append(escolhido)\n",
    "\n",
    "    return chosen, select\n",
    "\n",
    "pais_, escolhidos = tournament_selection_v2(pop, fit_)"
   ]
  },
  {
   "cell_type": "code",
   "execution_count": null,
   "metadata": {},
   "outputs": [],
   "source": [
    "%timeit tournament_selection_v2(pop, fit_)"
   ]
  },
  {
   "cell_type": "markdown",
   "metadata": {},
   "source": [
    "## Croosover_elitista:"
   ]
  },
  {
   "cell_type": "code",
   "execution_count": null,
   "metadata": {},
   "outputs": [],
   "source": [
    "def count_index_fit(lista):\n",
    "    escolhido = []\n",
    "    for i in range(len(lista)):\n",
    "        n = lista[i]\n",
    "        B = len([i for i in lista[0:i] if i <= n])\n",
    "        n += B\n",
    "        escolhido.append(n)\n",
    "    return escolhido"
   ]
  },
  {
   "cell_type": "code",
   "execution_count": null,
   "metadata": {},
   "outputs": [],
   "source": [
    "def definition_prob(pai_torneio, escolhidos, fit, n_filhos):\n",
    "    prob_pai = []\n",
    "    prob_mae = []\n",
    "    sum_den = []\n",
    "    fit = np.array(fit)\n",
    "    escolhidos = count_index_fit(escolhidos)\n",
    "\n",
    "    fit_pais = list(fit[escolhidos])\n",
    "    f_pais, f_maes = fit_pais[0:n_filhos], fit_pais[n_filhos:len(pai_torneio)]\n",
    "    for i in range(n_filhos):\n",
    "        casal = [f_pais[i], f_maes[i]]\n",
    "        melhor = casal.index(min(casal))\n",
    "        if melhor == 0:\n",
    "            prob_pai.append(random.uniform(0.5, 1.0))\n",
    "            prob_mae.append(random.random())\n",
    "        else:\n",
    "            prob_mae.append(random.uniform(0.5, 1.0))\n",
    "            prob_pai.append(random.random())\n",
    "        sum_den.append(prob_pai[i] + prob_mae[i])\n",
    "\n",
    "    return prob_pai, prob_mae, sum_den\n"
   ]
  },
  {
   "cell_type": "code",
   "execution_count": null,
   "metadata": {},
   "outputs": [],
   "source": [
    "def crossover_eletista(pais_torneio, escolhidos, fit):\n",
    "    filhos = []\n",
    "    n_filhos = int(len(pais_torneio) / 2)\n",
    "    pai = np.array(pais_torneio[0:n_filhos])\n",
    "    mae = np.array(pais_torneio[n_filhos:len(pais_torneio)])\n",
    "    # Sorteio das probabilidades de forma randômica.\n",
    "    prob_pai, prob_mae, den = definition_prob(pais_torneio, escolhidos, fit, n_filhos)\n",
    "\n",
    "    for j in range(n_filhos):\n",
    "        num = (prob_pai[j] * pai[j] + prob_mae[j] * mae[j])\n",
    "        filho = num / den[j] # Cálculo do filho\n",
    "        filhos.append(filho)\n",
    "\n",
    "    return filhos\n"
   ]
  },
  {
   "cell_type": "code",
   "execution_count": null,
   "metadata": {},
   "outputs": [],
   "source": [
    "filhos_ = crossover_eletista(pais_, escolhidos, fit_)\n",
    "print(filhos_)\n",
    "print(len(filhos_[0][0]))"
   ]
  },
  {
   "cell_type": "code",
   "execution_count": null,
   "metadata": {},
   "outputs": [],
   "source": [
    "print(filhos_[0][0][0])\n",
    "print(filhos_[0][5][0])\n",
    "print(len((filhos_[0]) - 3))\n",
    "print(len(filhos_[0])-1)"
   ]
  },
  {
   "cell_type": "code",
   "execution_count": null,
   "metadata": {},
   "outputs": [],
   "source": [
    "%timeit crossover_eletista(pais_, escolhidos, fit_)"
   ]
  },
  {
   "cell_type": "markdown",
   "metadata": {},
   "source": [
    "## Mutação"
   ]
  },
  {
   "cell_type": "code",
   "execution_count": null,
   "metadata": {},
   "outputs": [],
   "source": [
    "def mutacao_vhomo(filho, xmax, xmin, ymax, ymin, zlim, z_min, inclmax, inclmin, declmax, declmin, magmax, magmin, n, homogeneo):\n",
    "\n",
    "    prob_mut = 0.01\n",
    "    for index, rand_mut in enumerate(filho): #Index = qual será o indivíduo que será mutado.\n",
    "        rand_mut = random.random()\n",
    "        if prob_mut > rand_mut:\n",
    "            dip_select = random.randint(0, (len(filho[0]) - 2)) #Seleção qual dipolo será mutado.\n",
    "            param_select = random.randint(0, (len(filho[0][0]) + 3)) #Selecão qual parâmetro será mutado.\n",
    "            if param_select <= 2:\n",
    "                coodX, coodY, coodZ = sample_random.sample_random_coordinated(xmax, xmin, ymax, ymin, zlim, z_min, n)\n",
    "                if param_select == 0:\n",
    "                    filho[index][dip_select][param_select] = coodX[0]\n",
    "                elif param_select == 1:\n",
    "                    filho[index][dip_select][param_select] = coodY[0]\n",
    "                elif param_select == 2:\n",
    "                    filho[index][dip_select][param_select] = coodZ[0]\n",
    "            else:\n",
    "                incl, decl, mag = sample_random.sample_random_mag(inclmax, inclmin, declmax, declmin, magmax, magmin, n, homogeneo)\n",
    "                if param_select == 3:\n",
    "                    filho[index][len(filhos_[0])-1][0] = incl[0]\n",
    "                elif param_select == 4:\n",
    "                    filho[index][len(filhos_[0])-1][1] = decl[0]\n",
    "                elif param_select == 5:\n",
    "                    filho[index][len(filhos_[0])-1][2] = mag[0]\n",
    "\n",
    "    return filho\n"
   ]
  },
  {
   "cell_type": "code",
   "execution_count": null,
   "metadata": {},
   "outputs": [],
   "source": [
    "filhos_mu = mutacao_vhomo(filhos_, **filhos_mut)\n",
    "print(filhos_mu)"
   ]
  },
  {
   "cell_type": "code",
   "execution_count": null,
   "metadata": {},
   "outputs": [],
   "source": [
    "%timeit mutacao_vhomo(filhos_, **filhos_mut)"
   ]
  },
  {
   "cell_type": "markdown",
   "metadata": {},
   "source": [
    "## Elitismo:"
   ]
  },
  {
   "cell_type": "code",
   "execution_count": null,
   "metadata": {},
   "outputs": [],
   "source": [
    "def elitismo(pop, filhos, fit_cada):\n",
    "    n_fica = (len(pop) - len(filhos))\n",
    "    df = pd.DataFrame(fit_cada)\n",
    "    x = df.sort_values(0, ascending=True) #Ordenar os valores de acordo com o menor fit.\n",
    "    piores = x.index[n_fica:]\n",
    "    for index, pos in enumerate(piores): #Substituir os piores indivíduos pelos filhos\n",
    "        pop[pos] = filhos[index]\n",
    "\n",
    "    return pop"
   ]
  },
  {
   "cell_type": "code",
   "execution_count": null,
   "metadata": {},
   "outputs": [],
   "source": [
    "elitismo1 = elitismo(pop, filhos_mu, fit_)"
   ]
  },
  {
   "cell_type": "code",
   "execution_count": null,
   "metadata": {},
   "outputs": [],
   "source": [
    "%timeit elitismo(pop, filhos_mu, fit_)"
   ]
  },
  {
   "cell_type": "code",
   "execution_count": null,
   "metadata": {},
   "outputs": [],
   "source": []
  }
 ],
 "metadata": {
  "kernelspec": {
   "display_name": "Python 3",
   "language": "python",
   "name": "python3"
  },
  "language_info": {
   "codemirror_mode": {
    "name": "ipython",
    "version": 3
   },
   "file_extension": ".py",
   "mimetype": "text/x-python",
   "name": "python",
   "nbconvert_exporter": "python",
   "pygments_lexer": "ipython3",
   "version": "3.6.5"
  }
 },
 "nbformat": 4,
 "nbformat_minor": 4
}
