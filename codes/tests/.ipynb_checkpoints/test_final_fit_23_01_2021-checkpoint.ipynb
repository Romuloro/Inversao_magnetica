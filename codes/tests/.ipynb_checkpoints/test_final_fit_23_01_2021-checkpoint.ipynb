{
 "cells": [
  {
   "cell_type": "code",
   "execution_count": 5,
   "metadata": {},
   "outputs": [],
   "source": [
    "import numpy as np\n",
    "import random\n",
    "import pandas as pd\n",
    "import sys\n",
    "import networkx as nx\n",
    "import matplotlib.pyplot as plt\n",
    "import math as mt\n",
    "from mpl_toolkits.mplot3d import Axes3D\n",
    "from mpl_toolkits.mplot3d.art3d import Poly3DCollection, Line3DCollection\n",
    "a = sys.path.append('../modules/')  # endereco das funcoes implementadas por voce!\n",
    "import sphere, sample_random, aux_operators_array, Operators_array, plot_3D, graphs_and_dist"
   ]
  },
  {
   "cell_type": "code",
   "execution_count": 18,
   "metadata": {},
   "outputs": [
    {
     "data": {
      "image/png": "[encoded data removed]",
      "text/plain": [
       "<Figure size 864x864 with 1 Axes>"
      ]
     },
     "metadata": {
      "needs_background": "light"
     },
     "output_type": "display_data"
    }
   ],
   "source": [
    "population = {'xmax': 5000.0,\n",
    "                'xmin': -5000.0,\n",
    "                'ymax': 5000.0,\n",
    "                'ymin': -5000.0,\n",
    "                'zlim': 7000.0,\n",
    "                'z_min': 0.0,\n",
    "                'n_dip': 4,\n",
    "                'n_pop': 10,\n",
    "                'inclmax': 5.0,\n",
    "                'inclmin': -5.0,\n",
    "                'declmax': 5.0,\n",
    "                'declmin': -5.0,\n",
    "                'magmax': 2.5,\n",
    "                'magmin': 1.5,\n",
    "                'homogeneo': True\n",
    "                }\n",
    "\n",
    "filhos_mut = {'xmax': 5000.0,\n",
    "                'xmin': -5000.0,\n",
    "                'ymax': 5000.0,\n",
    "                'ymin': -5000.0,\n",
    "                'zlim': 7000.0,\n",
    "                'z_min': 0.0,\n",
    "                'n': 1,\n",
    "                'inclmax': 5.0,\n",
    "                'inclmin': -5.0,\n",
    "                'declmax': 5.0,\n",
    "                'declmin': -5.0,\n",
    "                'magmax': 2.5,\n",
    "                'magmin': 1.5,\n",
    "                'homogeneo': True\n",
    "                }\n",
    "\n",
    "I, D = 5.0, 70.0\n",
    "acquisition = {'nx': 20,\n",
    "                  'ny': 20,\n",
    "                  'xmin': -5000,\n",
    "                  'xmax': 5000,\n",
    "                  'ymin': -5000,\n",
    "                  'ymax': 5000,\n",
    "                  'z': -50.0,\n",
    "                  'color': '.r'}\n",
    "\n",
    "\n",
    "x, y, X, Y, Z = plot_3D.create_aquisicao(**acquisition)\n",
    "\n",
    "data_cubo = pd.read_table('Logfile/30_10_2020_11_59/data_mag.cvs', sep =',')\n",
    "anomaly_cubo = np.reshape(np.array(data_cubo['Anomalia Magnética(nT)']), (20,20))"
   ]
  },
  {
   "cell_type": "code",
   "execution_count": 19,
   "metadata": {},
   "outputs": [],
   "source": [
    "populacao = Operators_array.create_population(**population)"
   ]
  },
  {
   "cell_type": "code",
   "execution_count": 20,
   "metadata": {},
   "outputs": [
    {
     "name": "stdout",
     "output_type": "stream",
     "text": [
      "[array([[ 5.01875138e+02, -1.63018189e+03,  1.16037657e+03],\n",
      "       [ 3.43705323e+03, -2.31111867e+03,  3.04251119e+03],\n",
      "       [-3.50291515e+03, -8.13475365e+02,  1.84344828e+03],\n",
      "       [-4.72661163e+03, -2.16519411e+03,  2.53453768e+03],\n",
      "       [ 1.81863263e+00,  4.29988595e-01,  1.59948609e+00]]), array([[ 2.75894148e+03,  3.26360802e+03,  4.32072575e+03],\n",
      "       [-2.75017877e+03, -2.66834280e+03,  3.54633285e+03],\n",
      "       [ 3.69476775e+03,  1.71102142e+03,  1.04763131e+03],\n",
      "       [ 3.49156116e+03,  2.52607781e+03,  2.48924910e+02],\n",
      "       [-1.82775409e+00,  6.98485691e-01,  1.72337569e+00]]), array([[-2.75272958e+03, -1.24149861e+03,  1.32476895e+03],\n",
      "       [-2.94261807e+03, -3.04628544e+03,  3.12865303e+03],\n",
      "       [ 7.02976661e+02, -2.17685681e+03,  2.31186311e+03],\n",
      "       [ 1.29349361e+03,  3.88953775e+02,  6.26763548e+03],\n",
      "       [-4.69810110e+00,  2.04432171e+00,  2.19674552e+00]]), array([[-1.91385627e+01, -4.18088905e+03,  1.31068418e+03],\n",
      "       [-3.04165837e+03,  3.77620671e+03,  4.94657667e+03],\n",
      "       [-4.09660317e+03,  1.92276958e+02,  5.78432272e+03],\n",
      "       [ 1.60830106e+02,  2.76391340e+03,  4.24476276e+03],\n",
      "       [-4.06272262e+00, -3.22379361e+00,  2.13658328e+00]]), array([[ 4.54970316e+03,  4.15488658e+03,  2.85245945e+03],\n",
      "       [ 1.59256499e+03,  1.07162007e+03,  4.66558196e+03],\n",
      "       [-5.85750835e+02,  4.20975109e+03,  6.20153524e+03],\n",
      "       [ 5.77857042e+02,  2.44804069e+03,  1.03125308e+03],\n",
      "       [ 4.48186050e+00, -2.95182475e+00,  2.18197884e+00]]), array([[-3.91331637e+03, -3.20971462e+02,  2.87513935e+03],\n",
      "       [-8.76579983e+02,  3.74262942e+03,  2.58091283e+03],\n",
      "       [-4.78375286e+03, -3.55162219e+03,  5.53205253e+03],\n",
      "       [-4.97052500e+03,  4.17279765e+03,  5.22083825e+03],\n",
      "       [-4.91143709e+00, -3.04651769e+00,  1.69426248e+00]]), array([[-4.03563801e+01,  3.13483977e+03,  8.60270449e+02],\n",
      "       [-1.98226329e+03,  9.36299992e+02,  5.46441018e+02],\n",
      "       [ 3.54202102e+03,  4.72095318e+02,  6.79287944e+03],\n",
      "       [-1.65583207e+03,  3.31450101e+03,  3.51849989e+03],\n",
      "       [-9.94487654e-01,  1.95264264e+00,  1.53063339e+00]]), array([[ 2.65158461e+03,  1.93867358e+03,  5.17836574e+03],\n",
      "       [-3.05283123e+03,  1.25548110e+03,  2.18520025e+02],\n",
      "       [ 1.36293389e+03,  3.57633340e+03,  6.27913775e+03],\n",
      "       [-3.22197341e+03, -3.70182950e+03,  2.06851052e+03],\n",
      "       [-3.74997943e+00, -2.71916195e+00,  2.20784811e+00]]), array([[ 4.61827648e+03,  2.76057248e+03,  3.70391773e+03],\n",
      "       [-1.16260707e+03,  3.53586918e+03,  6.91876865e+03],\n",
      "       [-1.10707548e+03,  1.33750693e+03,  6.94710778e+03],\n",
      "       [-2.82351237e+03,  4.64596037e+03,  2.67037872e+01],\n",
      "       [ 9.07872269e-01, -3.44211404e+00,  2.40431093e+00]]), array([[-2.85599454e+03,  1.47845503e+03,  5.86516707e+03],\n",
      "       [ 4.32136504e+03, -2.17315534e+03,  1.69605861e+03],\n",
      "       [ 1.14489754e+03,  1.29031941e+03,  4.98706057e+03],\n",
      "       [ 2.15590443e+03, -4.69281880e+03,  6.53559466e+03],\n",
      "       [ 6.71992407e-03,  1.51082840e+00,  2.22768186e+00]])]\n"
     ]
    }
   ],
   "source": [
    "print(populacao)"
   ]
  },
  {
   "cell_type": "code",
   "execution_count": 21,
   "metadata": {},
   "outputs": [],
   "source": [
    "def final_fit(X, Y, Z, I, D, pop, tfa_n_dip, lamb):\n",
    "    fit_theta = []\n",
    "    fit_, anomaly = Operators_array.fit_value(X, Y, Z, I, D, pop, tfa_n_dip)\n",
    "    theta, MST = graphs_and_dist.theta_value(pop)\n",
    "    for i in range(len(pop)):\n",
    "        #final_fit = fit_[i] + lamb * theta[i]\n",
    "        fit_theta.append(fit_[i] + lamb * theta[i])\n",
    "    return fit_theta, anomaly"
   ]
  },
  {
   "cell_type": "code",
   "execution_count": 22,
   "metadata": {},
   "outputs": [
    {
     "name": "stdout",
     "output_type": "stream",
     "text": [
      "[4314.588402701677, 41461.863409429054, 4032.112889842264, 16515.050989628257, 395.35413731198423, 615.9920252723538, 15552.898521560526, 22975.95733374959, 26231.45647245561, 3258.3995808225404]\n"
     ]
    }
   ],
   "source": [
    "fit_, anomaly = final_fit(X, Y, Z, I, D, populacao, anomaly_cubo, lamb = 0.005)\n",
    "print(fit_)"
   ]
  },
  {
   "cell_type": "code",
   "execution_count": null,
   "metadata": {},
   "outputs": [],
   "source": []
  }
 ],
 "metadata": {
  "kernelspec": {
   "display_name": "Python 3",
   "language": "python",
   "name": "python3"
  },
  "language_info": {
   "codemirror_mode": {
    "name": "ipython",
    "version": 3
   },
   "file_extension": ".py",
   "mimetype": "text/x-python",
   "name": "python",
   "nbconvert_exporter": "python",
   "pygments_lexer": "ipython3",
   "version": "3.6.5"
  }
 },
 "nbformat": 4,
 "nbformat_minor": 4
}
