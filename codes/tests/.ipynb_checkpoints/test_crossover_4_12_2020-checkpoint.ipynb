{
 "cells": [
  {
   "cell_type": "code",
   "execution_count": 1,
   "metadata": {},
   "outputs": [],
   "source": [
    "import numpy as np\n",
    "import random\n",
    "import sys\n",
    "import matplotlib.pyplot as plt\n",
    "import pandas as pd\n",
    "import math\n",
    "import time\n",
    "a = sys.path.append('../modules/') # endereco das funcoes implementadas por voce!\n",
    "import plot_3D, auxiliars, salve_doc, sphere, sample_random, Operators_array, Operators_alpina\n",
    "#import test_operators_06_10_2020 as top\n",
    "from mpl_toolkits.mplot3d import Axes3D\n",
    "from mpl_toolkits.mplot3d.art3d import Poly3DCollection, Line3DCollection"
   ]
  },
  {
   "cell_type": "code",
   "execution_count": 2,
   "metadata": {},
   "outputs": [],
   "source": [
    "population = {'xmax': 10.0,\n",
    "                'xmin': 0.0,\n",
    "                'ymax': 10.0,\n",
    "                'ymin': 0.0,\n",
    "                'zlim': 10.0,\n",
    "                'z_min': 0.0,\n",
    "                'n_dip': 2,\n",
    "                'n_pop': 10,\n",
    "                'homogeneo': True\n",
    "                }\n",
    "\n",
    "filhos_mut = {'xmax': 10.0,\n",
    "                'xmin': 0.0,\n",
    "                'ymax': 10.0,\n",
    "                'ymin': 0.0,\n",
    "                'zlim': 100.0,\n",
    "                'z_min': 0.0,\n",
    "                'n': 1,\n",
    "                'homogeneo': True\n",
    "                }\n",
    "\n"
   ]
  },
  {
   "cell_type": "code",
   "execution_count": 3,
   "metadata": {},
   "outputs": [
    {
     "name": "stdout",
     "output_type": "stream",
     "text": [
      "[array([[3.97693395, 5.5776145 ],\n",
      "       [7.99211197, 9.75911992]]), array([[6.87559092, 7.21802917],\n",
      "       [9.78719634, 4.25158994]]), array([[6.77409001, 4.38499815],\n",
      "       [0.56425034, 5.6903823 ]]), array([[7.24638645, 0.96799584],\n",
      "       [2.84154753, 3.20632477]]), array([[6.82836919, 8.10258952],\n",
      "       [8.59805136, 3.69555685]]), array([[6.32050513, 7.76540667],\n",
      "       [3.98994583, 9.98825704]]), array([[3.39557225, 3.18013544],\n",
      "       [7.86051276, 2.10729467]]), array([[8.11793324, 3.33781348],\n",
      "       [1.24213712, 1.23548677]]), array([[7.46244996, 3.88502063],\n",
      "       [1.17710011, 8.02919179]]), array([[6.8054871 , 4.71266407],\n",
      "       [4.59593183, 7.08127244]])]\n"
     ]
    }
   ],
   "source": [
    "pop_inicial = Operators_alpina.create_population(**population)\n",
    "print(pop_inicial)"
   ]
  },
  {
   "cell_type": "code",
   "execution_count": 47,
   "metadata": {},
   "outputs": [],
   "source": [
    "def uniform_crossover(pop_inicial):\n",
    "    p_shape = tuple(pop_inicial[0].shape) #tuple(mae1.shape)\n",
    "    filhos = []\n",
    "    n_filhos = int(len(pop_inicial) / 2)\n",
    "    pai = pop_inicial[0:n_filhos]\n",
    "    mae = pop_inicial[n_filhos:len(pop_inicial)]\n",
    "    for k in range(n_filhos):\n",
    "        probs = np.random.rand(p_shape[0], p_shape[1])\n",
    "        i_pai = pai[k]\n",
    "        i_mae = mae[k]\n",
    "        m_mae = np.zeros(p_shape)\n",
    "        m_pai = np.zeros(p_shape)\n",
    "        for i in range(p_shape[0]):\n",
    "            for j in range(p_shape[1]):\n",
    "                if probs[i,j] < 0.5:\n",
    "                    m_pai[i,j], m_mae[i,j] = i_mae[i,j], i_pai[i,j]\n",
    "                else:\n",
    "                    m_pai[i, j], m_mae[i, j] = i_pai[i, j], i_mae[i, j]\n",
    "        filhos +=[m_pai, m_mae]\n",
    "    return filhos"
   ]
  },
  {
   "cell_type": "code",
   "execution_count": 39,
   "metadata": {},
   "outputs": [],
   "source": [
    "def single_p_crossover(pai, X = 1):\n",
    "    filhos = []\n",
    "    n_filhos = int(len(pop_inicial) / 2)\n",
    "    pai = pop_inicial[0:n_filhos]\n",
    "    mae = pop_inicial[n_filhos:len(pop_inicial)]\n",
    "    for i in range(n_filhos):\n",
    "        pai_new = np.append(pai[i][0,:X], mae[i][0,X:])\n",
    "        mae_new = np.append(mae[i][0,:X], pai[i][0,X:])\n",
    "        filhos +=[pai_new, mae_new]\n",
    "    return filhos"
   ]
  },
  {
   "cell_type": "code",
   "execution_count": 6,
   "metadata": {},
   "outputs": [],
   "source": [
    "def crossover_mix_doubles(pais_torneio, escolhidos, fit):\n",
    "    filhos = []\n",
    "    n_filhos = int(len(pais_torneio) / 2)\n",
    "    n1_4_filhos = int(len(pais_torneio)/4)\n",
    "    pai = np.array(pais_torneio[0:n_filhos])\n",
    "    inv_pai = pai[::-1]\n",
    "    mae = np.array(pais_torneio[n_filhos:len(pais_torneio)])\n",
    "    m_pai = np.array(pais_torneio[n1_4_filhos:n_filhos])\n",
    "    m_mae = np.array(pais_torneio[n_filhos:(n_filhos+n1_4_filhos)])\n",
    "    m_pai = np.concatenate((m_pai, m_mae), axis=0)\n",
    "    # Sorteio das probabilidades de forma randômica.\n",
    "    probs = np.random.rand(4)\n",
    "\n",
    "    for j in range(n_filhos):\n",
    "        num0 = (probs[0] * pai[j] + probs[1] * mae[j])\n",
    "        filho0 = num0 / (probs[0] + probs[1]) # Cálculo do filho\n",
    "        #print('Filho=', j, filho)\n",
    "        num1 = (probs[2] * pai[j] + probs[3] * mae[j])\n",
    "        filho1 = num1 / (probs[2] + probs[3]) # Cálculo do filho\n",
    "        \n",
    "        num2 = (probs[0] * inv_pai[j] + probs[1] * mae[j])\n",
    "        filho2 = num2 / (probs[0] + probs[1])\n",
    "        \n",
    "        num3 = (probs[2] * inv_pai[j] + probs[3] * mae[j])\n",
    "        filho3 = num3 / (probs[2] + probs[3])\n",
    "        \n",
    "        num4 = (probs[0] * pai[j] + probs[1] * m_pai[j])\n",
    "        filho4 = num4 / (probs[0] + probs[1])\n",
    "        \n",
    "        num5 = (probs[2] * pai[j] + probs[3] * m_pai[j])\n",
    "        filho5 = num5 / (probs[2] + probs[3])\n",
    "        \n",
    "        num6 = (probs[0] * mae[j] + probs[1] * m_pai[j])\n",
    "        filho6 = num6 / (probs[0] + probs[1])\n",
    "        \n",
    "        num7 = (probs[2] * mae[j] + probs[3] * m_pai[j])\n",
    "        filho7 = num7 / (probs[2] + probs[3])\n",
    "        \n",
    "        \n",
    "        filhos += [filho0, filho1, filho2, filho3, filho4, filho5, filho6, filho7]\n",
    "\n",
    "    return filhos"
   ]
  },
  {
   "cell_type": "code",
   "execution_count": 38,
   "metadata": {},
   "outputs": [
    {
     "name": "stdout",
     "output_type": "stream",
     "text": [
      "[[0.039795   0.62521208]\n",
      " [0.6632585  0.16081351]]\n",
      "<class 'numpy.ndarray'>\n",
      "-------------\n",
      "[[0.53089192 0.5677124 ]\n",
      " [0.0554548  0.22257015]]\n"
     ]
    }
   ],
   "source": [
    "mae1 = np.random.rand(2,2)\n",
    "print(mae1)\n",
    "print(type(mae1))\n",
    "print('-------------')\n",
    "pai1 = np.random.rand(2,2)\n",
    "print(pai1)"
   ]
  },
  {
   "cell_type": "code",
   "execution_count": 44,
   "metadata": {},
   "outputs": [
    {
     "name": "stdout",
     "output_type": "stream",
     "text": [
      "------------------------------\n",
      "[[0.67443892 0.59533256]\n",
      " [0.1536651  0.6546496 ]]\n"
     ]
    }
   ],
   "source": [
    "p_shape = tuple(pop_inicial[0].shape) #tuple(mae1.shape)\n",
    "filhos = []\n",
    "n_filhos = int(len(pop_inicial) / 2)\n",
    "pai = pop_inicial[0:n_filhos]\n",
    "mae = pop_inicial[n_filhos:len(pop_inicial)]\n",
    "for k in range(n_filhos):\n",
    "    probs = np.random.rand(p_shape[0], p_shape[1])\n",
    "    i_pai = pai[k]\n",
    "    i_mae = mae[k]\n",
    "    m_mae = np.zeros(p_shape)\n",
    "    m_pai = np.zeros(p_shape)\n",
    "    for i in range(p_shape[0]):\n",
    "        for j in range(p_shape[1]):\n",
    "            if probs[i,j] < 0.5:\n",
    "                m_pai[i,j], m_mae[i,j] = i_mae[i,j], i_pai[i,j]\n",
    "            else:\n",
    "                m_pai[i, j], m_mae[i, j] = i_pai[i, j], i_mae[i, j]\n",
    "    filhos +=[m_pai, m_mae]\n",
    "print('------------------------------')\n",
    "print(probs)\n"
   ]
  },
  {
   "cell_type": "code",
   "execution_count": 45,
   "metadata": {},
   "outputs": [
    {
     "name": "stdout",
     "output_type": "stream",
     "text": [
      "[array([[3.97693395, 7.76540667],\n",
      "       [7.99211197, 9.98825704]]), array([[6.87559092, 3.18013544],\n",
      "       [9.78719634, 2.10729467]]), array([[6.77409001, 3.33781348],\n",
      "       [0.56425034, 1.23548677]]), array([[7.24638645, 3.88502063],\n",
      "       [2.84154753, 8.02919179]]), array([[6.82836919, 4.71266407],\n",
      "       [8.59805136, 7.08127244]])]\n",
      "-----------------\n",
      "[array([[6.32050513, 5.5776145 ],\n",
      "       [3.98994583, 9.75911992]]), array([[3.39557225, 7.21802917],\n",
      "       [7.86051276, 4.25158994]]), array([[8.11793324, 4.38499815],\n",
      "       [1.24213712, 5.6903823 ]]), array([[7.46244996, 0.96799584],\n",
      "       [1.17710011, 3.20632477]]), array([[6.8054871 , 8.10258952],\n",
      "       [4.59593183, 3.69555685]])]\n"
     ]
    }
   ],
   "source": [
    "print(pai)\n",
    "print('-----------------')\n",
    "print(mae)"
   ]
  },
  {
   "cell_type": "code",
   "execution_count": 46,
   "metadata": {},
   "outputs": [
    {
     "name": "stdout",
     "output_type": "stream",
     "text": [
      "[array([[3.97693395, 5.5776145 ],\n",
      "       [7.99211197, 9.75911992]]), array([[6.32050513, 7.76540667],\n",
      "       [3.98994583, 9.98825704]]), array([[3.39557225, 3.18013544],\n",
      "       [9.78719634, 4.25158994]]), array([[6.87559092, 7.21802917],\n",
      "       [7.86051276, 2.10729467]]), array([[6.77409001, 4.38499815],\n",
      "       [1.24213712, 1.23548677]]), array([[8.11793324, 3.33781348],\n",
      "       [0.56425034, 5.6903823 ]]), array([[7.24638645, 3.88502063],\n",
      "       [1.17710011, 3.20632477]]), array([[7.46244996, 0.96799584],\n",
      "       [2.84154753, 8.02919179]]), array([[6.82836919, 4.71266407],\n",
      "       [4.59593183, 7.08127244]]), array([[6.8054871 , 8.10258952],\n",
      "       [8.59805136, 3.69555685]])]\n",
      "10\n"
     ]
    }
   ],
   "source": [
    "print(filhos)\n",
    "print(len(filhos))"
   ]
  },
  {
   "cell_type": "code",
   "execution_count": 11,
   "metadata": {},
   "outputs": [
    {
     "name": "stdout",
     "output_type": "stream",
     "text": [
      "(2, 2)\n",
      "[[0.03356108 0.95687449]\n",
      " [0.39477968 0.69383749]]\n",
      "2\n"
     ]
    }
   ],
   "source": [
    "print(p_shape)\n",
    "print(probs)\n",
    "print(len(probs))"
   ]
  },
  {
   "cell_type": "code",
   "execution_count": 12,
   "metadata": {},
   "outputs": [
    {
     "name": "stdout",
     "output_type": "stream",
     "text": [
      "[array([[6.32050513, 5.5776145 ],\n",
      "       [3.98994583, 9.75911992]]), array([[3.39557225, 7.21802917],\n",
      "       [7.86051276, 4.25158994]]), array([[8.11793324, 4.38499815],\n",
      "       [1.24213712, 5.6903823 ]]), array([[7.46244996, 0.96799584],\n",
      "       [1.17710011, 3.20632477]]), array([[6.8054871 , 8.10258952],\n",
      "       [4.59593183, 3.69555685]])]\n",
      "---------------------------\n",
      "[array([[3.97693395, 7.76540667],\n",
      "       [7.99211197, 9.98825704]]), array([[6.87559092, 3.18013544],\n",
      "       [9.78719634, 2.10729467]]), array([[6.77409001, 3.33781348],\n",
      "       [0.56425034, 1.23548677]]), array([[7.24638645, 3.88502063],\n",
      "       [2.84154753, 8.02919179]]), array([[6.82836919, 4.71266407],\n",
      "       [8.59805136, 7.08127244]])]\n"
     ]
    }
   ],
   "source": [
    "print(pai)\n",
    "print('---------------------------')\n",
    "print(mae)"
   ]
  },
  {
   "cell_type": "code",
   "execution_count": 13,
   "metadata": {},
   "outputs": [
    {
     "name": "stdout",
     "output_type": "stream",
     "text": [
      "[[array([[6.32050513, 5.5776145 ],\n",
      "       [3.98994583, 9.75911992]]), array([[3.39557225, 7.21802917],\n",
      "       [7.86051276, 4.25158994]]), array([[8.11793324, 4.38499815],\n",
      "       [1.24213712, 5.6903823 ]]), array([[7.46244996, 0.96799584],\n",
      "       [1.17710011, 3.20632477]]), array([[6.8054871 , 8.10258952],\n",
      "       [4.59593183, 3.69555685]])], [array([[3.97693395, 7.76540667],\n",
      "       [7.99211197, 9.98825704]]), array([[6.87559092, 3.18013544],\n",
      "       [9.78719634, 2.10729467]]), array([[6.77409001, 3.33781348],\n",
      "       [0.56425034, 1.23548677]]), array([[7.24638645, 3.88502063],\n",
      "       [2.84154753, 8.02919179]]), array([[6.82836919, 4.71266407],\n",
      "       [8.59805136, 7.08127244]])]]\n",
      "2\n"
     ]
    }
   ],
   "source": [
    "print(filhos)\n",
    "print(len(filhos))"
   ]
  },
  {
   "cell_type": "code",
   "execution_count": 14,
   "metadata": {},
   "outputs": [
    {
     "name": "stdout",
     "output_type": "stream",
     "text": [
      "[array([[6.32050513, 5.5776145 ],\n",
      "       [3.98994583, 9.75911992]]), array([[3.39557225, 7.21802917],\n",
      "       [7.86051276, 4.25158994]]), array([[8.11793324, 4.38499815],\n",
      "       [1.24213712, 5.6903823 ]]), array([[7.46244996, 0.96799584],\n",
      "       [1.17710011, 3.20632477]]), array([[6.8054871 , 8.10258952],\n",
      "       [4.59593183, 3.69555685]])]\n"
     ]
    }
   ],
   "source": [
    "print(filhos[0])"
   ]
  },
  {
   "cell_type": "code",
   "execution_count": null,
   "metadata": {},
   "outputs": [],
   "source": []
  }
 ],
 "metadata": {
  "kernelspec": {
   "display_name": "Python 3",
   "language": "python",
   "name": "python3"
  },
  "language_info": {
   "codemirror_mode": {
    "name": "ipython",
    "version": 3
   },
   "file_extension": ".py",
   "mimetype": "text/x-python",
   "name": "python",
   "nbconvert_exporter": "python",
   "pygments_lexer": "ipython3",
   "version": "3.6.5"
  }
 },
 "nbformat": 4,
 "nbformat_minor": 4
}
