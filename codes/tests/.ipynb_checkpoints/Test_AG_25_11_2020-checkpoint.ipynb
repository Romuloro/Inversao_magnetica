{
 "cells": [
  {
   "cell_type": "code",
   "execution_count": 1,
   "metadata": {},
   "outputs": [],
   "source": [
    "import pytest\n",
    "import numpy as np\n",
    "import random\n",
    "import sys\n",
    "import matplotlib.pyplot as plt\n",
    "import pandas as pd\n",
    "a = sys.path.append('../modules/')\n",
    "import plot_3D, auxiliars, salve_doc, sphere, sample_random, Operators_array,aux_operators_array\n",
    "import timeit\n",
    "from mpl_toolkits.mplot3d import Axes3D\n",
    "from mpl_toolkits.mplot3d.art3d import Poly3DCollection, Line3DCollection\n",
    "import auxiliars as aux"
   ]
  },
  {
   "cell_type": "code",
   "execution_count": 48,
   "metadata": {},
   "outputs": [
    {
     "data": {
      "image/png": "[encoded data removed]",
      "text/plain": [
       "<Figure size 864x864 with 1 Axes>"
      ]
     },
     "metadata": {
      "needs_background": "light"
     },
     "output_type": "display_data"
    }
   ],
   "source": [
    "acquisition = {'nx': 20,\n",
    "                  'ny': 20,\n",
    "                  'xmin': -5000,\n",
    "                  'xmax': 5000,\n",
    "                  'ymin': -5000,\n",
    "                  'ymax': 5000,\n",
    "                  'z': -50.0,\n",
    "                  'color': '.r'}\n",
    "\n",
    "\n",
    "x, y, X, Y, Z = plot_3D.create_aquisicao(**acquisition)\n",
    "\n",
    "\n",
    "data_cubo = pd.read_table('Logfile/30_10_2020_11_59/data_mag.cvs', sep =',')\n",
    "anomaly_cubo = np.reshape(np.array(data_cubo['Anomalia Magnética(nT)']), (20,20))\n",
    "\n",
    "\n",
    "#plot_3D.modelo_anomalia_3D(Y, X, tfa_n_bolinhas, coodY, coodX, coodZ, mag)\n",
    "\n",
    "population = {'xmax': 5000.0,\n",
    "                'xmin': -5000.0,\n",
    "                'ymax': 5000.0,\n",
    "                'ymin': -5000.0,\n",
    "                'zlim': 7000.0,\n",
    "                'z_min': 0.0,\n",
    "                'n_dip': 2,\n",
    "                'n_pop': 20,\n",
    "                'inclmax': 5.0,\n",
    "                'inclmin': -5.0,\n",
    "                'declmax': 5.0,\n",
    "                'declmin': -5.0,\n",
    "                'magmax': 2.5,\n",
    "                'magmin': 1.5,\n",
    "                'homogeneo': True\n",
    "                }\n",
    "\n",
    "I, D = 5.0, 70.0\n",
    "\n",
    "filhos_mut = {'xmax': 5000.0,\n",
    "                'xmin': -5000.0,\n",
    "                'ymax': 5000.0,\n",
    "                'ymin': -5000.0,\n",
    "                'zlim': 7000.0,\n",
    "                'z_min': 0.0,\n",
    "                'n': 1,\n",
    "                'inclmax': 5.0,\n",
    "                'inclmin': -5.0,\n",
    "                'declmax': 5.0,\n",
    "                'declmin': -5.0,\n",
    "                'magmax': 2.5,\n",
    "                'magmin': 1.5,\n",
    "                'homogeneo': True\n",
    "                }"
   ]
  },
  {
   "cell_type": "code",
   "execution_count": 49,
   "metadata": {},
   "outputs": [],
   "source": [
    "populacao = Operators_array.create_population(**population)"
   ]
  },
  {
   "cell_type": "code",
   "execution_count": 50,
   "metadata": {},
   "outputs": [],
   "source": [
    "val_fit = []\n",
    "ind_better = []\n",
    "anomaly_better = []\n",
    "final_pop = []\n",
    "\n",
    "\n",
    "fit_, anomaly = Operators_array.fit_value(X, Y, Z, I, D, populacao, anomaly_cubo)\n",
    "min_fit = fit_.index(min(fit_))\n",
    "ind_better.append(populacao[min_fit])\n",
    "anomaly_better.append(anomaly[min_fit])\n",
    "val_fit.append(min(fit_))\n",
    "pais_, escolhidos = Operators_array.tournament_selection(populacao, fit_)\n",
    "filho_ = Operators_array.crossover_polyamory(pais_, escolhidos, fit_)"
   ]
  },
  {
   "cell_type": "code",
   "execution_count": 51,
   "metadata": {},
   "outputs": [],
   "source": [
    "def tournament_selection_new(pop, fit_cada, p_pop = 0.5):\n",
    "    \"\"\"\n",
    "    Função com o objetivo de selecionar os futuros pais, pelo dinâmica do Torneio.\n",
    "\n",
    "    :param pop: População com n indivíduos.\n",
    "    :param fit_cada: O valor de fitness para cada n indivpiduos.\n",
    "\n",
    "    :return chosen: Lista com os n pais.\n",
    "    \"\"\"\n",
    "\n",
    "    pop_1 = pop.copy()\n",
    "    chosen = []\n",
    "    select = []\n",
    "    capture = np.zeros((int(p_pop * len(pop))))\n",
    "    # ---------------------------- Escolhidos para o torneio ---------------------------------#\n",
    "    index_select = list(random.sample(range(0, len(pop_1)), k=(int(p_pop * len(pop)))))\n",
    "    for j in range(len(index_select)):\n",
    "        capture[j] = fit_[index_select[j]]\n",
    "        # ---------------------------- Vencedor do torneio ---------------------------------#\n",
    "    for i in range(int(0.25 * len(pop))):\n",
    "        ind = np.unravel_index(np.argmin(capture, axis=None), capture.shape)\n",
    "        escolhido = pop_1[int(index_select[int(ind[0])])]\n",
    "        select.append(int(ind[0]))\n",
    "    # ------------------ Retirada do vencedor da população artificial ------------------------#\n",
    "        np.delete(capture, [int(ind[0])], None)\n",
    "        del(index_select[int(ind[0])])\n",
    "    # ---------------------------- Vencedores do torneio ---------------------------------#\n",
    "        chosen.append(escolhido)\n",
    "\n",
    "    return chosen, select\n"
   ]
  },
  {
   "cell_type": "code",
   "execution_count": 52,
   "metadata": {},
   "outputs": [
    {
     "data": {
      "text/plain": [
       "'p_pop = 0.5\\npop = populacao.copy()\\npop_1 = pop.copy()\\nchosen = []\\nselect = np.zeros((int(p_pop * len(pop))))\\nselect_final = []\\ncapture = np.zeros((int(p_pop * len(pop))))\\nindex_select = list(random.sample(range(0, len(pop_1)), k=(int(p_pop * len(pop)))))\\ncap = fit_[index_select[:]]\\n#for j in range(len(index_select)):\\n#    capture[j], select[j] = fit_[index_select[j]], index_select[j]\\n        # ---------------------------- Vencedor do torneio ---------------------------------#\\n#for i in range(int(0.25 * len(pop))):\\n#ind = np.unravel_index(np.argmin(capture_select, axis=None), capture_select.shape)\\n#print(ind)\\n#escolhido = pop_1[ind]\\n    #ind = np.unravel_index(np.argmin(a, axis=None), a.shape)'"
      ]
     },
     "execution_count": 52,
     "metadata": {},
     "output_type": "execute_result"
    }
   ],
   "source": [
    "'''p_pop = 0.5\n",
    "pop = populacao.copy()\n",
    "pop_1 = pop.copy()\n",
    "chosen = []\n",
    "select = np.zeros((int(p_pop * len(pop))))\n",
    "select_final = []\n",
    "capture = np.zeros((int(p_pop * len(pop))))\n",
    "index_select = list(random.sample(range(0, len(pop_1)), k=(int(p_pop * len(pop)))))\n",
    "cap = fit_[index_select[:]]\n",
    "#for j in range(len(index_select)):\n",
    "#    capture[j], select[j] = fit_[index_select[j]], index_select[j]\n",
    "        # ---------------------------- Vencedor do torneio ---------------------------------#\n",
    "#for i in range(int(0.25 * len(pop))):\n",
    "#ind = np.unravel_index(np.argmin(capture_select, axis=None), capture_select.shape)\n",
    "#print(ind)\n",
    "#escolhido = pop_1[ind]\n",
    "    #ind = np.unravel_index(np.argmin(a, axis=None), a.shape)'''"
   ]
  },
  {
   "cell_type": "code",
   "execution_count": 53,
   "metadata": {},
   "outputs": [],
   "source": [
    "#print(fit_)"
   ]
  },
  {
   "cell_type": "code",
   "execution_count": 54,
   "metadata": {},
   "outputs": [
    {
     "data": {
      "text/plain": [
       "'print(capture)\\nprint(capture.min(axis = 0))\\nind1 = np.unravel_index(np.argmin(capture, axis=None), capture.shape)\\nprint(int(ind1[0]))'"
      ]
     },
     "execution_count": 54,
     "metadata": {},
     "output_type": "execute_result"
    }
   ],
   "source": [
    "'''print(capture)\n",
    "print(capture.min(axis = 0))\n",
    "ind1 = np.unravel_index(np.argmin(capture, axis=None), capture.shape)\n",
    "print(int(ind1[0]))'''"
   ]
  },
  {
   "cell_type": "code",
   "execution_count": 55,
   "metadata": {},
   "outputs": [],
   "source": [
    "#print(select)\n",
    "#print(int(select[ind1]))"
   ]
  },
  {
   "cell_type": "code",
   "execution_count": null,
   "metadata": {},
   "outputs": [],
   "source": []
  },
  {
   "cell_type": "code",
   "execution_count": 56,
   "metadata": {},
   "outputs": [],
   "source": [
    "#print(escolhido)"
   ]
  },
  {
   "cell_type": "code",
   "execution_count": 57,
   "metadata": {},
   "outputs": [],
   "source": [
    "#pais_, escolhidos = Operators_array.tournament_selection(populacao, fit_)"
   ]
  },
  {
   "cell_type": "code",
   "execution_count": 58,
   "metadata": {},
   "outputs": [],
   "source": [
    "#print(pais_)\n",
    "#print(len(pais_))"
   ]
  },
  {
   "cell_type": "code",
   "execution_count": 59,
   "metadata": {},
   "outputs": [],
   "source": [
    "#pais_1, escolhidos1 = tournament_selection_new(populacao, fit_)"
   ]
  },
  {
   "cell_type": "code",
   "execution_count": 60,
   "metadata": {},
   "outputs": [],
   "source": [
    "#print(pais_1)\n",
    "#print(len(pais_1))"
   ]
  },
  {
   "cell_type": "code",
   "execution_count": 61,
   "metadata": {},
   "outputs": [],
   "source": [
    "#%timeit Operators_array.tournament_selection(populacao, fit_)"
   ]
  },
  {
   "cell_type": "code",
   "execution_count": 62,
   "metadata": {},
   "outputs": [],
   "source": [
    "#%timeit tournament_selection_new(populacao, fit_)"
   ]
  },
  {
   "cell_type": "code",
   "execution_count": null,
   "metadata": {},
   "outputs": [],
   "source": []
  },
  {
   "cell_type": "code",
   "execution_count": 63,
   "metadata": {},
   "outputs": [
    {
     "name": "stdout",
     "output_type": "stream",
     "text": [
      "[3, 4, 5, 6]\n",
      "[5, 6]\n"
     ]
    }
   ],
   "source": [
    "tes = [1, 2, 3, 4]\n",
    "tes1 = [5, 6, 7, 8]\n",
    "tes2 = tes[2:4]\n",
    "tes3 = tes1[0:2]\n",
    "tes2.extend(tes3)\n",
    "print(tes2)\n",
    "print(tes3)\n",
    "\n",
    "tesf = tes + tes1\n",
    "tesf1 = tes + tes1[::-1]\n",
    "tesf2 = tes + tes2"
   ]
  },
  {
   "cell_type": "code",
   "execution_count": 64,
   "metadata": {},
   "outputs": [
    {
     "name": "stdout",
     "output_type": "stream",
     "text": [
      "[1, 2, 3, 4, 5, 6, 7, 8]\n",
      "[1, 2, 3, 4, 8, 7, 6, 5]\n",
      "[1, 2, 3, 4, 3, 4, 5, 6]\n"
     ]
    }
   ],
   "source": [
    "print(tesf)\n",
    "print(tesf1)\n",
    "print(tesf2)"
   ]
  },
  {
   "cell_type": "code",
   "execution_count": 65,
   "metadata": {},
   "outputs": [
    {
     "name": "stdout",
     "output_type": "stream",
     "text": [
      "[0.11711139 0.98819182 0.96560174 0.64043539]\n",
      "0.1171113885372137\n",
      "0.6404353933504795\n"
     ]
    }
   ],
   "source": [
    "probs = np.random.rand(4)\n",
    "print(probs)\n",
    "print(probs[0])\n",
    "print(probs[3])"
   ]
  },
  {
   "cell_type": "code",
   "execution_count": 66,
   "metadata": {},
   "outputs": [],
   "source": [
    "def crossover_mix_doubles(pais_torneio, escolhidos, fit):\n",
    "    filhos = []\n",
    "    n_filhos = int(len(pais_torneio) / 2)\n",
    "    n1_4_filhos = int(len(pais_torneio)/4)\n",
    "    pai = np.array(pais_torneio[0:n_filhos])\n",
    "    inv_pai = pai[::-1]\n",
    "    mae = np.array(pais_torneio[n_filhos:len(pais_torneio)])\n",
    "    m_pai = np.array(pais_torneio[n1_4_filhos:n_filhos])\n",
    "    m_mae = np.array(pais_torneio[n_filhos:(n_filhos+n1_4_filhos)])\n",
    "    m_pai = np.concatenate((m_pai, m_mae), axis=0)\n",
    "    # Sorteio das probabilidades de forma randômica.\n",
    "    probs = np.random.rand(4)\n",
    "\n",
    "    for j in range(n_filhos):\n",
    "        num0 = (probs[0] * pai[j] + probs[1] * mae[j])\n",
    "        filho0 = num0 / (probs[0] + probs[1]) # Cálculo do filho\n",
    "        #print('Filho=', j, filho)\n",
    "        num1 = (probs[2] * pai[j] + probs[3] * mae[j])\n",
    "        filho1 = num1 / (probs[2] + probs[3]) # Cálculo do filho\n",
    "        \n",
    "        num2 = (probs[0] * inv_pai[j] + probs[1] * mae[j])\n",
    "        filho2 = num2 / (probs[0] + probs[1])\n",
    "        \n",
    "        num3 = (probs[2] * inv_pai[j] + probs[3] * mae[j])\n",
    "        filho3 = num3 / (probs[2] + probs[3])\n",
    "        \n",
    "        num4 = (probs[0] * pai[j] + probs[1] * m_pai[j])\n",
    "        filho4 = num4 / (probs[0] + probs[1])\n",
    "        \n",
    "        num5 = (probs[2] * pai[j] + probs[3] * m_pai[j])\n",
    "        filho5 = num5 / (probs[2] + probs[3])\n",
    "        \n",
    "        num6 = (probs[0] * mae[j] + probs[1] * m_pai[j])\n",
    "        filho6 = num6 / (probs[0] + probs[1])\n",
    "        \n",
    "        num7 = (probs[2] * mae[j] + probs[3] * m_pai[j])\n",
    "        filho7 = num7 / (probs[2] + probs[3])\n",
    "        \n",
    "        \n",
    "        filhos += [filho0, filho1, filho2, filho3, filho4, filho5, filho6, filho7]\n",
    "\n",
    "    return filhos"
   ]
  },
  {
   "cell_type": "code",
   "execution_count": 67,
   "metadata": {},
   "outputs": [],
   "source": [
    "filho_1 = crossover_mix_doubles(pais_, escolhidos, fit_)"
   ]
  },
  {
   "cell_type": "code",
   "execution_count": 68,
   "metadata": {},
   "outputs": [
    {
     "name": "stdout",
     "output_type": "stream",
     "text": [
      "[array([[-3.71772226e+03,  1.09756474e+03,  2.22018131e+03],\n",
      "       [ 1.94523006e+03,  7.37967493e+02,  4.49245262e+03],\n",
      "       [-1.24152644e+00, -2.26316842e+00,  1.94925994e+00]]), array([[-3.95773751e+03, -5.60348911e+02,  1.35352705e+03],\n",
      "       [ 4.25908860e+03, -6.35864581e+02,  5.65617015e+03],\n",
      "       [-2.17968269e-01, -3.81102151e+00,  2.09431400e+00]]), array([[-3.62004104e+03, -1.37961394e+03,  2.75411847e+03],\n",
      "       [ 3.20002698e+03,  5.26978266e+02,  4.73400172e+03],\n",
      "       [-2.72442951e-01, -3.47443469e+00,  2.18095543e+00]]), array([[-3.93462752e+03, -1.14641435e+03,  1.47984903e+03],\n",
      "       [ 4.55595580e+03, -6.85781648e+02,  5.71331725e+03],\n",
      "       [ 1.13031777e-02, -4.09758998e+00,  2.14912987e+00]]), array([[-2.99365463e+03, -1.84394747e+03,  5.29137007e+03],\n",
      "       [ 5.00179932e+02,  2.94175567e+03,  2.78404528e+03],\n",
      "       [-8.37421832e-01, -2.23364393e+00,  2.24432463e+00]]), array([[-2.96770851e+03, -1.86318106e+03,  5.39646789e+03],\n",
      "       [ 3.88347100e+02,  3.04178037e+03,  2.70327435e+03],\n",
      "       [-8.60824338e-01, -2.18224801e+00,  2.24694950e+00]]), array([[-3.31467027e+03, -1.60598202e+03,  3.99105857e+03],\n",
      "       [ 1.88381968e+03,  1.70421075e+03,  3.78337494e+03],\n",
      "       [-5.47876824e-01, -2.86953455e+00,  2.21184866e+00]]), array([[-2.99234331e+03, -1.84491954e+03,  5.29668173e+03],\n",
      "       [ 4.94527888e+02,  2.94681093e+03,  2.77996311e+03],\n",
      "       [-8.38604597e-01, -2.23104638e+00,  2.24445729e+00]]), array([[-3.21776900e+03,  4.55100907e+03,  4.02542745e+03],\n",
      "       [-2.87455151e+03,  3.59966815e+03,  2.06842186e+03],\n",
      "       [-3.37360439e+00,  9.61019078e-01,  1.64711144e+00]]), array([[-3.23981776e+03,  4.39870651e+03,  3.94581314e+03],\n",
      "       [-2.66199124e+03,  3.47346246e+03,  2.17532559e+03],\n",
      "       [-3.27957626e+00,  8.18827124e-01,  1.66043668e+00]]), array([[-1.92938085e+03, -1.96944148e+03,  5.48367155e+03],\n",
      "       [-6.79512213e+02,  1.55653554e+03,  3.72324247e+03],\n",
      "       [-3.23915174e+00, -2.12930180e-01,  1.84935623e+00]]), array([[-1.47421611e+03, -2.00478814e+03,  5.45215735e+03],\n",
      "       [-1.08992297e+03,  8.12529180e+02,  4.24236312e+03],\n",
      "       [-4.30613694e+00,  6.48865252e-01,  1.66655481e+00]]), array([[-2.02706207e+03,  5.07737202e+02,  4.94973439e+03],\n",
      "       [-1.93430913e+03,  1.76752477e+03,  3.48169337e+03],\n",
      "       [-4.20823522e+00,  9.98336091e-01,  1.61766074e+00]]), array([[-1.49732611e+03, -1.41872270e+03,  5.32583537e+03],\n",
      "       [-1.38679017e+03,  8.62446246e+02,  4.18521602e+03],\n",
      "       [-4.53540839e+00,  9.35433721e-01,  1.61173893e+00]]), array([[-3.08184167e+03,  4.34359275e+03,  4.20086387e+03],\n",
      "       [-3.02449722e+03,  3.56966478e+03,  2.08087977e+03],\n",
      "       [-3.55678694e+00,  1.12358365e+00,  1.62945190e+00]]), array([[-3.12553266e+03,  4.50248122e+03,  4.16984422e+03],\n",
      "       [-3.06965490e+03,  3.64431287e+03,  2.02285538e+03],\n",
      "       [-3.52980270e+00,  1.12877165e+00,  1.62994031e+00]]), array([[-2.54127957e+03,  2.37776206e+03,  4.58465118e+03],\n",
      "       [-2.46578869e+03,  2.64608930e+03,  2.79878021e+03],\n",
      "       [-3.89064649e+00,  1.05939576e+00,  1.62340907e+00]]), array([[-3.08404982e+03,  4.35162299e+03,  4.19929614e+03],\n",
      "       [-3.02677950e+03,  3.57343751e+03,  2.07794721e+03],\n",
      "       [-3.55542315e+00,  1.12384586e+00,  1.62947658e+00]]), array([[-2.87749179e+03, -1.89581415e+03,  5.54931583e+03],\n",
      "       [ 1.75375916e+02,  3.10630538e+03,  2.64191097e+03],\n",
      "       [-1.01661499e+00, -2.00805537e+00,  2.23013271e+00]]), array([[-2.83567854e+03, -1.89906124e+03,  5.54642081e+03],\n",
      "       [ 1.37673948e+02,  3.03795799e+03,  2.68959946e+03],\n",
      "       [-1.11463251e+00, -1.92888740e+00,  2.21333984e+00]])]\n"
     ]
    }
   ],
   "source": [
    "print(filho_)"
   ]
  },
  {
   "cell_type": "code",
   "execution_count": 71,
   "metadata": {},
   "outputs": [
    {
     "name": "stdout",
     "output_type": "stream",
     "text": [
      "[array([[-3.90560834e+03, -2.00264824e+02,  1.54175664e+03],\n",
      "       [ 3.75653912e+03, -3.37480484e+02,  5.40342106e+03],\n",
      "       [-4.40275991e-01, -3.47484160e+00,  2.06280955e+00]]), array([[-3.64273680e+03,  1.61552937e+03,  2.49094104e+03],\n",
      "       [ 1.22233542e+03,  1.16717949e+03,  4.12888452e+03],\n",
      "       [-1.56130602e+00, -1.77958886e+00,  1.90394221e+00]]), array([[-3.86630213e+03, -1.19706323e+03,  1.75660901e+03],\n",
      "       [ 4.26146013e+03, -4.22380990e+02,  5.50061864e+03],\n",
      "       [-5.03239556e-02, -3.96224620e+00,  2.15604210e+00]]), array([[-3.52175807e+03, -1.45247005e+03,  3.15222515e+03],\n",
      "       [ 2.77640831e+03,  9.05868171e+02,  4.42804441e+03],\n",
      "       [-3.61090788e-01, -3.27974880e+00,  2.19089835e+00]]), array([[-2.96839823e+03, -8.95008638e+02,  5.33803610e+03],\n",
      "       [-2.83018438e+02,  3.27555097e+03,  2.48586272e+03],\n",
      "       [-1.28560710e+00, -1.61834914e+00,  2.15762364e+00]]), array([[-3.05007076e+03,  1.17619238e+03,  4.89160436e+03],\n",
      "       [-1.33217032e+03,  3.45196178e+03,  2.28390041e+03],\n",
      "       [-2.09587029e+00, -6.05593794e-01,  1.96390005e+00]]), array([[-3.09490933e+03, -1.76888845e+03,  4.88122603e+03],\n",
      "       [ 9.36607360e+02,  2.55140945e+03,  3.09925368e+03],\n",
      "       [-7.46093591e-01, -2.43421645e+00,  2.23408106e+00]]), array([[-3.43945340e+03, -1.51348162e+03,  3.48560989e+03],\n",
      "       [ 2.42165918e+03,  1.22316029e+03,  4.17182791e+03],\n",
      "       [-4.35326759e-01, -3.11671385e+00,  2.19922481e+00]]), array([[-1.57307384e+03, -1.99711116e+03,  5.45900196e+03],\n",
      "       [-1.00078541e+03,  9.74120739e+02,  4.12961474e+03],\n",
      "       [-4.07439725e+00,  4.61690955e-01,  1.70625765e+00]]), array([[-2.07158321e+03, -1.95839849e+03,  5.49351721e+03],\n",
      "       [-5.51291870e+02,  1.78897768e+03,  3.56105903e+03],\n",
      "       [-2.90580470e+00, -4.82171920e-01,  1.90646697e+00]]), array([[-1.61238004e+03, -1.00031276e+03,  5.24414959e+03],\n",
      "       [-1.50570642e+03,  1.05902125e+03,  4.03241717e+03],\n",
      "       [-4.46434929e+00,  9.49095556e-01,  1.61302510e+00]]), array([[-2.19256193e+03,  1.10960093e+03,  4.83223309e+03],\n",
      "       [-2.10536476e+03,  2.05028899e+03,  3.26189915e+03],\n",
      "       [-4.10601993e+00,  1.01798802e+00,  1.61951083e+00]]), array([[-3.86630213e+03, -1.19706323e+03,  1.75660901e+03],\n",
      "       [ 4.26146013e+03, -4.22380990e+02,  5.50061864e+03],\n",
      "       [-5.03239556e-02, -3.96224620e+00,  2.15604210e+00]]), array([[-3.52175807e+03, -1.45247005e+03,  3.15222515e+03],\n",
      "       [ 2.77640831e+03,  9.05868171e+02,  4.42804441e+03],\n",
      "       [-3.61090788e-01, -3.27974880e+00,  2.19089835e+00]]), array([[-3.62638658e+03, -1.21569432e+03,  1.73999800e+03],\n",
      "       [ 4.04513423e+03, -8.14543839e+02,  5.77424510e+03],\n",
      "       [-6.12727689e-01, -3.50799719e+00,  2.05968819e+00]]), array([[-2.78333315e+03, -1.50981381e+03,  3.10109889e+03],\n",
      "       [ 2.11058887e+03, -3.01151616e+02,  5.27022658e+03],\n",
      "       [-2.09208707e+00, -1.88163692e+00,  1.89433512e+00]])]\n"
     ]
    }
   ],
   "source": [
    "print(filho_1)"
   ]
  },
  {
   "cell_type": "code",
   "execution_count": 72,
   "metadata": {},
   "outputs": [],
   "source": [
    "fit_t, anomalyt = Operators_array.fit_value(X, Y, Z, I, D, filho_, anomaly_cubo)"
   ]
  },
  {
   "cell_type": "code",
   "execution_count": 75,
   "metadata": {},
   "outputs": [
    {
     "name": "stdout",
     "output_type": "stream",
     "text": [
      "[20.165622618630685, 20.417791175304234, 20.195510634664505, 20.36120512634908, 20.057696063738188, 20.052137965543583, 20.11338504131603, 20.057428051804568, 19.919984023724982, 19.90922125960085, 19.946953075705327, 19.994312689122513, 19.971731154761763, 19.997678931246647, 19.937660297042736, 19.935767308649964, 19.95688652131392, 19.937564818531623, 20.02053528944117, 20.00442000190528]\n"
     ]
    }
   ],
   "source": [
    "print(fit_t)"
   ]
  },
  {
   "cell_type": "code",
   "execution_count": 73,
   "metadata": {},
   "outputs": [],
   "source": [
    "fit_t1, anomalyt1 = Operators_array.fit_value(X, Y, Z, I, D, filho_1, anomaly_cubo)"
   ]
  },
  {
   "cell_type": "code",
   "execution_count": 74,
   "metadata": {},
   "outputs": [
    {
     "name": "stdout",
     "output_type": "stream",
     "text": [
      "[20.36947947043543, 20.07801490645641, 20.31125264405151, 20.163459725812242, 19.951350356607687, 19.835803866171027, 20.075792898467178, 20.14106176870045, 19.984377984218725, 19.934123069729715, 19.991134903737922, 19.966223981863983, 20.31125264405151, 20.163459725812242, 20.31409132771116, 20.11979739119538]\n"
     ]
    }
   ],
   "source": [
    "print(fit_t1)"
   ]
  },
  {
   "cell_type": "code",
   "execution_count": 76,
   "metadata": {},
   "outputs": [
    {
     "name": "stdout",
     "output_type": "stream",
     "text": [
      "125 µs ± 6.2 µs per loop (mean ± std. dev. of 7 runs, 10000 loops each)\n"
     ]
    }
   ],
   "source": [
    "%timeit crossover_mix_doubles(pais_, escolhidos, fit_)"
   ]
  },
  {
   "cell_type": "code",
   "execution_count": 77,
   "metadata": {},
   "outputs": [
    {
     "name": "stdout",
     "output_type": "stream",
     "text": [
      "141 µs ± 9.55 µs per loop (mean ± std. dev. of 7 runs, 10000 loops each)\n"
     ]
    }
   ],
   "source": [
    "%timeit Operators_array.crossover_polyamory(pais_, escolhidos, fit_)"
   ]
  },
  {
   "cell_type": "code",
   "execution_count": null,
   "metadata": {},
   "outputs": [],
   "source": []
  }
 ],
 "metadata": {
  "kernelspec": {
   "display_name": "Python 3",
   "language": "python",
   "name": "python3"
  },
  "language_info": {
   "codemirror_mode": {
    "name": "ipython",
    "version": 3
   },
   "file_extension": ".py",
   "mimetype": "text/x-python",
   "name": "python",
   "nbconvert_exporter": "python",
   "pygments_lexer": "ipython3",
   "version": "3.6.5"
  }
 },
 "nbformat": 4,
 "nbformat_minor": 4
}
