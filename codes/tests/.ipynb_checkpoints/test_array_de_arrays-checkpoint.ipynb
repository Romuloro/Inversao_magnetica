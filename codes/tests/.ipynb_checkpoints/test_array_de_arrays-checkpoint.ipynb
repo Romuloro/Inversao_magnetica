{
 "cells": [
  {
   "cell_type": "code",
   "execution_count": 1,
   "metadata": {},
   "outputs": [],
   "source": [
    "import pytest\n",
    "import numpy as np\n",
    "import random\n",
    "import sys\n",
    "import matplotlib.pyplot as plt\n",
    "import pandas as pd\n",
    "a = sys.path.append('../modules/')\n",
    "import plot_3D, auxiliars, salve_doc, sphere, sample_random, Operators\n",
    "import timeit"
   ]
  },
  {
   "cell_type": "code",
   "execution_count": 2,
   "metadata": {},
   "outputs": [],
   "source": [
    "\n",
    "def create_population_v1(xmax, xmin, ymax, ymin, zlim, z_min, inclmax, inclmin, declmax, declmin, magmax, magmin, n_dip, n_pop, homogeneo):\n",
    "    \"\"\"\n",
    "    Função com o objetivo de criar uma população com n indivíduos randômicos, que estaram de acordo com os parâmetros\n",
    "    escolhidos.\n",
    "\n",
    "    :param xmax: O valor máximo da coordenada X.\n",
    "    :param ymax: O valor máximo da coordenada Y.\n",
    "    :param zlim: O valor máximo da coordenada Z.\n",
    "    :param xmin: O valor minímo da coordenada X.\n",
    "    :param ymin: O valor minímo da coordenada Y.\n",
    "    :param z_min: O valor minímo da coordenada Z.\n",
    "    :param n_pop: O número de indivíduos desejados na população.\n",
    "    :param n_dip: O número de dipolos desejados para cada indivíduo.\n",
    "    :param inclmax: Valor máximo da inclianção magnética.\n",
    "    :param inclmin: Valor mínimo da inclianção magnética.\n",
    "    :param declmax: Valor máximo da inclianção magnética.\n",
    "    :param declmin: Valor mínimo da declianção magnética.\n",
    "    :param magmax: Valor máximo da magnetização.\n",
    "    :param magmin: Valor mínimo da magnetização.\n",
    "    :param homogeneo: True para valores de inclinação, declinação e magnetização iguais para as n dipolos.\n",
    "                      False é a opção default, onde os valores de inclinação, declinação e magnetização é criada de\n",
    "                      forma randômica.\n",
    "\n",
    "    :return pop: Lista com n indivíduos/dipolos criados de forma randômica.\n",
    "    \"\"\"\n",
    "    pop = []\n",
    "    n_par = 6\n",
    "    for j in range(n_pop):\n",
    "        individuo = np.zeros((n_dip, n_par))\n",
    "        coodX, coodY, coodZ = sample_random.sample_random_coordinated(xmax, xmin, ymax, ymin, zlim, z_min, n_dip)\n",
    "        incl, decl, mag = sample_random.sample_random_mag(inclmax, inclmin, declmax, declmin, magmax, magmin, n_dip, homogeneo)\n",
    "        for i in range(n_dip):\n",
    "            individuo[i][0], individuo[i][1], individuo[i][2], individuo[i][3], individuo[i][4], individuo[i][5] = coodX[i], coodY[i], coodZ[i], incl[i], decl[i], mag[i]\n",
    "        pop.append(individuo)\n",
    "    \n",
    "    return pop\n"
   ]
  },
  {
   "cell_type": "code",
   "execution_count": 3,
   "metadata": {},
   "outputs": [],
   "source": [
    "population = {'xmax': 10000.0,\n",
    "                'xmin': -10000.0,\n",
    "                'ymax': 10000.0,\n",
    "                'ymin': -10000.0,\n",
    "                'zlim': 150.0,\n",
    "                'z_min': 0.0,\n",
    "                'n_dip': 5,\n",
    "                'n_pop': 30,\n",
    "                'inclmax': -80.0,\n",
    "                'inclmin': 15.0,\n",
    "                'declmax': 172.0,\n",
    "                'declmin': -15.0,\n",
    "                'magmax': 5.0,\n",
    "                'magmin': 0.5,\n",
    "                'homogeneo': True\n",
    "                }"
   ]
  },
  {
   "cell_type": "code",
   "execution_count": 4,
   "metadata": {},
   "outputs": [
    {
     "name": "stdout",
     "output_type": "stream",
     "text": [
      "1.89 ms ± 449 µs per loop (mean ± std. dev. of 7 runs, 100 loops each)\n"
     ]
    }
   ],
   "source": [
    "%timeit create_population_v1(**population)"
   ]
  },
  {
   "cell_type": "code",
   "execution_count": 5,
   "metadata": {},
   "outputs": [],
   "source": [
    "def fit_value_v1(X, Y, Z, I, D, pop, tfa_n_dip):\n",
    "    \"\"\"\n",
    "    Função que calcula o fitness de cada indivíduo da população.\n",
    "\n",
    "    :param X: Pontos de observação na coordenadas X.\n",
    "    :param Y: Pontos de observação na coordenadas Y.\n",
    "    :param Z: Pontos de observação na coordenadas Z.\n",
    "    :param I: Inclinação magnética regional.\n",
    "    :param D: Declinação magnética regional.\n",
    "    :param pop: População com n indivíduos.\n",
    "    :param tfa_n_dip: Anomalia magnética referência.\n",
    "\n",
    "    :return fit_cada: Lista com o valor de fitness de cara indivíduo da população.\n",
    "    \"\"\"\n",
    "    raio = 100.0\n",
    "    fit_cada = []\n",
    "\n",
    "    for i in range(len(pop)):\n",
    "        spheres = []\n",
    "        incl = []\n",
    "        decl = []\n",
    "        mag = []\n",
    "        for j in range(len(pop[0])):\n",
    "            spheres.append((pop[i][j][0], pop[i][j][1], pop[i][j][2], raio))\n",
    "            incl.append(pop[i][j][3])\n",
    "            decl.append(pop[i][j][4])\n",
    "            mag.append(pop[i][j][5])\n",
    "\n",
    "        tfa_dip = sample_random.tfa_n_dips(incl, decl, mag, len(pop[0]), X, Y, Z, I, D, spheres)\n",
    "        fit_cada.append(sample_random.f_difference(tfa_n_dip, tfa_dip))\n",
    "    return fit_cada"
   ]
  },
  {
   "cell_type": "code",
   "execution_count": 6,
   "metadata": {},
   "outputs": [
    {
     "data": {
      "image/png": "[encoded data removed]",
      "text/plain": [
       "<Figure size 864x864 with 1 Axes>"
      ]
     },
     "metadata": {
      "needs_background": "light"
     },
     "output_type": "display_data"
    }
   ],
   "source": [
    "acquisition = {'nx': 100,\n",
    "                  'ny': 100,\n",
    "                  'xmin': -10000,\n",
    "                  'xmax': 10000,\n",
    "                  'ymin': -10000,\n",
    "                  'ymax': 10000,\n",
    "                  'z': -100.0,\n",
    "                  'color': '.r'}\n",
    "\n",
    "cood_bounds = {'xmax': 250.0,\n",
    "                'xmin': 40.0,\n",
    "                'ymax': 100.0,\n",
    "                'ymin': 0.0,\n",
    "                'zlim': 150,\n",
    "                'z_min': 100,\n",
    "                'n': 5}\n",
    "\n",
    "mag_bounds = {'inclmax': -20.0,\n",
    "                'inclmin': 15.0,\n",
    "                'declmax': 20.0,\n",
    "                'declmin': -15.0,\n",
    "                'magmax': 5.0,\n",
    "                'magmin': 1.0,\n",
    "                'homogeneo': True,\n",
    "                'n': 5}\n",
    "\n",
    "coodX, coodY, coodZ = sample_random.sample_random_coordinated(**cood_bounds)\n",
    "\n",
    "incl, decl, mag = sample_random.sample_random_mag(**mag_bounds)\n",
    "\n",
    "x, y, X, Y, Z = plot_3D.create_aquisicao(**acquisition)\n",
    "\n",
    "balls_mag = {'incl': incl,\n",
    "               'decl': decl,\n",
    "               'mag': mag,\n",
    "               'n': 5,\n",
    "               'Xref': X,\n",
    "               'Yref': Y,\n",
    "               'Zref': Z,\n",
    "               'I': 30.0,\n",
    "               'D': 50.0,\n",
    "               'coodX': coodX,\n",
    "               'coodY': coodY,\n",
    "               'coodZ': coodZ,\n",
    "               'raio': 100.0}\n",
    "\n",
    "tfa_n_bolinhas = sample_random.tfa_n_dots(**balls_mag)\n",
    "\n",
    "I, D = 30.0, 50.0\n",
    "\n",
    "pop = Operators.create_population(**population)"
   ]
  },
  {
   "cell_type": "code",
   "execution_count": 7,
   "metadata": {},
   "outputs": [],
   "source": [
    "def caculation_anomaly(X, Y, Z, I, D, pop):\n",
    "    raio = 100.0\n",
    "    anomaly = []\n",
    "\n",
    "    for i in range(len(pop)):\n",
    "        spheres = []\n",
    "        incl = []\n",
    "        decl = []\n",
    "        mag = []\n",
    "        for j in range(len(pop[0])):\n",
    "            spheres.append((pop[i][j][0], pop[i][j][1], pop[i][j][2], raio))\n",
    "            incl.append(pop[i][j][3])\n",
    "            decl.append(pop[i][j][4])\n",
    "            mag.append(pop[i][j][5])\n",
    "        anomaly.append(sample_random.tfa_n_dips(incl, decl, mag, len(pop[0]), X, Y, Z, I, D, spheres))\n",
    "    return anomaly"
   ]
  },
  {
   "cell_type": "code",
   "execution_count": 8,
   "metadata": {},
   "outputs": [
    {
     "name": "stdout",
     "output_type": "stream",
     "text": [
      "30\n"
     ]
    }
   ],
   "source": [
    "anomalia = caculation_anomaly(X, Y, Z, I, D, pop)\n",
    "print(len(anomalia))"
   ]
  },
  {
   "cell_type": "code",
   "execution_count": 9,
   "metadata": {},
   "outputs": [],
   "source": [
    "def fit_value_v2(X, Y, Z, I, D, pop, tfa_n_dip):\n",
    "    \"\"\"\n",
    "    Função que calcula o fitness de cada indivíduo da população.\n",
    "\n",
    "    :param X: Pontos de observação na coordenadas X.\n",
    "    :param Y: Pontos de observação na coordenadas Y.\n",
    "    :param Z: Pontos de observação na coordenadas Z.\n",
    "    :param I: Inclinação magnética regional.\n",
    "    :param D: Declinação magnética regional.\n",
    "    :param pop: População com n indivíduos.\n",
    "    :param tfa_n_dip: Anomalia magnética referência.\n",
    "\n",
    "    :return fit_cada: Lista com o valor de fitness de cara indivíduo da população.\n",
    "    \"\"\"\n",
    "    fit_cada = []\n",
    "    anomalia = caculation_anomaly(X, Y, Z, I, D, pop)\n",
    "    for i in range(len(pop)):\n",
    "        fit_cada.append(sample_random.f_difference(tfa_n_dip, anomalia[i]))\n",
    "    return fit_cada"
   ]
  },
  {
   "cell_type": "code",
   "execution_count": 27,
   "metadata": {},
   "outputs": [
    {
     "name": "stdout",
     "output_type": "stream",
     "text": [
      "238 ms ± 26.3 ms per loop (mean ± std. dev. of 7 runs, 1 loop each)\n"
     ]
    }
   ],
   "source": [
    "%timeit fit_value_v2(X, Y, Z, I, D, pop, tfa_n_bolinhas)"
   ]
  },
  {
   "cell_type": "code",
   "execution_count": 28,
   "metadata": {},
   "outputs": [
    {
     "name": "stdout",
     "output_type": "stream",
     "text": [
      "252 ms ± 22.3 ms per loop (mean ± std. dev. of 7 runs, 1 loop each)\n"
     ]
    }
   ],
   "source": [
    "%timeit fit_value_v1(X, Y, Z, I, D, pop, tfa_n_bolinhas)"
   ]
  },
  {
   "cell_type": "code",
   "execution_count": 12,
   "metadata": {},
   "outputs": [
    {
     "name": "stdout",
     "output_type": "stream",
     "text": [
      "[107.62595069238165, 111.1904576144532, 112.27305901877749, 271.6846286554465, 127.76028340195185, 103.9736742001878, 159.42186791829127, 101.93237311148296, 131.2805152302226, 139.6653103262814, 103.91102840629864, 151.85389109151112, 113.30815908742235, 126.97200132689498, 126.43973973004475, 107.17446479068187, 106.01990003571095, 113.98963870843525, 115.06818112859519, 116.13194545210547, 137.075153989882, 113.44005122345274, 115.16371080786023, 109.81254388538615, 111.45730281739552, 207.6281740374091, 113.03033618044192, 100.42551937785137, 112.54774697948258, 233.4263553305651]\n",
      "[107.62595069238165, 111.1904576144532, 112.27305901877749, 271.6846286554465, 127.76028340195185, 103.9736742001878, 159.42186791829127, 101.93237311148296, 131.2805152302226, 139.6653103262814, 103.91102840629864, 151.85389109151112, 113.30815908742235, 126.97200132689498, 126.43973973004475, 107.17446479068187, 106.01990003571095, 113.98963870843525, 115.06818112859519, 116.13194545210547, 137.075153989882, 113.44005122345274, 115.16371080786023, 109.81254388538615, 111.45730281739552, 207.6281740374091, 113.03033618044192, 100.42551937785137, 112.54774697948258, 233.4263553305651]\n"
     ]
    }
   ],
   "source": [
    "fit_cada1 = fit_value_v1(X, Y, Z, I, D, pop, tfa_n_bolinhas)\n",
    "fit_cada2 = fit_value_v2(X, Y, Z, I, D, pop, tfa_n_bolinhas)\n",
    "\n",
    "print(fit_cada1)\n",
    "print(fit_cada2)"
   ]
  },
  {
   "cell_type": "code",
   "execution_count": 36,
   "metadata": {},
   "outputs": [],
   "source": [
    "def tournament_selection_v1(pop, fit_cada):\n",
    "    \"\"\"\n",
    "    Função com o objetivo de selecionar os futuros pais, pelo dinâmica do Torneio.\n",
    "\n",
    "    :param pop: População com n indivíduos.\n",
    "    :param fit_cada: O valor de fitness para cada n indivpiduos.\n",
    "\n",
    "    :return chosen: Lista com os n pais.\n",
    "    \"\"\"\n",
    "\n",
    "    pop_1 = pop.copy()\n",
    "    chosen = []\n",
    "    for i in range(int(0.2 * len(pop))):\n",
    "        capture_select = []\n",
    "    # ---------------------------- Escolhidos para o torneio ---------------------------------#\n",
    "        index_select = list(random.sample(range(0, len(pop_1)), k=(int(0.2 * len(pop)))))\n",
    "        for j in range(int(0.2 * len(pop))):\n",
    "            capture = [fit_cada1[index_select[j]], index_select[j]]\n",
    "            capture_select.append(capture)\n",
    "    # ---------------------------- Vencedor do torneio ---------------------------------#\n",
    "        escolhido = pop_1[min(capture_select[:])[1]]\n",
    "        print(min(capture_select[:])[1])\n",
    "    # ------------------ Retirada do vencedor da população artificial ------------------------#\n",
    "        del (pop_1[min(capture_select[:])[1]])\n",
    "    # ---------------------------- Vencedores do torneio ---------------------------------#\n",
    "        chosen.append(escolhido)\n",
    "\n",
    "    return chosen"
   ]
  },
  {
   "cell_type": "code",
   "execution_count": 37,
   "metadata": {},
   "outputs": [
    {
     "data": {
      "text/plain": [
       "'pop_1 = pop.copy()\\nchosen = []\\nfor i in range(int(0.2 * len(pop))):\\n    capture_select = []\\n    # ---------------------------- Escolhidos para o torneio ---------------------------------#\\n    index_select = list(random.sample(range(0, len(pop_1)), k=(int(0.2 * len(pop)))))\\n    for j in range(int(0.2 * len(pop))):\\n        capture = [fit_cada1[index_select[j]], index_select[j]]\\n        capture_select.append(capture)\\n    # ---------------------------- Vencedor do torneio ---------------------------------#\\n    escolhido = pop_1[min(capture_select[:])[1]]\\n    # ------------------ Retirada do vencedor da população artificial ------------------------#\\n    del (pop_1[min(capture_select[:])[1]])\\n        # ---------------------------- Vencedores do torneio ---------------------------------#\\n    chosen.append(escolhido)\\n\\n#print(capture_select)\\n#print(min(capture_select[:]))\\n#print(min(capture_select[:])[1])\\n'"
      ]
     },
     "execution_count": 37,
     "metadata": {},
     "output_type": "execute_result"
    }
   ],
   "source": [
    "'''pop_1 = pop.copy()\n",
    "chosen = []\n",
    "for i in range(int(0.2 * len(pop))):\n",
    "    capture_select = []\n",
    "    # ---------------------------- Escolhidos para o torneio ---------------------------------#\n",
    "    index_select = list(random.sample(range(0, len(pop_1)), k=(int(0.2 * len(pop)))))\n",
    "    for j in range(int(0.2 * len(pop))):\n",
    "        capture = [fit_cada1[index_select[j]], index_select[j]]\n",
    "        capture_select.append(capture)\n",
    "    # ---------------------------- Vencedor do torneio ---------------------------------#\n",
    "    escolhido = pop_1[min(capture_select[:])[1]]\n",
    "    # ------------------ Retirada do vencedor da população artificial ------------------------#\n",
    "    del (pop_1[min(capture_select[:])[1]])\n",
    "        # ---------------------------- Vencedores do torneio ---------------------------------#\n",
    "    chosen.append(escolhido)\n",
    "\n",
    "#print(capture_select)\n",
    "#print(min(capture_select[:]))\n",
    "#print(min(capture_select[:])[1])\n",
    "'''"
   ]
  },
  {
   "cell_type": "code",
   "execution_count": 15,
   "metadata": {},
   "outputs": [
    {
     "name": "stdout",
     "output_type": "stream",
     "text": [
      "90.1 µs ± 5.37 µs per loop (mean ± std. dev. of 7 runs, 10000 loops each)\n"
     ]
    }
   ],
   "source": [
    "%timeit tournament_selection_v1(pop, fit_cada1)"
   ]
  },
  {
   "cell_type": "code",
   "execution_count": 38,
   "metadata": {},
   "outputs": [
    {
     "name": "stdout",
     "output_type": "stream",
     "text": [
      "0\n",
      "7\n",
      "27\n",
      "16\n",
      "5\n",
      "15\n"
     ]
    }
   ],
   "source": [
    "pais_torneio = tournament_selection_v1(pop, fit_cada1)"
   ]
  },
  {
   "cell_type": "code",
   "execution_count": 17,
   "metadata": {},
   "outputs": [],
   "source": [
    "def crossover_v1(pais_torneio):\n",
    "    filhos = []\n",
    "    n_filhos = int(len(pais_torneio) / 2)\n",
    "    pai = np.array(pais_torneio[0:n_filhos])\n",
    "    mae = np.array(pais_torneio[n_filhos:len(pais_torneio)])\n",
    "    prob_pai = random.random()\n",
    "    prob_mae = random.random()\n",
    "    den = prob_mae + prob_pai\n",
    "\n",
    "    for j in range(n_filhos):\n",
    "        num = (prob_pai * pai[j] + prob_mae * mae[j])\n",
    "        filho = num / den\n",
    "        filhos.append(filho)\n",
    "\n",
    "    return filhos\n"
   ]
  },
  {
   "cell_type": "code",
   "execution_count": 29,
   "metadata": {},
   "outputs": [
    {
     "name": "stdout",
     "output_type": "stream",
     "text": [
      "3\n",
      "[0.7866402219332451, 0.0020995053571681854, 0.7571688841042178] [0.8735319375089189, 0.728190437550682, 0.5286250163235129] [1.6601721594421641, 0.7302899429078502, 1.2857939004277306]\n"
     ]
    }
   ],
   "source": [
    "n_filhos = int(len(pais_torneio) / 2)\n",
    "print(n_filhos)\n",
    "pai = np.array(pais_torneio[0:n_filhos])\n",
    "mae = np.array(pais_torneio[n_filhos:len(pais_torneio)])\n",
    "\n",
    "def definition_prob(pai_torneio, X, Y, Z, I, D, n_filhos, tfa_n_bolinhas):\n",
    "    prob_pai = []\n",
    "    prob_mae = []\n",
    "    sum_den = []\n",
    "\n",
    "    fit_pais = fit_value_v2(X, Y, Z, I, D, pai_torneio, tfa_n_bolinhas)\n",
    "    f_pais, f_maes = fit_pais[0:n_filhos], fit_pais[n_filhos:len(pai_torneio)]\n",
    "    for i in range(n_filhos):\n",
    "        casal = [f_pais[i], f_maes[i]]\n",
    "        melhor = casal.index(min(casal))\n",
    "        if melhor == 0:\n",
    "            prob_pai.append(random.uniform(0.5, 1.0))\n",
    "            prob_mae.append(random.random())\n",
    "        else:\n",
    "            prob_mae.append(random.uniform(0.5, 1.0))\n",
    "            prob_pai.append(random.random())\n",
    "        sum_den.append(prob_pai[i] + prob_mae[i])\n",
    "\n",
    "    return prob_pai, prob_mae, sum_den\n",
    "\n",
    "\n",
    "p_prob, m_prob, s_dem = definition_prob(pais_torneio, X, Y, Z, I, D, n_filhos, tfa_n_bolinhas)\n",
    "print(p_prob, m_prob, s_dem)"
   ]
  },
  {
   "cell_type": "code",
   "execution_count": 30,
   "metadata": {},
   "outputs": [
    {
     "name": "stdout",
     "output_type": "stream",
     "text": [
      "23.5 µs ± 5.55 µs per loop (mean ± std. dev. of 7 runs, 10000 loops each)\n"
     ]
    }
   ],
   "source": [
    "%timeit crossover_v1(pais_torneio)"
   ]
  },
  {
   "cell_type": "code",
   "execution_count": 31,
   "metadata": {},
   "outputs": [],
   "source": [
    "def crossover_eletista(pais_torneio,  X, Y, Z, I, D, tfa_n_bolinhas):\n",
    "    filhos = []\n",
    "    n_filhos = int(len(pais_torneio) / 2)\n",
    "    pai = np.array(pais_torneio[0:n_filhos])\n",
    "    mae = np.array(pais_torneio[n_filhos:len(pais_torneio)])\n",
    "    prob_pai, prob_mae, den = definition_prob(pais_torneio, X, Y, Z, I, D, n_filhos, tfa_n_bolinhas)\n",
    "\n",
    "    for j in range(n_filhos):\n",
    "        num = (prob_pai[j] * pai[j] + prob_mae[j] * mae[j])\n",
    "        filho = num / den[j] # Verificar se os n filhos estão dentro dos limites de busca.\n",
    "        filhos.append(filho)\n",
    "\n",
    "    return filhos"
   ]
  },
  {
   "cell_type": "code",
   "execution_count": 33,
   "metadata": {},
   "outputs": [
    {
     "name": "stdout",
     "output_type": "stream",
     "text": [
      "45 ms ± 2.73 ms per loop (mean ± std. dev. of 7 runs, 10 loops each)\n"
     ]
    }
   ],
   "source": [
    "%timeit crossover_eletista(pais_torneio, X, Y, Z, I, D, tfa_n_bolinhas)"
   ]
  },
  {
   "cell_type": "code",
   "execution_count": null,
   "metadata": {},
   "outputs": [],
   "source": [
    "filho = crossover_v1(pais_torneio)"
   ]
  },
  {
   "cell_type": "code",
   "execution_count": null,
   "metadata": {},
   "outputs": [],
   "source": [
    "def mutacao_v1(filho, xmax, xmin, ymax, ymin, zlim, z_min, inclmax, inclmin, declmax, declmin, magmax, magmin, n, homogeneo):\n",
    "\n",
    "    prob_mut = 0.01\n",
    "    for index, rand_mut in enumerate(filho):\n",
    "        rand_mut = random.random()\n",
    "        if prob_mut > rand_mut:\n",
    "            dip_select = random.randint(0, (len(filho[0]) - 1)) #Seleção qual dipolo será mutado.\n",
    "            param_select = random.randint(0, (len(filho[0][0]) - 1)) #Selecão qual parâmetro será mutado.\n",
    "            if param_select <= 2:\n",
    "                coodX, coodY, coodZ = sample_random.sample_random_coordinated(xmax, xmin, ymax, ymin, zlim, z_min, n)\n",
    "                if param_select == 0:\n",
    "                    filho[index][dip_select][param_select] = float(coodX[0])\n",
    "                elif param_select == 1:\n",
    "                    filho[index][dip_select][param_select] = float(coodY[0])\n",
    "                elif param_select == 2:\n",
    "                    filho[index][dip_select][param_select] = float(coodZ[0])\n",
    "            else:\n",
    "                incl, decl, mag = sample_random.sample_random_mag(inclmax, inclmin, declmax, declmin, magmax, magmin, n,\n",
    "                                                                  homogeneo)\n",
    "                if homogeneo == True:\n",
    "                    if param_select == 3:\n",
    "                        filho[index][:, param_select] = float(incl[0])\n",
    "                    elif param_select == 4:\n",
    "                        filho[index][:, param_select] = float(decl[0])\n",
    "                    elif param_select == 5:\n",
    "                        filho[index][:, param_select] = float(mag[0])\n",
    "                else:\n",
    "                    if param_select == 3:\n",
    "                        filho[index][dip_select][param_select] = float(incl[0])\n",
    "                    elif param_select == 4:\n",
    "                        filho[index][dip_select][param_select] = float(decl[0])\n",
    "                    elif param_select == 5:\n",
    "                        filho[index][dip_select][param_select] = float(mag[0])\n",
    "\n",
    "    return filho\n"
   ]
  },
  {
   "cell_type": "code",
   "execution_count": null,
   "metadata": {},
   "outputs": [],
   "source": [
    "filhos_mut = {'xmax': 10000.0,\n",
    "                'xmin': -10000.0,\n",
    "                'ymax': 10000.0,\n",
    "                'ymin': -10000.0,\n",
    "                'zlim': 150.0,\n",
    "                'z_min': 0.0,\n",
    "                'n': 1,\n",
    "                'inclmax': -80.0,\n",
    "                'inclmin': 15.0,\n",
    "                'declmax': 172.0,\n",
    "                'declmin': -15.0,\n",
    "                'magmax': 5.0,\n",
    "                'magmin': 0.5,\n",
    "                'homogeneo': True\n",
    "                }"
   ]
  },
  {
   "cell_type": "code",
   "execution_count": null,
   "metadata": {},
   "outputs": [],
   "source": [
    "%timeit mutacao_v1(filho, **filhos_mut)"
   ]
  },
  {
   "cell_type": "code",
   "execution_count": null,
   "metadata": {},
   "outputs": [],
   "source": [
    "filhos = mutacao_v1(filho, **filhos_mut)"
   ]
  },
  {
   "cell_type": "code",
   "execution_count": null,
   "metadata": {},
   "outputs": [],
   "source": [
    "def elitismo_v1(pop, filhos, fit_cada):\n",
    "    n_fica = (len(pop) - len(filhos))\n",
    "    df = pd.DataFrame(fit_cada)\n",
    "    x = df.sort_values(0, ascending=True)\n",
    "    piores = x.index[n_fica:]\n",
    "    for index, pos in enumerate(piores):\n",
    "        pop[pos] = filhos[index]\n",
    "\n",
    "    return pop"
   ]
  },
  {
   "cell_type": "code",
   "execution_count": null,
   "metadata": {},
   "outputs": [],
   "source": [
    "%timeit elitismo_v1(pop, filhos, fit_cada1)"
   ]
  },
  {
   "cell_type": "code",
   "execution_count": null,
   "metadata": {},
   "outputs": [],
   "source": [
    "fit_rodada = [104.10914879334956, 104.10914879334956, 104.10914879334956, 104.10914879334956, 104.10914879334956, 104.10914879334956, 104.10914879334956, 104.10914879334956, 104.10914879334956, 104.10914879334956, 104.10914879334956, 103.92869362823858, 103.92869362823858, 103.92869362823858, 103.92869362823858, 103.92869362823858, 102.47961796963487, 102.23280638671147, 102.23280638671147, 102.23280638671147, 102.23280638671147, 102.23280638671147, 102.23280638671147, 102.23280638671147, 102.23280638671147, 102.23280638671147, 102.23280638671147, 102.23280638671147, 102.23280638671147, 102.23280638671147, 101.83729241892279, 101.83729241892279, 101.83729241892279, 101.83729241892279, 101.83729241892279, 101.83729241892279, 101.83729241892279, 101.83729241892279, 101.11636128641891, 99.0148946126171, 98.38262660480673, 98.38262660480673, 98.29568335933938, 98.29568335933938, 98.29568335933938, 98.29568335933938, 98.29568335933938, 98.29568335933938, 98.29568335933938, 98.29568335933938, 98.29568335933938, 98.29568335933938, 98.29568335933938, 98.20190444071582, 98.20190444071582, 98.20190444071582, 98.20190444071582, 98.20190444071582, 98.20190444071582, 98.20190444071582, 98.20190444071582, 98.20190444071582, 98.20190444071582, 98.20190444071582, 98.20190444071582, 98.20190444071582, 98.20190444071582, 98.20190444071582, 98.20190444071582, 98.20190444071582, 98.18782346051232, 98.18782346051232, 98.18782346051232, 98.18782346051232, 98.18782346051232, 98.18782346051232, 98.18782346051232, 97.91238780756827, 97.91238780756827, 97.91238780756827, 97.91238780756827, 97.91238780756827, 97.91238780756827, 97.91238780756827, 97.91238780756827, 97.910047043656, 97.76401580099613, 97.10175608484276, 97.10175608484276, 97.10175608484276, 97.10175608484276, 97.10175608484276, 97.10175608484276, 97.10175608484276, 97.10175608484276, 97.10175608484276, 97.10175608484276, 97.10175608484276, 97.10175608484276, 96.99258583597327, 96.99258583597327, 96.99258583597327, 96.99258583597327, 96.99258583597327, 96.99258583597327, 96.99258583597327, 96.99258583597327, 96.99258583597327, 96.99258583597327, 96.99258583597327, 96.99258583597327, 96.99258583597327, 96.99258583597327, 96.99258583597327, 96.99258583597327, 96.95648637368116, 96.95648637368116, 96.95648637368116, 96.84177692343167, 96.84177692343167, 96.84177692343167, 96.84177692343167, 96.82559088644486, 96.82559088644486, 96.82559088644486, 96.82559088644486, 96.82559088644486, 96.82559088644486, 96.82559088644486, 96.82559088644486, 96.82559088644486, 96.82559088644486, 96.82559088644486, 96.82559088644486, 96.82559088644486, 96.82559088644486, 96.82559088644486, 96.82559088644486, 96.82559088644486, 96.82559088644486, 96.82559088644486, 96.82558074617401, 96.82558074617401, 96.82558074617401, 96.82558074617401, 96.82558074617401, 96.82558074617401, 96.82558074617401, 96.82558074617401, 96.82558074617401, 96.82558074617401, 96.82501525409803, 96.82501525409803, 96.82501525409803, 96.82501525409803, 96.82501525409803, 96.82501525409803, 96.82501525409803, 96.82501525409803, 96.82501525409803, 96.82501525409803, 96.82501525409803, 96.82501525409803, 96.82499406518838, 96.82499406518838, 96.82499406518838, 96.82499406518838, 96.8249894366704, 96.8249894366704, 96.82497744167748, 96.82497744167748, 96.82494836106608, 96.82494836106608, 96.82494836106608, 96.82494836106608, 96.82494836106608, 96.82494836106608, 96.82494836106608, 96.82494836106608, 96.82494836106608, 96.82494836106608, 96.82494836106608, 96.82494836106608, 96.82494836106608, 96.82494836106608, 96.82494836106608, 96.82494836106608, 96.82494836106608, 96.82494836106608, 96.82494836106608, 96.82494836106608, 96.82494836106608, 96.82494836106608, 96.82494836106608, 96.82494836106608, 96.82494836106608, 96.82494836106608, 96.82494836106608, 96.82494836106608, 96.82494836106608, 96.82494836106608, 96.82494836106608, 96.82494836106608, 96.82494836106608, 96.82494836106608, 96.82494836106608, 96.82494836106608, 96.82494836106608, 96.82494836106608, 96.82494836106608, 96.82494836106608, 96.82494836106608, 96.82494836106608, 96.82494836106608, 96.82494836106608, 96.82494836106608, 96.82494836106608, 96.82494836106608, 96.82494836106608, 96.82494836106608, 96.82494836106608, 96.82494836106608, 96.82494836106608, 96.82494836106608, 96.82494836106608, 96.82494836106608, 96.82494836106608, 96.82494836106608, 96.82494836106608, 96.82494836106608, 96.82494836106608, 96.82494836106608, 96.82494836106608, 96.82494836106608, 96.82494836106608, 96.82494836106608, 96.82494836106608, 96.82494836106608, 96.82494836106608, 96.82494836106608, 96.82494836106608, 96.82494836106608, 96.82494836106608, 96.82494836106608, 96.82494836106608, 96.82494836106608, 96.82494836106608, 96.82494836106608, 96.82494836106608, 96.82494836106608, 96.82494836106608, 96.82494836106608, 96.82494836106608, 96.82494836106608, 96.82494836106608, 96.82494836106608, 96.55945841531612, 96.52284722601026, 96.50635624990966, 96.50635624990966, 96.50635624990966, 96.50635624990966, 96.50635624990966, 96.50635624990966, 96.50635624990966, 96.50635624990966, 96.50635624990966, 96.50635624990966, 96.50635624990966, 96.50635624990966, 96.50635624990966, 96.50635624990966, 96.50635624990966, 96.50635624990966, 96.50635624990966, 96.50635624990966, 96.50635624990966, 96.50635624990966, 96.50635624990966, 96.50185340460519, 96.50185340460519, 96.50185340460519, 96.50185340460519, 96.50185340460519, 96.50185340460519, 96.50185340460519, 96.50185340460519, 96.50185340460519, 96.50185340460519, 96.50185340460519, 96.50185340460519, 96.50185340460519, 96.50185340460519, 96.50185340460519, 96.50185340460519, 96.50185340460519, 96.50185340460519, 96.50185340460519, 96.50185340460519, 96.50185340460519, 96.50185340460519, 96.50185340460519, 96.50185340460519, 96.50185340460519, 96.50185340460519, 96.50185340460519, 96.50185340460519, 96.50185340460519, 96.50185340460519, 96.50057360164179, 96.50057360164179, 96.50057360164179, 96.50057360164179, 96.50057360164179, 96.50057360164179, 96.50057360164179, 96.50057360164179, 96.50057360164179, 96.50057360164179, 96.50057360164179, 96.50057360164179, 96.50057360164179, 96.50056812037263, 96.50056812037263, 96.50056731323888, 96.50056731323888, 96.50056731323888, 96.50056731323888, 96.50056731323888, 96.50056731323888, 96.50056731323888, 96.47308233028389, 96.4086845749231, 96.4086845749231, 96.36120068578128, 96.36120068578128, 96.36120068578128, 96.36120068578128, 96.36120068578128, 96.36120068578128, 96.36120068578128, 96.36120068578128, 96.36120068578128, 96.36120068578128, 96.36120068578128, 96.36120068578128, 96.36120068578128, 96.36120068578128, 96.36120068578128, 96.36120068578128, 96.36120068578128, 96.36120068578128, 96.36120068578128, 96.36120068578128, 96.36120068578128, 96.36120068578128, 96.36120068578128, 96.36120068578128, 96.36120068578128, 96.36120068578128, 96.3572791905006, 96.3572791905006, 96.3572791905006, 96.3572791905006, 96.3572791905006, 96.3572791905006, 96.3572791905006, 96.3572791905006, 96.3572791905006, 96.3572791905006, 96.3572791905006, 96.3572791905006, 96.3572791905006, 96.3572791905006, 96.3572791905006, 96.3572791905006, 96.35723870645805, 96.35723870645805, 96.35723870645805, 96.35723870645805, 96.35721247572941, 96.35721247572941, 96.35721247572941, 96.35721247572941, 96.35721247572941, 96.35721247572941, 96.35721247572941, 96.35721247572941, 96.35721247572941, 96.35721247572941, 96.35721247572941, 96.35721247572941, 96.35721247572941, 96.35721247572941, 96.35721247572941, 96.35721247572941, 96.35721247572941, 96.35721247572941, 96.35721247572941, 96.35721247572941, 96.35721247572941, 96.35721247572941, 96.35721247572941, 96.35721247572941, 96.35721247572941, 96.35721247572941, 96.35721247572941, 96.35721247572941, 96.35721247572941, 96.35721247572941, 96.35721247572941, 96.35721247572941, 96.35721247572941, 96.35721247572941, 96.35721247572941, 96.35721247572941, 96.35721247572941, 96.35721247572941, 96.35721247572941, 96.35721247572941, 96.35721247572941, 96.35721247572941, 96.35721247572941, 96.35721247572941, 96.35721247572941, 96.35721247572941, 96.35721247572941, 96.35721247572941, 96.35721247572941, 96.35721247572941, 96.35721247572941, 96.35721247572941, 96.35721247572941, 96.35721247572941, 96.35721247572941, 96.35721247572941, 96.35721247572941, 96.35721247572941, 96.35721247572941, 96.35721247572941, 96.35721247572941, 96.3571981103971, 96.3571981103971, 96.3571981103971, 96.3571981103971, 96.3571981103971, 96.3571981103971, 96.3571981103971, 96.3571981103971, 96.3571981103971, 96.3571981103971, 96.3571981103971, 96.3571981103971, 96.3571981103971, 96.3571981103971, 96.3571981103971, 96.3571981103971, 96.3571981103971, 96.3571981103971, 96.3571981103971, 96.3571981103971, 96.3571981103971, 96.3571981103971, 96.3571981103971, 96.3571981103971, 96.3571981103971, 96.3571981103971, 96.3571981103971, 96.3571981103971, 96.3571981103971, 96.3571981103971, 96.3571981103971, 96.3571981103971, 96.3571981103971, 96.3571981103971, 96.3571981103971, 96.3571981103971, 96.3571981103971, 96.3571981103971, 96.3571981103971, 96.3571981103971, 96.3571981103971, 96.3571981103971, 96.3571981103971, 96.3571981103971, 96.3571981103971, 96.3571981103971, 96.3571981103971, 96.3571981103971, 96.3571981103971, 96.3571981103971, 96.3571981103971, 96.3571981103971, 96.3571981103971, 96.3571981103971, 96.3571981103971, 96.3571981103971, 96.3571981103971, 96.3571981103971, 96.3571981103971, 96.3571981103971, 96.3571981103971, 96.3571981103971, 96.3571981103971, 96.3571981103971, 96.3571981103971, 96.3571981103971, 96.3571981103971, 96.3571981103971, 96.3571981103971, 96.3571981103971, 96.3571981103971, 96.3571981103971, 96.3571981103971, 96.3571981103971, 96.3571981103971, 96.3571981103971, 96.3571981103971, 96.3571981103971, 96.3571981103971, 96.3571981103971, 96.3571981103971, 96.3571981103971, 96.3571981103971, 96.3571981103971, 96.3571981103971, 96.3571981103971, 96.3571981103971, 96.3571981103971, 96.3571981103971, 96.3571981103971, 96.3571981103971, 96.3571981103971, 96.3571981103971, 96.3571981103971, 96.3571981103971, 96.3571981103971, 96.3571981103971, 96.3571981103971, 96.3571981103971, 96.3571981103971, 96.3571981103971, 96.3571981103971, 96.3571981103971, 96.3571981103971, 96.3571981103971, 96.3571981103971, 96.3571981103971, 96.3571981103971, 96.3571981103971, 96.3571981103971, 96.3571981103971, 96.3571981103971, 96.3571981103971, 96.3571981103971, 96.3571981103971, 96.3571981103971, 96.3571981103971, 96.3571981103971, 96.3571981103971, 96.3571981103971, 96.3571981103971, 96.3571981103971, 96.3571981103971, 96.3571981103971, 96.3571981103971, 96.3571981103971, 96.3571981103971, 96.3571981103971, 96.3571981103971, 96.3571981103971, 96.3571981103971, 96.3571981103971, 96.3571981103971, 96.3571981103971, 96.3571981103971, 96.3571981103971, 96.3571981103971, 96.3571981103971, 96.3571981103971, 96.3571981103971, 96.3571981103971, 96.3571981103971, 96.3571981103971, 96.3571981103971, 96.3571981103971, 96.3571981103971, 96.3571981103971, 96.3571981103971, 96.3571981103971, 96.3571981103971, 96.3571981103971, 96.3571981103971, 96.3571981103971, 96.3571981103971, 96.3571981103971, 96.3571981103971, 96.3571981103971, 96.3571981103971, 96.3571981103971, 96.3571981103971, 96.3571981103971, 96.3571981103971, 96.3571981103971, 96.3571981103971, 96.3571981103971, 96.3571981103971, 96.3571981103971, 96.3571981103971, 96.3571981103971, 96.3571981103971, 96.3571981103971, 96.3571981103971, 96.3571981103971, 96.3571981103971, 96.3571981103971, 96.3571981103971, 96.3571981103971, 96.3571981103971, 96.3571981103971, 96.3571981103971, 96.3571981103971, 96.3571981103971, 96.3571981103971, 96.3571981103971, 96.3571981103971, 96.3571981103971, 96.3571981103971, 96.3571981103971, 96.3571981103971, 96.3571981103971, 96.3571981103971, 96.3571981103971, 96.3571981103971, 96.3571981103971, 96.3571981103971, 96.3571981103971, 96.3571981103971, 96.3571981103971, 96.3571981103971, 96.3571981103971, 96.3571981103971, 96.3571981103971, 96.3571981103971, 96.3571981103971, 96.3571981103971, 96.3571981103971, 96.3571981103971, 96.3571981103971, 96.3571981103971, 96.3571981103971, 96.3571981103971, 96.3571981103971, 96.3571981103971, 96.3571981103971, 96.3571981103971, 96.3571981103971, 96.3571981103971, 96.3571981103971, 96.3571981103971, 96.3571981103971, 96.3571981103971, 96.3571981103971, 96.3571981103971, 96.3571981103971, 96.3571981103971, 96.3571981103971, 96.3571981103971, 96.3571981103971, 96.3571981103971, 96.3571981103971, 96.3571981103971, 96.3571981103971, 96.3571981103971, 96.3571981103971, 96.3571981103971, 96.3571981103971, 96.3571981103971, 96.3571981103971, 96.3571981103971, 96.3571981103971, 96.3571981103971, 96.3571981103971, 96.3571981103971, 96.3571981103971, 96.3571981103971, 96.3571981103971, 96.3571981103971, 96.3571981103971, 96.3571981103971, 96.3571981103971, 96.3571981103971, 96.3571981103971, 96.3571981103971, 96.3571981103971, 96.3571981103971, 96.3571981103971, 96.3571981103971, 96.3571981103971, 96.3571981103971, 96.3571981103971, 96.3571981103971, 96.3571981103971, 96.3571981103971, 96.3571981103971, 96.3571981103971, 96.3571981103971, 96.3571981103971, 96.3571981103971, 96.3571981103971, 96.3571981103971, 96.3571981103971, 96.3571981103971, 96.3571981103971, 96.3571981103971, 96.3571981103971, 96.3571981103971, 96.3571981103971, 96.3571981103971, 96.3571981103971, 96.3571981103971, 96.3571981103971, 96.3571981103971, 96.3571981103971, 96.3571981103971, 96.3571981103971, 96.3571981103971, 96.3571981103971, 96.3571981103971, 96.3571981103971, 96.3571981103971, 96.3571981103971, 96.3571981103971, 96.3571981103971, 96.3571981103971, 96.3571981103971, 95.88024053341445, 95.88024053341445, 95.88024053341445, 95.88024053341445, 95.88024053341445, 95.88024053341445, 95.88024053341445, 95.88024053341445, 95.88024053341445, 95.88024053341445, 95.88024053341445, 95.88024053341445, 95.88024053341445, 95.88024053341445, 95.88024053341445, 95.88024053341445, 95.88024053341445, 95.88024053341445, 95.88024053341445, 95.88024053341445, 95.88024053341445, 95.88024053341445, 95.88024053341445, 95.88024053341445, 95.88024053341445, 95.88024053341445, 95.88024053341445, 95.88024053341445, 95.88024053341445, 95.88024053341445, 95.88024053341445, 95.88024053341445, 95.88024053341445, 95.88024053341445, 95.88024053341445, 95.88024053341445, 95.88024053341445, 95.88024053341445, 95.88024053341445, 95.88024053341445, 95.88024053341445, 95.88024053341445, 95.88024053341445, 95.88024053341445, 95.88024053341445, 95.88024053341445, 95.88024053341445, 95.88024053341445, 95.88024053341445, 95.88024053341445, 95.88024053341445, 95.88024053341445, 95.88024053341445, 95.88024053341445, 95.88024053341445, 95.88024053341445, 95.88024053341445, 95.88024053341445, 95.88024053341445, 95.88024053341445, 95.88024053341445, 95.88024053341445, 95.88024053341445, 95.88024053341445, 95.88024053341445, 95.88024053341445, 95.88024053341445, 95.88024053341445, 95.88024053341445, 95.88024053341445, 95.88024053341445, 95.88024053341445, 95.88024053341445, 95.88024053341445, 95.88024053341445, 95.88024053341445, 95.88024053341445, 95.88024053341445, 95.88024053341445, 95.88024053341445, 95.88024053341445, 95.88024053341445, 95.88024053341445, 95.88024053341445, 95.88024053341445, 95.88024053341445, 95.88024053341445, 95.88024053341445, 95.88024053341445, 95.88024053341445, 95.88024053341445, 95.88024053341445, 95.88024053341445, 95.88024053341445, 95.88024053341445, 95.88024053341445, 95.88024053341445, 95.88024053341445, 95.88024053341445, 95.88024053341445, 95.88024053341445, 95.88024053341445, 95.88024053341445, 95.88024053341445, 95.88024053341445, 95.88024053341445, 95.88024053341445, 95.88024053341445, 95.88024053341445, 95.88024053341445, 95.88024053341445, 95.88024053341445, 95.88024053341445, 95.88024053341445, 95.88024053341445, 95.88024053341445, 95.88024053341445, 95.88024053341445, 95.88024053341445, 95.88024053341445, 95.88024053341445, 95.88024053341445, 95.88024053341445, 95.88024053341445, 95.88024053341445, 95.88024053341445, 95.88024053341445, 95.88024053341445, 95.88024053341445, 95.88024053341445, 95.88024053341445, 95.88024053341445, 95.88024053341445, 95.88024053341445, 95.88024053341445, 95.88024053341445, 95.88024053341445, 95.88024053341445, 95.88024053341445, 95.88024053341445, 95.88024053341445, 95.88024053341445, 95.88024053341445, 95.88024053341445, 95.88024053341445, 95.88024053341445, 95.88024053341445, 95.88024053341445, 95.88024053341445, 95.88024053341445, 95.88024053341445, 95.88024053341445, 95.88024053341445, 95.88024053341445, 95.88024053341445, 95.88024053341445, 95.88024053341445, 95.88024053341445, 95.88024053341445, 95.88024053341445, 95.88024053341445, 95.88024053341445, 95.88024053341445, 95.88024053341445, 95.88024053341445, 95.88024053341445, 95.88024053341445, 95.88024053341445, 95.88024053341445, 95.88024053341445, 95.88024053341445, 95.88024053341445, 95.88024053341445, 95.88024053341445, 95.88024053341445, 95.88024053341445, 95.88024053341445, 95.88024053341445, 95.88024053341445, 95.88024053341445, 95.88024053341445, 95.88024053341445, 95.88024053341445, 95.88024053341445, 95.88024053341445, 95.88024053341445, 95.88024053341445, 95.88024053341445, 95.88024053341445, 95.88024053341445, 95.88024053341445, 95.88024053341445, 95.88024053341445, 95.88024053341445, 95.88024053341445, 95.88024053341445, 95.88024053341445, 95.88024053341445, 95.88024053341445, 95.88024053341445, 95.88024053341445, 95.88024053341445, 95.88024053341445, 95.88024053341445, 95.88024053341445, 95.88024053341445, 95.88024053341445, 95.88024053341445, 95.88024053341445, 95.88024053341445, 95.88024053341445, 95.88024053341445, 95.88024053341445, 95.88024053341445, 95.88024053341445, 95.88024053341445, 95.88024053341445, 95.88024053341445, 95.88024053341445, 95.88024053341445, 95.88024053341445, 95.88024053341445, 95.88024053341445, 95.88024053341445, 95.88024053341445, 95.88024053341445, 95.88024053341445, 95.88024053341445, 95.88024053341445, 95.88024053341445, 95.88024053341445, 95.88024053341445, 95.88024053341445, 95.88024053341445, 95.88024053341445, 95.88024053341445, 95.88024053341445, 95.88024053341445, 95.88024053341445, 95.88024053341445, 95.88024053341445, 95.88024053341445, 95.88024053341445, 95.88024053341445, 95.88024053341445, 95.88024053341445, 95.88024053341445, 95.88024053341445, 95.88024053341445, 95.88024053341445, 95.88024053341445, 95.63390887243727, 95.63390887243727, 95.63390887243727, 95.63390887243727, 95.63390887243727, 95.63390887243727, 95.63390887243727, 95.63390887243727, 95.63390887243727, 95.60023391028744, 95.60023391028744, 95.60023391028744, 95.60023391028744]"
   ]
  },
  {
   "cell_type": "code",
   "execution_count": null,
   "metadata": {},
   "outputs": [],
   "source": [
    "x = np.linspace(0, 1000, 1000)\n",
    "fig = plt.figure(figsize=(8, 8))\n",
    "plt.plot(x, fit_rodada)\n",
    "plt.xlabel('Interações', fontsize=20)\n",
    "plt.ylabel('fitness', fontsize=20)\n",
    "plt.grid()\n",
    "plt.show()"
   ]
  },
  {
   "cell_type": "code",
   "execution_count": null,
   "metadata": {},
   "outputs": [],
   "source": [
    "x = []\n",
    "\n",
    "for i in range(10):\n",
    "    xcood = np.random.uniform(-5000.0, 5000.0, 10)\n",
    "    x.append(xcood)\n",
    "\n",
    "\n",
    "print(x)\n"
   ]
  },
  {
   "cell_type": "code",
   "execution_count": null,
   "metadata": {},
   "outputs": [],
   "source": []
  }
 ],
 "metadata": {
  "kernelspec": {
   "display_name": "Python 3",
   "language": "python",
   "name": "python3"
  },
  "language_info": {
   "codemirror_mode": {
    "name": "ipython",
    "version": 3
   },
   "file_extension": ".py",
   "mimetype": "text/x-python",
   "name": "python",
   "nbconvert_exporter": "python",
   "pygments_lexer": "ipython3",
   "version": "3.6.5"
  }
 },
 "nbformat": 4,
 "nbformat_minor": 4
}
