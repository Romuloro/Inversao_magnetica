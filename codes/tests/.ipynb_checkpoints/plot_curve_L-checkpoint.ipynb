{
 "cells": [
  {
   "cell_type": "code",
   "execution_count": 1,
   "id": "brutal-newman",
   "metadata": {},
   "outputs": [],
   "source": [
    "import warnings\n",
    "\n",
    "import numpy as np\n",
    "\n",
    "warnings.filterwarnings(\"ignore\")\n",
    "import sys\n",
    "a = sys.path.append('../modules/')\n",
    "c = sys.path.append('../tests/')\n",
    "import os\n",
    "import pandas as pd"
   ]
  },
  {
   "cell_type": "code",
   "execution_count": 2,
   "id": "fewer-shift",
   "metadata": {},
   "outputs": [],
   "source": [
    "import Curve_L as cl"
   ]
  },
  {
   "cell_type": "code",
   "execution_count": 3,
   "id": "welcome-milton",
   "metadata": {},
   "outputs": [
    {
     "data": {
      "image/png": "[encoded data removed]",
      "text/plain": [
       "<Figure size 864x864 with 1 Axes>"
      ]
     },
     "metadata": {
      "needs_background": "light"
     },
     "output_type": "display_data"
    },
    {
     "name": "stdout",
     "output_type": "stream",
     "text": [
      "[[8.47770262e-01 5.93359651e-02 2.50000000e-06]\n",
      " [0.00000000e+00 0.00000000e+00 0.00000000e+00]\n",
      " [0.00000000e+00 0.00000000e+00 0.00000000e+00]\n",
      " [0.00000000e+00 0.00000000e+00 0.00000000e+00]\n",
      " [0.00000000e+00 0.00000000e+00 0.00000000e+00]\n",
      " [0.00000000e+00 0.00000000e+00 0.00000000e+00]\n",
      " [0.00000000e+00 0.00000000e+00 0.00000000e+00]\n",
      " [0.00000000e+00 0.00000000e+00 0.00000000e+00]\n",
      " [0.00000000e+00 0.00000000e+00 0.00000000e+00]\n",
      " [0.00000000e+00 0.00000000e+00 0.00000000e+00]]\n",
      "[[8.47770262e-01 5.93359651e-02 2.50000000e-06]\n",
      " [9.15063053e-01 5.07319347e-02 2.50000000e-05]\n",
      " [0.00000000e+00 0.00000000e+00 0.00000000e+00]\n",
      " [0.00000000e+00 0.00000000e+00 0.00000000e+00]\n",
      " [0.00000000e+00 0.00000000e+00 0.00000000e+00]\n",
      " [0.00000000e+00 0.00000000e+00 0.00000000e+00]\n",
      " [0.00000000e+00 0.00000000e+00 0.00000000e+00]\n",
      " [0.00000000e+00 0.00000000e+00 0.00000000e+00]\n",
      " [0.00000000e+00 0.00000000e+00 0.00000000e+00]\n",
      " [0.00000000e+00 0.00000000e+00 0.00000000e+00]]\n",
      "[[8.47770262e-01 5.93359651e-02 2.50000000e-06]\n",
      " [9.15063053e-01 5.07319347e-02 2.50000000e-05]\n",
      " [9.40508462e-01 5.94455419e-02 2.50000000e-04]\n",
      " [0.00000000e+00 0.00000000e+00 0.00000000e+00]\n",
      " [0.00000000e+00 0.00000000e+00 0.00000000e+00]\n",
      " [0.00000000e+00 0.00000000e+00 0.00000000e+00]\n",
      " [0.00000000e+00 0.00000000e+00 0.00000000e+00]\n",
      " [0.00000000e+00 0.00000000e+00 0.00000000e+00]\n",
      " [0.00000000e+00 0.00000000e+00 0.00000000e+00]\n",
      " [0.00000000e+00 0.00000000e+00 0.00000000e+00]]\n",
      "[[8.47770262e-01 5.93359651e-02 2.50000000e-06]\n",
      " [9.15063053e-01 5.07319347e-02 2.50000000e-05]\n",
      " [9.40508462e-01 5.94455419e-02 2.50000000e-04]\n",
      " [8.22097572e-01 5.41933455e-02 2.50000000e-03]\n",
      " [0.00000000e+00 0.00000000e+00 0.00000000e+00]\n",
      " [0.00000000e+00 0.00000000e+00 0.00000000e+00]\n",
      " [0.00000000e+00 0.00000000e+00 0.00000000e+00]\n",
      " [0.00000000e+00 0.00000000e+00 0.00000000e+00]\n",
      " [0.00000000e+00 0.00000000e+00 0.00000000e+00]\n",
      " [0.00000000e+00 0.00000000e+00 0.00000000e+00]]\n",
      "[[8.47770262e-01 5.93359651e-02 2.50000000e-06]\n",
      " [9.15063053e-01 5.07319347e-02 2.50000000e-05]\n",
      " [9.40508462e-01 5.94455419e-02 2.50000000e-04]\n",
      " [8.22097572e-01 5.41933455e-02 2.50000000e-03]\n",
      " [9.83538912e-01 2.39602802e-02 2.50000000e-02]\n",
      " [0.00000000e+00 0.00000000e+00 0.00000000e+00]\n",
      " [0.00000000e+00 0.00000000e+00 0.00000000e+00]\n",
      " [0.00000000e+00 0.00000000e+00 0.00000000e+00]\n",
      " [0.00000000e+00 0.00000000e+00 0.00000000e+00]\n",
      " [0.00000000e+00 0.00000000e+00 0.00000000e+00]]\n",
      "[[8.47770262e-01 5.93359651e-02 2.50000000e-06]\n",
      " [9.15063053e-01 5.07319347e-02 2.50000000e-05]\n",
      " [9.40508462e-01 5.94455419e-02 2.50000000e-04]\n",
      " [8.22097572e-01 5.41933455e-02 2.50000000e-03]\n",
      " [9.83538912e-01 2.39602802e-02 2.50000000e-02]\n",
      " [9.35081008e-01 2.64986284e-02 2.50000000e-01]\n",
      " [0.00000000e+00 0.00000000e+00 0.00000000e+00]\n",
      " [0.00000000e+00 0.00000000e+00 0.00000000e+00]\n",
      " [0.00000000e+00 0.00000000e+00 0.00000000e+00]\n",
      " [0.00000000e+00 0.00000000e+00 0.00000000e+00]]\n",
      "[[8.47770262e-01 5.93359651e-02 2.50000000e-06]\n",
      " [9.15063053e-01 5.07319347e-02 2.50000000e-05]\n",
      " [9.40508462e-01 5.94455419e-02 2.50000000e-04]\n",
      " [8.22097572e-01 5.41933455e-02 2.50000000e-03]\n",
      " [9.83538912e-01 2.39602802e-02 2.50000000e-02]\n",
      " [9.35081008e-01 2.64986284e-02 2.50000000e-01]\n",
      " [7.21715907e-01 4.70249911e-02 2.50000000e+00]\n",
      " [0.00000000e+00 0.00000000e+00 0.00000000e+00]\n",
      " [0.00000000e+00 0.00000000e+00 0.00000000e+00]\n",
      " [0.00000000e+00 0.00000000e+00 0.00000000e+00]]\n",
      "[[8.47770262e-01 5.93359651e-02 2.50000000e-06]\n",
      " [9.15063053e-01 5.07319347e-02 2.50000000e-05]\n",
      " [9.40508462e-01 5.94455419e-02 2.50000000e-04]\n",
      " [8.22097572e-01 5.41933455e-02 2.50000000e-03]\n",
      " [9.83538912e-01 2.39602802e-02 2.50000000e-02]\n",
      " [9.35081008e-01 2.64986284e-02 2.50000000e-01]\n",
      " [7.21715907e-01 4.70249911e-02 2.50000000e+00]\n",
      " [2.03566981e+00 4.11146836e-03 2.50000000e+01]\n",
      " [0.00000000e+00 0.00000000e+00 0.00000000e+00]\n",
      " [0.00000000e+00 0.00000000e+00 0.00000000e+00]]\n",
      "[[8.47770262e-01 5.93359651e-02 2.50000000e-06]\n",
      " [9.15063053e-01 5.07319347e-02 2.50000000e-05]\n",
      " [9.40508462e-01 5.94455419e-02 2.50000000e-04]\n",
      " [8.22097572e-01 5.41933455e-02 2.50000000e-03]\n",
      " [9.83538912e-01 2.39602802e-02 2.50000000e-02]\n",
      " [9.35081008e-01 2.64986284e-02 2.50000000e-01]\n",
      " [7.21715907e-01 4.70249911e-02 2.50000000e+00]\n",
      " [2.03566981e+00 4.11146836e-03 2.50000000e+01]\n",
      " [5.28143940e+00 8.44430506e-04 2.50000000e+02]\n",
      " [0.00000000e+00 0.00000000e+00 0.00000000e+00]]\n",
      "[[8.47770262e-01 5.93359651e-02 2.50000000e-06]\n",
      " [9.15063053e-01 5.07319347e-02 2.50000000e-05]\n",
      " [9.40508462e-01 5.94455419e-02 2.50000000e-04]\n",
      " [8.22097572e-01 5.41933455e-02 2.50000000e-03]\n",
      " [9.83538912e-01 2.39602802e-02 2.50000000e-02]\n",
      " [9.35081008e-01 2.64986284e-02 2.50000000e-01]\n",
      " [7.21715907e-01 4.70249911e-02 2.50000000e+00]\n",
      " [2.03566981e+00 4.11146836e-03 2.50000000e+01]\n",
      " [5.28143940e+00 8.44430506e-04 2.50000000e+02]\n",
      " [8.56951810e+00 1.46780666e-04 2.50000000e+03]]\n",
      "[[8.47770262e-01 5.93359651e-02 2.50000000e-06]\n",
      " [9.15063053e-01 5.07319347e-02 2.50000000e-05]\n",
      " [9.40508462e-01 5.94455419e-02 2.50000000e-04]\n",
      " [8.22097572e-01 5.41933455e-02 2.50000000e-03]\n",
      " [9.83538912e-01 2.39602802e-02 2.50000000e-02]\n",
      " [9.35081008e-01 2.64986284e-02 2.50000000e-01]\n",
      " [7.21715907e-01 4.70249911e-02 2.50000000e+00]\n",
      " [2.03566981e+00 4.11146836e-03 2.50000000e+01]\n",
      " [5.28143940e+00 8.44430506e-04 2.50000000e+02]\n",
      " [8.56951810e+00 1.46780666e-04 2.50000000e+03]]\n"
     ]
    }
   ],
   "source": [
    "result = cl.curve_L()\n"
   ]
  },
  {
   "cell_type": "code",
   "execution_count": 4,
   "id": "tested-battle",
   "metadata": {},
   "outputs": [
    {
     "data": {
      "text/plain": [
       "\"os.chdir('/home/romulo/my_project_dir/Inversao_magnetica/codes/tests/Dissertacao/Test_sintetico/Dique_vertical/Curva_L')\\nendereco = './test_sint_'\\nos.mkdir(endereco)\""
      ]
     },
     "execution_count": 4,
     "metadata": {},
     "output_type": "execute_result"
    }
   ],
   "source": [
    "'''os.chdir('/home/romulo/my_project_dir/Inversao_magnetica/codes/tests/Dissertacao/Test_sintetico/Dique_vertical/Curva_L')\n",
    "endereco = './test_sint_'\n",
    "os.mkdir(endereco)'''"
   ]
  },
  {
   "cell_type": "code",
   "execution_count": 5,
   "id": "indirect-medicare",
   "metadata": {},
   "outputs": [],
   "source": [
    "header = ['phi', 'theta', 'lambda']\n",
    "curve_L_result = pd.DataFrame(data = result, columns = header)\n",
    "curve_L_result.to_csv('/home/romulo/my_project_dir/Inversao_magnetica/codes/tests/Dissertacao/Test_sintetico/Dique_inclinado/Curva_L/result_2.cvs', index = False, header = header)"
   ]
  },
  {
   "cell_type": "code",
   "execution_count": 6,
   "id": "numerical-capacity",
   "metadata": {},
   "outputs": [
    {
     "data": {
      "text/html": [
       "<div>\n",
       "<style scoped>\n",
       "    .dataframe tbody tr th:only-of-type {\n",
       "        vertical-align: middle;\n",
       "    }\n",
       "\n",
       "    .dataframe tbody tr th {\n",
       "        vertical-align: top;\n",
       "    }\n",
       "\n",
       "    .dataframe thead th {\n",
       "        text-align: right;\n",
       "    }\n",
       "</style>\n",
       "<table border=\"1\" class=\"dataframe\">\n",
       "  <thead>\n",
       "    <tr style=\"text-align: right;\">\n",
       "      <th></th>\n",
       "      <th>phi</th>\n",
       "      <th>theta</th>\n",
       "      <th>lambda</th>\n",
       "    </tr>\n",
       "  </thead>\n",
       "  <tbody>\n",
       "    <tr>\n",
       "      <th>0</th>\n",
       "      <td>0.847770</td>\n",
       "      <td>0.059336</td>\n",
       "      <td>0.000003</td>\n",
       "    </tr>\n",
       "    <tr>\n",
       "      <th>1</th>\n",
       "      <td>0.915063</td>\n",
       "      <td>0.050732</td>\n",
       "      <td>0.000025</td>\n",
       "    </tr>\n",
       "    <tr>\n",
       "      <th>2</th>\n",
       "      <td>0.940508</td>\n",
       "      <td>0.059446</td>\n",
       "      <td>0.000250</td>\n",
       "    </tr>\n",
       "    <tr>\n",
       "      <th>3</th>\n",
       "      <td>0.822098</td>\n",
       "      <td>0.054193</td>\n",
       "      <td>0.002500</td>\n",
       "    </tr>\n",
       "    <tr>\n",
       "      <th>4</th>\n",
       "      <td>0.983539</td>\n",
       "      <td>0.023960</td>\n",
       "      <td>0.025000</td>\n",
       "    </tr>\n",
       "    <tr>\n",
       "      <th>5</th>\n",
       "      <td>0.935081</td>\n",
       "      <td>0.026499</td>\n",
       "      <td>0.250000</td>\n",
       "    </tr>\n",
       "    <tr>\n",
       "      <th>6</th>\n",
       "      <td>0.721716</td>\n",
       "      <td>0.047025</td>\n",
       "      <td>2.500000</td>\n",
       "    </tr>\n",
       "    <tr>\n",
       "      <th>7</th>\n",
       "      <td>2.035670</td>\n",
       "      <td>0.004111</td>\n",
       "      <td>25.000000</td>\n",
       "    </tr>\n",
       "    <tr>\n",
       "      <th>8</th>\n",
       "      <td>5.281439</td>\n",
       "      <td>0.000844</td>\n",
       "      <td>250.000000</td>\n",
       "    </tr>\n",
       "    <tr>\n",
       "      <th>9</th>\n",
       "      <td>8.569518</td>\n",
       "      <td>0.000147</td>\n",
       "      <td>2500.000000</td>\n",
       "    </tr>\n",
       "  </tbody>\n",
       "</table>\n",
       "</div>"
      ],
      "text/plain": [
       "        phi     theta       lambda\n",
       "0  0.847770  0.059336     0.000003\n",
       "1  0.915063  0.050732     0.000025\n",
       "2  0.940508  0.059446     0.000250\n",
       "3  0.822098  0.054193     0.002500\n",
       "4  0.983539  0.023960     0.025000\n",
       "5  0.935081  0.026499     0.250000\n",
       "6  0.721716  0.047025     2.500000\n",
       "7  2.035670  0.004111    25.000000\n",
       "8  5.281439  0.000844   250.000000\n",
       "9  8.569518  0.000147  2500.000000"
      ]
     },
     "execution_count": 6,
     "metadata": {},
     "output_type": "execute_result"
    }
   ],
   "source": [
    "curve_L_result"
   ]
  },
  {
   "cell_type": "code",
   "execution_count": 7,
   "id": "blank-gibson",
   "metadata": {},
   "outputs": [
    {
     "data": {
      "text/plain": [
       "\"inv_curve_l = curve_L_result.sort_values(by = 'lambda', ascending=False)\\nprint(inv_curve_l)\""
      ]
     },
     "execution_count": 7,
     "metadata": {},
     "output_type": "execute_result"
    }
   ],
   "source": [
    "'''inv_curve_l = curve_L_result.sort_values(by = 'lambda', ascending=False)\n",
    "print(inv_curve_l)'''"
   ]
  },
  {
   "cell_type": "code",
   "execution_count": 8,
   "id": "surrounded-cardiff",
   "metadata": {},
   "outputs": [
    {
     "data": {
      "text/plain": [
       "\"header = ['phi', 'theta', 'lambda']\\ncurve_L_result1 = pd.read_table('/home/romulo/my_project_dir/Inversao_magnetica/codes/tests//Curva_L/test_arraial_real/test_arraial_real_1/result_1.cvs', sep=',')\\ncurve_L_result2 = pd.read_table('/home/romulo/my_project_dir/Inversao_magnetica/codes/tests//Curva_L/test_arraial_real/test_arraial_real_1/result_2.cvs', sep=',')\\ncurve_L_result3 = pd.read_table('/home/romulo/my_project_dir/Inversao_magnetica/codes/tests//Curva_L/test_arraial_real/test_arraial_real_1/result_3.cvs', sep=',')\\n\\ncurve_L_result = pd.concat([curve_L_result1, curve_L_result2, curve_L_result3])\""
      ]
     },
     "execution_count": 8,
     "metadata": {},
     "output_type": "execute_result"
    }
   ],
   "source": [
    "'''header = ['phi', 'theta', 'lambda']\n",
    "curve_L_result1 = pd.read_table('/home/romulo/my_project_dir/Inversao_magnetica/codes/tests//Curva_L/test_arraial_real/test_arraial_real_1/result_1.cvs', sep=',')\n",
    "curve_L_result2 = pd.read_table('/home/romulo/my_project_dir/Inversao_magnetica/codes/tests//Curva_L/test_arraial_real/test_arraial_real_1/result_2.cvs', sep=',')\n",
    "curve_L_result3 = pd.read_table('/home/romulo/my_project_dir/Inversao_magnetica/codes/tests//Curva_L/test_arraial_real/test_arraial_real_1/result_3.cvs', sep=',')\n",
    "\n",
    "curve_L_result = pd.concat([curve_L_result1, curve_L_result2, curve_L_result3])'''"
   ]
  },
  {
   "cell_type": "code",
   "execution_count": 9,
   "id": "affiliated-institute",
   "metadata": {},
   "outputs": [
    {
     "data": {
      "text/plain": [
       "'curve_L_result'"
      ]
     },
     "execution_count": 9,
     "metadata": {},
     "output_type": "execute_result"
    }
   ],
   "source": [
    "'''curve_L_result'''"
   ]
  },
  {
   "cell_type": "code",
   "execution_count": 10,
   "id": "partial-dryer",
   "metadata": {},
   "outputs": [
    {
     "data": {
      "text/plain": [
       "'import matplotlib.pyplot as plt\\nimport matplotlib'"
      ]
     },
     "execution_count": 10,
     "metadata": {},
     "output_type": "execute_result"
    }
   ],
   "source": [
    "'''import matplotlib.pyplot as plt\n",
    "import matplotlib'''"
   ]
  },
  {
   "cell_type": "code",
   "execution_count": 11,
   "id": "stopped-giving",
   "metadata": {
    "scrolled": true
   },
   "outputs": [
    {
     "data": {
      "text/plain": [
       "\"x = curve_L_result['phi']\\ny = curve_L_result['theta']\\nz = curve_L_result['lambda']\\n\\nx2 = x\\nz2 = z\\ny2 = y\\n\\nx2 = x2[1:29]\\ny2 = y2[1:29]\\nz2 = z2[1:29]\\n\\nfig = plt.figure(figsize=(9, 5))\\n#plt.scatter(x,y,edgecolors='none',s=marker_size,c=void_fraction,\\n#                norm=matplotlib.colors.LogNorm())\\nplt.scatter(y2, x2, cmap = 'jet', c =z2 ,marker='o', linewidths=5.0, norm=matplotlib.colors.LogNorm())\\n#plt.ylim(0, 11)\\n#plt.title('Com o Lamb = 0.005', fontsize=20)\\nplt.ylabel('$\\\\phi(q)$', fontsize=20)\\nplt.xlabel('$\\\\theta(q)$', fontsize=20)\\nplt.colorbar()\\nplt.grid()\\nplt.show()\""
      ]
     },
     "execution_count": 11,
     "metadata": {},
     "output_type": "execute_result"
    }
   ],
   "source": [
    "'''x = curve_L_result['phi']\n",
    "y = curve_L_result['theta']\n",
    "z = curve_L_result['lambda']\n",
    "\n",
    "x2 = x\n",
    "z2 = z\n",
    "y2 = y\n",
    "\n",
    "x2 = x2[1:29]\n",
    "y2 = y2[1:29]\n",
    "z2 = z2[1:29]\n",
    "\n",
    "fig = plt.figure(figsize=(9, 5))\n",
    "#plt.scatter(x,y,edgecolors='none',s=marker_size,c=void_fraction,\n",
    "#                norm=matplotlib.colors.LogNorm())\n",
    "plt.scatter(y2, x2, cmap = 'jet', c =z2 ,marker='o', linewidths=5.0, norm=matplotlib.colors.LogNorm())\n",
    "#plt.ylim(0, 11)\n",
    "#plt.title('Com o Lamb = 0.005', fontsize=20)\n",
    "plt.ylabel('$\\phi(q)$', fontsize=20)\n",
    "plt.xlabel('$\\\\theta(q)$', fontsize=20)\n",
    "plt.colorbar()\n",
    "plt.grid()\n",
    "plt.show()'''"
   ]
  },
  {
   "cell_type": "code",
   "execution_count": 12,
   "id": "german-contact",
   "metadata": {},
   "outputs": [
    {
     "data": {
      "text/plain": [
       "\"fig = plt.figure(figsize=(8, 8))\\n#plt.scatter(x,y,edgecolors='none',s=marker_size,c=void_fraction,\\n#                norm=matplotlib.colors.LogNorm())\\nplt.scatter(x, y, cmap = 'jet', c =z ,marker='o', linewidths=5.0, norm=matplotlib.colors.LogNorm())\\n#plt.ylim(0, 11)\\n#plt.title('Com o Lamb = 0.005', fontsize=20)\\nplt.xlabel('$\\\\phi(q)$', fontsize=20)\\nplt.ylabel('$\\\\theta(q)$', fontsize=20)\\nplt.colorbar()\\nplt.grid()\\nplt.show()\""
      ]
     },
     "execution_count": 12,
     "metadata": {},
     "output_type": "execute_result"
    }
   ],
   "source": [
    "'''fig = plt.figure(figsize=(8, 8))\n",
    "#plt.scatter(x,y,edgecolors='none',s=marker_size,c=void_fraction,\n",
    "#                norm=matplotlib.colors.LogNorm())\n",
    "plt.scatter(x, y, cmap = 'jet', c =z ,marker='o', linewidths=5.0, norm=matplotlib.colors.LogNorm())\n",
    "#plt.ylim(0, 11)\n",
    "#plt.title('Com o Lamb = 0.005', fontsize=20)\n",
    "plt.xlabel('$\\phi(q)$', fontsize=20)\n",
    "plt.ylabel('$\\\\theta(q)$', fontsize=20)\n",
    "plt.colorbar()\n",
    "plt.grid()\n",
    "plt.show()'''"
   ]
  },
  {
   "cell_type": "code",
   "execution_count": 13,
   "id": "spanish-chrome",
   "metadata": {},
   "outputs": [
    {
     "data": {
      "text/plain": [
       "\"x2 = x\\nz2 = z\\ny2 = y\\n\\nx2 = x2[::-1]\\ny2 = y2[::-1]\\nz2 = y2[::-1]\\n\\nfig = plt.figure(figsize=(8, 8))\\n#plt.scatter(x,y,edgecolors='none',s=marker_size,c=void_fraction,\\n#                norm=matplotlib.colors.LogNorm())\\nplt.scatter(y2, x2, cmap = 'jet', c =z2 ,marker='o', linewidths=5.0, norm=matplotlib.colors.LogNorm())\\n#plt.ylim(0, 11)\\n#plt.title('Com o Lamb = 0.005', fontsize=20)\\nplt.ylabel('$\\\\phi(q)$', fontsize=20)\\nplt.xlabel('$\\\\theta(q)$', fontsize=20)\\nplt.colorbar()\\nplt.grid()\\nplt.show()\""
      ]
     },
     "execution_count": 13,
     "metadata": {},
     "output_type": "execute_result"
    }
   ],
   "source": [
    "'''x = inv_curve_l['phi']\n",
    "y = inv_curve_l['theta']\n",
    "z = inv_curve_l['lambda']'''\n",
    "\n",
    "'''x2 = x\n",
    "z2 = z\n",
    "y2 = y\n",
    "\n",
    "x2 = x2[::-1]\n",
    "y2 = y2[::-1]\n",
    "z2 = y2[::-1]\n",
    "\n",
    "fig = plt.figure(figsize=(8, 8))\n",
    "#plt.scatter(x,y,edgecolors='none',s=marker_size,c=void_fraction,\n",
    "#                norm=matplotlib.colors.LogNorm())\n",
    "plt.scatter(y2, x2, cmap = 'jet', c =z2 ,marker='o', linewidths=5.0, norm=matplotlib.colors.LogNorm())\n",
    "#plt.ylim(0, 11)\n",
    "#plt.title('Com o Lamb = 0.005', fontsize=20)\n",
    "plt.ylabel('$\\phi(q)$', fontsize=20)\n",
    "plt.xlabel('$\\\\theta(q)$', fontsize=20)\n",
    "plt.colorbar()\n",
    "plt.grid()\n",
    "plt.show()'''"
   ]
  },
  {
   "cell_type": "code",
   "execution_count": 14,
   "id": "contemporary-calculator",
   "metadata": {},
   "outputs": [
    {
     "data": {
      "text/plain": [
       "'curve_L_result1'"
      ]
     },
     "execution_count": 14,
     "metadata": {},
     "output_type": "execute_result"
    }
   ],
   "source": [
    "'''curve_L_result1'''"
   ]
  },
  {
   "cell_type": "code",
   "execution_count": 15,
   "id": "fourth-tenant",
   "metadata": {},
   "outputs": [
    {
     "data": {
      "text/plain": [
       "\"fig = plt.figure(figsize=(8, 8))\\n#plt.scatter(x,y,edgecolors='none',s=marker_size,c=void_fraction,\\n#                norm=matplotlib.colors.LogNorm())\\nplt.scatter(y, x, cmap = 'jet', c =z ,marker='o', linewidths=5.0, norm=matplotlib.colors.LogNorm())\\n#plt.ylim(0, 11)\\n#plt.title('Com o Lamb = 0.005', fontsize=20)\\nplt.ylabel('$\\\\phi(q)$', fontsize=20)\\nplt.xlabel('$\\\\theta(q)$', fontsize=20)\\nplt.colorbar()\\nplt.grid()\\nplt.show()\""
      ]
     },
     "execution_count": 15,
     "metadata": {},
     "output_type": "execute_result"
    }
   ],
   "source": [
    "'''x = curve_L_result1['phi'][5:9]\n",
    "y = curve_L_result1['theta'][5:9]\n",
    "z = curve_L_result1['lambda'][5:9]'''\n",
    "\n",
    "'''x2 = x\n",
    "z2 = z\n",
    "y2 = y\n",
    "\n",
    "x2 = x2[::-1]\n",
    "y2 = y2[::-1]\n",
    "z2 = y2[::-1]'''\n",
    "\n",
    "'''fig = plt.figure(figsize=(8, 8))\n",
    "#plt.scatter(x,y,edgecolors='none',s=marker_size,c=void_fraction,\n",
    "#                norm=matplotlib.colors.LogNorm())\n",
    "plt.scatter(y, x, cmap = 'jet', c =z ,marker='o', linewidths=5.0, norm=matplotlib.colors.LogNorm())\n",
    "#plt.ylim(0, 11)\n",
    "#plt.title('Com o Lamb = 0.005', fontsize=20)\n",
    "plt.ylabel('$\\phi(q)$', fontsize=20)\n",
    "plt.xlabel('$\\\\theta(q)$', fontsize=20)\n",
    "plt.colorbar()\n",
    "plt.grid()\n",
    "plt.show()'''"
   ]
  },
  {
   "cell_type": "code",
   "execution_count": 16,
   "id": "defensive-sphere",
   "metadata": {},
   "outputs": [],
   "source": [
    "#curve_L_result_total = pd.concat([curve_L_result1[5:9], curve_L_result2[5:9], curve_L_result3[5:9]])"
   ]
  },
  {
   "cell_type": "code",
   "execution_count": 17,
   "id": "brazilian-heritage",
   "metadata": {},
   "outputs": [],
   "source": [
    "#curve_L_result_total"
   ]
  },
  {
   "cell_type": "code",
   "execution_count": 18,
   "id": "super-departure",
   "metadata": {},
   "outputs": [
    {
     "data": {
      "text/plain": [
       "\"x = curve_L_result_total['phi']\\ny = curve_L_result_total['theta']\\nz = curve_L_result_total['lambda']\\n\\nx2 = x\\nz2 = z\\ny2 = y\\n\\nx2 = x2[::-1]\\ny2 = y2[::-1]\\nz2 = y2[::-1]\\n\\nfig = plt.figure(figsize=(8, 8))\\n#plt.scatter(x,y,edgecolors='none',s=marker_size,c=void_fraction,\\n#                norm=matplotlib.colors.LogNorm())\\nplt.scatter(y, x, cmap = 'jet', c =z ,marker='o', linewidths=5.0, norm=matplotlib.colors.LogNorm())\\n#plt.ylim(0, 11)\\n#plt.title('Com o Lamb = 0.005', fontsize=20)\\nplt.ylabel('$\\\\phi(q)$', fontsize=20)\\nplt.xlabel('$\\\\theta(q)$', fontsize=20)\\nplt.colorbar()\\nplt.grid()\\nplt.show()\""
      ]
     },
     "execution_count": 18,
     "metadata": {},
     "output_type": "execute_result"
    }
   ],
   "source": [
    "'''x = curve_L_result_total['phi']\n",
    "y = curve_L_result_total['theta']\n",
    "z = curve_L_result_total['lambda']\n",
    "\n",
    "x2 = x\n",
    "z2 = z\n",
    "y2 = y\n",
    "\n",
    "x2 = x2[::-1]\n",
    "y2 = y2[::-1]\n",
    "z2 = y2[::-1]\n",
    "\n",
    "fig = plt.figure(figsize=(8, 8))\n",
    "#plt.scatter(x,y,edgecolors='none',s=marker_size,c=void_fraction,\n",
    "#                norm=matplotlib.colors.LogNorm())\n",
    "plt.scatter(y, x, cmap = 'jet', c =z ,marker='o', linewidths=5.0, norm=matplotlib.colors.LogNorm())\n",
    "#plt.ylim(0, 11)\n",
    "#plt.title('Com o Lamb = 0.005', fontsize=20)\n",
    "plt.ylabel('$\\phi(q)$', fontsize=20)\n",
    "plt.xlabel('$\\\\theta(q)$', fontsize=20)\n",
    "plt.colorbar()\n",
    "plt.grid()\n",
    "plt.show()'''"
   ]
  },
  {
   "cell_type": "code",
   "execution_count": null,
   "id": "judicial-garlic",
   "metadata": {},
   "outputs": [],
   "source": []
  }
 ],
 "metadata": {
  "kernelspec": {
   "display_name": "Python 3 (ipykernel)",
   "language": "python",
   "name": "python3"
  },
  "language_info": {
   "codemirror_mode": {
    "name": "ipython",
    "version": 3
   },
   "file_extension": ".py",
   "mimetype": "text/x-python",
   "name": "python",
   "nbconvert_exporter": "python",
   "pygments_lexer": "ipython3",
   "version": "3.8.10"
  }
 },
 "nbformat": 4,
 "nbformat_minor": 5
}
