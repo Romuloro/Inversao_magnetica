{
 "cells": [
  {
   "cell_type": "code",
   "execution_count": 3,
   "metadata": {},
   "outputs": [],
   "source": [
    "import numpy as np\n",
    "import random\n",
    "import pandas as pd\n",
    "import sys\n",
    "import networkx as nx\n",
    "import matplotlib.pyplot as plt\n",
    "import math as mt\n",
    "from mpl_toolkits.mplot3d import Axes3D\n",
    "from mpl_toolkits.mplot3d.art3d import Poly3DCollection, Line3DCollection\n",
    "a = sys.path.append('../modules/')  # endereco das funcoes implementadas por voce!\n",
    "import sphere, sample_random, aux_operators_array, Operators_array, plot_3D"
   ]
  },
  {
   "cell_type": "code",
   "execution_count": 4,
   "metadata": {},
   "outputs": [],
   "source": [
    "population = {'xmax': 5000.0,\n",
    "                'xmin': -5000.0,\n",
    "                'ymax': 5000.0,\n",
    "                'ymin': -5000.0,\n",
    "                'zlim': 7000.0,\n",
    "                'z_min': 0.0,\n",
    "                'n_dip': 4,\n",
    "                'n_pop': 2,\n",
    "                'inclmax': 5.0,\n",
    "                'inclmin': -5.0,\n",
    "                'declmax': 5.0,\n",
    "                'declmin': -5.0,\n",
    "                'magmax': 2.5,\n",
    "                'magmin': 1.5,\n",
    "                'homogeneo': True\n",
    "                }\n",
    "\n",
    "\n",
    "filhos_mut = {'xmax': 5000.0,\n",
    "                'xmin': -5000.0,\n",
    "                'ymax': 5000.0,\n",
    "                'ymin': -5000.0,\n",
    "                'zlim': 7000.0,\n",
    "                'z_min': 0.0,\n",
    "                'n': 1,\n",
    "                'inclmax': 5.0,\n",
    "                'inclmin': -5.0,\n",
    "                'declmax': 5.0,\n",
    "                'declmin': -5.0,\n",
    "                'magmax': 2.5,\n",
    "                'magmin': 1.5,\n",
    "                'homogeneo': True\n",
    "                }"
   ]
  },
  {
   "cell_type": "code",
   "execution_count": 5,
   "metadata": {},
   "outputs": [],
   "source": [
    "populacao = Operators_array.create_population(**population)"
   ]
  },
  {
   "cell_type": "code",
   "execution_count": 6,
   "metadata": {},
   "outputs": [
    {
     "name": "stdout",
     "output_type": "stream",
     "text": [
      "[[-1.66509552e+03 -4.46498824e+02  2.03958853e+03]\n",
      " [-4.51014117e+03  3.87939293e+03  4.53066296e+03]\n",
      " [-2.67696914e+03  8.32365456e+02  1.07490670e+03]\n",
      " [ 1.15749020e+03  4.73901849e+02  3.50634246e+03]\n",
      " [ 2.14376491e+00 -2.13940867e+00  2.19407792e+00]]\n",
      "[-1665.09551846  -446.49882409  2039.58853337]\n"
     ]
    }
   ],
   "source": [
    "print(populacao[0])\n",
    "print(populacao[0][0])"
   ]
  },
  {
   "cell_type": "code",
   "execution_count": 7,
   "metadata": {},
   "outputs": [],
   "source": [
    "def mutacao_vhomo(filho, xmax, xmin, ymax, ymin, zlim, z_min, inclmax, inclmin, declmax, declmin, magmax, magmin, n, homogeneo):\n",
    "\n",
    "    prob_mut = 0.5\n",
    "    n_dip = len(filho[0]) - 1\n",
    "    n_param = 6\n",
    "    for index, rand_mut in enumerate(filho): #Index = qual será o indivíduo que será mutado.\n",
    "        rand_mut = random.random()\n",
    "        if prob_mut > rand_mut:\n",
    "            print('mudou!!')\n",
    "            dip_select = random.sample(range(0,(len(populacao[0]) - 2)), k=(int(n_dip/2))) #Seleção qual dipolo será mutado.\n",
    "            param_select = random.sample(range(0, (len(populacao[0][0]) + 3)), k=(int(n_param/2))) #Selecão qual parâmetro será mutado.\n",
    "            for round in dipol_select:\n",
    "                for param in param_select:\n",
    "                    if param <= 2:\n",
    "                        coodX, coodY, coodZ = sample_random.sample_random_coordinated(xmax, xmin, ymax, ymin, zlim, z_min, n)\n",
    "                    if param == 0:\n",
    "                        filho[index][round][param] = coodX[0]\n",
    "                    elif param == 1:\n",
    "                        filho[index][round][param] = coodY[0]\n",
    "                    elif param == 2:\n",
    "                        filho[index][round][param] = coodZ[0]\n",
    "                    else:\n",
    "                        incl, decl, mag = sample_random.sample_random_mag(inclmax, inclmin, declmax, declmin, magmax, magmin, n, homogeneo)\n",
    "                    if param == 3:\n",
    "                        filho[index][len(filho[0])-1][0] = incl[0]\n",
    "                    elif param == 4:\n",
    "                        filho[index][len(filho[0])-1][1] = decl[0]\n",
    "                    elif param == 5:\n",
    "                        filho[index][len(filho[0])-1][2] = mag[0]\n",
    "\n",
    "    return filho"
   ]
  },
  {
   "cell_type": "code",
   "execution_count": 8,
   "metadata": {},
   "outputs": [
    {
     "name": "stdout",
     "output_type": "stream",
     "text": [
      "4\n",
      "[2, 1]\n",
      "[3, 1, 4]\n"
     ]
    }
   ],
   "source": [
    "n_dip = 4\n",
    "bb = len(populacao[0]) - 1\n",
    "print(bb)\n",
    "n_param = 6\n",
    "dipol_select = random.sample(range(0,(len(populacao[0]) - 2)), k=(int(n_dip/2)))\n",
    "param_select = random.sample(range(0, (len(populacao[0][0]) + 3)), k=(int(n_param/2)))\n",
    "print(dipol_select)\n",
    "print(param_select)"
   ]
  },
  {
   "cell_type": "code",
   "execution_count": null,
   "metadata": {},
   "outputs": [],
   "source": [
    "mut_ = mutacao_vhomo"
   ]
  },
  {
   "cell_type": "code",
   "execution_count": null,
   "metadata": {},
   "outputs": [],
   "source": []
  },
  {
   "cell_type": "code",
   "execution_count": null,
   "metadata": {},
   "outputs": [],
   "source": []
  }
 ],
 "metadata": {
  "kernelspec": {
   "display_name": "Python 3",
   "language": "python",
   "name": "python3"
  },
  "language_info": {
   "codemirror_mode": {
    "name": "ipython",
    "version": 3
   },
   "file_extension": ".py",
   "mimetype": "text/x-python",
   "name": "python",
   "nbconvert_exporter": "python",
   "pygments_lexer": "ipython3",
   "version": "3.6.5"
  }
 },
 "nbformat": 4,
 "nbformat_minor": 4
}
