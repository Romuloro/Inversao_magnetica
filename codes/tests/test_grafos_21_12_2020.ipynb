{
 "cells": [
  {
   "cell_type": "code",
   "execution_count": 1,
   "metadata": {},
   "outputs": [],
   "source": [
    "import numpy as np\n",
    "import random\n",
    "import pandas as pd\n",
    "import sys\n",
    "import networkx as nx\n",
    "import matplotlib.pyplot as plt\n",
    "import math as mt\n",
    "from mpl_toolkits.mplot3d import Axes3D\n",
    "from mpl_toolkits.mplot3d.art3d import Poly3DCollection, Line3DCollection\n",
    "a = sys.path.append('../modules/')  # endereco das funcoes implementadas por voce!\n",
    "import sphere, sample_random, aux_operators_array, Operators_array, plot_3D"
   ]
  },
  {
   "cell_type": "code",
   "execution_count": 2,
   "metadata": {},
   "outputs": [],
   "source": [
    "population = {'xmax': 10.0,\n",
    "                'xmin': 0.0,\n",
    "                'ymax': 10.0,\n",
    "                'ymin': 0.0,\n",
    "                'zlim': 10.0,\n",
    "                'z_min': 0.0,\n",
    "                'n_dip': 1,\n",
    "                'n_pop': 10,\n",
    "                'homogeneo': True\n",
    "                }"
   ]
  },
  {
   "cell_type": "code",
   "execution_count": 3,
   "metadata": {},
   "outputs": [],
   "source": [
    "def sample_random_coordinated(xmax, xmin, ymax, ymin, zlim, z_min, n):\n",
    "    sorted_x1, sorted_y1,sorted_z1 = (np.random.uniform(xmin, xmax, n),\n",
    "                                      np.random.uniform(ymin, ymax, n),\n",
    "                                      np.random.uniform(z_min, zlim, n))\n",
    "    \n",
    "    return sorted_x1, sorted_y1, sorted_z1\n"
   ]
  },
  {
   "cell_type": "code",
   "execution_count": 4,
   "metadata": {},
   "outputs": [],
   "source": [
    "def create_population(xmax, xmin, ymax, ymin, zlim, z_min, n_dip, n_pop, homogeneo):\n",
    "    \"\"\"\n",
    "    Função com o objetivo de criar uma população com n indivíduos randômicos, que estaram de acordo com os parâmetros\n",
    "    escolhidos.\n",
    "\n",
    "    :param xmax: O valor máximo da coordenada X.\n",
    "    :param ymax: O valor máximo da coordenada Y.\n",
    "    :param zlim: O valor máximo da coordenada Z.\n",
    "    :param xmin: O valor minímo da coordenada X.\n",
    "    :param ymin: O valor minímo da coordenada Y.\n",
    "    :param z_min: O valor minímo da coordenada Z.\n",
    "    :param n_pop: O número de indivíduos desejados na população.\n",
    "    :param n_dip: O número de dipolos desejados para cada indivíduo.\n",
    "    :param inclmax: Valor máximo da inclianção magnética.\n",
    "    :param inclmin: Valor mínimo da inclianção magnética.\n",
    "    :param declmax: Valor máximo da inclianção magnética.\n",
    "    :param declmin: Valor mínimo da declianção magnética.\n",
    "    :param magmax: Valor máximo da magnetização.\n",
    "    :param magmin: Valor mínimo da magnetização.\n",
    "    :param homogeneo: True para valores de inclinação, declinação e magnetização iguais para as n dipolos.\n",
    "                      False é a opção default, onde os valores de inclinação, declinação e magnetização é criada de\n",
    "                      forma randômica.\n",
    "\n",
    "    :return pop: Lista com n indivíduos/dipolos criados de forma randômica.\n",
    "    \"\"\"\n",
    "    if n_pop >= 1:\n",
    "        pop = []\n",
    "        n_par = 3\n",
    "        for j in range(n_pop):\n",
    "            cood = np.zeros((n_dip, n_par))\n",
    "            coodX, coodY, coodZ = sample_random_coordinated(xmax, xmin, ymax, ymin, zlim, z_min, n_dip)\n",
    "            #print(type(coodX))\n",
    "            #incl, decl, mag = sample_random.sample_random_mag(inclmax, inclmin, declmax, declmin, magmax, magmin, 1, homogeneo)\n",
    "            for i in range(n_dip):\n",
    "                cood[i][0], cood[i][1], cood[i][2] = coodX[i], coodY[i], coodZ[i]\n",
    "            #cood[n_dip][0], cood[n_dip][1], cood[n_dip][2] = incl[0], decl[0], mag[0]\n",
    "            pop += [cood]\n",
    "        return pop\n",
    "    else:\n",
    "        return print('Por favor. Coloque o número de indivíduos maior ou igual a 1')"
   ]
  },
  {
   "cell_type": "code",
   "execution_count": 5,
   "metadata": {},
   "outputs": [],
   "source": [
    "#Anexando os nodes e os edges ao grafo\n",
    "def create_graph_dipolo(pop_inicial):\n",
    "    x = pop_inicial[0:len(pop_inicial)-1,0]\n",
    "    y = pop_inicial[0:len(pop_inicial)-1,1]\n",
    "    z = pop_inicial[0:len(pop_inicial)-1,2]\n",
    "    x = np.array(x)\n",
    "    y = np.array(y)\n",
    "    z = np.array(z)\n",
    "\n",
    "    grafos = nx.Graph()\n",
    "    for i in range(len(x)):\n",
    "        grafos.add_node(i ,pos=(x[i],y[i],z[i]))\n",
    "        for j in range(len(x)):\n",
    "            grafos.add_edge(i, j, weight=dist_euclidiana(x,y,z)[i][j])\n",
    "\n",
    "    #Cálculo do MST\n",
    "    TSG = nx.minimum_spanning_tree( grafos , algorithm='kruskal' )\n",
    "    return TSG"
   ]
  },
  {
   "cell_type": "code",
   "execution_count": 6,
   "metadata": {},
   "outputs": [],
   "source": [
    "def dist_euclidiana(x_coord,y_coord, z_coord):\n",
    "    '''\n",
    "    This function takes two vectors, x_coord and y_coord, and returns a matrix were the element in the ij position is the distance (considering the euclidian norm, ou l2 norm) betwen the point (x_coord[i],y_coord[i]) and (x_coord[j],y_coord[j]).\n",
    "    \n",
    "    Inputs:\n",
    "    x_coord - numpy array \n",
    "    y_coord - numpy array\n",
    "    \n",
    "    Output:\n",
    "    dl1 - numpy array - Matrix of distances\n",
    "    '''\n",
    "    \n",
    "    #Stablishing the error condition\n",
    "    tamx = np.shape(x_coord)[0]           \n",
    "    tamy = np.shape(y_coord)[0]\n",
    "    tamz = np.shape(z_coord)[0]\n",
    "    if tamx != tamy or tamy != tamz or tamx != tamz:\n",
    "        raise ValueError(\"All inputs must have same length!\")\n",
    "        \n",
    "    #Calculating and savingn the distances\n",
    "    #tam = ( math.factorial(tamx) )/( 2*(math.factorial(tamx-2)) ) #2 choises over 'tamx'(or 'tamy') posibilities\n",
    "    distl2_matrix = np.zeros((tamx,tamy))\n",
    "                                    \n",
    "    for i in range(tamx):\n",
    "        for j in range(tamx):\n",
    "            distl2_matrix[i][j] = ( (x_coord[i] - x_coord[j])**2 + (y_coord[i] - y_coord[j])**2 + (z_coord[i] - z_coord[j])**2 )**(1/2)                                     \n",
    "            \n",
    "    return distl2_matrix"
   ]
  },
  {
   "cell_type": "code",
   "execution_count": 7,
   "metadata": {},
   "outputs": [],
   "source": [
    "def theta_var(MST):\n",
    "    dm1 = []\n",
    "    for (u, v, wt) in MST.edges.data('weight'):\n",
    "        dm1.append(wt) \n",
    "    dm3 = np.array(dm1)\n",
    "    dmt_m = np.mean(dm3)\n",
    "    phi = 0.0\n",
    "    for i in range( len(dm1) ):\n",
    "        phi += (dm1[i] - dmt_m)**2\n",
    "    \n",
    "    return phi"
   ]
  },
  {
   "cell_type": "code",
   "execution_count": 8,
   "metadata": {},
   "outputs": [],
   "source": [
    "def theta_value(pop_inicial):\n",
    "    theta = []\n",
    "    MST = []\n",
    "    for i in range(len(pop_inicial)):\n",
    "        dipolo=pop_inicial[i]\n",
    "        MST.append(create_graph_dipolo(dipolo))\n",
    "        theta.append(theta_var(MST[i]))\n",
    "        dipolo = 0.0\n",
    "    \n",
    "    return theta, MST"
   ]
  },
  {
   "cell_type": "code",
   "execution_count": 9,
   "metadata": {},
   "outputs": [],
   "source": [
    "#Anexando os nodes e os edges ao grafo\n",
    "def create_graph(pop_inicial, pesos):\n",
    "    x , y, z = [], [], []\n",
    "    for k in range(len(pop_inicial)):\n",
    "        x_ = pop_inicial[k,0]\n",
    "        y_ = pop_inicial[k,1]\n",
    "        z_ = pop_inicial[k,2]\n",
    "        x += [x_]\n",
    "        y += [y_]\n",
    "        z += [z_]\n",
    "    \n",
    "    x = np.array(x)\n",
    "    y = np.array(y)\n",
    "    z = np.array(z)\n",
    "\n",
    "    grafos = nx.Graph()\n",
    "    for i in range(len(x)):\n",
    "        grafos.add_node(i ,pos=(x[i],y[i],z[i]))\n",
    "        for j in range(len(x)):\n",
    "            grafos.add_edge(i, j, weight=pesos[i][j])\n",
    "\n",
    "    #Cálculo do MST\n",
    "    TSG = nx.minimum_spanning_tree( grafos , algorithm='kruskal' )\n",
    "    return grafos, TSG"
   ]
  },
  {
   "cell_type": "code",
   "execution_count": 10,
   "metadata": {},
   "outputs": [],
   "source": [
    "# coordenadas dos vertices (corners) do prisma, em metros:\n",
    "x1,x2  = (0.0, 1.0) \n",
    "y1,y2  = (0.0, 1.0)\n",
    "z1,z2  = (0.0, 1.0)   # z eh positivo para baixo!"
   ]
  },
  {
   "cell_type": "code",
   "execution_count": 11,
   "metadata": {},
   "outputs": [
    {
     "data": {
      "image/png": "[encoded data removed]",
      "text/plain": [
       "<Figure size 720x720 with 1 Axes>"
      ]
     },
     "metadata": {
      "needs_background": "light"
     },
     "output_type": "display_data"
    }
   ],
   "source": [
    "# Plot the main 3D source\n",
    "figure = plt.figure(figsize=(10,10))\n",
    "\n",
    "ax = figure.gca(projection = '3d')\n",
    "#ax.set_title('Vertical dike model', size = 18)\n",
    "\n",
    "#x1, x2, y1, y2, z1, z2 = fonte_crustal_mag[:6]\n",
    "v = np.array([[x1, y1, z2], [x1, y2, z2], [x2, y2, z2], [x2, y1, z2], \n",
    "                 [x1, y1, z1], [x1, y2, z1], [x2, y2, z1], [x2, y1, z1]])\n",
    "vert =  [[v[0],v[1],v[2],v[3]], \n",
    "         [v[0],v[1],v[5],v[4]], \n",
    "         [v[1],v[2],v[6],v[5]],\n",
    "         [v[2],v[3],v[7],v[6]], \n",
    "         [v[3],v[0],v[4],v[7]], \n",
    "         [v[4],v[5],v[6],v[7]]]\n",
    "\n",
    "fig01 = Poly3DCollection(vert, alpha = 0.75, linewidths = 0.75, edgecolors = 'k')\n",
    "fig01.set_facecolor('chocolate')\n",
    "ax.add_collection3d(fig01)\n",
    "#individuo0 = ax.scatter(coodX1, coodY1, coodZ1, c=incl1, depthshade=True, cmap='jet', s = 200.0)\n",
    "\n",
    "# Define the scale of the projection\n",
    "x_scale = 1.2\n",
    "y_scale = 1.2\n",
    "z_scale = 1.\n",
    "scale=np.diag([x_scale, y_scale, z_scale, 1.0])\n",
    "scale=scale*(1.0/scale.max())\n",
    "scale[3,3] = 1.\n",
    "def short_proj():\n",
    "    return np.dot(Axes3D.get_proj(ax), scale)\n",
    "ax.get_proj = short_proj\n",
    "\n",
    "# Labels\n",
    "ax.set_xlabel('North (m)', size = 25, labelpad = 30)\n",
    "ax.set_ylabel('East (m)', size = 25, labelpad = 30)\n",
    "ax.set_zlabel('Depth (m)', size = 25, labelpad = 30)\n",
    "ax.set_xlim(-2.0, 2.0)\n",
    "ax.set_ylim(-2.0, 2.0)\n",
    "ax.set_zlim(-2.0, 2.0)\n",
    "ax.set_xticks(np.arange(-2.0, 2.0, 4))\n",
    "ax.set_yticks(np.linspace(-2.0, 2.0, 4))\n",
    "ax.set_zticks(np.linspace(-2.0, 2.0, 4))\n",
    "ax.tick_params(labelsize = 20, pad = 10)\n",
    "\n",
    "# Visualization angle\n",
    "ax.view_init(190, 130)\n",
    "\n",
    "plt.tight_layout(True)\n",
    "#plt.savefig('figs/dikemodel-r1.png', dpi = 300, bbox_inches = 'tight', transparent = True)\n",
    "#plt.savefig('figs/dikemodel-r1.pdf', dpi = 300, bbox_inches = 'tight', transparent = True)\n",
    "plt.show()"
   ]
  },
  {
   "cell_type": "code",
   "execution_count": 12,
   "metadata": {},
   "outputs": [
    {
     "name": "stdout",
     "output_type": "stream",
     "text": [
      "8\n",
      "[[0. 0. 1.]\n",
      " [0. 1. 1.]\n",
      " [1. 1. 1.]\n",
      " [1. 0. 1.]\n",
      " [0. 0. 0.]\n",
      " [0. 1. 0.]\n",
      " [1. 1. 0.]\n",
      " [1. 0. 0.]]\n"
     ]
    }
   ],
   "source": [
    "xcood = v[:,0]\n",
    "ycood = v[:,1]\n",
    "zcood = v[:,2]\n",
    "print(len(v))\n",
    "print(v)"
   ]
  },
  {
   "cell_type": "code",
   "execution_count": 13,
   "metadata": {},
   "outputs": [],
   "source": [
    "distancia = dist_euclidiana(xcood,ycood,zcood)"
   ]
  },
  {
   "cell_type": "code",
   "execution_count": 14,
   "metadata": {},
   "outputs": [
    {
     "name": "stdout",
     "output_type": "stream",
     "text": [
      "[[0.         1.         1.41421356 1.         1.         1.41421356\n",
      "  1.73205081 1.41421356]\n",
      " [1.         0.         1.         1.41421356 1.41421356 1.\n",
      "  1.41421356 1.73205081]\n",
      " [1.41421356 1.         0.         1.         1.73205081 1.41421356\n",
      "  1.         1.41421356]\n",
      " [1.         1.41421356 1.         0.         1.41421356 1.73205081\n",
      "  1.41421356 1.        ]\n",
      " [1.         1.41421356 1.73205081 1.41421356 0.         1.\n",
      "  1.41421356 1.        ]\n",
      " [1.41421356 1.         1.41421356 1.73205081 1.         0.\n",
      "  1.         1.41421356]\n",
      " [1.73205081 1.41421356 1.         1.41421356 1.41421356 1.\n",
      "  0.         1.        ]\n",
      " [1.41421356 1.73205081 1.41421356 1.         1.         1.41421356\n",
      "  1.         0.        ]]\n",
      "(8, 8)\n",
      "0.24148300898706182\n"
     ]
    }
   ],
   "source": [
    "print(distancia)\n",
    "print(np.shape(distancia))\n",
    "print(np.var(distancia))"
   ]
  },
  {
   "cell_type": "code",
   "execution_count": 15,
   "metadata": {},
   "outputs": [],
   "source": [
    "grafos, TSG = create_graph(v, distancia)"
   ]
  },
  {
   "cell_type": "code",
   "execution_count": 25,
   "metadata": {},
   "outputs": [
    {
     "name": "stdout",
     "output_type": "stream",
     "text": [
      "0.0\n"
     ]
    }
   ],
   "source": [
    "var_ = theta_var(TSG)\n",
    "print(var_)"
   ]
  },
  {
   "cell_type": "code",
   "execution_count": 16,
   "metadata": {},
   "outputs": [
    {
     "name": "stdout",
     "output_type": "stream",
     "text": [
      "[1.0, 1.0, 1.0, 1.0, 1.0, 1.0, 1.0]\n"
     ]
    }
   ],
   "source": [
    "dm1 = []\n",
    "for (u, v, wt) in TSG.edges.data('weight'):\n",
    "    dm1.append(wt)\n",
    "\n",
    "print(dm1)"
   ]
  },
  {
   "cell_type": "code",
   "execution_count": 17,
   "metadata": {},
   "outputs": [
    {
     "name": "stdout",
     "output_type": "stream",
     "text": [
      "1.5\n",
      "0.0\n",
      "0.0\n"
     ]
    }
   ],
   "source": [
    "#teste\n",
    "t_a = [1.5, 1.5, 1.5, 1.5, 1.5]\n",
    "t_r = np.var(t_a)\n",
    "t_n = t_r/(len(t_a))\n",
    "t_array = np.array(t_a)\n",
    "t_m = np.mean(t_array)\n",
    "#t_m1 = mean(t_a)\n",
    "print(t_m)\n",
    "#print(t_m1)\n",
    "print(t_r)\n",
    "print(t_n)"
   ]
  },
  {
   "cell_type": "code",
   "execution_count": 18,
   "metadata": {},
   "outputs": [
    {
     "name": "stdout",
     "output_type": "stream",
     "text": [
      "0.0\n",
      "7\n"
     ]
    }
   ],
   "source": [
    "dm3 = np.array(dm1)\n",
    "n = len(dm1)\n",
    "variancia = np.var(dm3)/n\n",
    "print(variancia)\n",
    "print(n)"
   ]
  },
  {
   "cell_type": "code",
   "execution_count": 19,
   "metadata": {},
   "outputs": [
    {
     "data": {
      "text/plain": [
       "'node_xyz1 = np.array([pos[v1] for v1 in sorted(TSG)])\\nedge_xyz1 = np.array([(pos[u1], pos[v1]) for u1, v1 in TSG.edges()])\\n# Create the 3D figure\\nfig = plt.figure(figsize=(8, 8))\\nax = fig.add_subplot(111, projection=\"3d\")\\n\\n# Plot the nodes - alpha is scaled by \"depth\" automatically\\nax.scatter(*node_xyz1.T, s=100, ec=\"w\")\\n\\n# Plot the edges\\nfor vizedge1 in edge_xyz1:\\n    #print(vizedge)\\n    ax.plot(*vizedge1.T, color=\"tab:gray\")\\n\\n\\ndef _format_axes(ax):\\n    \"\"\"Visualization options for the 3D axes.\"\"\"\\n    # Turn gridlines off\\n    ax.grid(True)\\n    # Suppress tick labels\\n    for dim in (ax.xaxis, ax.yaxis, ax.zaxis):\\n        dim.set_ticks([])\\n    # Set axes labels\\n    ax.set_xlabel(\"x\")\\n    ax.set_ylabel(\"y\")\\n    ax.set_zlabel(\"z\")\\n    \\n    plt.title(\\'Minimum spanning tree\\', fontsize = 30)\\n\\n    ax.set_xticks(np.linspace(0, 10, 5))\\n    ax.set_yticks(np.linspace(0, 10, 5))\\n    ax.set_zticks(np.linspace(0, 10, 5))\\n    ax.tick_params(labelsize = 20)\\n\\n\\n_format_axes(ax)\\nfig.tight_layout()\\nplt.show()'"
      ]
     },
     "execution_count": 19,
     "metadata": {},
     "output_type": "execute_result"
    }
   ],
   "source": [
    "'''node_xyz1 = np.array([pos[v1] for v1 in sorted(TSG)])\n",
    "edge_xyz1 = np.array([(pos[u1], pos[v1]) for u1, v1 in TSG.edges()])\n",
    "# Create the 3D figure\n",
    "fig = plt.figure(figsize=(8, 8))\n",
    "ax = fig.add_subplot(111, projection=\"3d\")\n",
    "\n",
    "# Plot the nodes - alpha is scaled by \"depth\" automatically\n",
    "ax.scatter(*node_xyz1.T, s=100, ec=\"w\")\n",
    "\n",
    "# Plot the edges\n",
    "for vizedge1 in edge_xyz1:\n",
    "    #print(vizedge)\n",
    "    ax.plot(*vizedge1.T, color=\"tab:gray\")\n",
    "\n",
    "\n",
    "def _format_axes(ax):\n",
    "    \"\"\"Visualization options for the 3D axes.\"\"\"\n",
    "    # Turn gridlines off\n",
    "    ax.grid(True)\n",
    "    # Suppress tick labels\n",
    "    for dim in (ax.xaxis, ax.yaxis, ax.zaxis):\n",
    "        dim.set_ticks([])\n",
    "    # Set axes labels\n",
    "    ax.set_xlabel(\"x\")\n",
    "    ax.set_ylabel(\"y\")\n",
    "    ax.set_zlabel(\"z\")\n",
    "    \n",
    "    plt.title('Minimum spanning tree', fontsize = 30)\n",
    "\n",
    "    ax.set_xticks(np.linspace(0, 10, 5))\n",
    "    ax.set_yticks(np.linspace(0, 10, 5))\n",
    "    ax.set_zticks(np.linspace(0, 10, 5))\n",
    "    ax.tick_params(labelsize = 20)\n",
    "\n",
    "\n",
    "_format_axes(ax)\n",
    "fig.tight_layout()\n",
    "plt.show()'''"
   ]
  },
  {
   "cell_type": "code",
   "execution_count": 20,
   "metadata": {},
   "outputs": [],
   "source": [
    "population1 = {'xmax': 5000.0,\n",
    "                'xmin': -5000.0,\n",
    "                'ymax': 5000.0,\n",
    "                'ymin': -5000.0,\n",
    "                'zlim': 7000.0,\n",
    "                'z_min': 0.0,\n",
    "                'n_dip': 5,\n",
    "                'n_pop': 10,\n",
    "                'inclmax': 5.0,\n",
    "                'inclmin': -5.0,\n",
    "                'declmax': 5.0,\n",
    "                'declmin': -5.0,\n",
    "                'mmax': 2.5,\n",
    "                'mmin': 1.5,\n",
    "                'homogeneo': True\n",
    "                }"
   ]
  },
  {
   "cell_type": "code",
   "execution_count": 21,
   "metadata": {},
   "outputs": [],
   "source": [
    "populacao = Operators_array.create_population(**population1)"
   ]
  },
  {
   "cell_type": "code",
   "execution_count": 22,
   "metadata": {},
   "outputs": [],
   "source": [
    "theta, MST = theta_value(populacao)"
   ]
  },
  {
   "cell_type": "code",
   "execution_count": 30,
   "metadata": {},
   "outputs": [
    {
     "name": "stdout",
     "output_type": "stream",
     "text": [
      "[4476466.013601391, 7722728.997817827, 11510066.786573052, 1921469.4445453766, 24216975.732862577, 12410284.329648977, 4106707.1757495957, 5844033.677330955, 17228064.08481078, 13570281.06870536]\n",
      "10\n",
      "5\n"
     ]
    }
   ],
   "source": [
    "print(theta)\n",
    "print(len(theta))\n",
    "a_ = len(populacao[1])-1\n",
    "print(a_)"
   ]
  },
  {
   "cell_type": "code",
   "execution_count": 24,
   "metadata": {},
   "outputs": [
    {
     "name": "stdout",
     "output_type": "stream",
     "text": [
      "1\n",
      "2\n",
      "5\n",
      "6\n"
     ]
    }
   ],
   "source": [
    "th = [1, 2, 5, 6]\n",
    "for i in th:\n",
    "    print(i)"
   ]
  },
  {
   "cell_type": "code",
   "execution_count": 32,
   "metadata": {},
   "outputs": [
    {
     "name": "stdout",
     "output_type": "stream",
     "text": [
      "1.866365525458497\n"
     ]
    }
   ],
   "source": [
    "c_ = populacao[1]\n",
    "v_ = c_[len(populacao[1])-1,2]\n",
    "print(v_)"
   ]
  },
  {
   "cell_type": "code",
   "execution_count": 29,
   "metadata": {},
   "outputs": [
    {
     "data": {
      "text/plain": [
       "array([[-2.22465504e+03,  1.37507344e+03,  2.40637170e+03],\n",
       "       [ 2.68651967e+03,  2.28492454e+03,  5.22016371e+03],\n",
       "       [-8.42521681e+02,  2.72390073e+03,  5.10227018e+03],\n",
       "       [ 5.71391453e+02,  1.78822942e+03,  1.97143145e+03],\n",
       "       [-1.43761080e+03, -4.89371606e+03,  3.43308011e+03],\n",
       "       [ 2.34982801e+00, -2.28952549e+00,  1.86636553e+00]])"
      ]
     },
     "execution_count": 29,
     "metadata": {},
     "output_type": "execute_result"
    }
   ],
   "source": [
    "populacao[1]"
   ]
  },
  {
   "cell_type": "code",
   "execution_count": 3,
   "metadata": {},
   "outputs": [
    {
     "name": "stdout",
     "output_type": "stream",
     "text": [
      "7.4\n",
      "7.4\n",
      "7.4\n",
      "7.4\n",
      "7.4\n"
     ]
    }
   ],
   "source": [
    "teste_aaa = [1.0, 2.0, 3.5, 0.5, 7.4]\n",
    "for i in range(5):\n",
    "    n_t = len(teste_aaa)\n",
    "    print(teste_aaa[n_t - 1])"
   ]
  },
  {
   "cell_type": "code",
   "execution_count": null,
   "metadata": {},
   "outputs": [],
   "source": []
  }
 ],
 "metadata": {
  "kernelspec": {
   "display_name": "Python 3",
   "language": "python",
   "name": "python3"
  },
  "language_info": {
   "codemirror_mode": {
    "name": "ipython",
    "version": 3
   },
   "file_extension": ".py",
   "mimetype": "text/x-python",
   "name": "python",
   "nbconvert_exporter": "python",
   "pygments_lexer": "ipython3",
   "version": "3.6.5"
  }
 },
 "nbformat": 4,
 "nbformat_minor": 4
}
