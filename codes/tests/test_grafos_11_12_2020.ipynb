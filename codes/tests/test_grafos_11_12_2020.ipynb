{
 "cells": [
  {
   "cell_type": "code",
   "execution_count": 1,
   "metadata": {},
   "outputs": [],
   "source": [
    "import numpy as np\n",
    "import random\n",
    "import pandas as pd\n",
    "import sys\n",
    "import networkx as nx\n",
    "import matplotlib.pyplot as plt\n",
    "import math as mt\n",
    "from mpl_toolkits.mplot3d import Axes3D\n",
    "from mpl_toolkits.mplot3d.art3d import Poly3DCollection, Line3DCollection\n",
    "a = sys.path.append('../modules/')  # endereco das funcoes implementadas por voce!\n",
    "import sphere, sample_random, aux_operators_array, Operators_array, plot_3D"
   ]
  },
  {
   "cell_type": "code",
   "execution_count": 2,
   "metadata": {},
   "outputs": [],
   "source": [
    "population = {'xmax': 10.0,\n",
    "                'xmin': 0.0,\n",
    "                'ymax': 10.0,\n",
    "                'ymin': 0.0,\n",
    "                'zlim': 10.0,\n",
    "                'z_min': 0.0,\n",
    "                'n_dip': 1,\n",
    "                'n_pop': 10,\n",
    "                'homogeneo': True\n",
    "                }"
   ]
  },
  {
   "cell_type": "code",
   "execution_count": 3,
   "metadata": {},
   "outputs": [],
   "source": [
    "def sample_random_coordinated(xmax, xmin, ymax, ymin, zlim, z_min, n):\n",
    "    sorted_x1, sorted_y1,sorted_z1 = (np.random.uniform(xmin, xmax, n),\n",
    "                                      np.random.uniform(ymin, ymax, n),\n",
    "                                      np.random.uniform(z_min, zlim, n))\n",
    "    \n",
    "    return sorted_x1, sorted_y1, sorted_z1\n"
   ]
  },
  {
   "cell_type": "code",
   "execution_count": 4,
   "metadata": {},
   "outputs": [],
   "source": [
    "def create_population(xmax, xmin, ymax, ymin, zlim, z_min, n_dip, n_pop, homogeneo):\n",
    "    \"\"\"\n",
    "    Função com o objetivo de criar uma população com n indivíduos randômicos, que estaram de acordo com os parâmetros\n",
    "    escolhidos.\n",
    "\n",
    "    :param xmax: O valor máximo da coordenada X.\n",
    "    :param ymax: O valor máximo da coordenada Y.\n",
    "    :param zlim: O valor máximo da coordenada Z.\n",
    "    :param xmin: O valor minímo da coordenada X.\n",
    "    :param ymin: O valor minímo da coordenada Y.\n",
    "    :param z_min: O valor minímo da coordenada Z.\n",
    "    :param n_pop: O número de indivíduos desejados na população.\n",
    "    :param n_dip: O número de dipolos desejados para cada indivíduo.\n",
    "    :param inclmax: Valor máximo da inclianção magnética.\n",
    "    :param inclmin: Valor mínimo da inclianção magnética.\n",
    "    :param declmax: Valor máximo da inclianção magnética.\n",
    "    :param declmin: Valor mínimo da declianção magnética.\n",
    "    :param magmax: Valor máximo da magnetização.\n",
    "    :param magmin: Valor mínimo da magnetização.\n",
    "    :param homogeneo: True para valores de inclinação, declinação e magnetização iguais para as n dipolos.\n",
    "                      False é a opção default, onde os valores de inclinação, declinação e magnetização é criada de\n",
    "                      forma randômica.\n",
    "\n",
    "    :return pop: Lista com n indivíduos/dipolos criados de forma randômica.\n",
    "    \"\"\"\n",
    "    if n_pop >= 1:\n",
    "        pop = []\n",
    "        n_par = 3\n",
    "        for j in range(n_pop):\n",
    "            cood = np.zeros((n_dip, n_par))\n",
    "            coodX, coodY, coodZ = sample_random_coordinated(xmax, xmin, ymax, ymin, zlim, z_min, n_dip)\n",
    "            #print(type(coodX))\n",
    "            #incl, decl, mag = sample_random.sample_random_mag(inclmax, inclmin, declmax, declmin, magmax, magmin, 1, homogeneo)\n",
    "            for i in range(n_dip):\n",
    "                cood[i][0], cood[i][1], cood[i][2] = coodX[i], coodY[i], coodZ[i]\n",
    "            #cood[n_dip][0], cood[n_dip][1], cood[n_dip][2] = incl[0], decl[0], mag[0]\n",
    "            pop += [cood]\n",
    "        return pop\n",
    "    else:\n",
    "        return print('Por favor. Coloque o número de indivíduos maior ou igual a 1')"
   ]
  },
  {
   "cell_type": "code",
   "execution_count": 5,
   "metadata": {},
   "outputs": [],
   "source": [
    "pop_inicial = create_population(**population)"
   ]
  },
  {
   "cell_type": "code",
   "execution_count": 6,
   "metadata": {},
   "outputs": [
    {
     "name": "stdout",
     "output_type": "stream",
     "text": [
      "[array([[6.38172363, 5.14947122, 7.87555518]]), array([[4.78489095, 7.26336674, 3.34169587]]), array([[8.58016944, 6.1596408 , 0.0887223 ]]), array([[9.93902776, 0.52342249, 7.24564862]]), array([[2.96479325, 5.40898807, 0.0285456 ]]), array([[7.10936691, 8.60075403, 3.6115268 ]]), array([[2.50480788, 2.29821917, 9.28029929]]), array([[7.28829528, 1.17705972, 8.21456143]]), array([[5.23198495, 7.2612895 , 2.80503471]]), array([[0.63211256, 6.44762396, 3.17027675]])]\n"
     ]
    }
   ],
   "source": [
    "print(pop_inicial)"
   ]
  },
  {
   "cell_type": "markdown",
   "metadata": {},
   "source": [
    "## Uso dos grafos:\n",
    "\n",
    "## To do: implementar a função de equidistância:\n",
    "## calcular a média dos pessos do MST\n",
    "## calcular a variancia dos pesos do MST\n",
    "## $\\theta = \\sum_{i=1}^{M-1} [ d_{MST} - \\overline{d}_{MST}]^2$"
   ]
  },
  {
   "cell_type": "code",
   "execution_count": 7,
   "metadata": {},
   "outputs": [
    {
     "name": "stdout",
     "output_type": "stream",
     "text": [
      "[29.17767677 20.72931261 16.91442428 39.50213984 35.43625981 31.68439473\n",
      " 32.06615699 41.98111738 47.7411911  45.3950058  41.70720028 33.90094361\n",
      " 23.59807316 19.84639085 14.87038721 49.47260265 29.00921069 24.92230699\n",
      " 12.94591608 42.45934948 11.86546022 24.59882874 35.29959245 22.40720733\n",
      " 42.74418066 26.72022087 21.88324271 30.78145305 48.90606269 33.56557759\n",
      " 24.79980002 40.09788532 17.56630407 19.09334866 18.07665416 14.40065551\n",
      " 12.83451005 42.47453533 47.67849432 34.20501219 26.81663942 28.71115604\n",
      " 47.30874225 13.6762541  46.69914641 10.457899   44.28366284 10.28420354\n",
      " 20.68664864 34.01273132 38.02641475 46.6393195  40.67383944 15.24930873\n",
      " 36.80668451]\n",
      "55\n"
     ]
    }
   ],
   "source": [
    "#Vetor de pesos:\n",
    "pp = np.linspace(1, len(pop_inicial), len(pop_inicial))\n",
    "ppm = int(sum(pp))\n",
    "pesos = np.random.uniform(10.0, 50.0, ppm)\n",
    "print(pesos)\n",
    "print(len(pesos))"
   ]
  },
  {
   "cell_type": "code",
   "execution_count": 11,
   "metadata": {},
   "outputs": [],
   "source": [
    "#Anexando os nodes e os edges ao grafo\n",
    "def create_graph(pop_inicial, pesos):\n",
    "    x , y, z = [], [], []\n",
    "    for k in range(len(pop_inicial)):\n",
    "        x_ = pop_inicial[k][0,0]\n",
    "        y_ = pop_inicial[k][0,1]\n",
    "        z_ = pop_inicial[k][0,2]\n",
    "    \n",
    "        x += [x_]\n",
    "        y += [y_]\n",
    "        z += [z_]\n",
    "    x = np.array(x)\n",
    "    print(x)\n",
    "    y = np.array(y)\n",
    "    z = np.array(z)\n",
    "\n",
    "    grafos = nx.Graph()\n",
    "    for i in range(len(x)):\n",
    "        grafos.add_node(i ,pos=(x[i],y[i],z[i]))\n",
    "        for j in range(len(x)):\n",
    "            grafos.add_edge(i, j, weight=pesos[i])\n",
    "\n",
    "    #Cálculo do MST\n",
    "    TSG = nx.minimum_spanning_tree( grafos , algorithm='kruskal' )\n",
    "    return grafos, TSG"
   ]
  },
  {
   "cell_type": "code",
   "execution_count": 12,
   "metadata": {},
   "outputs": [],
   "source": [
    "def dist(x_coord,y_coord, z_coord):\n",
    "    '''\n",
    "    This function takes two vectors, x_coord and y_coord, and returns a matrix were the element in the ij position is the distance (considering the euclidian norm, ou l2 norm) betwen the point (x_coord[i],y_coord[i]) and (x_coord[j],y_coord[j]).\n",
    "    \n",
    "    Inputs:\n",
    "    x_coord - numpy array \n",
    "    y_coord - numpy array\n",
    "    \n",
    "    Output:\n",
    "    dl1 - numpy array - Matrix of distances\n",
    "    '''\n",
    "    \n",
    "    #Stablishing the error condition\n",
    "    tamx = np.shape(x_coord)[0]           \n",
    "    tamy = np.shape(y_coord)[0]\n",
    "    tamz = np.shape(z_coord)[0]\n",
    "    if tamx != tamy or tamy != tamz or tamx != tamz:\n",
    "        raise ValueError(\"All inputs must have same length!\")\n",
    "        \n",
    "    #Calculating and savingn the distances\n",
    "    #tam = ( math.factorial(tamx) )/( 2*(math.factorial(tamx-2)) ) #2 choises over 'tamx'(or 'tamy') posibilities\n",
    "    distl2_matrix = np.zeros((tamx,tamy))\n",
    "                                    \n",
    "    for i in range(tamx):\n",
    "        for j in range(tamx):\n",
    "            distl2_matrix[i][j] = ( (x_coord[i] - x_coord[j])**2 + (y_coord[i] - y_coord[j])**2 + (z_coord[i] - z_coord[j])**2 )**(1/2)                                     \n",
    "            \n",
    "    return distl2_matrix"
   ]
  },
  {
   "cell_type": "code",
   "execution_count": 13,
   "metadata": {},
   "outputs": [
    {
     "name": "stdout",
     "output_type": "stream",
     "text": [
      "[6.38172363 4.78489095 8.58016944 9.93902776 2.96479325 7.10936691\n",
      " 2.50480788 7.28829528 5.23198495 0.63211256]\n"
     ]
    }
   ],
   "source": [
    "grafos, TSG = create_graph(pop_inicial, pesos)"
   ]
  },
  {
   "cell_type": "code",
   "execution_count": 11,
   "metadata": {},
   "outputs": [
    {
     "name": "stdout",
     "output_type": "stream",
     "text": [
      "[(0, 9), (1, 9), (2, 9), (3, 9), (4, 9), (5, 9), (6, 9), (7, 9), (8, 9)]\n",
      "[(0, 9, 11.314096975852515), (1, 9, 11.314096975852515), (2, 9, 11.314096975852515), (3, 9, 11.314096975852515), (4, 9, 11.314096975852515), (5, 9, 11.314096975852515), (6, 9, 11.314096975852515), (7, 9, 11.314096975852515), (8, 9, 11.314096975852515)]\n"
     ]
    }
   ],
   "source": [
    "ed_tsg = nx.edges(TSG)\n",
    "print(ed_tsg)\n",
    "wt_tsg = TSG.edges.data('weight')\n",
    "print(wt_tsg)"
   ]
  },
  {
   "cell_type": "code",
   "execution_count": 12,
   "metadata": {},
   "outputs": [
    {
     "name": "stdout",
     "output_type": "stream",
     "text": [
      "[(0, 0), (0, 1), (0, 2), (0, 3), (0, 4), (0, 5), (0, 6), (0, 7), (0, 8), (0, 9), (1, 1), (1, 2), (1, 3), (1, 4), (1, 5), (1, 6), (1, 7), (1, 8), (1, 9), (2, 2), (2, 3), (2, 4), (2, 5), (2, 6), (2, 7), (2, 8), (2, 9), (3, 3), (3, 4), (3, 5), (3, 6), (3, 7), (3, 8), (3, 9), (4, 4), (4, 5), (4, 6), (4, 7), (4, 8), (4, 9), (5, 5), (5, 6), (5, 7), (5, 8), (5, 9), (6, 6), (6, 7), (6, 8), (6, 9), (7, 7), (7, 8), (7, 9), (8, 8), (8, 9), (9, 9)]\n",
      "55\n"
     ]
    }
   ],
   "source": [
    "ed=nx.edges(grafos)\n",
    "print(ed)\n",
    "print(len(ed))"
   ]
  },
  {
   "cell_type": "code",
   "execution_count": 13,
   "metadata": {},
   "outputs": [],
   "source": [
    "#Posições dos grafos\n",
    "#pos = {}\n",
    "#for i in range(len(pop_inicial)):\n",
    "    #pos[i] = pop_inicial[i][0]\n",
    "#print(pos)"
   ]
  },
  {
   "cell_type": "code",
   "execution_count": 14,
   "metadata": {},
   "outputs": [
    {
     "name": "stdout",
     "output_type": "stream",
     "text": [
      "[11.314096975852515, 11.314096975852515, 11.314096975852515, 11.314096975852515, 11.314096975852515, 11.314096975852515, 11.314096975852515, 11.314096975852515, 11.314096975852515]\n"
     ]
    }
   ],
   "source": [
    "dm1 = []\n",
    "for (u, v, wt) in TSG.edges.data('weight'):\n",
    "    dm1.append(wt)\n",
    "\n",
    "print(dm1)"
   ]
  },
  {
   "cell_type": "code",
   "execution_count": 15,
   "metadata": {},
   "outputs": [
    {
     "ename": "NameError",
     "evalue": "name 'pos' is not defined",
     "output_type": "error",
     "traceback": [
      "\u001b[1;31m---------------------------------------------------------------------------\u001b[0m",
      "\u001b[1;31mNameError\u001b[0m                                 Traceback (most recent call last)",
      "\u001b[1;32m<ipython-input-15-77d0a6ac8833>\u001b[0m in \u001b[0;36m<module>\u001b[1;34m\u001b[0m\n\u001b[1;32m----> 1\u001b[1;33m \u001b[0mnode_xyz\u001b[0m \u001b[1;33m=\u001b[0m \u001b[0mnp\u001b[0m\u001b[1;33m.\u001b[0m\u001b[0marray\u001b[0m\u001b[1;33m(\u001b[0m\u001b[1;33m[\u001b[0m\u001b[0mpos\u001b[0m\u001b[1;33m[\u001b[0m\u001b[0mv\u001b[0m\u001b[1;33m]\u001b[0m \u001b[1;32mfor\u001b[0m \u001b[0mv\u001b[0m \u001b[1;32min\u001b[0m \u001b[0msorted\u001b[0m\u001b[1;33m(\u001b[0m\u001b[0mgrafos\u001b[0m\u001b[1;33m)\u001b[0m\u001b[1;33m]\u001b[0m\u001b[1;33m)\u001b[0m\u001b[1;33m\u001b[0m\u001b[0m\n\u001b[0m\u001b[0;32m      2\u001b[0m \u001b[0medge_xyz\u001b[0m \u001b[1;33m=\u001b[0m \u001b[0mnp\u001b[0m\u001b[1;33m.\u001b[0m\u001b[0marray\u001b[0m\u001b[1;33m(\u001b[0m\u001b[1;33m[\u001b[0m\u001b[1;33m(\u001b[0m\u001b[0mpos\u001b[0m\u001b[1;33m[\u001b[0m\u001b[0mu\u001b[0m\u001b[1;33m]\u001b[0m\u001b[1;33m,\u001b[0m \u001b[0mpos\u001b[0m\u001b[1;33m[\u001b[0m\u001b[0mv\u001b[0m\u001b[1;33m]\u001b[0m\u001b[1;33m)\u001b[0m \u001b[1;32mfor\u001b[0m \u001b[0mu\u001b[0m\u001b[1;33m,\u001b[0m \u001b[0mv\u001b[0m \u001b[1;32min\u001b[0m \u001b[0mgrafos\u001b[0m\u001b[1;33m.\u001b[0m\u001b[0medges\u001b[0m\u001b[1;33m(\u001b[0m\u001b[1;33m)\u001b[0m\u001b[1;33m]\u001b[0m\u001b[1;33m)\u001b[0m\u001b[1;33m\u001b[0m\u001b[0m\n\u001b[0;32m      3\u001b[0m \u001b[1;31m# Create the 3D figure\u001b[0m\u001b[1;33m\u001b[0m\u001b[1;33m\u001b[0m\u001b[0m\n\u001b[0;32m      4\u001b[0m \u001b[0mfig\u001b[0m \u001b[1;33m=\u001b[0m \u001b[0mplt\u001b[0m\u001b[1;33m.\u001b[0m\u001b[0mfigure\u001b[0m\u001b[1;33m(\u001b[0m\u001b[0mfigsize\u001b[0m\u001b[1;33m=\u001b[0m\u001b[1;33m(\u001b[0m\u001b[1;36m8\u001b[0m\u001b[1;33m,\u001b[0m \u001b[1;36m8\u001b[0m\u001b[1;33m)\u001b[0m\u001b[1;33m)\u001b[0m\u001b[1;33m\u001b[0m\u001b[0m\n\u001b[0;32m      5\u001b[0m \u001b[0max\u001b[0m \u001b[1;33m=\u001b[0m \u001b[0mfig\u001b[0m\u001b[1;33m.\u001b[0m\u001b[0madd_subplot\u001b[0m\u001b[1;33m(\u001b[0m\u001b[1;36m111\u001b[0m\u001b[1;33m,\u001b[0m \u001b[0mprojection\u001b[0m\u001b[1;33m=\u001b[0m\u001b[1;34m\"3d\"\u001b[0m\u001b[1;33m)\u001b[0m\u001b[1;33m\u001b[0m\u001b[0m\n",
      "\u001b[1;32m<ipython-input-15-77d0a6ac8833>\u001b[0m in \u001b[0;36m<listcomp>\u001b[1;34m(.0)\u001b[0m\n\u001b[1;32m----> 1\u001b[1;33m \u001b[0mnode_xyz\u001b[0m \u001b[1;33m=\u001b[0m \u001b[0mnp\u001b[0m\u001b[1;33m.\u001b[0m\u001b[0marray\u001b[0m\u001b[1;33m(\u001b[0m\u001b[1;33m[\u001b[0m\u001b[0mpos\u001b[0m\u001b[1;33m[\u001b[0m\u001b[0mv\u001b[0m\u001b[1;33m]\u001b[0m \u001b[1;32mfor\u001b[0m \u001b[0mv\u001b[0m \u001b[1;32min\u001b[0m \u001b[0msorted\u001b[0m\u001b[1;33m(\u001b[0m\u001b[0mgrafos\u001b[0m\u001b[1;33m)\u001b[0m\u001b[1;33m]\u001b[0m\u001b[1;33m)\u001b[0m\u001b[1;33m\u001b[0m\u001b[0m\n\u001b[0m\u001b[0;32m      2\u001b[0m \u001b[0medge_xyz\u001b[0m \u001b[1;33m=\u001b[0m \u001b[0mnp\u001b[0m\u001b[1;33m.\u001b[0m\u001b[0marray\u001b[0m\u001b[1;33m(\u001b[0m\u001b[1;33m[\u001b[0m\u001b[1;33m(\u001b[0m\u001b[0mpos\u001b[0m\u001b[1;33m[\u001b[0m\u001b[0mu\u001b[0m\u001b[1;33m]\u001b[0m\u001b[1;33m,\u001b[0m \u001b[0mpos\u001b[0m\u001b[1;33m[\u001b[0m\u001b[0mv\u001b[0m\u001b[1;33m]\u001b[0m\u001b[1;33m)\u001b[0m \u001b[1;32mfor\u001b[0m \u001b[0mu\u001b[0m\u001b[1;33m,\u001b[0m \u001b[0mv\u001b[0m \u001b[1;32min\u001b[0m \u001b[0mgrafos\u001b[0m\u001b[1;33m.\u001b[0m\u001b[0medges\u001b[0m\u001b[1;33m(\u001b[0m\u001b[1;33m)\u001b[0m\u001b[1;33m]\u001b[0m\u001b[1;33m)\u001b[0m\u001b[1;33m\u001b[0m\u001b[0m\n\u001b[0;32m      3\u001b[0m \u001b[1;31m# Create the 3D figure\u001b[0m\u001b[1;33m\u001b[0m\u001b[1;33m\u001b[0m\u001b[0m\n\u001b[0;32m      4\u001b[0m \u001b[0mfig\u001b[0m \u001b[1;33m=\u001b[0m \u001b[0mplt\u001b[0m\u001b[1;33m.\u001b[0m\u001b[0mfigure\u001b[0m\u001b[1;33m(\u001b[0m\u001b[0mfigsize\u001b[0m\u001b[1;33m=\u001b[0m\u001b[1;33m(\u001b[0m\u001b[1;36m8\u001b[0m\u001b[1;33m,\u001b[0m \u001b[1;36m8\u001b[0m\u001b[1;33m)\u001b[0m\u001b[1;33m)\u001b[0m\u001b[1;33m\u001b[0m\u001b[0m\n\u001b[0;32m      5\u001b[0m \u001b[0max\u001b[0m \u001b[1;33m=\u001b[0m \u001b[0mfig\u001b[0m\u001b[1;33m.\u001b[0m\u001b[0madd_subplot\u001b[0m\u001b[1;33m(\u001b[0m\u001b[1;36m111\u001b[0m\u001b[1;33m,\u001b[0m \u001b[0mprojection\u001b[0m\u001b[1;33m=\u001b[0m\u001b[1;34m\"3d\"\u001b[0m\u001b[1;33m)\u001b[0m\u001b[1;33m\u001b[0m\u001b[0m\n",
      "\u001b[1;31mNameError\u001b[0m: name 'pos' is not defined"
     ]
    }
   ],
   "source": [
    "node_xyz = np.array([pos[v] for v in sorted(grafos)])\n",
    "edge_xyz = np.array([(pos[u], pos[v]) for u, v in grafos.edges()])\n",
    "# Create the 3D figure\n",
    "fig = plt.figure(figsize=(8, 8))\n",
    "ax = fig.add_subplot(111, projection=\"3d\")\n",
    "\n",
    "# Plot the nodes - alpha is scaled by \"depth\" automatically\n",
    "ax.scatter(*node_xyz.T, s=100, ec=\"w\")\n",
    "\n",
    "# Plot the edges\n",
    "for vizedge in edge_xyz:\n",
    "    #print(vizedge)\n",
    "    ax.plot(*vizedge.T, color=\"tab:gray\")\n",
    "\n",
    "\n",
    "def _format_axes(ax):\n",
    "    \"\"\"Visualization options for the 3D axes.\"\"\"\n",
    "    # Turn gridlines off\n",
    "    ax.grid(True)\n",
    "    # Suppress tick labels\n",
    "    for dim in (ax.xaxis, ax.yaxis, ax.zaxis):\n",
    "        dim.set_ticks([])\n",
    "    # Set axes labels\n",
    "    ax.set_xlabel(\"x\")\n",
    "    ax.set_ylabel(\"y\")\n",
    "    ax.set_zlabel(\"z\")\n",
    "    \n",
    "    plt.title('Normal graph', fontsize = 30)\n",
    "\n",
    "    ax.set_xticks(np.linspace(0, 10, 5))\n",
    "    ax.set_yticks(np.linspace(0, 10, 5))\n",
    "    ax.set_zticks(np.linspace(0, 10, 5))\n",
    "    ax.tick_params(labelsize = 20)\n",
    "\n",
    "\n",
    "_format_axes(ax)\n",
    "fig.tight_layout()\n",
    "plt.show()"
   ]
  },
  {
   "cell_type": "code",
   "execution_count": null,
   "metadata": {},
   "outputs": [],
   "source": [
    "node_xyz1 = np.array([pos[v] for v in sorted(TSG)])\n",
    "edge_xyz1 = np.array([(pos[u], pos[v]) for u, v in TSG.edges()])\n",
    "# Create the 3D figure\n",
    "fig = plt.figure(figsize=(8, 8))\n",
    "ax = fig.add_subplot(111, projection=\"3d\")\n",
    "\n",
    "# Plot the nodes - alpha is scaled by \"depth\" automatically\n",
    "ax.scatter(*node_xyz1.T, s=100, ec=\"w\")\n",
    "\n",
    "# Plot the edges\n",
    "for vizedge1 in edge_xyz1:\n",
    "    #print(vizedge)\n",
    "    ax.plot(*vizedge1.T, color=\"tab:gray\")\n",
    "\n",
    "\n",
    "def _format_axes(ax):\n",
    "    \"\"\"Visualization options for the 3D axes.\"\"\"\n",
    "    # Turn gridlines off\n",
    "    ax.grid(True)\n",
    "    # Suppress tick labels\n",
    "    for dim in (ax.xaxis, ax.yaxis, ax.zaxis):\n",
    "        dim.set_ticks([])\n",
    "    # Set axes labels\n",
    "    ax.set_xlabel(\"x\")\n",
    "    ax.set_ylabel(\"y\")\n",
    "    ax.set_zlabel(\"z\")\n",
    "    \n",
    "    plt.title('Minimum spanning tree', fontsize = 30)\n",
    "\n",
    "    ax.set_xticks(np.linspace(0, 10, 5))\n",
    "    ax.set_yticks(np.linspace(0, 10, 5))\n",
    "    ax.set_zticks(np.linspace(0, 10, 5))\n",
    "    ax.tick_params(labelsize = 20)\n",
    "\n",
    "\n",
    "_format_axes(ax)\n",
    "fig.tight_layout()\n",
    "plt.show()"
   ]
  },
  {
   "cell_type": "markdown",
   "metadata": {},
   "source": [
    "## Manual Graph"
   ]
  },
  {
   "cell_type": "code",
   "execution_count": null,
   "metadata": {},
   "outputs": [],
   "source": [
    "matrix = np.array([[10.0, 8.5, 2.0],\n",
    "          [7.5, 4.2, 9.6],\n",
    "          [4.7, 3.2, 5.6],\n",
    "          [1.7, 7.8, 0.7]])\n",
    "\n",
    "print(matrix)\n",
    "print(len(matrix))\n",
    "print(matrix[0,:])\n",
    "m = matrix[0,:]\n",
    "print(type(m))"
   ]
  },
  {
   "cell_type": "code",
   "execution_count": null,
   "metadata": {},
   "outputs": [],
   "source": [
    "# coordenadas dos vertices (corners) do prisma, em metros:\n",
    "x1,x2  = (0.0, 1.0) \n",
    "y1,y2  = (0.0, 1.0)\n",
    "z1,z2  = (0.0, 1.0)   # z eh positivo para baixo!"
   ]
  },
  {
   "cell_type": "code",
   "execution_count": null,
   "metadata": {},
   "outputs": [],
   "source": [
    "# Plot the main 3D source\n",
    "figure = plt.figure(figsize=(10,10))\n",
    "\n",
    "ax = figure.gca(projection = '3d')\n",
    "#ax.set_title('Vertical dike model', size = 18)\n",
    "\n",
    "#x1, x2, y1, y2, z1, z2 = fonte_crustal_mag[:6]\n",
    "v = np.array([[x1, y1, z2], [x1, y2, z2], [x2, y2, z2], [x2, y1, z2], \n",
    "                 [x1, y1, z1], [x1, y2, z1], [x2, y2, z1], [x2, y1, z1]])\n",
    "vert =  [[v[0],v[1],v[2],v[3]], \n",
    "         [v[0],v[1],v[5],v[4]], \n",
    "         [v[1],v[2],v[6],v[5]],\n",
    "         [v[2],v[3],v[7],v[6]], \n",
    "         [v[3],v[0],v[4],v[7]], \n",
    "         [v[4],v[5],v[6],v[7]]]\n",
    "\n",
    "fig01 = Poly3DCollection(vert, alpha = 0.75, linewidths = 0.75, edgecolors = 'k')\n",
    "fig01.set_facecolor('chocolate')\n",
    "ax.add_collection3d(fig01)\n",
    "#individuo0 = ax.scatter(coodX1, coodY1, coodZ1, c=incl1, depthshade=True, cmap='jet', s = 200.0)\n",
    "\n",
    "# Define the scale of the projection\n",
    "x_scale = 1.2\n",
    "y_scale = 1.2\n",
    "z_scale = 1.\n",
    "scale=np.diag([x_scale, y_scale, z_scale, 1.0])\n",
    "scale=scale*(1.0/scale.max())\n",
    "scale[3,3] = 1.\n",
    "def short_proj():\n",
    "    return np.dot(Axes3D.get_proj(ax), scale)\n",
    "ax.get_proj = short_proj\n",
    "\n",
    "# Labels\n",
    "ax.set_xlabel('North (m)', size = 25, labelpad = 30)\n",
    "ax.set_ylabel('East (m)', size = 25, labelpad = 30)\n",
    "ax.set_zlabel('Depth (m)', size = 25, labelpad = 30)\n",
    "ax.set_xlim(-2.0, 2.0)\n",
    "ax.set_ylim(-2.0, 2.0)\n",
    "ax.set_zlim(-2.0, 2.0)\n",
    "ax.set_xticks(np.arange(-2.0, 2.0, 4))\n",
    "ax.set_yticks(np.linspace(-2.0, 2.0, 4))\n",
    "ax.set_zticks(np.linspace(-2.0, 2.0, 4))\n",
    "ax.tick_params(labelsize = 20, pad = 10)\n",
    "\n",
    "# Visualization angle\n",
    "ax.view_init(190, 130)\n",
    "\n",
    "plt.tight_layout(True)\n",
    "#plt.savefig('figs/dikemodel-r1.png', dpi = 300, bbox_inches = 'tight', transparent = True)\n",
    "#plt.savefig('figs/dikemodel-r1.pdf', dpi = 300, bbox_inches = 'tight', transparent = True)\n",
    "plt.show()"
   ]
  },
  {
   "cell_type": "code",
   "execution_count": null,
   "metadata": {},
   "outputs": [],
   "source": [
    "#n! / (n-2)! (2)!\n",
    "n_pesos = int(mt.factorial(len(v))/(mt.factorial(len(v)-2)*2))\n",
    "print(len(v))\n",
    "print(n_pesos)\n",
    "\n",
    "pesos_igual = np.ones()"
   ]
  },
  {
   "cell_type": "code",
   "execution_count": null,
   "metadata": {},
   "outputs": [],
   "source": [
    "grafos1, TSG1 = create_graph(v, pesos1)"
   ]
  },
  {
   "cell_type": "code",
   "execution_count": null,
   "metadata": {},
   "outputs": [],
   "source": [
    "print(vert)\n",
    "print('*************')\n",
    "vert1 = np.array(vert)\n",
    "print(vert1[0])\n",
    "print(np.shape(vert1))"
   ]
  },
  {
   "cell_type": "code",
   "execution_count": null,
   "metadata": {},
   "outputs": [],
   "source": [
    "def create_pop_manual(matrix):\n",
    "    pop = []\n",
    "    n_dip = 1\n",
    "    n_par = 3\n",
    "    for i in range(len(matrix)):\n",
    "        cood = np.zeros((n_dip, n_par))\n",
    "        cood[0,0], cood[0,1], cood[0,2] = matrix[i,0], matrix[i,1], matrix[i,2]\n",
    "        pop += [cood]\n",
    "    \n",
    "    return pop"
   ]
  },
  {
   "cell_type": "code",
   "execution_count": null,
   "metadata": {},
   "outputs": [],
   "source": [
    "pop_manual = create_pop_manual(matrix)"
   ]
  },
  {
   "cell_type": "code",
   "execution_count": null,
   "metadata": {},
   "outputs": [],
   "source": [
    "print(pop_manual)\n",
    "#print(pop_manual[1][])"
   ]
  },
  {
   "cell_type": "code",
   "execution_count": null,
   "metadata": {},
   "outputs": [],
   "source": [
    "#Vetor de pesos:\n",
    "pp1 = np.linspace(1, len(pop_manual), len(pop_manual))\n",
    "ppm1 = int(sum(pp1))\n",
    "pesos1 = np.random.uniform(10.0, 50.0, ppm1)\n",
    "print(pesos1)\n",
    "print(len(pesos1))"
   ]
  },
  {
   "cell_type": "code",
   "execution_count": null,
   "metadata": {},
   "outputs": [],
   "source": [
    "grafos1, TSG1 = create_graph(pop_manual, pesos1)"
   ]
  },
  {
   "cell_type": "code",
   "execution_count": null,
   "metadata": {},
   "outputs": [],
   "source": [
    "ed_tsg1 = nx.edges(TSG1)\n",
    "print(ed_tsg1)"
   ]
  },
  {
   "cell_type": "code",
   "execution_count": null,
   "metadata": {},
   "outputs": [],
   "source": [
    "node_xyz = np.array([pos[v] for v in sorted(grafos1)])\n",
    "edge_xyz = np.array([(pos[u], pos[v]) for u, v in grafos1.edges()])\n",
    "# Create the 3D figure\n",
    "fig = plt.figure(figsize=(8, 8))\n",
    "ax = fig.add_subplot(111, projection=\"3d\")\n",
    "\n",
    "# Plot the nodes - alpha is scaled by \"depth\" automatically\n",
    "ax.scatter(*node_xyz.T, s=100, ec=\"w\")\n",
    "\n",
    "# Plot the edges\n",
    "for vizedge in edge_xyz:\n",
    "    #print(vizedge)\n",
    "    ax.plot(*vizedge.T, color=\"tab:gray\")\n",
    "\n",
    "\n",
    "def _format_axes(ax):\n",
    "    \"\"\"Visualization options for the 3D axes.\"\"\"\n",
    "    # Turn gridlines off\n",
    "    ax.grid(True)\n",
    "    # Suppress tick labels\n",
    "    for dim in (ax.xaxis, ax.yaxis, ax.zaxis):\n",
    "        dim.set_ticks([])\n",
    "    # Set axes labels\n",
    "    ax.set_xlabel(\"x\")\n",
    "    ax.set_ylabel(\"y\")\n",
    "    ax.set_zlabel(\"z\")\n",
    "    \n",
    "    plt.title('Normal graph', fontsize = 30)\n",
    "\n",
    "    ax.set_xticks(np.linspace(0, 10, 5))\n",
    "    ax.set_yticks(np.linspace(0, 10, 5))\n",
    "    ax.set_zticks(np.linspace(0, 10, 5))\n",
    "    ax.tick_params(labelsize = 20)\n",
    "\n",
    "\n",
    "_format_axes(ax)\n",
    "fig.tight_layout()\n",
    "plt.show()"
   ]
  },
  {
   "cell_type": "code",
   "execution_count": null,
   "metadata": {},
   "outputs": [],
   "source": [
    "node_xyz1 = np.array([pos[v] for v in sorted(TSG1)])\n",
    "edge_xyz1 = np.array([(pos[u], pos[v]) for u, v in TSG1.edges()])\n",
    "# Create the 3D figure\n",
    "fig = plt.figure(figsize=(8, 8))\n",
    "ax = fig.add_subplot(111, projection=\"3d\")\n",
    "\n",
    "# Plot the nodes - alpha is scaled by \"depth\" automatically\n",
    "ax.scatter(*node_xyz1.T, s=100, ec=\"w\")\n",
    "\n",
    "# Plot the edges\n",
    "for vizedge1 in edge_xyz1:\n",
    "    #print(vizedge)\n",
    "    ax.plot(*vizedge1.T, color=\"tab:gray\")\n",
    "\n",
    "\n",
    "def _format_axes(ax):\n",
    "    \"\"\"Visualization options for the 3D axes.\"\"\"\n",
    "    # Turn gridlines off\n",
    "    ax.grid(True)\n",
    "    # Suppress tick labels\n",
    "    for dim in (ax.xaxis, ax.yaxis, ax.zaxis):\n",
    "        dim.set_ticks([])\n",
    "    # Set axes labels\n",
    "    ax.set_xlabel(\"x\")\n",
    "    ax.set_ylabel(\"y\")\n",
    "    ax.set_zlabel(\"z\")\n",
    "    \n",
    "    plt.title('Minimum spanning tree', fontsize = 30)\n",
    "\n",
    "    ax.set_xticks(np.linspace(0, 10, 5))\n",
    "    ax.set_yticks(np.linspace(0, 10, 5))\n",
    "    ax.set_zticks(np.linspace(0, 10, 5))\n",
    "    ax.tick_params(labelsize = 20)\n",
    "\n",
    "\n",
    "_format_axes(ax)\n",
    "fig.tight_layout()\n",
    "plt.show()"
   ]
  },
  {
   "cell_type": "code",
   "execution_count": null,
   "metadata": {},
   "outputs": [],
   "source": []
  }
 ],
 "metadata": {
  "kernelspec": {
   "display_name": "Python 3",
   "language": "python",
   "name": "python3"
  },
  "language_info": {
   "codemirror_mode": {
    "name": "ipython",
    "version": 3
   },
   "file_extension": ".py",
   "mimetype": "text/x-python",
   "name": "python",
   "nbconvert_exporter": "python",
   "pygments_lexer": "ipython3",
   "version": "3.6.5"
  }
 },
 "nbformat": 4,
 "nbformat_minor": 4
}
