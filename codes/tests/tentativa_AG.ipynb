{
 "cells": [
  {
   "cell_type": "code",
   "execution_count": 1,
   "metadata": {},
   "outputs": [],
   "source": [
    "import numpy as np\n",
    "import random\n",
    "import sys\n",
    "import matplotlib.pyplot as plt\n",
    "import pandas as pd\n",
    "a = sys.path.append('../modules/') # endereco das funcoes implementadas por voce!\n",
    "import plot_3D, auxiliars, salve_doc, sphere, sample_random"
   ]
  },
  {
   "cell_type": "markdown",
   "metadata": {},
   "source": [
    "## Criando o modelo"
   ]
  },
  {
   "cell_type": "code",
   "execution_count": 2,
   "metadata": {},
   "outputs": [],
   "source": [
    "cood_bounds = {'xmax': 250.0,\n",
    "                'xmin': 240.0,\n",
    "                'ymax': 100.0,\n",
    "                'ymin': 90.0,\n",
    "                'zlim': 500,\n",
    "                'z_min': 480,\n",
    "                'n': 2}\n",
    "\n",
    "mag_bounds = {'inclmax': -20.0,\n",
    "                'inclmin': -15.0,\n",
    "                'declmax': 20.0,\n",
    "                'declmin': 15.0,\n",
    "                'magmax': 1.0,\n",
    "                'magmin': 0.5,\n",
    "                'n': 2}"
   ]
  },
  {
   "cell_type": "code",
   "execution_count": 3,
   "metadata": {},
   "outputs": [],
   "source": [
    "num_model = 2\n",
    "coodX, coodY, coodZ = sample_random.sample_random_coordinated(**cood_bounds)\n",
    "\n",
    "incl, decl, mag = sample_random.sample_random_mag(**mag_bounds)"
   ]
  },
  {
   "cell_type": "code",
   "execution_count": 4,
   "metadata": {},
   "outputs": [
    {
     "name": "stdout",
     "output_type": "stream",
     "text": [
      "[[246.65, 99.96, 480.88, -19.88, 17.7, 0.57], [249.52, 90.08, 490.89, -19.65, 16.62, 0.86]]\n"
     ]
    }
   ],
   "source": [
    "dipolos_modelo = []\n",
    "for i in range(num_model):\n",
    "    dipolo = [coodX[i], coodY[i], coodZ[i], incl[i], decl[i], mag[i]]\n",
    "    dipolos_modelo.append(dipolo)\n",
    "\n",
    "print(dipolos_modelo)"
   ]
  },
  {
   "cell_type": "markdown",
   "metadata": {},
   "source": [
    "## Criando a população"
   ]
  },
  {
   "cell_type": "code",
   "execution_count": 13,
   "metadata": {},
   "outputs": [],
   "source": [
    "cood_bounds2 = {'xmax': 250.0,\n",
    "                'xmin': 240.0,\n",
    "                'ymax': 100.0,\n",
    "                'ymin': 90.0,\n",
    "                'zlim': 500,\n",
    "                'z_min': 480,\n",
    "                'n': 10}\n",
    "\n",
    "mag_bounds2 = {'inclmax': -20.0,\n",
    "                'inclmin': -15.0,\n",
    "                'declmax': 20.0,\n",
    "                'declmin': 15.0,\n",
    "                'magmax': 1.0,\n",
    "                'magmin': 0.5,\n",
    "                'homogeneo': True,\n",
    "                'n': 10}"
   ]
  },
  {
   "cell_type": "code",
   "execution_count": 14,
   "metadata": {},
   "outputs": [],
   "source": [
    "num_pop = 10\n",
    "coodX2, coodY2, coodZ2 = sample_random.sample_random_coordinated(**cood_bounds2)\n",
    "\n",
    "incl2, decl2, mag2 = sample_random.sample_random_mag(**mag_bounds2)\n",
    "\n",
    "dipolos_pop = []\n",
    "for i in range(num_pop):\n",
    "    dipolo2 = [coodX2[i], coodY2[i], coodZ2[i], incl2[i], decl2[i], mag2[i]]\n",
    "    dipolos_pop.append(dipolo2)"
   ]
  },
  {
   "cell_type": "code",
   "execution_count": 15,
   "metadata": {},
   "outputs": [],
   "source": [
    "def fitness(dipolos_modelo, dipolos_pop):\n",
    "    fitness = 0\n",
    "    for i in range(len(dipolos_pop)):\n",
    "        for j in range(len(dipolos_modelo)):\n",
    "            if(dipolos_pop[i][j] == dipolos_modelo[j]):\n",
    "                fitness += 1\n",
    "    return fitness\n"
   ]
  },
  {
   "cell_type": "code",
   "execution_count": 23,
   "metadata": {},
   "outputs": [
    {
     "name": "stdout",
     "output_type": "stream",
     "text": [
      "18.48\n"
     ]
    }
   ],
   "source": [
    "\"\"\"\n",
    "1) Indivíduo\n",
    "2) Fitness ou população\n",
    "3) Parâmetros\n",
    "\"\"\"\n",
    "scored = [(fitness(dipolos_modelo, dipolos_pop), i) for i in dipolos_pop]\n",
    "#print(scored)\n",
    "print(scored [5][1][4])"
   ]
  },
  {
   "cell_type": "code",
   "execution_count": 9,
   "metadata": {},
   "outputs": [],
   "source": [
    "def normalize(modelo, pop):\n",
    "    soma = 0\n",
    "    for i in range(len(pop)):\n",
    "        soma += fitness(modelo, pop)\n",
    "    if soma == 0:\n",
    "        prob = 0\n",
    "        return prob\n",
    "    else:\n",
    "        for i in range(len(pop)):\n",
    "            prob = float(\"{0:.2f}\".format(fitness(modelo, pop)/soma))\n",
    "    return prob"
   ]
  },
  {
   "cell_type": "code",
   "execution_count": 10,
   "metadata": {},
   "outputs": [],
   "source": [
    "def pega_um(modelo, pop):\n",
    "    index = 0\n",
    "    rate = np.random.uniform(0,1)\n",
    "    prob = normalize(modelo, pop)\n",
    "    if prob == 0.00:\n",
    "        pega = random.randint(0,len(pop))\n",
    "        escolhido = pop[pega]\n",
    "    else:\n",
    "        while (rate > 0):\n",
    "            real_rate = rate - prob[index]\n",
    "            index += 1\n",
    "    escolhido = pop[index]\n",
    "    \n",
    "    return escolhido"
   ]
  },
  {
   "cell_type": "code",
   "execution_count": 11,
   "metadata": {},
   "outputs": [],
   "source": [
    "def croosover(parents, pop):\n",
    "    for i in range(len(pop) - len(parents)):\n",
    "        point = random.randint(1, individual_size - 1)\n",
    "        parent = random.sample(selected, 2)\n",
    "        population[i][:point] = parent[0][:point]\n",
    "        population[i][point:] = parent[1][point:]"
   ]
  },
  {
   "cell_type": "code",
   "execution_count": 12,
   "metadata": {},
   "outputs": [
    {
     "ename": "SyntaxError",
     "evalue": "unexpected EOF while parsing (<ipython-input-12-1925b06646da>, line 4)",
     "output_type": "error",
     "traceback": [
      "\u001b[1;36m  File \u001b[1;32m\"<ipython-input-12-1925b06646da>\"\u001b[1;36m, line \u001b[1;32m4\u001b[0m\n\u001b[1;33m    #print(af)\u001b[0m\n\u001b[1;37m              ^\u001b[0m\n\u001b[1;31mSyntaxError\u001b[0m\u001b[1;31m:\u001b[0m unexpected EOF while parsing\n"
     ]
    }
   ],
   "source": [
    "parenta = [pega_um(dipolos_modelo, dipolos_pop)]\n",
    "parentb = [pega_um(dipolos_modelo, dipolos_pop)]\n",
    "af = random.randint(0,len(dipolos_pop)\n",
    "#print(af)"
   ]
  },
  {
   "cell_type": "code",
   "execution_count": null,
   "metadata": {},
   "outputs": [],
   "source": [
    "print(parenta, parentb)"
   ]
  },
  {
   "cell_type": "code",
   "execution_count": null,
   "metadata": {},
   "outputs": [],
   "source": []
  }
 ],
 "metadata": {
  "kernelspec": {
   "display_name": "Python 3",
   "language": "python",
   "name": "python3"
  },
  "language_info": {
   "codemirror_mode": {
    "name": "ipython",
    "version": 3
   },
   "file_extension": ".py",
   "mimetype": "text/x-python",
   "name": "python",
   "nbconvert_exporter": "python",
   "pygments_lexer": "ipython3",
   "version": "3.6.5"
  }
 },
 "nbformat": 4,
 "nbformat_minor": 4
}
