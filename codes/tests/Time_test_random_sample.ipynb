{
 "cells": [
  {
   "cell_type": "code",
   "execution_count": 1,
   "metadata": {},
   "outputs": [],
   "source": [
    "import numpy as np\n",
    "import random\n",
    "import sys\n",
    "import matplotlib.pyplot as plt\n",
    "from datetime import datetime\n",
    "import pandas as pd\n",
    "from mpl_toolkits.mplot3d import Axes3D\n",
    "from mpl_toolkits.mplot3d.art3d import Poly3DCollection, Line3DCollection\n",
    "from random import sample\n",
    "import timeit"
   ]
  },
  {
   "cell_type": "code",
   "execution_count": 2,
   "metadata": {},
   "outputs": [],
   "source": [
    "data = pd.read_table('data.txt', sep =' ')"
   ]
  },
  {
   "cell_type": "code",
   "execution_count": 3,
   "metadata": {},
   "outputs": [],
   "source": [
    "xmax = data['North(m)'].max()\n",
    "xmin = data['North(m)'].min()\n",
    "ymin = data['East(m)'].min()\n",
    "ymax = data['East(m)'].max()\n",
    "zlim = 1000.0\n",
    "z_min = 500.0\n",
    "n = 1000\n",
    "cood_bounds = {'xmax': xmax,\n",
    "                'xmin': xmin,\n",
    "                'ymax': ymax,\n",
    "                'ymin': ymin,\n",
    "                'zlim': zlim,\n",
    "                'z_min': z_min,\n",
    "                'n': n}"
   ]
  },
  {
   "cell_type": "code",
   "execution_count": 4,
   "metadata": {},
   "outputs": [],
   "source": [
    "def teste1(dicionario):\n",
    "    xmax = dicionario.get('xmax')\n",
    "    xmin = dicionario.get('xmin')\n",
    "    ymax = dicionario.get('ymax')\n",
    "    ymin = dicionario.get('ymin')\n",
    "    zlim = dicionario.get('zlim')\n",
    "    zmin = dicionario.get('z_min')\n",
    "    n = dicionario.get('n')\n",
    "    \n",
    "    resultadox=[]\n",
    "    resultadoy=[]\n",
    "    resultadoz=[]\n",
    "#---------------------------------------------------------------------------------------------------------------------#\n",
    "    for i in range(n):\n",
    "        sorted_x1, sorted_y1,sorted_z1 = (np.random.uniform(xmin, xmax),\n",
    "                                      np.random.uniform(ymin, ymax),\n",
    "                                      np.random.uniform(z_min, zlim))\n",
    "        resultadox.append(sorted_x1)\n",
    "        resultadoy.append(sorted_y1)\n",
    "        resultadoz.append(sorted_z1)  \n",
    "#---------------------------------------------------------------------------------------------------------------------#        \n",
    "    return resultadox, resultadoy, resultadoz\n",
    "\n",
    "#resultx, resulty, resultz = sample_random_coordinated(cood_bounds)"
   ]
  },
  {
   "cell_type": "code",
   "execution_count": 5,
   "metadata": {},
   "outputs": [
    {
     "ename": "NameError",
     "evalue": "name 'sample_random_coordinated' is not defined",
     "output_type": "error",
     "traceback": [
      "\u001b[1;31m---------------------------------------------------------------------------\u001b[0m",
      "\u001b[1;31mNameError\u001b[0m                                 Traceback (most recent call last)",
      "\u001b[1;32m<ipython-input-5-c9c094174453>\u001b[0m in \u001b[0;36m<module>\u001b[1;34m\u001b[0m\n\u001b[0;32m     21\u001b[0m     \u001b[1;32mreturn\u001b[0m \u001b[0mresultadox\u001b[0m\u001b[1;33m,\u001b[0m \u001b[0mresultadoy\u001b[0m\u001b[1;33m,\u001b[0m \u001b[0mresultadoz\u001b[0m\u001b[1;33m\u001b[0m\u001b[0m\n\u001b[0;32m     22\u001b[0m \u001b[1;33m\u001b[0m\u001b[0m\n\u001b[1;32m---> 23\u001b[1;33m \u001b[0mresultx\u001b[0m\u001b[1;33m,\u001b[0m \u001b[0mresulty\u001b[0m\u001b[1;33m,\u001b[0m \u001b[0mresultz\u001b[0m \u001b[1;33m=\u001b[0m \u001b[0msample_random_coordinated\u001b[0m\u001b[1;33m(\u001b[0m\u001b[0mcood_bounds\u001b[0m\u001b[1;33m)\u001b[0m\u001b[1;33m\u001b[0m\u001b[0m\n\u001b[0m",
      "\u001b[1;31mNameError\u001b[0m: name 'sample_random_coordinated' is not defined"
     ]
    }
   ],
   "source": [
    "def teste2(dicionario):\n",
    "    xmax = dicionario.get('xmax')\n",
    "    xmin = dicionario.get('xmin')\n",
    "    ymax = dicionario.get('ymax')\n",
    "    ymin = dicionario.get('ymin')\n",
    "    zlim = dicionario.get('zlim')\n",
    "    zmin = dicionario.get('z_min')\n",
    "    n = dicionario.get('n')\n",
    "    \n",
    "    resultadox=[]\n",
    "    resultadoy=[]\n",
    "    resultadoz=[]\n",
    "#---------------------------------------------------------------------------------------------------------------------#\n",
    "    sorted_x1, sorted_y1,sorted_z1 = (np.random.uniform(xmin, xmax, n),\n",
    "                                  np.random.uniform(ymin, ymax, n),\n",
    "                                  np.random.uniform(z_min, zlim, n))\n",
    "    resultadox.append(sorted_x1)\n",
    "    resultadoy.append(sorted_y1)\n",
    "    resultadoz.append(sorted_z1)  \n",
    "#---------------------------------------------------------------------------------------------------------------------#        \n",
    "    return resultadox, resultadoy, resultadoz\n",
    "\n",
    "resultx, resulty, resultz = sample_random_coordinated(cood_bounds)"
   ]
  },
  {
   "cell_type": "code",
   "execution_count": null,
   "metadata": {},
   "outputs": [],
   "source": [
    "def teste3(xmax, xmin, ymax, ymin, zlim, z_min, n):\n",
    "    '''xmax = dicionario.get('xmax')\n",
    "    xmin = dicionario.get('xmin')\n",
    "    ymax = dicionario.get('ymax')\n",
    "    ymin = dicionario.get('ymin')\n",
    "    zlim = dicionario.get('zlim')\n",
    "    zmin = dicionario.get('z_min')\n",
    "    n = dicionario.get('n')\n",
    "    '''\n",
    "    \n",
    "    resultadox=[]\n",
    "    resultadoy=[]\n",
    "    resultadoz=[]\n",
    "#---------------------------------------------------------------------------------------------------------------------#\n",
    "    for i in range(n):\n",
    "        sorted_x1, sorted_y1,sorted_z1 = (np.random.uniform(xmin, xmax),\n",
    "                                          np.random.uniform(ymin, ymax),\n",
    "                                          np.random.uniform(z_min, zlim))\n",
    "        resultadox.append(sorted_x1)\n",
    "        resultadoy.append(sorted_y1)\n",
    "        resultadoz.append(sorted_z1) \n",
    "#---------------------------------------------------------------------------------------------------------------------#        \n",
    "    return resultadox, resultadoy, resultadoz\n"
   ]
  },
  {
   "cell_type": "code",
   "execution_count": null,
   "metadata": {},
   "outputs": [],
   "source": [
    "%timeit teste1(cood_bounds)\n",
    "print(resultx)"
   ]
  },
  {
   "cell_type": "code",
   "execution_count": null,
   "metadata": {},
   "outputs": [],
   "source": [
    "%timeit teste2(cood_bounds)"
   ]
  },
  {
   "cell_type": "code",
   "execution_count": null,
   "metadata": {},
   "outputs": [],
   "source": [
    "%timeit teste3(**cood_bounds)"
   ]
  }
 ],
 "metadata": {
  "kernelspec": {
   "display_name": "Python 3",
   "language": "python",
   "name": "python3"
  },
  "language_info": {
   "codemirror_mode": {
    "name": "ipython",
    "version": 3
   },
   "file_extension": ".py",
   "mimetype": "text/x-python",
   "name": "python",
   "nbconvert_exporter": "python",
   "pygments_lexer": "ipython3",
   "version": "3.6.5"
  }
 },
 "nbformat": 4,
 "nbformat_minor": 2
}
