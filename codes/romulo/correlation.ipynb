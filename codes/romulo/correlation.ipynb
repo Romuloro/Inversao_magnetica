{
 "cells": [
  {
   "cell_type": "code",
   "execution_count": null,
   "metadata": {},
   "outputs": [],
   "source": [
    "# Importing necessary libraries \n",
    "import numpy\n",
    "from matplotlib import pyplot\n",
    "from cmcrameri import cm # Necessary to use ROMA color map - You migth want to comment this line and use other color map\n",
    "import sys # Necessary to read the path of python codes' folder\n",
    "import utm # If necessary to convert geographic to projected coordinates\n",
    "import pandas as pd"
   ]
  },
  {
   "cell_type": "code",
   "execution_count": null,
   "metadata": {},
   "outputs": [],
   "source": [
    "# Import cartopy\n",
    "#import cartopy\n",
    "#import cartopy.crs as ccrs"
   ]
  },
  {
   "cell_type": "code",
   "execution_count": null,
   "metadata": {},
   "outputs": [],
   "source": [
    "# Reading the path for personal modules\n",
    "mypath = sys.path.append(\"C:/Users/nelso/Desktop/master/\") # You might want to change the path for your own laptop"
   ]
  },
  {
   "cell_type": "markdown",
   "metadata": {},
   "source": [
    "**Part 1: Load magnetic data and select the northern anomaly**"
   ]
  },
  {
   "cell_type": "code",
   "execution_count": null,
   "metadata": {},
   "outputs": [],
   "source": [
    "# Load data\n",
    "#x, y, mag = numpy.loadtxt('input.dat', unpack = True)\n",
    "x, y, mag = numpy.loadtxt('arraial_mag.dat', unpack = True, delimiter = ',')"
   ]
  },
  {
   "cell_type": "code",
   "execution_count": null,
   "metadata": {},
   "outputs": [],
   "source": [
    "# Define minimum and maximum values\n",
    "print('Longitude minimum: %.4f' % x.min())\n",
    "print('Longitude maximum: %.4f' % x.max())\n",
    "print('Latitude minimum: %.4f' % y.min())\n",
    "print('Latitude maximum: %.4f' % y.max())"
   ]
  },
  {
   "cell_type": "code",
   "execution_count": null,
   "metadata": {},
   "outputs": [],
   "source": [
    "# Setting colorbar ranges\n",
    "cormin = mag.min()\n",
    "cormax = mag.max()\n",
    "corintervalo = numpy.round((cormax - cormin)/7)"
   ]
  },
  {
   "cell_type": "code",
   "execution_count": null,
   "metadata": {},
   "outputs": [],
   "source": [
    "# Print color bar scale\n",
    "cormin, cormax, corintervalo"
   ]
  },
  {
   "cell_type": "code",
   "execution_count": null,
   "metadata": {},
   "outputs": [],
   "source": [
    "# Setting x and y axis for plotting\n",
    "xx = numpy.around(numpy.linspace(x.min(), x.max(), 6), decimals = 2)\n",
    "yy = numpy.around(numpy.linspace(y.min(), y.max(), 6), decimals = 2)"
   ]
  },
  {
   "cell_type": "code",
   "execution_count": null,
   "metadata": {},
   "outputs": [],
   "source": [
    "# Plotting data\n",
    "pyplot.figure(figsize=(8,10))\n",
    "cc = pyplot.tricontour(x, y, mag, 10, colors = 'k', linewidths = 0.75)\n",
    "cl = pyplot.clabel(cc, inline = 1, fontsize = 12, fmt = '%1.0f')\n",
    "cs = pyplot.tricontourf(x, y, mag, 20, cmap = pyplot.cm.RdYlBu_r, vmin = cormin, vmax = cormax)\n",
    "cb = pyplot.colorbar(cs, shrink = 1., aspect = 30, fraction = 0.04, orientation = 'vertical', pad = 0.025)\n",
    "cb.set_ticks(numpy.arange(cormin, cormax + corintervalo, corintervalo))\n",
    "cb.set_label('Magnetic anomaly (nT)', fontsize = 20, labelpad = 10)\n",
    "cb.ax.tick_params(labelsize = 15)\n",
    "pyplot.xlabel('Longitude ($^{\\circ}$)', fontsize = 20, labelpad = 5)\n",
    "pyplot.ylabel('Latitude ($^{\\circ}$)', fontsize = 20, labelpad = 5)\n",
    "pyplot.xticks(xx, fontsize = 15)\n",
    "pyplot.yticks(yy, fontsize = 15)\n",
    "\n",
    "pyplot.show()"
   ]
  },
  {
   "cell_type": "code",
   "execution_count": null,
   "metadata": {},
   "outputs": [],
   "source": [
    "# Importing *regular grid* and *profile* from grids\n",
    "from grids import my_regular, my_profile"
   ]
  },
  {
   "cell_type": "code",
   "execution_count": null,
   "metadata": {},
   "outputs": [],
   "source": [
    "# Import *griddata* function from Scipy library\n",
    "from scipy.interpolate import griddata"
   ]
  },
  {
   "cell_type": "code",
   "execution_count": null,
   "metadata": {},
   "outputs": [],
   "source": [
    "# First interpolation\n",
    "x1, y1 = my_regular((x.min(), x.max(), y.min(), y.max()), (101, 101))"
   ]
  },
  {
   "cell_type": "code",
   "execution_count": null,
   "metadata": {},
   "outputs": [],
   "source": [
    "d1 = griddata((x,y), mag, (x1,y1), method = 'cubic', fill_value = 0.)"
   ]
  },
  {
   "cell_type": "code",
   "execution_count": null,
   "metadata": {},
   "outputs": [],
   "source": [
    "d1"
   ]
  },
  {
   "cell_type": "code",
   "execution_count": null,
   "metadata": {},
   "outputs": [],
   "source": [
    "# Plotting data\n",
    "pyplot.figure(figsize=(8,10))\n",
    "cc = pyplot.tricontour(x1, y1, d1, 10, colors = 'k', linewidths = 0.75)\n",
    "cl = pyplot.clabel(cc, inline = 1, fontsize = 12, fmt = '%1.0f')\n",
    "cs = pyplot.tricontourf(x1, y1, d1, 20, cmap = pyplot.cm.RdYlBu_r, vmin = d1.min(), vmax = d1.max())\n",
    "cb = pyplot.colorbar(cs, shrink = 1., aspect = 30, fraction = 0.04, orientation = 'vertical', pad = 0.025)\n",
    "cb.set_ticks(numpy.linspace(d1.min(), d1.max(), 7))\n",
    "cb.set_label('Magnetic anomaly (nT)', fontsize = 20, labelpad = 10)\n",
    "cb.ax.tick_params(labelsize = 15)\n",
    "pyplot.xlabel('Longitude ($^{\\circ}$)', fontsize = 20, labelpad = 5)\n",
    "pyplot.ylabel('Latitude ($^{\\circ}$)', fontsize = 20, labelpad = 5)\n",
    "pyplot.xticks(xx, fontsize = 15)\n",
    "pyplot.yticks(yy, fontsize = 15)\n",
    "pyplot.show()"
   ]
  },
  {
   "cell_type": "code",
   "execution_count": null,
   "metadata": {},
   "outputs": [],
   "source": [
    "# New variables\n",
    "x = x1\n",
    "y = y1\n",
    "mag = d1"
   ]
  },
  {
   "cell_type": "code",
   "execution_count": null,
   "metadata": {},
   "outputs": [],
   "source": [
    "# Setting area for Morro do Forno (northern anomaly)\n",
    "area = (-42.03, -41.98, -22.97, -22.935)"
   ]
  },
  {
   "cell_type": "code",
   "execution_count": null,
   "metadata": {},
   "outputs": [],
   "source": [
    "# Shape of new data and grid creation\n",
    "shp = (51,51)\n",
    "xi, yi, zi = my_regular(area, shp, -10.) # The *-200* value represent the flight level"
   ]
  },
  {
   "cell_type": "code",
   "execution_count": null,
   "metadata": {},
   "outputs": [],
   "source": [
    "# Interpolating the data and padding with zeros at the edge\n",
    "di = griddata((x,y), mag, (xi,yi), method = 'cubic', fill_value=0.) # If necessary, you might want to use *method='cubic' and *fill_value=0.*"
   ]
  },
  {
   "cell_type": "code",
   "execution_count": null,
   "metadata": {},
   "outputs": [],
   "source": [
    "# Setting x and y axis for plotting\n",
    "xx = numpy.around(numpy.linspace(xi.min(), xi.max(), 6), decimals = 3)\n",
    "yy = numpy.around(numpy.linspace(yi.min(), yi.max(), 5), decimals = 3)"
   ]
  },
  {
   "cell_type": "code",
   "execution_count": null,
   "metadata": {},
   "outputs": [],
   "source": [
    "# Plotting the anomaly and profile\n",
    "# Plotting data\n",
    "pyplot.figure(figsize=(8,7))\n",
    "cc = pyplot.tricontour(xi, yi, di, 10, colors = 'k', linewidths = 0.75)\n",
    "cl = pyplot.clabel(cc, inline = 1, fontsize = 12, fmt = '%1.0f')\n",
    "cs = pyplot.tricontourf(xi, yi, di, 20, cmap = pyplot.cm.RdYlBu_r, vmin = di.min(), vmax = di.max())\n",
    "cb = pyplot.colorbar(cs, shrink = 1., aspect = 30, fraction = 0.04, orientation = 'vertical', pad = 0.025)\n",
    "cb.set_ticks(numpy.linspace(di.min(), di.max(), 7))\n",
    "cb.set_label('Magnetic anomaly (nT)', fontsize = 20, labelpad = 10)\n",
    "cb.ax.tick_params(labelsize = 15)\n",
    "pyplot.xlabel('Longitude ($^{\\circ}$)', fontsize = 20, labelpad = 5)\n",
    "pyplot.ylabel('Latitude ($^{\\circ}$)', fontsize = 20, labelpad = 5)\n",
    "pyplot.xticks(xx, fontsize = 15)\n",
    "pyplot.yticks(yy, fontsize = 15)\n",
    "#pyplot.plot((p1[0], p2[0]), (p1[1], p2[1]), 'k.-', linewidth = 1.5, label = 'Profile P1')\n",
    "#pyplot.legend(loc='upper right', fontsize = 'large')\n",
    "pyplot.show()"
   ]
  },
  {
   "cell_type": "code",
   "execution_count": null,
   "metadata": {},
   "outputs": [],
   "source": [
    "# Setting a profile\n",
    "p1 = (-42., -22.965)\n",
    "p2 = (-42.015, -22.94)"
   ]
  },
  {
   "cell_type": "code",
   "execution_count": null,
   "metadata": {},
   "outputs": [],
   "source": [
    "# Plotting the anomaly and profile\n",
    "# Plotting data\n",
    "pyplot.figure(figsize=(8,7))\n",
    "cc = pyplot.tricontour(xi, yi, di, 10, colors = 'k', linewidths = 0.75)\n",
    "cl = pyplot.clabel(cc, inline = 1, fontsize = 12, fmt = '%1.0f')\n",
    "cs = pyplot.tricontourf(xi, yi, di, 20, cmap = pyplot.cm.RdYlBu_r, vmin = di.min(), vmax = di.max())\n",
    "cb = pyplot.colorbar(cs, shrink = 1., aspect = 30, fraction = 0.04, orientation = 'vertical', pad = 0.025)\n",
    "cb.set_ticks(numpy.linspace(di.min(), di.max(), 7))\n",
    "cb.set_label('Magnetic anomaly (nT)', fontsize = 20, labelpad = 10)\n",
    "cb.ax.tick_params(labelsize = 15)\n",
    "pyplot.xlabel('Longitude ($^{\\circ}$)', fontsize = 20, labelpad = 5)\n",
    "pyplot.ylabel('Latitude ($^{\\circ}$)', fontsize = 20, labelpad = 5)\n",
    "pyplot.xticks(xx, fontsize = 15)\n",
    "pyplot.yticks(yy, fontsize = 15)\n",
    "pyplot.plot((p1[0], p2[0]), (p1[1], p2[1]), 'k.-', linewidth = 1.5, label = 'Profile P1')\n",
    "pyplot.legend(loc='upper right', fontsize = 'large')\n",
    "pyplot.show()"
   ]
  },
  {
   "cell_type": "code",
   "execution_count": null,
   "metadata": {},
   "outputs": [],
   "source": [
    "# Calculating the profile of magnetic anomaly\n",
    "xp, yp, dp = my_profile(xi, yi, di, p1, p2, 500)"
   ]
  },
  {
   "cell_type": "code",
   "execution_count": null,
   "metadata": {},
   "outputs": [],
   "source": [
    "# Drawing profile\n",
    "xxp = numpy.around(numpy.linspace(xp.min(), xp.max(), 4), decimals = 3)\n",
    "ddp = numpy.around(numpy.linspace(dp.min(), dp.max(), 6), decimals = 2)\n",
    "#\n",
    "pyplot.figure(figsize = (12, 5))\n",
    "pyplot.plot(xp, dp, 'k-', linewidth = 2., label = 'Profile P1')\n",
    "pyplot.xlabel('Longitude ($^{\\circ}$)', fontsize = 20)\n",
    "pyplot.ylabel('Magnetic data (nT)', fontsize = 20)\n",
    "pyplot.xticks(xxp, fontsize = 15)\n",
    "pyplot.yticks(ddp, fontsize = 15)\n",
    "pyplot.legend(loc = 'best', fontsize = 'xx-large')\n",
    "pyplot.show()"
   ]
  },
  {
   "cell_type": "code",
   "execution_count": null,
   "metadata": {},
   "outputs": [],
   "source": [
    "# Save the data as xyz file\n",
    "numpy.savetxt('mag_northern.xyz', numpy.vstack((xi, yi, zi)).T, fmt = '%.3f')"
   ]
  },
  {
   "cell_type": "markdown",
   "metadata": {},
   "source": [
    "**Part 2: Loading and setting information about magnetic field intensity and direction from IGRF**"
   ]
  },
  {
   "cell_type": "code",
   "execution_count": null,
   "metadata": {},
   "outputs": [],
   "source": [
    "# Loading IGRF file from 2000 to 2004\n",
    "inclination, declination, field = numpy.loadtxt('inc_dec_arraial.txt', unpack = True, delimiter =  ',')"
   ]
  },
  {
   "cell_type": "code",
   "execution_count": null,
   "metadata": {},
   "outputs": [],
   "source": [
    "# Setting mean values\n",
    "inc = inclination.mean()\n",
    "dec = declination.mean()\n",
    "magf = field.mean()"
   ]
  },
  {
   "cell_type": "code",
   "execution_count": null,
   "metadata": {},
   "outputs": [],
   "source": [
    "# Import an statistical function to analyze the data\n",
    "from statistical import my_analysis"
   ]
  },
  {
   "cell_type": "code",
   "execution_count": null,
   "metadata": {},
   "outputs": [],
   "source": [
    "# For inclination\n",
    "_ = my_analysis(inclination, 'degrees')"
   ]
  },
  {
   "cell_type": "code",
   "execution_count": null,
   "metadata": {},
   "outputs": [],
   "source": [
    "# For declination\n",
    "_ = my_analysis(declination, 'degrees')"
   ]
  },
  {
   "cell_type": "code",
   "execution_count": null,
   "metadata": {},
   "outputs": [],
   "source": [
    "# For magnetic field intensity\n",
    "_ = my_analysis(field, 'nT')"
   ]
  },
  {
   "cell_type": "markdown",
   "metadata": {},
   "source": [
    "**Part 3: Converting to metric coordinates**"
   ]
  },
  {
   "cell_type": "markdown",
   "metadata": {},
   "source": [
    "In this case, we use the **degree to km conversion**:\n",
    "$$ \n",
    "\\begin{matrix}\n",
    "1^{\\circ} & \\to & 111 \\, \\mathbf{km} \\\\\n",
    "\\end{matrix}\n",
    "$$"
   ]
  },
  {
   "cell_type": "code",
   "execution_count": null,
   "metadata": {},
   "outputs": [],
   "source": [
    "# Using here north for latitude and east for longitude\n",
    "north = 111000.*yi\n",
    "east = 111000.*xi"
   ]
  },
  {
   "cell_type": "markdown",
   "metadata": {},
   "source": [
    "You migth want to use the **UTM** library for conversion. However it is necessary to know the letter and UTM Zone. \n",
    "* To this data in Arraial do Cabo: *xeast, ynorth = utm.from_latlon(yi, xi, 23)*"
   ]
  },
  {
   "cell_type": "code",
   "execution_count": null,
   "metadata": {},
   "outputs": [],
   "source": [
    "# Calculating Projected coordinates\n",
    "xeast, ynorth, _, _ = utm.from_latlon(yi, xi,23)"
   ]
  },
  {
   "cell_type": "code",
   "execution_count": null,
   "metadata": {},
   "outputs": [],
   "source": [
    "shape = north.shape\n",
    "north_1 = numpy.reshape(ynorth, (shape[0], 1))\n",
    "east_1 = numpy.reshape(xeast, (shape[0], 1))\n",
    "di_1 = numpy.reshape(di, (shape[0], 1))\n",
    "cabecalho = ['North(m)']\n",
    "Data_f = pd.DataFrame(data = north_1, index = None, columns=cabecalho)\n",
    "Data_f['East(m)'] = east_1\n",
    "Data_f['Anomalia Magnética(nT)'] = di_1"
   ]
  },
  {
   "cell_type": "code",
   "execution_count": null,
   "metadata": {},
   "outputs": [],
   "source": [
    "Data_f\n",
    "#Data_f.to_csv('data_mag_arraial.csv', index = False, header = True)"
   ]
  },
  {
   "cell_type": "markdown",
   "metadata": {},
   "source": [
    "**Part 4: Applying upward continuation**"
   ]
  },
  {
   "cell_type": "code",
   "execution_count": null,
   "metadata": {},
   "outputs": [],
   "source": [
    "# Importing potential field filters function from *filtering* libraries\n",
    "import filtering"
   ]
  },
  {
   "cell_type": "code",
   "execution_count": null,
   "metadata": {},
   "outputs": [],
   "source": [
    "# Upward the total field data\n",
    "dup = filtering.my_continuation(north.reshape(shp), east.reshape(shp), di.reshape(shp), 20.)"
   ]
  },
  {
   "cell_type": "code",
   "execution_count": null,
   "metadata": {},
   "outputs": [],
   "source": [
    "# Plotting upward data\n",
    "pyplot.figure(figsize=(8,7))\n",
    "cc = pyplot.tricontour(xi, yi, dup, 10, colors = 'k', linewidths = 0.75)\n",
    "cl = pyplot.clabel(cc, inline = 1, fontsize = 12, fmt = '%1.0f')\n",
    "cs = pyplot.tricontourf(xi, yi, dup, 20, cmap = pyplot.cm.RdYlBu_r, vmin = dup.min(), vmax = dup.max())\n",
    "cb = pyplot.colorbar(cs, shrink = 1., aspect = 30, fraction = 0.04, orientation = 'vertical', pad = 0.025)\n",
    "cb.set_ticks(numpy.linspace(dup.min(), dup.max(), 7))\n",
    "cb.set_label('Upward anomaly (nT)', fontsize = 20, labelpad = 10)\n",
    "cb.ax.tick_params(labelsize = 15)\n",
    "pyplot.xlabel('Longitude ($^{\\circ}$)', fontsize = 20, labelpad = 5)\n",
    "pyplot.ylabel('Latitude ($^{\\circ}$)', fontsize = 20, labelpad = 5)\n",
    "pyplot.xticks(xx, fontsize = 15)\n",
    "pyplot.yticks(yy, fontsize = 15)\n",
    "pyplot.show()"
   ]
  },
  {
   "cell_type": "markdown",
   "metadata": {},
   "source": [
    "**Part 5: Using Equivalent Layer to fit observed data**"
   ]
  },
  {
   "cell_type": "code",
   "execution_count": null,
   "metadata": {},
   "outputs": [],
   "source": [
    "# Importing modules of equivalent layer\n",
    "import equivalentlayer"
   ]
  },
  {
   "cell_type": "code",
   "execution_count": null,
   "metadata": {},
   "outputs": [],
   "source": [
    "# Define the setting of equivalent layer to fit magnetic data\n",
    "areal = (north.min(), north.max(), east.min(), east.max()) # Same area of data\n",
    "shapel = (15,15)\n",
    "depthl = 700. #800."
   ]
  },
  {
   "cell_type": "markdown",
   "metadata": {},
   "source": [
    "**Attention!**\n",
    "* In this case, you can see longitude and latitude have the same shape/size, i.e. **a numpy array** with $2601$ points and shape of $(51, 51)$. To build the equivalent layer and calculate the predicted data, we use a shape of $(41,41)$, i.e. $1681$ points. However, the **predicted data** will have the same shape of the input data.\n",
    "* Another interesting detail is the use of metric coordinates. Note the longitude $ \\times $ latitude points are the same of east $ \\times $ north, but multiply to $111$ km instead. Which means you can use the **east/north** data to calculation and the **longitude/latitude** data to plot without any  issue."
   ]
  },
  {
   "cell_type": "code",
   "execution_count": null,
   "metadata": {},
   "outputs": [],
   "source": [
    "# Compute the equivalent layer\n",
    "mylayer = equivalentlayer.my_layer(areal, shapel, depthl)"
   ]
  },
  {
   "cell_type": "code",
   "execution_count": null,
   "metadata": {},
   "outputs": [],
   "source": [
    "# Input data for equivalent layer (x,y,z,data)\n",
    "#data = [north, east, zi, di]\n",
    "data = [north, east, zi, dup]"
   ]
  },
  {
   "cell_type": "code",
   "execution_count": null,
   "metadata": {},
   "outputs": [],
   "source": [
    "# Calculate the predicted data\n",
    "vec, fit = equivalentlayer.my_fitdata_mag(data, shp, mylayer, shapel, 1.e-3, inc, dec)"
   ]
  },
  {
   "cell_type": "code",
   "execution_count": null,
   "metadata": {},
   "outputs": [],
   "source": [
    "# Plotting fitted data\n",
    "pyplot.figure(figsize=(8,7))\n",
    "cc = pyplot.tricontour(xi, yi, fit, 10, colors = 'k', linewidths = 0.75)\n",
    "cl = pyplot.clabel(cc, inline = 1, fontsize = 12, fmt = '%1.0f')\n",
    "cs = pyplot.tricontourf(xi, yi, fit, 20, cmap = pyplot.cm.RdYlBu_r, vmin = fit.min(), vmax = fit.max())\n",
    "cb = pyplot.colorbar(cs, shrink = 1., aspect = 30, fraction = 0.04, orientation = 'vertical', pad = 0.025)\n",
    "cb.set_ticks(numpy.linspace(fit.min(), fit.max(), 7))\n",
    "cb.set_label('Predicted anomaly (nT)', fontsize = 20, labelpad = 10)\n",
    "cb.ax.tick_params(labelsize = 15)\n",
    "pyplot.xlabel('Longitude ($^{\\circ}$)', fontsize = 20, labelpad = 5)\n",
    "pyplot.ylabel('Latitude ($^{\\circ}$)', fontsize = 20, labelpad = 5)\n",
    "pyplot.xticks(xx, fontsize = 15)\n",
    "pyplot.yticks(yy, fontsize = 15)\n",
    "pyplot.show()"
   ]
  },
  {
   "cell_type": "code",
   "execution_count": null,
   "metadata": {},
   "outputs": [],
   "source": [
    "# Calculation of residual data\n",
    "res = dup - fit"
   ]
  },
  {
   "cell_type": "code",
   "execution_count": null,
   "metadata": {},
   "outputs": [],
   "source": [
    "# Plotting residual data\n",
    "pyplot.figure(figsize=(8,7))\n",
    "cc = pyplot.tricontour(xi, yi, res, 10, colors = 'k', linewidths = 0.75)\n",
    "cl = pyplot.clabel(cc, inline = 1, fontsize = 12, fmt = '%1.0f')\n",
    "cs = pyplot.tricontourf(xi, yi, res, 20, cmap = pyplot.cm.RdYlBu_r, vmin = res.min(), vmax = res.max())\n",
    "cb = pyplot.colorbar(cs, shrink = 1., aspect = 30, fraction = 0.04, orientation = 'vertical', pad = 0.025)\n",
    "cb.set_ticks(numpy.linspace(res.min(), res.max(), 7))\n",
    "cb.set_label('Residual anomaly (nT)', fontsize = 20, labelpad = 10)\n",
    "cb.ax.tick_params(labelsize = 15)\n",
    "pyplot.xlabel('Longitude ($^{\\circ}$)', fontsize = 20, labelpad = 5)\n",
    "pyplot.ylabel('Latitude ($^{\\circ}$)', fontsize = 20, labelpad = 5)\n",
    "pyplot.xticks(xx, fontsize = 15)\n",
    "pyplot.yticks(yy, fontsize = 15)\n",
    "pyplot.show()"
   ]
  },
  {
   "cell_type": "markdown",
   "metadata": {},
   "source": [
    "**Part 6: Computing the cross-correlation coefficients**"
   ]
  },
  {
   "cell_type": "code",
   "execution_count": null,
   "metadata": {},
   "outputs": [],
   "source": [
    "# Importing potential field filters function from *derivative* libraries\n",
    "import derivative"
   ]
  },
  {
   "cell_type": "code",
   "execution_count": null,
   "metadata": {},
   "outputs": [],
   "source": [
    "# Importing *rtp* function from equivalent layer library\n",
    "from equivalentlayer import my_rtp_layer"
   ]
  },
  {
   "cell_type": "code",
   "execution_count": null,
   "metadata": {},
   "outputs": [],
   "source": [
    "# Import the time computation\n",
    "from time import time"
   ]
  },
  {
   "cell_type": "code",
   "execution_count": null,
   "metadata": {},
   "outputs": [],
   "source": [
    "# Import the correlation function from statistical module\n",
    "from statistical import my_correlation_coef"
   ]
  },
  {
   "cell_type": "markdown",
   "metadata": {},
   "source": [
    "**Attention!**\n",
    "* Here we will compute the correlation between two potential field data. The first one is the **total gradient of reduction to the pole** data; the second is the **vertical gradient of reduction to the pole** data. In order to simplify, we will use $d_0$ as **RTP data**, $d_1$ as **TGA data** and $d_2$ as **VG data**. * It is very important to remember that $d_1$ and $d_2$ are computaded repeatedly for each pair of **inclination** $(I)$ and **declination** (D) as well as $d_0$, during the loop processing. Then the formulation for correlation coefficient $(C)$ is:\n",
    "\n",
    "$$\n",
    "C(I,D) = \\dfrac{\n",
    "\\sum \\limits_{i =1}^{n} (d_1 - \\hat{d_1}) \\cdot (d_2 - \\hat{d_2})\n",
    "}{\n",
    "\\sqrt{\n",
    "\\sum \\limits_{i =1}^{n} (d_1 - \\hat{d_1})^2\n",
    "} \\cdot \n",
    "\\sqrt{\n",
    "\\sum \\limits_{i =1}^{n} (d_2 - \\hat{d_2})^2\n",
    "}\n",
    "} \n",
    "$$\n",
    "\n",
    "* $\\hat{d_1}$ and $\\hat{d_2}$ are the mean values of each potential field data."
   ]
  },
  {
   "cell_type": "code",
   "execution_count": null,
   "metadata": {},
   "outputs": [],
   "source": [
    "# Create a range of inclination and declination\n",
    "#gridarea = (-90., 90., -90., 90.)\n",
    "#gridsize = (19, 19)\n",
    "#D, I = my_regular(gridarea, gridsize)"
   ]
  },
  {
   "cell_type": "code",
   "execution_count": null,
   "metadata": {},
   "outputs": [],
   "source": [
    "# Create a zero matrix to allocate the results\n",
    "#C = numpy.zeros_like(I)"
   ]
  },
  {
   "cell_type": "code",
   "execution_count": null,
   "metadata": {},
   "outputs": [],
   "source": [
    "# Reshaping the data to use a matrix notation in the loop\n",
    "#D = D.reshape(gridsize)\n",
    "#I = I.reshape(gridsize)\n",
    "#C = C.reshape(gridsize)"
   ]
  },
  {
   "cell_type": "code",
   "execution_count": null,
   "metadata": {},
   "outputs": [],
   "source": [
    "# Create a range of inclination and declination\n",
    "grid_inc = numpy.linspace(-90., 90., 20)\n",
    "grid_dec = numpy.linspace(-90., 90., 10)\n",
    "D, I = numpy.meshgrid(grid_dec, grid_inc)"
   ]
  },
  {
   "cell_type": "code",
   "execution_count": null,
   "metadata": {},
   "outputs": [],
   "source": [
    "grid_inc"
   ]
  },
  {
   "cell_type": "code",
   "execution_count": null,
   "metadata": {},
   "outputs": [],
   "source": [
    "# Create a zero matrix to allocate the results\n",
    "C = numpy.zeros_like(I)"
   ]
  },
  {
   "cell_type": "code",
   "execution_count": null,
   "metadata": {},
   "outputs": [],
   "source": [
    "# Compute the cross-correlation and time of processing\n",
    "timei = time()\n",
    "#\n",
    "for cols, d in enumerate(grid_dec):\n",
    "    for rows, i in enumerate(grid_inc):\n",
    "        if i >= -20. or i <= 20.:\n",
    "            rtp = equivalentlayer.my_rtp_layer(data, shp, mylayer, shapel, 1.e-3, inc, dec, i, d)\n",
    "            C[rows, cols] = my_correlation_coef(\n",
    "                derivative.my_totalgrad(north.reshape(shp), east.reshape(shp), rtp.reshape(shp)),\n",
    "                derivative.my_zderiv(north.reshape(shp), east.reshape(shp), rtp.reshape(shp)))\n",
    "        else:\n",
    "            #rtpdata = filtering.reduction(north.reshape(shp), east.reshape(shp), di.reshape(shp), inc, dec, i, d)\n",
    "            rtpdata = filtering.reduction(east.reshape(shp), north.reshape(shp), dup.reshape(shp), inc, dec, i, d)\n",
    "            C[rows, cols] = my_correlation_coef(\n",
    "                derivative.my_totalgrad(north.reshape(shp), east.reshape(shp), rtp.reshape(shp)),\n",
    "                derivative.my_zderiv(north.reshape(shp), east.reshape(shp), rtp.reshape(shp)))\n",
    "#\n",
    "timef = time()"
   ]
  },
  {
   "cell_type": "code",
   "execution_count": null,
   "metadata": {},
   "outputs": [],
   "source": [
    "print ('Calculation process (in seconds): %.3f' % (timef-timei))"
   ]
  },
  {
   "cell_type": "code",
   "execution_count": null,
   "metadata": {},
   "outputs": [],
   "source": [
    "# Analysis of correlation coefficients\n",
    "_ = my_analysis(C)"
   ]
  },
  {
   "cell_type": "code",
   "execution_count": null,
   "metadata": {},
   "outputs": [],
   "source": [
    "# Interpolate the result to better visualization\n",
    "shpi = (121, 121)\n",
    "Di, Ii = my_regular((-60., 60., -60., 60.), shpi)"
   ]
  },
  {
   "cell_type": "code",
   "execution_count": null,
   "metadata": {},
   "outputs": [],
   "source": [
    "Ci = griddata((D.reshape(D.size), I.reshape(I.size)), C.reshape(C.size), (Di, Ii), method = 'cubic')"
   ]
  },
  {
   "cell_type": "code",
   "execution_count": null,
   "metadata": {},
   "outputs": [],
   "source": [
    "# Save the correlation data\n",
    "numpy.savetxt('correlation.xyz', numpy.vstack((Di, Ii, Ci)).T, fmt = '%.3f')"
   ]
  },
  {
   "cell_type": "code",
   "execution_count": null,
   "metadata": {},
   "outputs": [],
   "source": [
    "# Search for the interpolated result\n",
    "p1, p2 = numpy.where(Ci.reshape(shpi) == Ci.max())\n",
    "pimax = float(Ii.reshape(shpi)[p1, p2])\n",
    "pdmax = float(Di.reshape(shpi)[p1, p2])\n",
    "print ('(I,D) for maximum coefficient')\n",
    "print ('Inclination: %.2f' % pimax)\n",
    "print ('Declination: %.2f'% pdmax)"
   ]
  },
  {
   "cell_type": "code",
   "execution_count": null,
   "metadata": {},
   "outputs": [],
   "source": [
    "# Setting x and y axis for plotting\n",
    "xdec = numpy.around(numpy.linspace(Di.min(), Di.max(), 7), decimals = 2)\n",
    "yinc = numpy.around(numpy.linspace(Ii.min(), Ii.max(), 7), decimals = 2)"
   ]
  },
  {
   "cell_type": "code",
   "execution_count": null,
   "metadata": {},
   "outputs": [],
   "source": [
    "# Plotting fitted data\n",
    "pyplot.figure(figsize=(8,7))\n",
    "cc = pyplot.tricontour(Di, Ii, Ci, 10, colors = 'k', linewidths = 0.75)\n",
    "cl = pyplot.clabel(cc, inline = 1, fontsize = 12, fmt = '%1.2f')\n",
    "cs = pyplot.tricontourf(Di, Ii, Ci, 20, cmap = pyplot.cm.gray, vmin = Ci.min(), vmax = Ci.max())\n",
    "cb = pyplot.colorbar(cs, shrink = 1., aspect = 30, fraction = 0.04, orientation = 'vertical', pad = 0.025)\n",
    "cb.set_ticks(numpy.linspace(Ci.min(), Ci.max(), 7))\n",
    "cb.set_label('Correlation', fontsize = 20, labelpad = 10)\n",
    "cb.ax.tick_params(labelsize = 15)\n",
    "pyplot.xlabel('Declination ($^{\\circ}$)', fontsize = 20, labelpad = 5)\n",
    "pyplot.ylabel('Inclination ($^{\\circ}$)', fontsize = 20, labelpad = 5)\n",
    "pyplot.xticks(xdec, fontsize = 15)\n",
    "pyplot.yticks(yinc, fontsize = 15)\n",
    "pyplot.show()"
   ]
  },
  {
   "cell_type": "code",
   "execution_count": null,
   "metadata": {},
   "outputs": [],
   "source": []
  }
 ],
 "metadata": {
  "kernelspec": {
   "display_name": "Python 3 (ipykernel)",
   "language": "python",
   "name": "python3"
  },
  "language_info": {
   "codemirror_mode": {
    "name": "ipython",
    "version": 3
   },
   "file_extension": ".py",
   "mimetype": "text/x-python",
   "name": "python",
   "nbconvert_exporter": "python",
   "pygments_lexer": "ipython3",
   "version": "3.8.10"
  }
 },
 "nbformat": 4,
 "nbformat_minor": 4
}
